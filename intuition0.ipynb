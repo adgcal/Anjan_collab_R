{
  "nbformat": 4,
  "nbformat_minor": 0,
  "metadata": {
    "colab": {
      "provenance": [],
      "authorship_tag": "ABX9TyNk5nm120UeIKqgUmgxm8Vg",
      "include_colab_link": true
    },
    "kernelspec": {
      "name": "ir",
      "display_name": "R"
    },
    "language_info": {
      "name": "R"
    }
  },
  "cells": [
    {
      "cell_type": "markdown",
      "metadata": {
        "id": "view-in-github",
        "colab_type": "text"
      },
      "source": [
        "<a href=\"https://colab.research.google.com/github/adgcal/Anjan_collab_R/blob/main/intuition0.ipynb\" target=\"_parent\"><img src=\"https://colab.research.google.com/assets/colab-badge.svg\" alt=\"Open In Colab\"/></a>"
      ]
    },
    {
      "cell_type": "markdown",
      "source": [
        "## The probability of our existence\n",
        "There are several different estimates of the improbability of our existence, but they all point to the fact that it is incredibly unlikely. One estimate, by astrophysicist Brandon Carter, puts the odds of our existence at 1 in $10^{120}$.</p> This is a number so large that it is difficult to comprehend. It is estimated that there are $10^{80}$ atoms ($1.661 \\cdot 10^{56}$)in the observable universe, so the odds of our existence are equivalent to randomly picking one atom out of the entire universe and finding that it is a copy of your entire body.\n",
        "\n",
        "Another estimate, by physicist Frank Tipler , puts the odds of our existence at 1 in $10^{10^{120}}$. This is an even larger number than Carter's estimate. Tipler's estimate is based on the fact that the laws of physics are so finely tuned that they allow for the existence of life. If the laws of physics were even slightly different, life as we know it would not be possible.\n"
      ],
      "metadata": {
        "id": "f52dZeXM5t1_"
      }
    },
    {
      "cell_type": "markdown",
      "source": [
        "# Did Intuition play a role in evolution ?\n",
        "The evolution of life is also as improbable as the existence of the Universe. The cosmic and biological evolutions do have a common trait, namely **symmetry breaking**.</p> It took billions of years for life to evolve from simple single-celled organisms to complex multicellular organisms like humans. To what extent intuition played a role in our journey towards this highly improbable evolutionary journey is of anyone's guess. </p>\n",
        "Our ancestors faced numerous challenges and uncertainties in their environments, and the **ability to make quick, accurate, and contextually appropriate decisions would have conferred a survival advantage**.\n"
      ],
      "metadata": {
        "id": "bRCU8Bvr67TA"
      }
    },
    {
      "cell_type": "markdown",
      "source": [
        "# Intuition and Cognition\n",
        "Another perspective is that intuition is rooted in the cognitive processes that underlie perception and learning. Through repeated exposure to certain stimuli or situations, the brain can develop implicit knowledge and associations that guide intuitive responses. This acquired knowledge, often referred to as \"intuitive expertise,\" allows individuals to recognize familiar patterns and make rapid judgments based on prior experiences."
      ],
      "metadata": {
        "id": "Nz50DB8L84m8"
      }
    },
    {
      "cell_type": "markdown",
      "source": [
        "# Descartes and Kant\n",
        "## Intuition & their proximity to the Indian School\n",
        "| Characteristic | Descartes | Kant |\n",
        "|---|---|---|\n",
        "| Nature of intuition | Direct, unmediated awareness of truth | Product of the mind's interaction with the world |\n",
        "| Reliability of intuition | Infallible | Not infallible |\n",
        "| Relationship to reason | Intuition is the only reliable source of knowledge | Intuition is a necessary condition for knowledge, but not sufficient |\n",
        "| Relationship to Indian philosophy | Closer | Further |\n"
      ],
      "metadata": {
        "id": "bWhRlVkV9TWm"
      }
    },
    {
      "cell_type": "markdown",
      "source": [
        "## Wilder's Advice on  to Ph.D. students on Intuition\n",
        "### Wilder, Science 1967 - Intuition versus conceptions\n",
        "* The advise from the supervisor of Wilder: \"Don't let your intuition fool you\"\n",
        "* According to **Descartes** \"Intuition is not the fluctuating testimony of senses\n",
        "* Nor it is their misleading judgement of senses that proceeds from blundering construction of imaginations.\n",
        "* It is the conception that an unclouded and attentive mind provides.\n",
        "* And of **Kant**, the **concepts** of both time and space are derived from an **a priori intuition** which is independent of experience."
      ],
      "metadata": {
        "id": "hrDLllXT-J-i"
      }
    },
    {
      "cell_type": "markdown",
      "source": [
        "## The champion of Intuitive progress - Henry Bergson (1859 – 1941)\n",
        "\n",
        "Henri Bergson was a prominent French philosopher who had a significant impact on both analytic philosophy and continental philosophy, particularly during the first half of the 20th century. His philosophical ideas challenged traditional notions of rationalism and scientific reductionism, emphasizing the importance of immediate experience and intuition in understanding reality.\n",
        "\n"
      ],
      "metadata": {
        "id": "-oekj5Ed_jcN"
      }
    },
    {
      "cell_type": "markdown",
      "source": [
        "# *elan vital* - a slogan from Bergson\n",
        "Henri Bergson was a prominent French philosopher who had a significant impact on both analytic philosophy and continental philosophy, particularly during the first half of the 20th century. His philosophical ideas challenged traditional notions of rationalism and scientific reductionism, emphasizing the importance of immediate experience and intuition in understanding reality.\n"
      ],
      "metadata": {
        "id": "Jad06N9U_1ff"
      }
    },
    {
      "cell_type": "markdown",
      "source": [
        "# Who were influenced by Bergson's work\n",
        "\n",
        "- Albert Einstein: Einstein was a great admirer of Bergson's work, and he credited Bergson with helping him to develop his theory of relativity.\n",
        "- William James: James was a pioneer in the field of psychology, and he was influenced by Bergson's work on the nature of consciousness.\n",
        "- Charles Sherrington: Sherrington was a Nobel Prize-winning neuroscientist, and he was influenced by Bergson's work on the brain and nervous system.\n",
        "- Illya Prigogine (Chemistry Nobel) who introduced the concept of symmetry breaking instabilities and dissaptive structures in chemistry was also a big fan of Bergson.\n",
        "- Russell and others argued for a more rational and analytical approach to philosophy, based on logical reasoning and empirical evidence.Despite his influence and recognition, Bergson thus faced criticism from  Bertrand Russell, who disagreed with his emphasis on intuition and his metaphysical approach.\n"
      ],
      "metadata": {
        "id": "hO3GzM6yAVaS"
      }
    },
    {
      "cell_type": "markdown",
      "source": [
        "## Table: Highlights of the Begson Russel disagreement\n",
        "\n",
        "| Aspect of Conflict  | Henri Bergson                                       | Bertrand Russell                                      |\n",
        "|---------------------|----------------------------------------------------|-------------------------------------------------------|\n",
        "| Approach to Philosophy | Emphasized intuition and immediate experience as crucial for understanding reality | Advocated for a logical and analytical approach to philosophy, based on logical reasoning and empirical evidence |\n",
        "| Metaphysics        | Proposed the concept of \"élan vital\" as a vital impulse driving evolution and consciousness | Criticized metaphysical concepts and argued for a reductionist and scientific worldview |\n",
        "| Perception of Time | Viewed time as a subjective experience of continuous flow and duration | Argued for a scientific and objective understanding of time, influenced by Einstein's theory of relativity |\n",
        "| Knowledge and Truth | Valued intuitive knowledge and saw it as complementary to intellectual knowledge | Focused on logical analysis and emphasized the pursuit of intellectual truth |\n",
        "| Influence on Science | Believed that science should incorporate intuition and experience in addition to rationalism | Argued for a purely rational and empirical approach to science, dismissing metaphysical elements |\n",
        "\n"
      ],
      "metadata": {
        "id": "dids5wvAAu_H"
      }
    },
    {
      "cell_type": "code",
      "source": [],
      "metadata": {
        "id": "O05BO03FCKhD"
      },
      "execution_count": null,
      "outputs": []
    },
    {
      "cell_type": "markdown",
      "source": [
        "# How the Bergson and Russel Schools on intuitive thinking and raionality  are relevant in AI development\n",
        "- The Bergson school has influenced the development of AI systems that are capable of learning and adapting in a way that is more akin to human learning than traditional rule-based AI systems. For example, **the AI system known as \"DeepMind\"** was inspired by the Bergson school's emphasis on intuition and creativity.\n",
        "- The Russell school has influenced the development of AI systems that are capable of solving complex problems by using logical reasoning. For example, **the AI system known as \"Watson\" ** was inspired by the Russell school's emphasis on logic and reason.\n",
        "- Recent work on hybrid AI has sought to combine the insights of the Bergson school and the Russell school in order to develop AI systems that are both creative and logical. For example, the AI system known as \"Sophia\" is a hybrid AI system that is capable of both learning and reasoning.\n"
      ],
      "metadata": {
        "id": "lPRM_QYJCUdg"
      }
    },
    {
      "cell_type": "markdown",
      "source": [
        "\n",
        "## Penrose-Hawkins debate\n",
        "### *on Human Brain vs. Computers*\n",
        "The Penrose-Hawkins debate was a series of discussions between the British physicist Roger Penrose and the American computer scientist Stephen Hawking about the nature of consciousness and the possibility of artificial intelligence. Penrose argued that consciousness is a non-algorithmic phenomenon that cannot be explained by the laws of physics as we currently understand them. Hawking argued that consciousness is a product of the brain and that it is possible to create artificial intelligence that is conscious.\n",
        "\n",
        "The Penrose-Hawkins debate is still ongoing, and there is no clear consensus on the issue. However, the debate has helped to raise awareness of the philosophical and scientific challenges posed by artificial intelligence."
      ],
      "metadata": {
        "id": "k-dEKwzTD2go"
      }
    },
    {
      "cell_type": "markdown",
      "source": [
        "# Intuition Versus Rationality Debate\n",
        "The intuition vs. rationality debates\n",
        "\n",
        "The intuition vs. rationality debates are a series of discussions about the relative importance of intuition and rationality in human thought. Some people believe that intuition is the more important of the two, while others believe that rationality is more important.\n",
        "\n",
        "- There are a number of arguments that have been made in favor of intuition. One argument is that intuition is often faster and more efficient than rationality. Another argument is that intuition is often more accurate than rationality, especially in situations where there is not enough information to make a rational decision.\n",
        "\n",
        "- There are also a number of arguments that have been made in favor of rationality. One argument is that rationality is more reliable than intuition. Another argument is that rationality is more objective than intuition, which can be influenced by emotions and biases.\n",
        "\n",
        "**Points to note** : The striking similarity between the two debates , only difference is in terminology - In the Hawkins Penrose debate 'rational thinking' has been replaced by algorthmic thinking.\n"
      ],
      "metadata": {
        "id": "U2opM5PCFh9O"
      }
    },
    {
      "cell_type": "code",
      "source": [],
      "metadata": {
        "id": "z2cDzTSMHPqT"
      },
      "execution_count": null,
      "outputs": []
    }
  ]
}