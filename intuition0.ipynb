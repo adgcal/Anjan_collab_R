{
  "nbformat": 4,
  "nbformat_minor": 0,
  "metadata": {
    "colab": {
      "provenance": [],
      "authorship_tag": "ABX9TyMpFMDttY2bAb6ds0EkfTiw",
      "include_colab_link": true
    },
    "kernelspec": {
      "name": "ir",
      "display_name": "R"
    },
    "language_info": {
      "name": "R"
    }
  },
  "cells": [
    {
      "cell_type": "markdown",
      "metadata": {
        "id": "view-in-github",
        "colab_type": "text"
      },
      "source": [
        "<a href=\"https://colab.research.google.com/github/adgcal/Anjan_collab_R/blob/main/intuition0.ipynb\" target=\"_parent\"><img src=\"https://colab.research.google.com/assets/colab-badge.svg\" alt=\"Open In Colab\"/></a>"
      ]
    },
    {
      "cell_type": "markdown",
      "source": [
        "## The probability of our existence\n",
        "There are several different estimates of the improbability of our existence, but they all point to the fact that it is incredibly unlikely. One estimate, by astrophysicist Brandon Carter, puts the odds of our existence at 1 in $10^{120}$.</p> This is a number so large that it is difficult to comprehend. It is estimated that there are $10^{80}$ atoms ($1.661 \\cdot 10^{56}$)in the observable universe, so the odds of our existence are equivalent to randomly picking one atom out of the entire universe and finding that it is a copy of your entire body.\n",
        "\n",
        "Another estimate, by physicist Frank Tipler , puts the odds of our existence at 1 in $10^{10^{120}}$. This is an even larger number than Carter's estimate. Tipler's estimate is based on the fact that the laws of physics are so finely tuned that they allow for the existence of life. If the laws of physics were even slightly different, life as we know it would not be possible.\n"
      ],
      "metadata": {
        "id": "f52dZeXM5t1_"
      }
    },
    {
      "cell_type": "markdown",
      "source": [
        "# Did Intuition play a role in evolution ?\n",
        "The evolution of life is also as improbable as the existence of the Universe. The cosmic and biological evolutions do have a common trait, namely **symmetry breaking**.</p> It took billions of years for life to evolve from simple single-celled organisms to complex multicellular organisms like humans. To what extent intuition played a role in our journey towards this highly improbable evolutionary journey is of anyone's guess. </p>\n",
        "Our ancestors faced numerous challenges and uncertainties in their environments, and the **ability to make quick, accurate, and contextually appropriate decisions would have conferred a survival advantage**.\n"
      ],
      "metadata": {
        "id": "bRCU8Bvr67TA"
      }
    },
    {
      "cell_type": "markdown",
      "source": [
        "# Intuition and Cognition\n",
        "Another perspective is that intuition is rooted in the cognitive processes that underlie perception and learning. Through repeated exposure to certain stimuli or situations, the brain can develop implicit knowledge and associations that guide intuitive responses. This acquired knowledge, often referred to as \"intuitive expertise,\" allows individuals to recognize familiar patterns and make rapid judgments based on prior experiences."
      ],
      "metadata": {
        "id": "Nz50DB8L84m8"
      }
    },
    {
      "cell_type": "markdown",
      "source": [
        "# Descartes and Kant\n",
        "## Intuition & their proximity to the Indian School\n",
        "| Characteristic | Descartes | Kant |\n",
        "|---|---|---|\n",
        "| Nature of intuition | Direct, unmediated awareness of truth | Product of the mind's interaction with the world |\n",
        "| Reliability of intuition | Infallible | Not infallible |\n",
        "| Relationship to reason | Intuition is the only reliable source of knowledge | Intuition is a necessary condition for knowledge, but not sufficient |\n",
        "| Relationship to Indian philosophy | Closer | Further |\n"
      ],
      "metadata": {
        "id": "bWhRlVkV9TWm"
      }
    },
    {
      "cell_type": "markdown",
      "source": [
        "## Wilder's Advice on  to Ph.D. students on Intuition\n",
        "### Wilder, Science 1967 - Intuition versus conceptions\n",
        "* The advise from the supervisor of Wilder: \"Don't let your intuition fool you\"\n",
        "* According to **Descartes** \"Intuition is not the fluctuating testimony of senses\n",
        "* Nor it is their misleading judgement of senses that proceeds from blundering construction of imaginations.\n",
        "* It is the conception that an unclouded and attentive mind provides.\n",
        "* And of **Kant**, the **concepts** of both time and space are derived from an **a priori intuition** which is independent of experience."
      ],
      "metadata": {
        "id": "hrDLllXT-J-i"
      }
    },
    {
      "cell_type": "markdown",
      "source": [
        "## The champion of Intuitive progress - Henry Bergson (1859 – 1941)\n",
        "\n",
        "Henri Bergson was a prominent French philosopher who had a significant impact on both analytic philosophy and continental philosophy, particularly during the first half of the 20th century. His philosophical ideas challenged traditional notions of rationalism and scientific reductionism, emphasizing the importance of immediate experience and intuition in understanding reality.\n",
        "\n"
      ],
      "metadata": {
        "id": "-oekj5Ed_jcN"
      }
    },
    {
      "cell_type": "markdown",
      "source": [
        "# *elan vital* - a slogan from Bergson\n",
        "Henri Bergson was a prominent French philosopher who had a significant impact on both analytic philosophy and continental philosophy, particularly during the first half of the 20th century. His philosophical ideas challenged traditional notions of rationalism and scientific reductionism, emphasizing the importance of immediate experience and intuition in understanding reality.\n"
      ],
      "metadata": {
        "id": "Jad06N9U_1ff"
      }
    },
    {
      "cell_type": "markdown",
      "source": [
        "# Who were influenced by Bergson's work\n",
        "\n",
        "- Albert Einstein: Einstein was a great admirer of Bergson's work, and he credited Bergson with helping him to develop his theory of relativity.\n",
        "- William James: James was a pioneer in the field of psychology, and he was influenced by Bergson's work on the nature of consciousness.\n",
        "- Charles Sherrington: Sherrington was a Nobel Prize-winning neuroscientist, and he was influenced by Bergson's work on the brain and nervous system.\n",
        "- Illya Prigogine (Chemistry Nobel) who introduced the concept of symmetry breaking instabilities and dissaptive structures in chemistry was also a big fan of Bergson.\n",
        "- Russell and others argued for a more rational and analytical approach to philosophy, based on logical reasoning and empirical evidence.Despite his influence and recognition, Bergson thus faced criticism from  Bertrand Russell, who disagreed with his emphasis on intuition and his metaphysical approach.\n"
      ],
      "metadata": {
        "id": "hO3GzM6yAVaS"
      }
    },
    {
      "cell_type": "code",
      "source": [],
      "metadata": {
        "id": "dids5wvAAu_H"
      },
      "execution_count": null,
      "outputs": []
    }
  ]
}