{
  "nbformat": 4,
  "nbformat_minor": 0,
  "metadata": {
    "colab": {
      "name": "bioinfo.R",
      "provenance": [],
      "collapsed_sections": [],
      "authorship_tag": "ABX9TyMJpFi5GiYgYw7JIWgu6pxO",
      "include_colab_link": true
    },
    "kernelspec": {
      "name": "ir",
      "display_name": "R"
    },
    "language_info": {
      "name": "R"
    },
    "accelerator": "GPU"
  },
  "cells": [
    {
      "cell_type": "markdown",
      "metadata": {
        "id": "view-in-github",
        "colab_type": "text"
      },
      "source": [
        "<a href=\"https://colab.research.google.com/github/adgcal/Anjan_collab_R/blob/main/bioinfo_R.ipynb\" target=\"_parent\"><img src=\"https://colab.research.google.com/assets/colab-badge.svg\" alt=\"Open In Colab\"/></a>"
      ]
    },
    {
      "cell_type": "markdown",
      "metadata": {
        "id": "HywK9pKLQ2OA"
      },
      "source": [
        "# Bioinformatics "
      ]
    },
    {
      "cell_type": "markdown",
      "metadata": {
        "id": "NB1VO6PbRyFH"
      },
      "source": [
        "Anjan K Dasgupta JU R Course 2021"
      ]
    },
    {
      "cell_type": "markdown",
      "metadata": {
        "id": "Vv2YU_x3R7jD"
      },
      "source": [
        "## Extracting data from PUBMED "
      ]
    },
    {
      "cell_type": "markdown",
      "metadata": {
        "id": "PvDOhzbvSl0E"
      },
      "source": [
        "\n",
        "- PubMed is an online repository of references and abstracts of publications in the fields of medicine and life sciences. \n",
        "- PubMed is a free resource that is developed and maintained by the National Center for Biotechnology Information (NCBI)\n",
        "- Alternatively, PubMed can be programmatically queried via the NCBI Entrez E-utilities interface.\n"
      ]
    },
    {
      "cell_type": "code",
      "metadata": {
        "colab": {
          "base_uri": "https://localhost:8080/"
        },
        "id": "PBUtYeIsl1oa",
        "outputId": "4cf1a985-49ac-43dc-8874-dc54bc228002"
      },
      "source": [
        "install.packages(\"devtools\")"
      ],
      "execution_count": 1,
      "outputs": [
        {
          "output_type": "stream",
          "name": "stderr",
          "text": [
            "Installing package into ‘/usr/local/lib/R/site-library’\n",
            "(as ‘lib’ is unspecified)\n",
            "\n"
          ]
        }
      ]
    },
    {
      "cell_type": "code",
      "metadata": {
        "colab": {
          "base_uri": "https://localhost:8080/"
        },
        "id": "Jth5Z5kzmASl",
        "outputId": "99827ed0-32fc-4779-b893-8fff32e1e6ec"
      },
      "source": [
        "library(devtools)"
      ],
      "execution_count": 2,
      "outputs": [
        {
          "output_type": "stream",
          "name": "stderr",
          "text": [
            "Loading required package: usethis\n",
            "\n"
          ]
        }
      ]
    },
    {
      "cell_type": "code",
      "metadata": {
        "colab": {
          "base_uri": "https://localhost:8080/"
        },
        "id": "UDWSdBPFlgCg",
        "outputId": "ee6b04d3-852e-4527-a45a-bf3752acd9d9"
      },
      "source": [
        "install_github(\"dami82/easyPubMed\")"
      ],
      "execution_count": 3,
      "outputs": [
        {
          "output_type": "stream",
          "name": "stderr",
          "text": [
            "Downloading GitHub repo dami82/easyPubMed@HEAD\n",
            "\n"
          ]
        },
        {
          "output_type": "stream",
          "name": "stdout",
          "text": [
            "\u001b[32m✔\u001b[39m  \u001b[90mchecking for file ‘/tmp/RtmpCfNCnY/remotes4d8261be9/dami82-easyPubMed-0c46a12/DESCRIPTION’\u001b[39m\u001b[36m\u001b[39m\n",
            "\u001b[90m─\u001b[39m\u001b[90m  \u001b[39m\u001b[90mpreparing ‘easyPubMed’:\u001b[39m\u001b[36m\u001b[39m\n",
            "\u001b[32m✔\u001b[39m  \u001b[90mchecking DESCRIPTION meta-information\u001b[39m\u001b[36m\u001b[39m\n",
            "\u001b[90m─\u001b[39m\u001b[90m  \u001b[39m\u001b[90mchecking for LF line-endings in source and make files and shell scripts\u001b[39m\u001b[36m\u001b[39m\n",
            "\u001b[90m─\u001b[39m\u001b[90m  \u001b[39m\u001b[90mchecking for empty or unneeded directories\u001b[39m\u001b[36m\u001b[39m\n",
            "\u001b[90m─\u001b[39m\u001b[90m  \u001b[39m\u001b[90mbuilding ‘easyPubMed_2.21.tar.gz’\u001b[39m\u001b[36m\u001b[39m\n",
            "   \n"
          ]
        },
        {
          "output_type": "stream",
          "name": "stderr",
          "text": [
            "Installing package into ‘/usr/local/lib/R/site-library’\n",
            "(as ‘lib’ is unspecified)\n",
            "\n"
          ]
        }
      ]
    },
    {
      "cell_type": "code",
      "metadata": {
        "id": "m34wdhvJmHuk"
      },
      "source": [
        "installed.packages()"
      ],
      "execution_count": null,
      "outputs": []
    },
    {
      "cell_type": "markdown",
      "metadata": {
        "id": "ZGkPvZeXnEoW"
      },
      "source": [
        "[link text](https://)library(easyPubMed)\n",
        "# easyPubmed description\n",
        "- easyPubMed is an R interface to the Entrez Programming Utilities aimed at allowing an easy and smooth programmatic access to PubMed. \n",
        "- The package is suitable for batch downloading large volumes of records (via the batch_pubmed_download() function), and comes with a set of functions to perform basic processing of the PubMed query output.\n",
        "- easyPubMed can request and handle PubMed records in either XML or TXT format. "
      ]
    },
    {
      "cell_type": "markdown",
      "metadata": {
        "id": "9Sz1zWhdnN7x"
      },
      "source": [
        "# A simple example \n"
      ]
    },
    {
      "cell_type": "code",
      "metadata": {
        "id": "g1EAWkr03h4C"
      },
      "source": [
        "library(easyPubMed)"
      ],
      "execution_count": 7,
      "outputs": []
    },
    {
      "cell_type": "code",
      "metadata": {
        "colab": {
          "base_uri": "https://localhost:8080/",
          "height": 50
        },
        "id": "OZpU33BtnnFo",
        "outputId": "5444edd3-97f0-464f-b76c-88e464aa2d45"
      },
      "source": [
        "my_query <- 'doxyrubicin'\n",
        "my_entrez_id <- get_pubmed_ids(my_query)\n",
        "my_abstracts_txt <- fetch_pubmed_data(my_entrez_id, format = \"abstract\")\n",
        "head(my_abstracts_txt)[1:6]"
      ],
      "execution_count": 8,
      "outputs": [
        {
          "output_type": "display_data",
          "data": {
            "text/plain": [
              "[1] \"\"                                                                        \n",
              "[2] \"1. ACS Appl Mater Interfaces. 2021 Mar 3;13(8):9316-9328. doi:\"          \n",
              "[3] \"10.1021/acsami.0c14730. Epub 2020 Oct 22.\"                               \n",
              "[4] \"\"                                                                        \n",
              "[5] \"Aptamer-Functionalized Upconverting Nanoformulations for Light-Switching\"\n",
              "[6] \"Cancer-Specific Recognition and In Situ Photodynamic-Chemo Sequential\"   "
            ],
            "text/latex": "\\begin{enumerate*}\n\\item ''\n\\item '1. ACS Appl Mater Interfaces. 2021 Mar 3;13(8):9316-9328. doi:'\n\\item '10.1021/acsami.0c14730. Epub 2020 Oct 22.'\n\\item ''\n\\item 'Aptamer-Functionalized Upconverting Nanoformulations for Light-Switching'\n\\item 'Cancer-Specific Recognition and In Situ Photodynamic-Chemo Sequential'\n\\end{enumerate*}\n",
            "text/markdown": "1. ''\n2. '1. ACS Appl Mater Interfaces. 2021 Mar 3;13(8):9316-9328. doi:'\n3. '10.1021/acsami.0c14730. Epub 2020 Oct 22.'\n4. ''\n5. 'Aptamer-Functionalized Upconverting Nanoformulations for Light-Switching'\n6. 'Cancer-Specific Recognition and In Situ Photodynamic-Chemo Sequential'\n\n\n",
            "text/html": [
              "<style>\n",
              ".list-inline {list-style: none; margin:0; padding: 0}\n",
              ".list-inline>li {display: inline-block}\n",
              ".list-inline>li:not(:last-child)::after {content: \"\\00b7\"; padding: 0 .5ex}\n",
              "</style>\n",
              "<ol class=list-inline><li>''</li><li>'1. ACS Appl Mater Interfaces. 2021 Mar 3;13(8):9316-9328. doi:'</li><li>'10.1021/acsami.0c14730. Epub 2020 Oct 22.'</li><li>''</li><li>'Aptamer-Functionalized Upconverting Nanoformulations for Light-Switching'</li><li>'Cancer-Specific Recognition and In Situ Photodynamic-Chemo Sequential'</li></ol>\n"
            ]
          },
          "metadata": {}
        }
      ]
    },
    {
      "cell_type": "code",
      "metadata": {
        "colab": {
          "base_uri": "https://localhost:8080/",
          "height": 66
        },
        "id": "CHeYSK6jn8_o",
        "outputId": "efa0ed9c-8f86-4af0-9865-e373b4efba0e"
      },
      "source": [
        "my_abstracts_xml <- fetch_pubmed_data(pubmed_id_list = my_entrez_id)\n",
        "my_titles <- custom_grep(my_abstracts_xml, \"ArticleTitle\", \"char\")\n",
        "TTM <- nchar(my_titles) > 75\n",
        "my_titles[TTM] <- paste(substr(my_titles[TTM], 1, 70), \"...\", sep = \"\")\n",
        "head(my_titles)"
      ],
      "execution_count": 9,
      "outputs": [
        {
          "output_type": "display_data",
          "data": {
            "text/plain": [
              "[1] \"Aptamer-Functionalized Upconverting Nanoformulations for Light-Switchi...\"\n",
              "[2] \"Cancer Therapy: A Continuance of Health Burden.\"                          \n",
              "[3] \"Haematodermic CD4+CD56+ neoplasm: complete remission after methotrexat...\"\n",
              "[4] \"Multicentric Castleman's disease in a patient with HIV.\"                  \n",
              "[5] \"Different pathways of cell killing by gossypol enantiomers.\"              \n",
              "[6] \"Identification of nucleoside transport binding sites in the human myoc...\""
            ],
            "text/latex": "\\begin{enumerate*}\n\\item 'Aptamer-Functionalized Upconverting Nanoformulations for Light-Switchi...'\n\\item 'Cancer Therapy: A Continuance of Health Burden.'\n\\item 'Haematodermic CD4+CD56+ neoplasm: complete remission after methotrexat...'\n\\item 'Multicentric Castleman\\textbackslash{}'s disease in a patient with HIV.'\n\\item 'Different pathways of cell killing by gossypol enantiomers.'\n\\item 'Identification of nucleoside transport binding sites in the human myoc...'\n\\end{enumerate*}\n",
            "text/markdown": "1. 'Aptamer-Functionalized Upconverting Nanoformulations for Light-Switchi...'\n2. 'Cancer Therapy: A Continuance of Health Burden.'\n3. 'Haematodermic CD4+CD56+ neoplasm: complete remission after methotrexat...'\n4. 'Multicentric Castleman\\'s disease in a patient with HIV.'\n5. 'Different pathways of cell killing by gossypol enantiomers.'\n6. 'Identification of nucleoside transport binding sites in the human myoc...'\n\n\n",
            "text/html": [
              "<style>\n",
              ".list-inline {list-style: none; margin:0; padding: 0}\n",
              ".list-inline>li {display: inline-block}\n",
              ".list-inline>li:not(:last-child)::after {content: \"\\00b7\"; padding: 0 .5ex}\n",
              "</style>\n",
              "<ol class=list-inline><li>'Aptamer-Functionalized Upconverting Nanoformulations for Light-Switchi...'</li><li>'Cancer Therapy: A Continuance of Health Burden.'</li><li>'Haematodermic CD4+CD56+ neoplasm: complete remission after methotrexat...'</li><li>'Multicentric Castleman\\'s disease in a patient with HIV.'</li><li>'Different pathways of cell killing by gossypol enantiomers.'</li><li>'Identification of nucleoside transport binding sites in the human myoc...'</li></ol>\n"
            ]
          },
          "metadata": {}
        }
      ]
    },
    {
      "cell_type": "markdown",
      "metadata": {
        "id": "n59I5nW2oTNd"
      },
      "source": [
        "# From *in vivo* , *in vitro* to *in silico*\n",
        "\n",
        "Bioinformatics came into existence as a result of cumulative efforts of many scientists. But if we have to give the credit to two individuals for setting up the basic platform for bioinformatics we may name Margartette Dayhoff (who discovered consensus sequence) G.N.Ramachandran (who introduced the widely used phi-psi plot) .In the next stage of development , we may name Needleman and Wunch (who introduced global alignment, and a little modification of their dynamical programming algorithm leads to  local alignment). We must mention Atschachul who introduced blast search. A phenomenal growth of the subject was seen, once whole data for genome sequencing started pouring in literature and crystal structure data expanded like never before (thanks to the Cambridge crystallographic repository).  \n",
        "\n",
        "\n"
      ]
    },
    {
      "cell_type": "markdown",
      "metadata": {
        "id": "05BuF7VXocqF"
      },
      "source": [
        "# The *seqinr* package"
      ]
    },
    {
      "cell_type": "code",
      "metadata": {
        "colab": {
          "base_uri": "https://localhost:8080/"
        },
        "id": "nkSXSFs0opm0",
        "outputId": "5bed8624-282f-42b5-ab57-b7f411438698"
      },
      "source": [
        "install.packages(\"seqinr\")"
      ],
      "execution_count": 10,
      "outputs": [
        {
          "output_type": "stream",
          "name": "stderr",
          "text": [
            "Installing package into ‘/usr/local/lib/R/site-library’\n",
            "(as ‘lib’ is unspecified)\n",
            "\n",
            "also installing the dependencies ‘pixmap’, ‘sp’, ‘ade4’, ‘segmented’\n",
            "\n",
            "\n"
          ]
        }
      ]
    },
    {
      "cell_type": "code",
      "metadata": {
        "id": "IhHJ_Bw-pBIW"
      },
      "source": [
        "library(seqinr)"
      ],
      "execution_count": 11,
      "outputs": []
    },
    {
      "cell_type": "markdown",
      "metadata": {
        "id": "thk0ER5DpJqM"
      },
      "source": [
        "A function to access sequence from NCBI"
      ]
    },
    {
      "cell_type": "code",
      "metadata": {
        "id": "RvTKcNRBpQye"
      },
      "source": [
        "getncbiseq <- function(accession)\n",
        "{\n",
        "require(\"seqinr\") # this function requires the SeqinR R package\n",
        "# first find which ACNUC database the accession is stored in:\n",
        "dbs <- c(\"genbank\",\"refseq\",\"refseqViruses\",\"bacterial\")\n",
        "numdbs <- length(dbs)\n",
        "for (i in 1:numdbs)\n",
        "      {\n",
        "db <- dbs[i]\n",
        "choosebank(db)\n",
        "# check if the sequence is in ACNUC database 'db':\n",
        "resquery <- try(query(\".tmpquery\", paste(\"AC=\", accession)), silent = TRUE)\n",
        "\n",
        "if (!(inherits(resquery, \"try-error\"))) {\n",
        "  queryname <- \"query2\"\n",
        "  thequery <- paste(\"AC=\", accession, sep=\"\")\n",
        "  query2 <- query(queryname, thequery)\n",
        "  # see if a sequence was retrieved:\n",
        "  seq <- getSequence(query2$req[[1]])\n",
        "  closebank()\n",
        "  return(seq)\n",
        "}\n",
        "closebank()\n",
        "}\n",
        "print(paste(\"ERROR: accession\",accession,\"was not found\"))\n",
        "}"
      ],
      "execution_count": 12,
      "outputs": []
    },
    {
      "cell_type": "markdown",
      "metadata": {
        "id": "DM4jcg7CpbNQ"
      },
      "source": [
        "# The Dengue virus sequence \n"
      ]
    },
    {
      "cell_type": "markdown",
      "metadata": {
        "id": "ygEdisoXpjJH"
      },
      "source": [
        "The variable dengueseq is a vector containing the nucleotide sequence. Each element of the vector contains one nucleotide of the sequence. Therefore, to print out a certain subsequence of the sequence, we just need to type the name of the vector dengueseq followed by the square brackets containing the indices for those nucleotides. For example, the following command prints out the first 50 nucleotides of the DEN-1 Dengue virus genome sequence"
      ]
    },
    {
      "cell_type": "code",
      "metadata": {
        "id": "Ejc3Ex0Qpn1E"
      },
      "source": [
        "dengueseq <- getncbiseq(\"NC_001477\")"
      ],
      "execution_count": 13,
      "outputs": []
    },
    {
      "cell_type": "markdown",
      "metadata": {
        "id": "aSPotCYupyur"
      },
      "source": [
        "# First 20 members of the  Dengue virus sequence \n"
      ]
    },
    {
      "cell_type": "code",
      "metadata": {
        "colab": {
          "base_uri": "https://localhost:8080/",
          "height": 33
        },
        "id": "4Yc53JY8p0er",
        "outputId": "88dac632-0b56-4d3f-b8a9-1c4092d3446c"
      },
      "source": [
        "dengueseq[1:20]\n"
      ],
      "execution_count": 14,
      "outputs": [
        {
          "output_type": "display_data",
          "data": {
            "text/plain": [
              " [1] \"a\" \"g\" \"t\" \"t\" \"g\" \"t\" \"t\" \"a\" \"g\" \"t\" \"c\" \"t\" \"a\" \"c\" \"g\" \"t\" \"g\" \"g\" \"a\"\n",
              "[20] \"c\""
            ],
            "text/latex": "\\begin{enumerate*}\n\\item 'a'\n\\item 'g'\n\\item 't'\n\\item 't'\n\\item 'g'\n\\item 't'\n\\item 't'\n\\item 'a'\n\\item 'g'\n\\item 't'\n\\item 'c'\n\\item 't'\n\\item 'a'\n\\item 'c'\n\\item 'g'\n\\item 't'\n\\item 'g'\n\\item 'g'\n\\item 'a'\n\\item 'c'\n\\end{enumerate*}\n",
            "text/markdown": "1. 'a'\n2. 'g'\n3. 't'\n4. 't'\n5. 'g'\n6. 't'\n7. 't'\n8. 'a'\n9. 'g'\n10. 't'\n11. 'c'\n12. 't'\n13. 'a'\n14. 'c'\n15. 'g'\n16. 't'\n17. 'g'\n18. 'g'\n19. 'a'\n20. 'c'\n\n\n",
            "text/html": [
              "<style>\n",
              ".list-inline {list-style: none; margin:0; padding: 0}\n",
              ".list-inline>li {display: inline-block}\n",
              ".list-inline>li:not(:last-child)::after {content: \"\\00b7\"; padding: 0 .5ex}\n",
              "</style>\n",
              "<ol class=list-inline><li>'a'</li><li>'g'</li><li>'t'</li><li>'t'</li><li>'g'</li><li>'t'</li><li>'t'</li><li>'a'</li><li>'g'</li><li>'t'</li><li>'c'</li><li>'t'</li><li>'a'</li><li>'c'</li><li>'g'</li><li>'t'</li><li>'g'</li><li>'g'</li><li>'a'</li><li>'c'</li></ol>\n"
            ]
          },
          "metadata": {}
        }
      ]
    },
    {
      "cell_type": "code",
      "metadata": {
        "id": "nmazQTBSrla0"
      },
      "source": [
        "write.fasta(names=\"/content/sample_data/DEN-1\", sequences=dengueseq, file.out=\"den1.fasta\")\n"
      ],
      "execution_count": 15,
      "outputs": []
    },
    {
      "cell_type": "code",
      "metadata": {
        "id": "AuFrNYG8soTe"
      },
      "source": [
        "dengue <- read.fasta(file = \"/content/den1.fasta\")\n",
        "dengue"
      ],
      "execution_count": null,
      "outputs": []
    },
    {
      "cell_type": "markdown",
      "metadata": {
        "id": "DDEstdWts_0C"
      },
      "source": [
        "Length of a DNA sequence\n",
        "Once you have retrieved a DNA sequence, we can obtain some simple statistics to describe that sequence, such as the sequence’s total length in nucleotides. In the above example, we retrieved the DEN-1 Dengue virus genome se- quence, and stored it in the vector variable dengueseq. To subsequently obtain the length of the genome sequence, we would use the length() function, typing:\n"
      ]
    },
    {
      "cell_type": "code",
      "metadata": {
        "colab": {
          "base_uri": "https://localhost:8080/",
          "height": 33
        },
        "id": "taC5xjP2tDFC",
        "outputId": "ae5caafb-7317-4e7c-db3c-1b18b755fae4"
      },
      "source": [
        "dengueseq <- dengue[[1]]\n",
        "length(dengueseq)"
      ],
      "execution_count": 17,
      "outputs": [
        {
          "output_type": "display_data",
          "data": {
            "text/plain": [
              "[1] 10735"
            ],
            "text/latex": "10735",
            "text/markdown": "10735",
            "text/html": [
              "10735"
            ]
          },
          "metadata": {}
        }
      ]
    },
    {
      "cell_type": "markdown",
      "metadata": {
        "id": "MPKMngrY4TuW"
      },
      "source": [
        " ## Base composition of a DNA sequence\n"
      ]
    },
    {
      "cell_type": "code",
      "metadata": {
        "colab": {
          "base_uri": "https://localhost:8080/",
          "height": 70
        },
        "id": "I-8f0zYi4eKL",
        "outputId": "e4f8895b-3c0e-41cb-8411-397320c876bc"
      },
      "source": [
        "table(dengueseq)"
      ],
      "execution_count": 18,
      "outputs": [
        {
          "output_type": "display_data",
          "data": {
            "text/plain": [
              "dengueseq\n",
              "   a    c    g    t \n",
              "3426 2240 2770 2299 "
            ]
          },
          "metadata": {}
        }
      ]
    },
    {
      "cell_type": "markdown",
      "metadata": {
        "id": "BUq7zdOn4oVl"
      },
      "source": [
        "# H1N1 Sequence"
      ]
    },
    {
      "cell_type": "code",
      "metadata": {
        "id": "n6q2tCNn52Bo"
      },
      "source": [
        "h1n1seq<-getncbiseq(\"HM624086\")\t\n"
      ],
      "execution_count": 32,
      "outputs": []
    },
    {
      "cell_type": "code",
      "metadata": {
        "id": "1-UzmAgG6FJT"
      },
      "source": [
        "write.fasta(names=\"/content/sample_data/h1n1\", sequences=h1n1seq, file.out=\"h1n1.fasta\")\n"
      ],
      "execution_count": 33,
      "outputs": []
    },
    {
      "cell_type": "code",
      "metadata": {
        "id": "KjMHldJ36PkW"
      },
      "source": [
        "h1n1<-read.fasta(file = \"/content/h1n1.fasta\")\n"
      ],
      "execution_count": 38,
      "outputs": []
    },
    {
      "cell_type": "code",
      "metadata": {
        "colab": {
          "base_uri": "https://localhost:8080/",
          "height": 70
        },
        "id": "ZYbiOsY26Y8T",
        "outputId": "60b90069-656e-4b66-d58c-1504cedc4a9e"
      },
      "source": [
        "table(h1n1)"
      ],
      "execution_count": 39,
      "outputs": [
        {
          "output_type": "display_data",
          "data": {
            "text/plain": [
              "h1n1\n",
              "  a   c   g   t \n",
              "603 314 377 407 "
            ]
          },
          "metadata": {}
        }
      ]
    },
    {
      "cell_type": "code",
      "metadata": {
        "id": "X9c6Vy3A7q-j"
      },
      "source": [
        "h1n1seq<-h1n1[[1]]"
      ],
      "execution_count": 41,
      "outputs": []
    },
    {
      "cell_type": "markdown",
      "metadata": {
        "id": "PobfdlxW6dK_"
      },
      "source": [
        "# GC contents "
      ]
    },
    {
      "cell_type": "code",
      "metadata": {
        "colab": {
          "base_uri": "https://localhost:8080/",
          "height": 50
        },
        "id": "RKMItNQR6gcW",
        "outputId": "9140365f-2380-4320-c865-781f72551181"
      },
      "source": [
        "GC(dengueseq)\n",
        "GC(h1n1seq)\n"
      ],
      "execution_count": 42,
      "outputs": [
        {
          "output_type": "display_data",
          "data": {
            "text/plain": [
              "[1] 0.4666977"
            ],
            "text/latex": "0.466697717745692",
            "text/markdown": "0.466697717745692",
            "text/html": [
              "0.466697717745692"
            ]
          },
          "metadata": {}
        },
        {
          "output_type": "display_data",
          "data": {
            "text/plain": [
              "[1] 0.4062316"
            ],
            "text/latex": "0.406231628453851",
            "text/markdown": "0.406231628453851",
            "text/html": [
              "0.406231628453851"
            ]
          },
          "metadata": {}
        }
      ]
    }
  ]
}