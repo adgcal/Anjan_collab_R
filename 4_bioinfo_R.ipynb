{
  "cells": [
    {
      "cell_type": "markdown",
      "metadata": {
        "id": "view-in-github",
        "colab_type": "text"
      },
      "source": [
        "<a href=\"https://colab.research.google.com/github/adgcal/Anjan_collab_R/blob/main/4_bioinfo_R.ipynb\" target=\"_parent\"><img src=\"https://colab.research.google.com/assets/colab-badge.svg\" alt=\"Open In Colab\"/></a>"
      ]
    },
    {
      "cell_type": "markdown",
      "metadata": {
        "id": "HywK9pKLQ2OA"
      },
      "source": [
        "# R Curiosity :Bioinformatics "
      ]
    },
    {
      "cell_type": "markdown",
      "metadata": {
        "id": "NB1VO6PbRyFH"
      },
      "source": []
    },
    {
      "cell_type": "markdown",
      "metadata": {
        "id": "Vv2YU_x3R7jD"
      },
      "source": [
        "## Extracting data from PUBMED "
      ]
    },
    {
      "cell_type": "markdown",
      "metadata": {
        "id": "PvDOhzbvSl0E"
      },
      "source": [
        "\n",
        "- PubMed is an online repository of references and abstracts of publications in the fields of medicine and life sciences. \n",
        "- PubMed is a free resource that is developed and maintained by the National Center for Biotechnology Information (NCBI)\n",
        "- Alternatively, PubMed can be programmatically queried via the NCBI Entrez E-utilities interface.\n"
      ]
    },
    {
      "cell_type": "code",
      "execution_count": 2,
      "metadata": {
        "id": "PBUtYeIsl1oa",
        "colab": {
          "base_uri": "https://localhost:8080/"
        },
        "outputId": "b7fd9314-d03b-4844-a090-1cd1ad7f3a9d"
      },
      "outputs": [
        {
          "output_type": "stream",
          "name": "stderr",
          "text": [
            "Installing package into ‘/usr/local/lib/R/site-library’\n",
            "(as ‘lib’ is unspecified)\n",
            "\n",
            "also installing the dependencies ‘Rcpp’, ‘httpuv’, ‘xtable’, ‘sourcetools’, ‘later’, ‘promises’, ‘textshaping’, ‘shiny’, ‘downlit’, ‘ragg’, ‘htmlwidgets’, ‘miniUI’, ‘pkgdown’, ‘profvis’, ‘urlchecker’\n",
            "\n",
            "\n",
            "Warning message in install.packages(\"devtools\"):\n",
            "“installation of package ‘textshaping’ had non-zero exit status”\n",
            "Warning message in install.packages(\"devtools\"):\n",
            "“installation of package ‘ragg’ had non-zero exit status”\n",
            "Warning message in install.packages(\"devtools\"):\n",
            "“installation of package ‘pkgdown’ had non-zero exit status”\n",
            "Warning message in install.packages(\"devtools\"):\n",
            "“installation of package ‘devtools’ had non-zero exit status”\n"
          ]
        }
      ],
      "source": [
        "install.packages(\"devtools\")"
      ]
    },
    {
      "cell_type": "code",
      "execution_count": 3,
      "metadata": {
        "colab": {
          "base_uri": "https://localhost:8080/"
        },
        "id": "Jth5Z5kzmASl",
        "outputId": "00e994d8-988a-49a0-c8f6-e559433c4bd7"
      },
      "outputs": [
        {
          "output_type": "stream",
          "name": "stderr",
          "text": [
            "Loading required package: usethis\n",
            "\n"
          ]
        }
      ],
      "source": [
        "library(devtools)"
      ]
    },
    {
      "cell_type": "markdown",
      "metadata": {
        "id": "ZGkPvZeXnEoW"
      },
      "source": [
        "[link text](https://)library(easyPubMed)\n",
        "# easyPubmed description\n",
        "- easyPubMed is an R interface to the Entrez Programming Utilities aimed at allowing an easy and smooth programmatic access to PubMed. \n",
        "- The package is suitable for batch downloading large volumes of records (via the batch_pubmed_download() function), and comes with a set of functions to perform basic processing of the PubMed query output.\n",
        "- easyPubMed can request and handle PubMed records in either XML or TXT format. "
      ]
    },
    {
      "cell_type": "markdown",
      "metadata": {
        "id": "9Sz1zWhdnN7x"
      },
      "source": [
        "# A simple example \n",
        "- easyPubMed\n",
        "- rentrez \n"
      ]
    },
    {
      "cell_type": "code",
      "execution_count": 4,
      "metadata": {
        "id": "UDWSdBPFlgCg",
        "colab": {
          "base_uri": "https://localhost:8080/"
        },
        "outputId": "d5059c5e-b561-449b-e99a-c30248e419aa"
      },
      "outputs": [
        {
          "output_type": "stream",
          "name": "stderr",
          "text": [
            "Downloading GitHub repo dami82/easyPubMed@HEAD\n",
            "\n"
          ]
        },
        {
          "output_type": "stream",
          "name": "stdout",
          "text": [
            "\u001b[36m──\u001b[39m \u001b[36mR CMD build\u001b[39m \u001b[36m─────────────────────────────────────────────────────────────────\u001b[39m\n",
            "* checking for file ‘/tmp/Rtmp7VNj48/remotesfb12609458/dami82-easyPubMed-ea03f36/DESCRIPTION’ ... OK\n",
            "* preparing ‘easyPubMed’:\n",
            "* checking DESCRIPTION meta-information ... OK\n",
            "* checking for LF line-endings in source and make files and shell scripts\n",
            "* checking for empty or unneeded directories\n",
            "* building ‘easyPubMed_2.22.tar.gz’\n",
            "\n"
          ]
        },
        {
          "output_type": "stream",
          "name": "stderr",
          "text": [
            "Installing package into ‘/usr/local/lib/R/site-library’\n",
            "(as ‘lib’ is unspecified)\n",
            "\n"
          ]
        }
      ],
      "source": [
        "install_github(\"dami82/easyPubMed\")"
      ]
    },
    {
      "cell_type": "code",
      "execution_count": 5,
      "metadata": {
        "id": "g1EAWkr03h4C",
        "colab": {
          "base_uri": "https://localhost:8080/"
        },
        "outputId": "a001824f-3ece-4451-c561-7b749915a3b1"
      },
      "outputs": [
        {
          "output_type": "stream",
          "name": "stderr",
          "text": [
            "Installing package into ‘/usr/local/lib/R/site-library’\n",
            "(as ‘lib’ is unspecified)\n",
            "\n",
            "also installing the dependency ‘XML’\n",
            "\n",
            "\n"
          ]
        }
      ],
      "source": [
        "install.packages(\"rentrez\")"
      ]
    },
    {
      "cell_type": "code",
      "source": [
        "library(rentrez)"
      ],
      "metadata": {
        "id": "uYHgS74N099D"
      },
      "execution_count": 6,
      "outputs": []
    },
    {
      "cell_type": "markdown",
      "source": [
        "# USING EASYPUBMED "
      ],
      "metadata": {
        "id": "YvmohKGb1GOA"
      }
    },
    {
      "cell_type": "code",
      "execution_count": 7,
      "metadata": {
        "colab": {
          "base_uri": "https://localhost:8080/"
        },
        "id": "OZpU33BtnnFo",
        "outputId": "340fa746-b1d0-47b8-ede0-4d89676e7ec3"
      },
      "outputs": [
        {
          "output_type": "stream",
          "name": "stdout",
          "text": [
            "1. ACS Appl Mater Interfaces. 2021 Mar 3;13(8):9316-9328. doi:  10.1021/acsami.0c14730. Epub 2020 Oct 22.  Aptamer-Functionalized Upconverting Nanoformulations for Light-Switching  Cancer-Specific Recognition and In Situ Photodynamic-Chemo Sequential  Theranostics.  Jin X(1)(2), Zeng Q(1)(2), Zheng J(1)(2), Xing D(1)(2), Zhang T(1)(2).  Author information: (1)MOE Key Laboratory of Laser Life Science & Institute of Laser Life Science,  College of Biophotonics, South China Normal University, Guangzhou 510631, P. R.  China. (2)Guangdong Provincial Key Laboratory of Laser Life Science, College of  Biophotonics, South China Normal University, Guangzhou 510631, P. R. China.  Biomarker-activatable theranostic formulations offer the potential for removing  specific tumors with a high diagnostic accuracy and a significant  pharmacological effect. Herein, we developed a novel activatable theranostic  nanoformulation UAS-PD [upconversion nanophosphor  (UCNP)-aptamer/ssDNA-pyropheophorbide-a (PPA)-doxyrubicin (DOX)], which can  recognize specific cancer cells with sensitivity and trigger the localized  photodynamic destruction and enhanced chemotherapy. UAS-PD was constructed by  the conjugation of UCNPs and aptamer probes containing the photosensitizer PPA  and the chemotherapeutic drug DOX. When cancer cells are present, the UAS-PD  specifically binds to PTK7, an overexpressed protein present on the surface of  cancer cells, through conformational recombination of the aptamer structure and  switches its upconversion luminescence from 655 to 540 nm. This long-lived  ratiometric optical signal provides an ultrasensitive detection limit as low as  3.9 nM for PTK7. Changes in the conformation of UAS-PD can also induce PPA to  approach UCNPs, which can produce cytotoxic singlet oxygens under near-infrared  excitation to destroy the cell membrane and enhance its permeability for the  simultaneously released DOX that targets cellular DNA degradation, which results  in a highly effective tumor-killing effect by synergistic extra-intracellular  sequential damage.  DOI: 10.1021/acsami.0c14730 PMID: 33089995 [Indexed for MEDLINE]   2. World J Oncol. 2012 Oct;3(5):205-209. doi: 10.4021/wjon581e. Epub 2012 Oct 28.  Cancer Therapy: A Continuance of Health Burden.  Kasetty S(1), Khan S(1), Shridhar SU(1), Gupta S(1), Tijare M(1), Kallianpur  S(1), Raju Ragavendra T(1).  Author information: (1)Department of Oral Pathology, Peoples College of Dental Sciences and Research  Centre, Bhopal-462037, MadhyaPradesh, India.  BACKGROUND: Cancer diagnosis coupled with emotional impact converge to create  one of the most difficult physical and emotional periods of life. Cancer  treatment causes plethora of short and long term complications which can be so  debilitating that patient may interrupt treatment. Pretreatment oral assessment  and supportive oral care during and after cancer therapy can increase quality of  life and supportive care costs. METHODS: Study was conducted on 189 patients (86: head and neck cancer cases,  group I and 103: other than head and neck cancer cases, group II) receiving  cancer therapy. Patients were subjected to clinical assessment and findings were  recorded in specially designed proforma and complete oral (objective and  subjective) and constitutional findings were recorded. RESULTS: Among the patients undergoing chemotherapy in both groups, prevalence  of oral findings was found to be highest with methotrexate whereas  constitutional symptoms was found to be highest with doxyrubicin. Whereas in  radiotherapy patients subjective and objective oral symptoms increased from 10th  - 30th fractionated dose of radiations and then subsequently decreased and  constitutional symptoms were found to be consistent in all fractionated dosages  with lowest at 50th fraction. Under combined chemo and radiotherapy patients,  constitutional symptoms were highest than the oral findings. CONCLUSIONS: Cancer therapy can greatly damage the normal tissues and diminish  patients quality of life and often leads to serious clinical sequelae.  Therefore, therapy induced damage should be anticipated and prevented whenever  possible and managed early.  DOI: 10.4021/wjon581e PMCID: PMC5649897 PMID: 29147307   3. Clin Exp Dermatol. 2009 Jul;34(5):e43-5. doi: 10.1111/j.1365-2230.2008.03100.x.  Haematodermic CD4+CD56+ neoplasm: complete remission after  methotrexate-asparaginase treatment.  Fontaine J(1), Thomas L, Balme B, Ronger-Savle S, Traullé C, Petrella T, Dalle  S.  Author information: (1)Department of Dermatology, Claude Bernard University, Lyon Civil Hospices,  Hotel-Dieu Hospital, Lyon, France.  Haematodermic neoplasm is a recently recognized condition, characterized by  tumour cells expressing CD4, CD56 and CD123. This phenotype is strongly  suggestive of a plasmacytoid dendritic cell origin. This haematopoietic  malignancy is a distinct clinicopathological condition with frequent skin  involvement, an evolution toward leukaemia and a rapidly aggressive course. We  report the case of a 64-year-old woman who presented with a haematodermic  CD4+CD56+CD123+ neoplasm affecting the left cheek; the initial staging was  otherwise negative. Despite this early stage of the disease, aggressive  treatment including methotrexate-asparaginase and local radiotherapy was  proposed as first-line therapy. Complete clinical remission was rapidly reached  and the patient was still alive after > 30 months of follow-up. To date there is  no consensus on the first-line treatment for such patients but intensive  treatment is probably needed immediately even in cases of localized disease. The  response obtained with CHOP (cyclophosphamide, doxyrubicin, vincristine,  prednisone) or CHOP-like chemotherapy regimens is disappointing. Other regimens,  such as those used in acute leukaemia, may improve the outcome of these  patients.  DOI: 10.1111/j.1365-2230.2008.03100.x PMID: 19508475 [Indexed for MEDLINE]   4. Int J STD AIDS. 2006 Jan;17(1):63-4. doi: 10.1258/095646206775220522.  Multicentric Castleman's disease in a patient with HIV.  Fowler A(1), Collins L, de Ruiter A, Whittaker S, Kulasegaram R, Bradbeer C.  Author information: (1)Department of Genito-urinary Medicine, Guy's and St Thomas' NHS Foundation  Trust, London SE7 7EH, UK. afowler@doctors.org.uk  Multicentric Castleman's disease (MCD) was originally described in non-HIV  patients. It is a rare lymphoproliferative disorder, which is more commonly seen  in HIV-positive patients and is associated with human herpes virus-8 (HHV-8). We  describe a patient with advanced HIV who responded well to conventional highly  active antiretroviral treatment. She was diagnosed with MCD soon after her  diagnosis of HIV. She presented with multiple flares of her MCD. The case  illustrates the difficulty of differentiating between episodes of septicaemia  and a flare of MCD. The patient was treated with various chemotherapy regimens,  which included several cycles of liposomal doxyrubicin and etoposide. There is  currently no consensus on the treatment of MCD and various therapies are  described in the literature, which include chemotherapy. Chemotherapy must be  chosen with the immunosuppressive effects of the treatment being considered with  caution. Both doxyrubicin and etoposide are well tolerated and successfully  controlled the symptoms of MCD in our patient.  DOI: 10.1258/095646206775220522 PMID: 16409683 [Indexed for MEDLINE]   5. Exp Biol Med (Maywood). 2002 Jun;227(6):398-401. doi:  10.1177/153537020222700605.  Different pathways of cell killing by gossypol enantiomers.  Qiu J(1), Levin LR, Buck J, Reidenberg MM.  Author information: (1)Department of Pharmacology and Medicine, Weill Medical College, Cornell  University, New York, New York 10021, USA.  Gossypol, a polyphenolic, aldehyde-containing constituent of cottonseed,  produced partial responses (>50% reduction in tumor size) in some patients with  advanced cancer and suppressed sperm as an antifertility agent for men. This  action in vivo and its novel side effect profile suggest a specific mechanism of  the action of gossypol. Using the random homozygous knockout approach of Li and  Cohen (1), we developed a cell line resistant to killing by gossypol, but  sensitive to methotrexate and doxorubicin. It showed stereospecific resistance  to killing by (-) gossypol (ED(50) 4.9 microM) compared with wild type (ED(50)  2.0 microM). The resistant and wild-type cells were equally sensitive to (+)  gossypol (ED(50) 8.8 and 8.4 microM, respectively), methotrexate, and  doxyrubicin. We conclude that gossypol affects cells by a stereospecific pathway  for (-) gossypol, possibly related to its selective effects, and a  nonstereospecific pathway for (+) gossypol and higher concentrations of (-)  gossypol. Further knowledge about the stereospecific pathway may lead to new  therapeutic drugs.  DOI: 10.1177/153537020222700605 PMID: 12037129 [Indexed for MEDLINE]   6. Mol Cell Biochem. 1998 Mar;180(1-2):105-10.  Identification of nucleoside transport binding sites in the human myocardium.  Abd-Elfattah AS(1), Hoehner J, Wechsler AS.  Author information: (1)Department of Surgery, Medical College of Virginia, Virginia Commonwealth  University, Richmond 23298-0532, USA.  The role of nucleoside transport in ischemia-reperfusion injury and arrhythmias  has been well documented in various animal models using selective blockers.  However, clinical application of nucleoside transport inhibitors remains to be  demonstrated in humans. It is not known whether human heart has nucleoside  transport similar to that of animals. The aim of this study is to  pharmacologically identify the presence of nucleoside transport binding sites in  the human myocardium compared to animals. Myocardial tissue was obtained from  guinea pig left and right ventricle, canine left ventricle, human intraoperative  right atrium and human cadaveric right atrium and right and left ventricles.  Myocardial preparations were obtained from tissue samples after homogenized and  a differential centrifugation. Equilibrium binding assays were performed using  [3H]-p-nitrobenzylthioinosine (NBMPR) at room temperature in the presence or  absence of non-radioactive NBMPR or other nucleoside transport blockers such as  p-nitrobenzylthioguanosine dipyridamole, lidoflazine, papaverin, adenosine and  doxorubcine. From saturation curves and inhibition kinetics, we determined the  relative maximal binding (Bmax) and dissociation constant (Kd) of [3H]-NBMPR  binding of human myocardial preparations. Results demonstrated that the fresh  human myocardial preparations have a specific binding site for NBMPR with a Bmax  of 283+/-32 fmol/mg protein and Kd of 0.56+/-0.12 nM. These values are lower  than those obtained from guinea pigs (Bmax = 1440+/-187 fmol/mg protein and Kd =  0.21+/-0.03 nM) and canine atrium (Bmax 594+/-73 fmol/mg protein, and Kd =  1.12+/-0.22 nM). Displacement kinetics studies revealed the relative potencies  (of certain unrelated drugs as follow: p-nitrobenzylthioguanosine > dipyridamole  > lidoflazine > pavaverine > Diltazam > adenosine > doxyrubicin. It is concluded  that human myocardium contains an active nucleoside transport site which may  play a crucial role in post-ischemic reperfusion-mediated injury in a wide  spectrum of ischemic syndromes.  PMID: 9546636 [Indexed for MEDLINE]   7. Vet Q. 1998 Jan;20(1):28-31. doi: 10.1080/01652176.1998.9694832.  Multi-agent chemotherapy for mast cell tumours in the dog.  Gerritsen RJ(1), Teske E, Kraus JS, Rutteman GR.  Author information: (1)Department of Clinical Sciences of Companion Animals, Faculty of Veterinary  Medicine, Utrecht University, The Netherlands.  Seventeen dogs with mast cell tumours received chemotherapy. Fifteen dogs were  treated with a vincristine, cyclophosphamide, hydroxyurea, and prednisolone  (VCHP) regimen. Seven of these were later switched to doxyrubicin and  prednisolone either because they stopped responding or because they did not  respond from the start of the treatment. Two dogs received the latter regimen as  the primary therapy. All dogs were treated with cimitidine and metoclopramide to  minimize the effect of paraneoplastic syndrome associated with histamine  release. Ten of the 17 dogs were found to respond (4/17 complete response (CR),  6/17 partial response (PR)). Response duration varied from 39 to 910 days  (median 53 days), including 3 dogs with a CR that lasted more than 2 years.  Survival time in responders varied from 41 to 910 days (median 97 days) and from  30 to 126 (median 39) in the other 7 dogs. Dogs that became refractory to VCHP  did not respond to doxyrubicin and prednisolone. It is concluded that  multi-agent chemotherapy has anti-tumour activity in a considerable proportion  of dogs with mast cell tumours, but its efficacy is variable. The multivariate  analyses showed that significant factors predicting survival in dogs with mast  cell tumours were sex (P = 0.009), absence or presence of non-abdominal distant  metastases, or abdominal metastases, respectively (P = 0.023), and malignancy  grade of the tumours (P = 0.053).  DOI: 10.1080/01652176.1998.9694832 PMID: 9477533 [Indexed for MEDLINE]   8. Blood. 1991 Mar 1;77(5):942-7.  Stages I and II diffuse large cell lymphomas: prognostic factors and long-term  results with CHOP-bleo and radiotherapy.  Velasquez WS(1), Fuller LM, Jagannath S, Tucker SL, North LB, Hagemeister FB,  McLaughlin P, Swan F, Redman JR, Rodriguez MA, et al.  Author information: (1)Department of Hematology, University of Texas M.D. Anderson Cancer Center,  Houston 77030.  One hundred forty-seven patients with Ann Arbor stages I and II diffuse large  cell lymphoma (DLCL) were treated with combination chemotherapy consisting of  cyclophosphamide, doxyrubicin, prednisone, and low-dose bleomycin (CHOP-Bleo)  and involved-field radiation (IF XRT) between 1974 and 1984. A complete  remission (CR) was attained by 54 of 57 patients with stage I disease and by 78  of 90 patients with stage II disease. Thirty-five patients had relapsing disease  that occurred within 3 years in 31. The overall 10-year survival rate, counting  all deaths, for patients with stage I was 72% as compared with 43% for patients  with stage II (P less than .01). Determinate survival rates, censoring eight  unrelated deaths, were similar to the overall survival rates: 77% and 51%,  respectively. A multivariate analysis identified three independent prognostic  factors: age, tumor extent, and serum lactic dehydrogenase (LDH) level. When the  combined effect of tumor extent and LDH level were taken into consideration in  the analysis, three risk groups for survival were identified. The best group,  which consists of patients with minimum tumor and normal LDH levels, had a  10-year determinate survival of 79%. Patients with extensive tumors and elevated  LDH levels had the poorest survival rate of 44%. An intermediate-risk group with  a determinant survival of 62% was composed of patients with either extensive  tumors or elevated LDH levels. These differences demonstrate the need to develop  different treatment strategies based on risk factors for survival for patients  with apparently localized Ann Arbor stages I/II DLCL.  PMID: 1704805 [Indexed for MEDLINE]   9. Am J Obstet Gynecol. 1989 Apr;160(4):812-7; discussion 817-9. doi:  10.1016/0002-9378(89)90296-2.  A phase I/II study of intraperitoneally administered doxorubicin entrapped in  cardiolipin liposomes in patients with ovarian cancer.  Delgado G(1), Potkul RK, Treat JA, Lewandowski GS, Barter JF, Forst D, Rahman A.  Author information: (1)Department of Obstetrics and Gynecology, Georgetown University, Washington,  DC 20007.  A phase I and II clinical trial of intraperitoneally administered  liposome-encapsulated doxorubicin in patients with advanced ovarian cancer is  being evaluated. Doxyrubicin liposomes were prepared with cardiolipin,  phosphatidyl choline, cholesterol, and sterarylamine and sized by flow cytometry  before administration. Fifteen patients have been treated with 42 cycles of  intraperitoneal liposome-encapsulated doxrubicin. Liposome-encapsulated  doxorubicin in 2 L of normal saline solution was infused over 1 hour through an  infusaport into the peritoneal cavity with a dwell time of 4 hours every 21  days. Liposome-encapsulated doxorubicin has been administered at escalating  doses up to 100 mg/2 L and has been well tolerated. Increased bowel motility  with mild-to-moderate abdominal distress has been encountered during the first  24 hours after administration. There has been one patient with presumed  chemically induced peritonitis after a temperature elevation to 39.5 degrees C.  There has been no myelosuppression, abnormalities of liver function tests, or  alopecia. Nausea and vomiting were minimal. Liposome-encapsulated doxorubicin  was extravasated in two patients without sequelae. Drug levels were measured  after completion of infusion. At a dose of 70 mg, the peak intraperitoneal  concentration was 28.6 micrograms/microliter, which was reduced to 23.6  micrograms/microliter by 2 hours. Concurrent plasma levels were in the range of  0.2 to 0.5 micrograms/microliter. A similar pattern was observed at other doses.  The maximum tolerable dose has not yet been obtained. There were three  responders in the 10 evaluable patients. The preliminary experience with  intraperitoneal liposome-encapsulated doxorubicin is encouraging.  DOI: 10.1016/0002-9378(89)90296-2 PMID: 2712114 [Indexed for MEDLINE]   10. Arzneimittelforschung. 1976;26(1A):130-5.  [Clinical problems of optimum bioavailability, in particular in cytostatic  therapy (author's transl)].  [Article in German]  Gross R, Hirschmann WD.  The clinical application of cytostatic drugs requires knowledge of their  biochemistry, pharmacology, pharmacokinetics as well as their action at the  cellular level within the generation cycle. The principles apply to tumor cells  as well as to normal, rapidly proliferating tissues. The intensive research on  cancer treatment all over the world is leading to a rapid accumulation of  experimental data about the action of single cytostatic drugs in tissue culture  and on transplantable animal tumor systems, especially in rodents. Clinical  chemotherapy in human malignancies today preferentially uses combinations of  different cytostatics. Inumerable combinations of drugs are available,  especially if variations in respect to drug dose and intervals of drug  application are taken into consideration. The experimental basis for such  combinations of drugs and drug interactions is scanty. Using the pyrimidine  analog cytosine arabinoside and the two antibiotics daunorubicin and doxyrubicin  (adriamycin) as examples, it is demonstrated that information on the  pharmacolinetic behaviour of cytostatic drugs is a prerequisite for their  success in clinical application, but is on its own insufficient to predict the  tumor response.  PMID: 947192 [Indexed for MEDLINE] \n"
          ]
        }
      ],
      "source": [
        "library(easyPubMed)\n",
        "my_query <- 'doxyrubicin'\n",
        "my_entrez_id <- get_pubmed_ids(my_query)\n",
        "my_abstracts_txt <- fetch_pubmed_data(my_entrez_id, format = \"abstract\")\n",
        "cat(my_abstracts_txt,\"\\n\")"
      ]
    },
    {
      "cell_type": "markdown",
      "source": [
        "# Using ENTREZ "
      ],
      "metadata": {
        "id": "QZd3IjL11QTs"
      }
    },
    {
      "cell_type": "code",
      "source": [
        "\n",
        "# Define the query\n",
        "my_query <- \"doxorubicin\"\n",
        "\n",
        "# Search for articles related to the query and retrieve their IDs\n",
        "search_results <- entrez_search(db = \"pubmed\", term = my_query)\n",
        "# Number of search results \n",
        "length(search_results$ids)\n",
        "my_entrez_id <- search_results$ids\n",
        "my_abstracts_txt <- entrez_fetch(db = \"pubmed\", id = my_entrez_id, rettype = \"abstract\", retmode = \"text\")\n",
        "# Read the abstracts file into a character vector\n",
        "writeLines(my_abstracts_txt, \"my_abstracts.txt\")\n",
        "my_abstracts_formatted <- readLines(\"my_abstracts.txt\")\n",
        "cat(my_abstracts_formatted, sep = \"\\n\")\n"
      ],
      "metadata": {
        "id": "0AtZZ635_PHK",
        "colab": {
          "base_uri": "https://localhost:8080/",
          "height": 1000
        },
        "outputId": "c2df049c-cb97-4339-b7fa-a0198b922b26"
      },
      "execution_count": 8,
      "outputs": [
        {
          "output_type": "display_data",
          "data": {
            "text/html": [
              "20"
            ],
            "text/markdown": "20",
            "text/latex": "20",
            "text/plain": [
              "[1] 20"
            ]
          },
          "metadata": {}
        },
        {
          "output_type": "stream",
          "name": "stdout",
          "text": [
            "1. Biomed Pharmacother. 2023 May 2;163:114800. doi: 10.1016/j.biopha.2023.114800.\n",
            " Online ahead of print.\n",
            "\n",
            "Identification of INFG/STAT1/NOTCH3 as γ-Mangostin's potential targets for \n",
            "overcoming doxorubicin resistance and reducing cancer-associated fibroblasts in \n",
            "triple-negative breast cancer.\n",
            "\n",
            "Lawal B(1), Wu AT(2), Chen CH(3), T A G(4), Wu SY(5).\n",
            "\n",
            "Author information:\n",
            "(1)UPMC Hillman Cancer Center, University of Pittsburgh, Pittsburgh, PA, USA; \n",
            "Department of Pathology, University of Pittsburgh, Pittsburgh, PA, USA.\n",
            "(2)TMU Research Center of Cancer Translational Medicine, Taipei Medical \n",
            "University, Taipei 11031, Taiwan; The Ph.D. Program of Translational Medicine, \n",
            "College of Medical Science and Technology, Taipei Medical University, Taipei \n",
            "11031, Taiwan; Clinical Research Center, Taipei Medical University Hospital, \n",
            "Taipei Medical University, Taipei 11031, Taiwan; Graduate Institute of Medical \n",
            "Sciences, National Defense Medical Center, Taipei 114, Taiwan.\n",
            "(3)Department of Surgery, College of Medicine, Taipei Medical University, Taipei \n",
            "11031, Taiwan; Department of Colorectal Surgery, Wan Fang Hospital, Taipei \n",
            "Medical University, Taipei 11031, Taiwan.\n",
            "(4)College of Medicine and Allied Health Sciences, University of Sierra Leone, \n",
            "Sierra Leone.\n",
            "(5)Department of Food Nutrition and Health Biotechnology, College of Medical and \n",
            "Health Science, Asia University, Taichung, Taiwan; Department of Healthcare \n",
            "Administration, College of Medical and Health Science, Asia University, \n",
            "Taichung, Taiwan; Graduate Institute of Business Administration, College of \n",
            "Management, Fu Jen Catholic University, Taipei, Taiwan; Artificial Intelligence \n",
            "Development Centre, Fu Jen Catholic University, Taipei, Taiwan; Centre for \n",
            "Regional Anaesthesia and Pain Medicine, Wan Fang Hospital, Taipei Medical \n",
            "University, Taipei, Taiwan; Big Data Centre, Lo-Hsu Medical Foundation, Lotung \n",
            "Poh-Ai Hospital, Yilan, Taiwan; Division of Radiation Oncology, Lo-Hsu Medical \n",
            "Foundation, Lotung Poh-Ai Hospital, Yilan, Taiwan. Electronic address: \n",
            "Szu.Yuan.Wu.md@gmail.com.\n",
            "\n",
            "Triple-negative breast cancer (TNBC) is a very aggressive subtype of breast \n",
            "cancer characterized by drug resistance and distant metastasis. Cancer stem \n",
            "cells (CSCs) are considered a major contributor to TNBC's drug resistance. Thus \n",
            "targeting and eliminating CSCs have been vigorously researched. However, the \n",
            "precise targetable molecular networks responsible for CSC genesis remain \n",
            "unclear; this conundrum is mainly due to the high heterogeneity of the TNBC \n",
            "tumor microenvironment (TME). The cancer-associated fibroblasts (CAFs) are one \n",
            "of the most abundant cellular components of the TME. Emerging studies indicate \n",
            "that CAFs facilitate TNBC's progression by establishing a pro-tumor TME. Hence, \n",
            "identifying the molecular networks involved in CAF transformation and \n",
            "CAF-associated oncogenesis are essential areas to be explored. Through a \n",
            "bioinformatics approach, we identified INFG/STAT1/NOTCH3 as a molecular link \n",
            "between CSCs and CAF. DOX-resistant TNBC cell lines showed increased expression \n",
            "of INFG/STAT1/NOTCH3 and CD44 and were associated with increased self-renewal \n",
            "ability and CAF-transformative ability. Downregulation of STAT1 significantly \n",
            "reduced the tumorigenic properties of MDA-MB-231 and -468 cells and their \n",
            "CAF-transforming potential. Our molecular docking analysis suggested that gamma \n",
            "mangostin (gMG), a xanthone, formed complexes with INFG/STAT1/NOTCH3 better than \n",
            "celecoxib. We then demonstrated that gMG treatment reduced the tumorigenic \n",
            "properties similarly observed in STAT1-knocked down conditions. Finally, we \n",
            "utilized a DOX-resistant TNBC tumoroid-bearing mouse model to demonstrate that \n",
            "gMG treatment significantly delayed tumor growth, reduced CAF generation, and \n",
            "improved DOX sensitivity. Further investigations are warranted for clinical \n",
            "translation.\n",
            "\n",
            "Copyright © 2023 The Authors. Published by Elsevier Masson SAS.. All rights \n",
            "reserved.\n",
            "\n",
            "DOI: 10.1016/j.biopha.2023.114800\n",
            "PMID: 37141739\n",
            "\n",
            "Conflict of interest statement: Declaration of Competing Interest The authors \n",
            "declare that they have no known competing financial interests or personal \n",
            "relationships that could have appeared to influence the work reported in this \n",
            "paper.\n",
            "\n",
            "\n",
            "2. Mol Pharm. 2023 May 4. doi: 10.1021/acs.molpharmaceut.2c01033. Online ahead of\n",
            " print.\n",
            "\n",
            "Reconstituted Lipid Nanoparticles from Cells/Tissues for Drug Delivery in \n",
            "Cancer.\n",
            "\n",
            "Wang C(1).\n",
            "\n",
            "Author information:\n",
            "(1)School of Pharmacy, Changzhou University, Changzhou 213164, Jiangsu, P. R. \n",
            "China.\n",
            "\n",
            "Nanomedicine represents a promising way to devise better drug delivery systems \n",
            "(DDSs), and the development of cell/tissue-based lipid carriers is a promising \n",
            "strategy. In this study, the author proposes the concept of reconstituted lipid \n",
            "nanoparticles (rLNPs) and offers a facile preparation method. The results \n",
            "demonstrated that the preparation of ultrasmall (∼20 nm) rLNPs can be highly \n",
            "reproducible from both cells (a mouse breast cancer cell line, 4T1) and tissue \n",
            "(mouse liver tissue). As a selected model platform, rLNPs derived from mouse \n",
            "liver tissue can be further labeled with imaging molecules (indocyanine green \n",
            "and coumarin 6) and modified with targeting moiety (biotin). Moreover, rLNPs \n",
            "were proved to be highly biocompatible and able to load various drugs, such as \n",
            "doxorubicin hydrochloride (Dox) and curcumin (Cur). Most importantly, Dox-loaded \n",
            "rLNPs (rLNPs/Dox) exerted good in vitro and in vivo anticancer performances. \n",
            "Therefore, rLNPs might be a potential versatile carrier for the construction of \n",
            "different DDSs and treatment of a variety of diseases.\n",
            "\n",
            "DOI: 10.1021/acs.molpharmaceut.2c01033\n",
            "PMID: 37141631\n",
            "\n",
            "\n",
            "3. Am Soc Clin Oncol Educ Book. 2023 Jan;43:e390804. doi: 10.1200/EDBK_390804.\n",
            "\n",
            "Practical Management of Richter Transformation in 2023 and Beyond.\n",
            "\n",
            "Ryan CE(1), Davids MS(1).\n",
            "\n",
            "Author information:\n",
            "(1)Department of Medical Oncology, Dana-Farber Cancer Institute, Boston, MA.\n",
            "\n",
            "While the past decade has witnessed unprecedented progress for patients with \n",
            "chronic lymphocytic leukemia (CLL), outcomes for patients with Richter \n",
            "transformation (RT) remain dismal. Multiagent chemoimmunotherapy regimens, such \n",
            "as rituximab plus cyclophosphamide, doxorubicin, vincristine, and prednisone, \n",
            "are commonly used, although outcomes are far poorer than observed with the same \n",
            "regimens used in de novo diffuse large B-cell lymphoma. The revolutionary \n",
            "targeted therapies approved for CLL, such as inhibitors of Bruton tyrosine \n",
            "kinase and B-cell leukemia/lymphoma-2, have limited activity in RT as \n",
            "monotherapy, and initial promising activity of checkpoint blockade antibodies \n",
            "was also eventually found to be ineffective as monotherapy for most patients. \n",
            "Over the past few years, as outcomes for patients with CLL improved, there has \n",
            "been a growing focus of the research community on improving our biological \n",
            "understanding of the underlying pathophysiology of RT and on translating these \n",
            "new insights into rational combination strategies that are poised to improve \n",
            "therapeutic outcomes. Here, we present a brief overview of the biology and \n",
            "diagnosis of RT, as well as prognostic considerations, before providing a \n",
            "summary of the data supporting various therapies that have been recently studied \n",
            "in RT. We then turn our attention to the horizon and describe several of the \n",
            "promising novel approaches under investigation to treat this challenging \n",
            "disease.\n",
            "\n",
            "DOI: 10.1200/EDBK_390804\n",
            "PMID: 37141545\n",
            "\n",
            "\n",
            "4. Shock. 2023 May 5. doi: 10.1097/SHK.0000000000002139. Online ahead of print.\n",
            "\n",
            "ATM protects against lipopolysaccaride-induced blood-brain barrier disruption by \n",
            "regulating ATK/DRP1-mediated mitochondrial homeostasis.\n",
            "\n",
            "Luo S(1), Lyu Z(1), Ge L(2), Li Y(1), Liu Y(3), Yuan Y(3), Zhao R(4), Huang \n",
            "L(5), Zhao J, Huang H, Luo Y.\n",
            "\n",
            "Author information:\n",
            "(1)Department of Anesthesiology, Ruijin Hospital, Shanghai Jiao Tong University \n",
            "School of Medicine, Shanghai 200025, China.\n",
            "(2)School of Anesthesiology, Weifang Medical University, Weifang 261053, China.\n",
            "(3)Department of Anesthesiology, Shanghai General Hospital, Shanghai Jiao Tong \n",
            "University, Shanghai 201620, China.\n",
            "(4)Institute for Developmental and Regenerative Cardiovascular Medicine, \n",
            "MOE-Shanghai Key Laboratory of Children's Environmental Health, Xinhua Hospital, \n",
            "Shanghai Jiao Tong University School of Medicine, Shanghai 200092, China.\n",
            "(5)Department of Molecular, Cell and Cancer Biology Program in Molecular \n",
            "Medicine University of Massachusetts Medical School, Worcester, MA 01605, USA.\n",
            "\n",
            "BACKGROUND: Protein kinase ataxia telangiectasia mutated (ATM) regulates the \n",
            "function of endothelial cells and responds quickly to endotoxin. However, the \n",
            "function of ATM in lipopolysaccharide (LPS) -induced blood-brain barrier (BBB) \n",
            "disruption remains unknown. This study aimed to investigate the role and \n",
            "underlying mechanism of ATM in the regulation of the BBB function in sepsis.\n",
            "METHODS: We used lipopolysaccharide (LPS) to induce BBB disruption in vivo and \n",
            "to establish an in vitro model of cerebrovascular endothelial cells. BBB \n",
            "disruption was assessed by measuring Evans blue leakage and expression of \n",
            "vascular permeability regulators. To investigate the role of ATM, its inhibitor \n",
            "AZD1390 and clinically approved doxorubicin, an anthracycline that can activate \n",
            "ATM, were administered as scheduled. To explore the underlying mechanism, \n",
            "protein kinase B (AKT) inhibitor MK-2206 was administered to block the \n",
            "AKT/dynamin-related protein 1 (DRP1) pathway.\n",
            "RESULTS: LPS challenge induced significant BBB disruption, ATM activation and \n",
            "mitochondrial translocation. Inhibiting ATM with AZD1390 aggravated BBB \n",
            "permeability as well as the following neuroinflammation and neuronal injury, \n",
            "while activation of ATM by doxorubicin abrogated these defects. Further results \n",
            "obtained in brain microvascular endothelial cells showed that ATM inhibition \n",
            "reduced the phosphorylation of DRP1 at serine (S) 637, promoted excessive \n",
            "mitochondrial fission, and resulted in mitochondrial malfunction. By activating \n",
            "ATM, doxorubicin increased the protein binding between ATM and AKT and promoted \n",
            "the phosphorylated activation of AKT at S473, which could directly phosphorylate \n",
            "DRP1 at S637 to repress excessive mitochondrial fission. Consistently, the \n",
            "protective role of ATM was abolished by the AKT inhibitor MK-2206.\n",
            "CONCLUSIONS: ATM protects against LPS-induced BBB disruption by regulating \n",
            "mitochondrial homeostasis, at least in part, through the AKT/DRP1 pathway.\n",
            "\n",
            "Copyright © 2023 The Author(s). Published by Wolters Kluwer Health, Inc. on \n",
            "behalf of the American College of Sports Medicine.\n",
            "\n",
            "DOI: 10.1097/SHK.0000000000002139\n",
            "PMID: 37141173\n",
            "\n",
            "Conflict of interest statement: Conflict of Interest declaration: The research \n",
            "was conducted in the absence of any commercial or financial relationships that \n",
            "could be construed as potential conflicts of interest.\n",
            "\n",
            "\n",
            "5. Adv Healthc Mater. 2023 May 4:e2300164. doi: 10.1002/adhm.202300164. Online \n",
            "ahead of print.\n",
            "\n",
            "In vitro 3D spheroid model preserves tumor microenvironment of hot and cold \n",
            "breast cancer subtypes.\n",
            "\n",
            "Dhandapani H(1), Siddiqui A(1), Karadkar S(1), Tayalia P(1).\n",
            "\n",
            "Author information:\n",
            "(1)Department of Biosciences and Bioengineering, Indian Institute of Technology \n",
            "Bombay, Powai, Mumbai, Maharashtra - 400076, India.\n",
            "\n",
            "Dynamic interaction of cancer, immune and stromal cells with extracellular \n",
            "matrix components modulates and resists the response of standard care therapies. \n",
            "To mimic this, we designed an in vitro three-dimensional (3D) spheroid model \n",
            "using liquid overlay method to simulate hot (MDA-MB-231) and cold (MCF-7) breast \n",
            "tumor microenvironment (TME). Our study shows increased mesenchymal phenotype, \n",
            "stemness and suppressive microenvironment in MDA-MB-231-spheroids upon exposure \n",
            "to doxorubicin. Intriguingly, presence of human dermal fibroblasts enhances \n",
            "cancer-associated fibroblast (CAF) phenotype in MDA-MB-231-spheroids through \n",
            "increased expression of CXCL12 and FSP-1, leading to higher infiltration of \n",
            "immune cells (THP-1 monocytes). However, a suppressive TME was observed in both \n",
            "subtypes, as seen by upregulation of M2-macrophage specific CD68 and CD206 \n",
            "markers. Specifically, increased PDL-1 expressing tumor associated macrophages \n",
            "(TAMs) along with FoxP3 expressing T regulatory (T-regs) cells were found in \n",
            "MDA-MB-231-spheroids when cultured with peripheral blood mononuclear cells \n",
            "(PBMCs). Further, we found that addition of 1-methyl-tryptophan, a potent \n",
            "indoleamine-2,3-dioxygenase-1 (IDO-1) inhibitor, subsided the suppressive \n",
            "phenotype by decreasing the M2 polarisation via downregulation of tryptophan \n",
            "metabolism and IL10 expression, particularly in MCF-7 triculture spheroids. \n",
            "Thus, our in vitro 3D spheroid model of TME can be utilized in therapeutics to \n",
            "validate immunomodulatory drugs for various breast cancer subtypes. This article \n",
            "is protected by copyright. All rights reserved.\n",
            "\n",
            "This article is protected by copyright. All rights reserved.\n",
            "\n",
            "DOI: 10.1002/adhm.202300164\n",
            "PMID: 37141121\n",
            "\n",
            "\n",
            "6. J Neuroimmune Pharmacol. 2023 May 4. doi: 10.1007/s11481-023-10062-1. Online \n",
            "ahead of print.\n",
            "\n",
            "L-carnitine Modulates Cognitive Impairment Induced by Doxorubicin and \n",
            "Cyclophosphamide in Rats; Insights to Oxidative Stress, Inflammation, Synaptic \n",
            "Plasticity, Liver/brain, and Kidney/brain Axes.\n",
            "\n",
            "Morid OF(1), Menze ET(1), Tadros MG(1), George MY(2).\n",
            "\n",
            "Author information:\n",
            "(1)Department of Pharmacology and Toxicology, Faculty of Pharmacy, Ain Shams \n",
            "University, Cairo, 11566, Egypt.\n",
            "(2)Department of Pharmacology and Toxicology, Faculty of Pharmacy, Ain Shams \n",
            "University, Cairo, 11566, Egypt. mina.youssif.george@pharma.asu.edu.eg.\n",
            "\n",
            "Chemotherapy-induced cognitive impairment in cancer patients is known as \n",
            "\"chemobrain\". Doxorubicin and Cyclophosphamide are two chemotherapeutic agents \n",
            "used in combination to treat solid tumors. L-carnitine was reported for its \n",
            "anti-oxidant and anti-inflammatory activities. The goal of the present study was \n",
            "to elucidate the neuroprotective effect of L-carnitine against chemobrain \n",
            "induced by Doxorubicin and Cyclophosphamide in rats. Rats were divided into five \n",
            "groups: Control group; Doxorubicin (4mg/kg, IV) and Cyclophosphamide (40mg/kg, \n",
            "IV)-treated group; two L-carnitine-treated groups (150 and 300mg/kg, ip) with \n",
            "Doxorubicin and Cyclophosphamide; and L-carnitine alone-treated group \n",
            "(300mg/kg). Doxorubicin and Cyclophosphamide induced histopathological changes \n",
            "in rats' hippocampi and prefrontal cortices, as well as reduced memory as \n",
            "evidenced by behavioural testing. L-carnitine treatment showed opposite effects. \n",
            "In addition, chemotherapy treatment enhanced oxidative stress via reducing \n",
            "catalase and glutathione levels, and inducing lipid peroxidation. By contrast, \n",
            "L-carnitine treatment showed powerful antioxidant effects reversing \n",
            "chemotherapy-induced oxidative damage. Moreover, chemotherapy combination \n",
            "induced inflammation via their effect on nuclear factor kappa B (p65), \n",
            "interleukin-1β, and tumor necrosis factor-α. However, L-carnitine treatment \n",
            "corrected such inflammatory responses. Furthermore, Doxorubicin and \n",
            "Cyclophosphamide reduced synaptic plasticity via hindering expression of \n",
            "brain-derived neurotrophic factor, phosphorylated cyclase response element \n",
            "binding protein, synaptophysin, and postsynaptic density protein 95 whereas \n",
            "protein expression of such synaptic plasticity biomarkers was enhanced by \n",
            "L-carnitine treatment. Finally, acetylcholinesterase activity was found to be \n",
            "enhanced by chemotherapy treatment affecting rats' memory while L-carnitine \n",
            "treatment reduced acetylcholinesterase activity. L-carnitine also showed \n",
            "hepatoprotective and renal protective effects suggesting liver/brain and \n",
            "kidney/brain axes as possible mechanisms for its neuroprotective effects.\n",
            "\n",
            "© 2023. The Author(s).\n",
            "\n",
            "DOI: 10.1007/s11481-023-10062-1\n",
            "PMID: 37140732\n",
            "\n",
            "\n",
            "7. Future Oncol. 2023 May 4. doi: 10.2217/fon-2022-1005. Online ahead of print.\n",
            "\n",
            "Treatment patterns and outcomes in patients with metastatic synovial sarcoma in \n",
            "France, Germany, Italy, Spain and the United Kingdom.\n",
            "\n",
            "Patel N(1), Pokras S(2), Ferma J(3), Casey V(3), Manuguid F(3), Culver K(4), \n",
            "Bauer S(5).\n",
            "\n",
            "Author information:\n",
            "(1)Global Value, Evidence & Outcomes, GSK, Brentford, London, TW8 9GS, UK.\n",
            "(2)Value Evidence & Outcomes, GSK, Collegeville, PA 19426, USA.\n",
            "(3)Data Science & Advanced Analytics, IQVIA, London, N1 9JY, UK.\n",
            "(4)Global Medical Affairs, GSK, Collegeville, PA 19426, USA.\n",
            "(5)Department of Medical Oncology & Sarcoma Center, University Hospital, \n",
            "University of Duisburg-Essen, Essen, 45147, Germany.\n",
            "\n",
            "Aim: Describing the treatment patterns, outcomes by line of treatment (LOT), and \n",
            "healthcare resource utilization (HCRU) in patients with metastatic synovial \n",
            "sarcoma (mSS). Patients & methods: In this descriptive, non-interventional, \n",
            "retrospective cohort study, physicians from five European countries reported on \n",
            "patients with recent pharmacological treatment for mSS. Results: Among 296 \n",
            "patients with mSS, 86.1, 38.9 and 8.4% received 1 LOT (1L), 2 LOTs (2L) and 3+ \n",
            "LOTs (L3+), respectively. Common regimens were doxorubicin/ifosfamide-based \n",
            "(37.4%) for 1L and trabectedin-based for 2L (29.7%). For 1L, median time to next \n",
            "treatment was 13.1 and 6.0 months for living and deceased patients, \n",
            "respectively. Median OS was 22.0, 6.0 and 4.9 months in all patients, 2L and 3L, \n",
            "respectively. HCRU data showed median one inpatient hospital admission, 3 days \n",
            "in hospital and four outpatient visits yearly. Conclusion: This large-scale \n",
            "study documents high unmet needs in patients previously treated for mSS and for \n",
            "more effective therapies.\n",
            "\n",
            "DOI: 10.2217/fon-2022-1005\n",
            "PMID: 37139794\n",
            "\n",
            "\n",
            "8. Acta Pharm Sin B. 2023 Apr;13(4):1429-1437. doi: 10.1016/j.apsb.2022.07.011. \n",
            "Epub 2022 Jul 21.\n",
            "\n",
            "Doxorubicin-conjugated siRNA lipid nanoparticles for combination cancer therapy.\n",
            "\n",
            "Butowska K(1)(2), Han X(1), Gong N(1), El-Mayta R(1), Haley RM(1), Xue L(1), \n",
            "Zhong W(3), Guo W(3), Wang K(4), Mitchell MJ(1)(5)(6)(7)(8).\n",
            "\n",
            "Author information:\n",
            "(1)Department of Bioengineering, University of Pennsylvania, Philadelphia, PA \n",
            "19104, USA.\n",
            "(2)Intercollegiate Faculty of Biotechnology, University of Gdańsk & Medical \n",
            "University of Gdańsk, Gdańsk 80-307, Poland.\n",
            "(3)Department of Biology, University of Pennsylvania, Philadelphia, PA 19104, \n",
            "USA.\n",
            "(4)Department of Bioengineering, Temple University, Philadelphia, PA 19122, USA.\n",
            "(5)Abramson Cancer Center, Perelman School of Medicine, University of \n",
            "Pennsylvania, Philadelphia, PA 19104, USA.\n",
            "(6)Institute for Immunology, Perelman School of Medicine, University of \n",
            "Pennsylvania, Philadelphia, PA 19104, USA.\n",
            "(7)Cardiovascular Institute, Perelman School of Medicine, University of \n",
            "Pennsylvania, Philadelphia, PA 19104, USA.\n",
            "(8)Institute for Regenerative Medicine, Perelman School of Medicine, University \n",
            "of Pennsylvania, Philadelphia, PA 19104, USA.\n",
            "\n",
            "Evasion of apoptosis is a hallmark of cancer, attributed in part to \n",
            "overexpression of the anti-apoptotic protein B-cell lymphoma 2 (Bcl-2). In a \n",
            "variety of cancer types, including lymphoma, Bcl-2 is overexpressed. Therapeutic \n",
            "targeting of Bcl-2 has demonstrated efficacy in the clinic and is the subject of \n",
            "extensive clinical testing in combination with chemotherapy. Therefore, the \n",
            "development of co-delivery systems for Bcl-2 targeting agents, such as small \n",
            "interfering RNA (siRNA), and chemotherapeutics, such as doxorubicin (DOX), holds \n",
            "promise for enabling combination cancer therapies. Lipid nanoparticles (LNPs) \n",
            "are a clinically advanced nucleic acid delivery system with a compact structure \n",
            "suitable for siRNA encapsulation and delivery. Inspired by ongoing clinical \n",
            "trials of albumin-hitchhiking doxorubicin prodrugs, here we developed a \n",
            "DOX-siRNA co-delivery strategy via conjugation of doxorubicin to the surface of \n",
            "siRNA-loaded LNPs. Our optimized LNPs enabled potent knockdown of Bcl-2 and \n",
            "efficient delivery of DOX into the nucleus of Burkitts' lymphoma (Raji) cells, \n",
            "leading to effective inhibition of tumor growth in a mouse model of lymphoma. \n",
            "Based on these results, our LNPs may provide a platform for the co-delivery of \n",
            "various nucleic acids and DOX for the development of new combination cancer \n",
            "therapies.\n",
            "\n",
            "© 2022 Chinese Pharmaceutical Association and Institute of Materia Medica, \n",
            "Chinese Academy of Medical Sciences. Production and hosting by Elsevier B.V.\n",
            "\n",
            "DOI: 10.1016/j.apsb.2022.07.011\n",
            "PMCID: PMC10150035\n",
            "PMID: 37139433\n",
            "\n",
            "Conflict of interest statement: The authors declare the following competing \n",
            "financial interest(s): Michael J. Mitchell, Kamila Butowska, and Xuexiang Han \n",
            "are inventors on a patent related to this work filed by the Trustees of the \n",
            "University of Pennsylvania.\n",
            "\n",
            "\n",
            "9. Front Pharmacol. 2023 Apr 13;14:1146651. doi: 10.3389/fphar.2023.1146651. \n",
            "eCollection 2023.\n",
            "\n",
            "Targeting ferroptosis as a promising therapeutic strategy to treat \n",
            "cardiomyopathy.\n",
            "\n",
            "Sun H(1)(2), Chen D(3), Xin W(4), Ren L(4), Li Q(5), Han X(6).\n",
            "\n",
            "Author information:\n",
            "(1)Health Science Center, Chifeng University, Chifeng, China.\n",
            "(2)Key Laboratory of Human Genetic Diseases in Inner Mongolia, Chifeng, China.\n",
            "(3)Department of Endocrinology, The Affiliated Hospital of Chifeng University, \n",
            "Chifeng, China.\n",
            "(4)Chifeng Clinical Medical College, Inner Mongolia Minzu University, Tongliao, \n",
            "China.\n",
            "(5)Department of Neurology, The Affiliated Hospital of Chifeng University, \n",
            "Chifeng, China.\n",
            "(6)Department of Cardiology, The Affiliated Hospital of Chifeng University, \n",
            "Chifeng, China.\n",
            "\n",
            "Cardiomyopathies are a clinically heterogeneous group of cardiac diseases \n",
            "characterized by heart muscle damage, resulting in myocardium disorders, \n",
            "diminished cardiac function, heart failure, and even sudden cardiac death. The \n",
            "molecular mechanisms underlying the damage to cardiomyocytes remain unclear. \n",
            "Emerging studies have demonstrated that ferroptosis, an iron-dependent \n",
            "non-apoptotic regulated form of cell death characterized by iron dyshomeostasis \n",
            "and lipid peroxidation, contributes to the development of ischemic \n",
            "cardiomyopathy, diabetic cardiomyopathy, doxorubicin-induced cardiomyopathy, and \n",
            "septic cardiomyopathy. Numerous compounds have exerted potential therapeutic \n",
            "effects on cardiomyopathies by inhibiting ferroptosis. In this review, we \n",
            "summarize the core mechanism by which ferroptosis leads to the development of \n",
            "these cardiomyopathies. We emphasize the emerging types of therapeutic compounds \n",
            "that can inhibit ferroptosis and delineate their beneficial effects in treating \n",
            "cardiomyopathies. This review suggests that inhibiting ferroptosis \n",
            "pharmacologically may be a potential therapeutic strategy for cardiomyopathy \n",
            "treatment.\n",
            "\n",
            "Copyright © 2023 Sun, Chen, Xin, Ren, LI and Han.\n",
            "\n",
            "DOI: 10.3389/fphar.2023.1146651\n",
            "PMCID: PMC10150641\n",
            "PMID: 37138856\n",
            "\n",
            "Conflict of interest statement: The authors declare that the research was \n",
            "conducted in the absence of any commercial or financial relationships that could \n",
            "be construed as a potential conflict of interest.\n",
            "\n",
            "\n",
            "10. Pharm Nanotechnol. 2023 May 1. doi: 10.2174/2211738511666230501202946. Online\n",
            " ahead of print.\n",
            "\n",
            "Liposomal Doxorubicin Kinetic Study in an in vitro 2D and 3D Tumor Model for \n",
            "Osteosarcoma in a Perfusion Bioreactor.\n",
            "\n",
            "Abdollahzadeh H(1), Amoabediny G(2), Haghiralsadat F(3), Rahimi F(4), Adibfar \n",
            "A(5).\n",
            "\n",
            "Author information:\n",
            "(1)Department of Biotechnology and Pharmaceutical Engineering, School of \n",
            "Chemical Engineering, College of Engineering, University of Tehran, Tehran, \n",
            "Iran.\n",
            "(2)Department of Biomedical Engineering, Research Center in Life Science \n",
            "Engineering at the University of Tehran, Tehran, Iran.\n",
            "(3)Department of Advanced Medical Sciences and Technologies, School of \n",
            "Paramedicine, Shahid Sadoughi University of Medical Sciences, Yazd, Iran.\n",
            "(4)Medical Biotechnology Department, School of Medical Sciences, and Research \n",
            "Center and Laboratory of New Nano-technology, Shahed University, Tehran, Iran.\n",
            "(5)Department of Life Science Engineering, Faculty of New Sciences and \n",
            "Technologies, University of Tehran, Tehran, Iran.\n",
            "\n",
            "BACKGROUND: In vivo drug screening in animal models is contrary to ethical \n",
            "values, costly and time-consuming. Traditional static in vitro models do not \n",
            "reflect the basic characteristics of bone tumor microenvironments; therefore, \n",
            "perfusion bioreactors, in particular, would be an applicable choice due to their \n",
            "advantages to regenerate versatile bone tumor models for studying in vitro novel \n",
            "drug delivery systems.\n",
            "METHODS: In this study, an optimal drug formulation of liposomal doxorubicin was \n",
            "prepared, and the release kinetics of the drug and its toxicity effect on MG-63 \n",
            "bone cancer cell line were investigated in two-dimensional, static \n",
            "three-dimensional media on a PLGA/β-TCP scaffold and also in a dynamic media in \n",
            "a perfusion bioreactor. In this assay, the efficacy of the IC50 of this \n",
            "formulation which had been obtained in two-dimensional cell culture (=0.1 \n",
            "μg/ml), was studied in static and dynamic three-dimensional media after 3 and 7 \n",
            "days. Liposomes with good morphology and encapsulation efficiency of 95% had \n",
            "release kinetics of the Korsmeyer-Peppas model.\n",
            "RESULTS: The results of cell growth before treatment and cell viability after \n",
            "treatment in all three environments were compared. Cell growth in 2D was rapid, \n",
            "while it was slow in static 3D conditions. In the dynamic 3D environment, it was \n",
            "significant compared to the static tumor models. Cell viability after 3 and 7 \n",
            "days from treatment was 54.73% and 13.39% in 2D conditions, 72.27% and 26.78% in \n",
            "the static 3D model, while 100% and 78.92% in the dynamic culture indicating the \n",
            "effect of drug toxicity over time, but drug resistance of 3D models compared to \n",
            "2D culture. In the bioreactor, the formulation used in the mentioned \n",
            "concentration showed very small cytotoxicity demonstrating the dominance of \n",
            "mechanical stimuli on cell growth over drug toxicity.\n",
            "CONCLUSION: Increasing drug resistance in 3D models compared to 2D models \n",
            "indicates the superiority of liposomal Dox over free form to reduce IC50 \n",
            "concentration.\n",
            "\n",
            "Copyright© Bentham Science Publishers; For any queries, please email at \n",
            "epub@benthamscience.net.\n",
            "\n",
            "DOI: 10.2174/2211738511666230501202946\n",
            "PMID: 37138490\n",
            "\n",
            "\n",
            "11. Neurotherapeutics. 2023 May 3. doi: 10.1007/s13311-023-01381-5. Online ahead\n",
            "of  print.\n",
            "\n",
            "Correction to: BDNF Augmentation Using Riluzole Reverses Doxorubicin-Induced \n",
            "Decline in Cognitive Function and Neurogenesis.\n",
            "\n",
            "Usmani MT(1), Krattli RP Jr(1), El-Khatib SM(1), Le ACD(1), Smith SM(2), Baulch \n",
            "JE(2), Ng DQ(3)(4), Acharya MM(5)(6), Chan A(7)(8).\n",
            "\n",
            "Author information:\n",
            "(1)Department of Anatomy and Neurobiology, School of Medicine, University of \n",
            "California, Irvine, CA, USA.\n",
            "(2)Department of Radiation Oncology, School of Medicine, University of \n",
            "California, Irvine, CA, USA.\n",
            "(3)Department of Clinical Pharmacy Practice, School of Pharmacy & Pharmaceutical \n",
            "Sciences, University of California, Irvine, CA, USA.\n",
            "(4)Department of Pharmaceutical Sciences, School of Pharmacy and Pharmaceutical \n",
            "Sciences, University of California, Irvine, CA, USA.\n",
            "(5)Department of Anatomy and Neurobiology, School of Medicine, University of \n",
            "California, Irvine, CA, USA. macharya@uci.edu.\n",
            "(6)Department of Radiation Oncology, School of Medicine, University of \n",
            "California, Irvine, CA, USA. macharya@uci.edu.\n",
            "(7)Department of Clinical Pharmacy Practice, School of Pharmacy & Pharmaceutical \n",
            "Sciences, University of California, Irvine, CA, USA. a.chan@uci.edu.\n",
            "(8)Department of Pharmaceutical Sciences, School of Pharmacy and Pharmaceutical \n",
            "Sciences, University of California, Irvine, CA, USA. a.chan@uci.edu.\n",
            "\n",
            "Erratum for\n",
            "    Neurotherapeutics. 2023 Jan 31;:\n",
            "\n",
            "DOI: 10.1007/s13311-023-01381-5\n",
            "PMID: 37138161\n",
            "\n",
            "\n",
            "12. ACS Nano. 2023 May 3. doi: 10.1021/acsnano.2c08240. Online ahead of print.\n",
            "\n",
            "Nanoparticle-Mediated CD47-SIRPα Blockade and Calreticulin Exposure for Improved \n",
            "Cancer Chemo-Immunotherapy.\n",
            "\n",
            "Luo JQ(1), Liu R(1), Chen FM(2), Zhang JY(2), Zheng SJ(1), Shao D(1)(3), Du \n",
            "JZ(1)(4).\n",
            "\n",
            "Author information:\n",
            "(1)School of Medicine, South China University of Technology, Guangzhou 510006, \n",
            "China.\n",
            "(2)School of Biomedical Sciences and Engineering, Guangzhou International \n",
            "Campus, South China University of Technology, Guangzhou 511442, China.\n",
            "(3)Key Laboratory of Biomedical Materials and Engineering of the Ministry of \n",
            "Education, and Guangdong Provincial Key Laboratory of Biomedical Engineering, \n",
            "South China University of Technology, Guangzhou 510006, China.\n",
            "(4)National Engineering Research Center for Tissue Restoration and \n",
            "Reconstruction, South China University of Technology, Guangzhou 510006, China.\n",
            "\n",
            "Enabling macrophages to phagocytose tumor cells holds great potential for cancer \n",
            "therapy but suffers from tremendous challenges because the tumor cells \n",
            "upregulate antiphagocytosis molecules (such as CD47) on their surface. The \n",
            "blockade of CD47 alone is insufficient to stimulate tumor cell phagocytosis in \n",
            "solid tumors due to the lack of \"eat me\" signals. Herein, a degradable \n",
            "mesoporous silica nanoparticle (MSN) is reported to simultaneously deliver \n",
            "anti-CD47 antibodies (aCD47) and doxorubicin (DOX) for cancer \n",
            "chemo-immunotherapy. The codelivery nanocarrier aCD47-DMSN was constructed by \n",
            "accommodating DOX within the mesoporous cavity, while adsorbing aCD47 on the \n",
            "surface of MSN. aCD47 blocks the CD47-SIRPα axis to disable the \"don't eat me\" \n",
            "signal, while DOX induces immunogenic tumor cell death (ICD) for calreticulin \n",
            "exposure as an \"eat me\" signal. This design facilitated the phagocytosis of \n",
            "tumor cells by macrophages, which enhanced antigen cross-presentation and \n",
            "elicited efficient T cell-mediated immune response. In 4T1 and B16F10 murine \n",
            "tumor models, aCD47-DMSN generated a strong antitumor effect after intravenous \n",
            "injection by increasing tumor-infiltration of CD8+ T cells. Taken together, this \n",
            "study offers a nanoplatform to modulate the phagocytosis of macrophages for \n",
            "efficacious cancer chemo-immunotherapy.\n",
            "\n",
            "DOI: 10.1021/acsnano.2c08240\n",
            "PMID: 37133900\n",
            "\n",
            "\n",
            "13. J Chem Inf Model. 2023 May 3. doi: 10.1021/acs.jcim.2c01636. Online ahead of \n",
            "print.\n",
            "\n",
            "Structural Distortion of β-Cyclodextrin Plays a Key Role in the pH-dependent \n",
            "Host-Guest Chemistry with Doxorubicin, Evident by the Electrochemical and \n",
            "Molecular Dynamics Approach.\n",
            "\n",
            "Nayak J(1), Sood A(2), Kulharia M(2), Sahoo SK(1), Kumar R(3).\n",
            "\n",
            "Author information:\n",
            "(1)Department of Chemistry, S.V. National Institute of Technology, Surat, \n",
            "Gujarat 395007, India.\n",
            "(2)Centre for Computational Biology and Bioinformatics, School of Life Sciences, \n",
            "Central University of Himachal Pradesh, Kangra, Himachal Pradesh 176215, India.\n",
            "(3)Department of Chemistry and Chemical Science, School of Physical and Material \n",
            "Sciences, Central University of Himachal Pradesh, Kangra, Himachal Pradesh \n",
            "176215, India.\n",
            "\n",
            "β-Cyclodextrin (β-CD) is the potential drug carrier to deliver antitumor drugs \n",
            "like doxorubicin (DOX). However, the mechanism for the inclusion complex \n",
            "formation is still unclear and needs to be explored. This study investigated the \n",
            "effect of pH on the inclusion of DOX into thiolated β-CD (β-CD-SH) by \n",
            "electrochemical and molecular dynamics (MD) simulation. The electrochemical \n",
            "study shows a clear difference at different pH values. The redox peak due to the \n",
            "DOX is strongly influenced by pH. At neutral pH, the peak intensity decreases \n",
            "with time, while slight variation is observed at acidic and basic pH, depicting \n",
            "the association of DOX to the β-CD-SH cavity at neutral pH. Also, due to the \n",
            "association, the charge transfer resistance variation increased with time at \n",
            "neutral pH and decreased at basic and acidic pH. The electrochemical study was \n",
            "further supported by MD simulation, suggesting that the cyclodextrin (CD) ring \n",
            "gets slightly elongated due to the flipping of glucose units, specifically at \n",
            "neutral pH leading to a strong association. Also, another significant result \n",
            "observed that the DOX forms an inclusion complex with β-CD-SH in quinol \n",
            "conformation, not in quinone. Briefly, the study provides the necessary \n",
            "molecular binding information for designing an effective β-CD-based targeted \n",
            "drug delivery system.\n",
            "\n",
            "DOI: 10.1021/acs.jcim.2c01636\n",
            "PMID: 37133821\n",
            "\n",
            "\n",
            "14. Drug Deliv Transl Res. 2023 May 3. doi: 10.1007/s13346-023-01339-2. Online\n",
            "ahead  of print.\n",
            "\n",
            "Development of doxorubicin-encapsulated magnetic liposome@PEG for treatment of \n",
            "breast cancer in BALB/c mice.\n",
            "\n",
            "Maghsoudi S(1), Hosseini SA(2), Soraya H(3), Roosta Y(4), Mohammadzadeh A(5).\n",
            "\n",
            "Author information:\n",
            "(1)Department of Applied Chemistry, Faculty of Chemistry, Urmia University, \n",
            "Urmia, Iran.\n",
            "(2)Department of Applied Chemistry, Faculty of Chemistry, Urmia University, \n",
            "Urmia, Iran. a.hosseini@urmia.ac.ir.\n",
            "(3)Department of Pharmacology and Toxicology, School of Pharmacy, Urmia \n",
            "University of Medical Sciences, Urmia, Iran.\n",
            "(4)Hematology, Immune Cell Therapy and Stem Cells Transplantation Research \n",
            "Center, Clinical Research Institute, Urmia University of Medical Sciences, \n",
            "Urmia, Iran.\n",
            "(5)Department of Immunology and Genetics, Faculty of Medicine, Urmia University \n",
            "of Medical Sciences, Urmia, Iran.\n",
            "\n",
            "The magnetic doxorubicin-encapsulated liposome/PEG/Fe3O4 (called as \n",
            "DOX@m-Lip/PEG) was synthesized and studied as a novel nanocarrier for the \n",
            "treatment of breast cancer in BALB/c mice. Nanocarrier was characterized by \n",
            "FT-IR, zeta-potential sizer, EDX elemental analysis, EDX mapping, TEM, and DLS \n",
            "techniques. The results showed that the size of the nanocarrier was determined \n",
            "around 128 nm by TEM. EDX study confirmed PEG-conjugation in the magnetic \n",
            "liposomes and was homogenously distributed in the nanosize range (100-200 nm) \n",
            "with a negative surface charge (-61.7 mV). The kinetic studies indicated that \n",
            "the release of doxorubicin from DOX@m-Lip/PEG follows the Korsmeyer-Peppas \n",
            "model. The n-value of the model was 0.315, indicating that doxorubicin release \n",
            "from the nanocarrier had a slow releasing rate and followed Fick's law. The DOX \n",
            "release from the nanocarrier lasted a long time (more than 300 h). In in vivo \n",
            "part, a mouse 4T1 breast tumor model was used. The in vivo results indicated \n",
            "that DOX@m-Lip/PEG caused much stronger tumor cell necrosis and less cardiotoxic \n",
            "effects than the other groups. In conclusion, we show that m-Lip/PEG is a \n",
            "promising nanocarrier for low dosage and slow release of doxorubicin in treating \n",
            "breast cancer, and treatment with encapsulated DOX (DOX@m-Lip/PEG) demonstrated \n",
            "higher efficacy with low cardiac toxicity. Besides, the magnetic property of \n",
            "m-Lip@PEG nanocarrier allows it to be a potent mater for hyperthermia and MRI \n",
            "studies.\n",
            "\n",
            "© 2023. Controlled Release Society.\n",
            "\n",
            "DOI: 10.1007/s13346-023-01339-2\n",
            "PMID: 37133768\n",
            "\n",
            "\n",
            "15. Eur Ann Allergy Clin Immunol. 2023 May 3. doi:\n",
            "10.23822/EurAnnACI.1764-1489.296.  Online ahead of print.\n",
            "\n",
            "Relevance of the diagnosis of hypersensitivity reactions to antineoplastic and \n",
            "biological agents: experience with drug provocation test.\n",
            "\n",
            "Queirós Gomes J(1), Pereira Dias LP(1), Barreira P(1), Barradas Lopes J(1), \n",
            "Sousa MJ(1), Cadinha S(1), Malheiro D(1).\n",
            "\n",
            "Author information:\n",
            "(1)Department of Allergy and Clinical Immunology, Centro Hospitalar Vila Nova \n",
            "Gaia/Espinho, Porto, Portugal.\n",
            "\n",
            "Background. Evidence regarding drug provocation test (DPT) with chemotherapeutic \n",
            "agents is scarce. The aim of our study is to describe the experience of DPT in \n",
            "patients with a history of hypersensitivity reactions (HSRs) to antineoplastic \n",
            "and biological agents. Methods. This was an eight-year retrospective, \n",
            "observational, descriptive study of patients with a history of HSRs to \n",
            "chemotherapy who were submitted to DPT. Anamnesis, skin tests (ST) and DPT were \n",
            "analyzed. Patients with a negative DPT were submitted to at least one regular \n",
            "supervised administration (RSA). Patients with positive DPT or HSR during RSA \n",
            "were offered rapid drug desensitization (RDD). Results. A total of 54 patients \n",
            "were submitted to DPT. The most common suspected drugs were platins (n = 36), \n",
            "followed by taxanes (n = 11). Most initial reactions were classified as grade II \n",
            "(n = 39) according to Brown's grading system. ST with platinum (n = 35), taxanes \n",
            "(n = 10) and biological agents (n = 4) were negative, except for one intradermal \n",
            "test with paclitaxel, which was positive. A total of 64 DPTs were performed. \n",
            "Eleven percent of all DPTs were positive (platins (n = 6), doxorubicin (n = 1)). \n",
            "Of the 57 RSA with the culprit drugs, 2 were positive (platins). The diagnosis \n",
            "of hypersensitivity was confirmed by DPT/RSA in 9 patients. All patients with \n",
            "positive DPT/RSA presented HSRs of equal or less severity than the initial one. \n",
            "Conclusions. DPT followed by RSA allowed to exclude HSRs in 45 patients (55 \n",
            "culprit drugs). DPT before desensitization prevents non-hypersensitivity \n",
            "patients from undergoing RDD. In our study DPT was safe, all reactions were \n",
            "managed by an allergist.\n",
            "\n",
            "DOI: 10.23822/EurAnnACI.1764-1489.296\n",
            "PMID: 37133313\n",
            "\n",
            "\n",
            "16. ACS Appl Mater Interfaces. 2023 May 3. doi: 10.1021/acsami.3c03902. Online\n",
            "ahead  of print.\n",
            "\n",
            "CuFeS(2) Nanoparticles Functionalized with a Thermoresponsive Polymer for \n",
            "Photothermia and Externally Controlled Drug Delivery.\n",
            "\n",
            "Conteh JS(1)(2), Nucci GEP(1)(2), Fernandez Cabada T(1), Mai BT(1), Soni N(1), \n",
            "De Donato F(1), Pasquale L(1), Catalano F(1), Prato M(1), Manna L(1), Pellegrino \n",
            "T(1).\n",
            "\n",
            "Author information:\n",
            "(1)Italian Institute of Technology, via Morego 30, 16163 Genoa, Italy.\n",
            "(2)Dipartimento di Chimica e Chimica Industriale, Università di Genova, Via \n",
            "Dodecaneso 31, 16146 Genoa, Italy.\n",
            "\n",
            "CuFeS2 chalcopyrite nanoparticles (NPs) can generate heat under exposure to \n",
            "near-infrared laser irradiation. Here, we develop a protocol to decorate the \n",
            "surface of CuFeS2 NPs (13 nm) with a thermoresponsive (TR) polymer based on \n",
            "poly(ethylene glycol methacrylate) to combine heat-mediated drug delivery and \n",
            "photothermal heat damage. The resulting TR-CuFeS2 NPs feature a small \n",
            "hydrodynamic size (∼75 nm), along with high colloidal stability and a TR \n",
            "transition temperature of 41 °C in physiological conditions. Remarkably, \n",
            "TR-CuFeS2 NPs, when exposed to a laser beam (in the range of 0.5 and 1.5 W/cm2) \n",
            "at NP concentrations as low as 40-50 μg Cu/mL, exhibit a high heating \n",
            "performance with a rise in the solution temperature to hyperthermia therapeutic \n",
            "values (42-45 °C). Furthermore, TR-CuFeS2 NPs worked as nanocarriers, being able \n",
            "to load an appreciable amount of doxorubicin (90 μg DOXO/mg Cu), a \n",
            "chemotherapeutic agent whose release could then be triggered by exposing the NPs \n",
            "to a laser beam (through which a hyperthermia temperature above 42 °C could be \n",
            "reached). In an in vitro study performed on U87 human glioblastoma cells, bare \n",
            "TR-CuFeS2 NPs were proven to be nontoxic at a Cu concentration up to 40 μg/mL, \n",
            "while at the same low dose, the drug-loaded TR-CuFeS2-DOXO NPs displayed \n",
            "synergistic cytotoxic effects due to the combination of direct heat damage and \n",
            "DOXO chemotherapy, under photo-irradiation by a 808 nm laser (1.2 W/cm2). \n",
            "Finally, under a 808 nm laser, the TR-CuFeS2 NPs generated a tunable amount of \n",
            "reactive oxygen species depending on the applied power density and NP \n",
            "concentration.\n",
            "\n",
            "DOI: 10.1021/acsami.3c03902\n",
            "PMID: 37132437\n",
            "\n",
            "\n",
            "17. Phys Act Nutr. 2023 Mar;27(1):76-86. doi: 10.20463/pan.2023.0010. Epub 2023\n",
            "Mar  31.\n",
            "\n",
            "Endurance exercise training reinforces muscular strength with improvements in \n",
            "mitochondrial oxidative capacity, lysosome reformation, and myogenic \n",
            "differentiation against doxorubicininduced skeletal muscle wasting in mice.\n",
            "\n",
            "Kwon I(1).\n",
            "\n",
            "Author information:\n",
            "(1)Department of Clinical Pharmacology and Therapeutics, College of Medicine, \n",
            "Kyung Hee University, Republic of Korea.\n",
            "\n",
            "PURPOSE: Doxorubicin (DOX) is a chemotherapeutic medication broadly used to \n",
            "treat diverse cancers. However, chronic DOX chemotherapy can cause myotoxicity \n",
            "and muscle atrophy. Endurance exercise (EXE) is used to prevent negative muscle \n",
            "excitation. Based on emerging evidence, this study investigated the challenges \n",
            "that occur in skeletal muscle quantity, quality, and metabolic determinants \n",
            "through autophagy, myogenic regulatory factors (MRF), antioxidant enzymes, and \n",
            "both the AMPK and AKT/mTOR pathways.\n",
            "METHODS: Male C57BL/6J adult mice were divided into four groups after one week \n",
            "of acclimation: sedentary (SED) plus saline (SAL)-receiving (SED-SAL), EXE plus \n",
            "SAL-receiving (EXE-SAL), SED plus DOX-receiving (SED-DOX), and EXE plus \n",
            "DOX-receiving (EXEDOX) groups. All mice were intraperitoneally inoculated with \n",
            "either SAL or DOX (5 mg/kg, every 2 weeks) for 8 weeks, while a treadmill \n",
            "running EXE was performed. Body weight, muscle weight, and muscle strength were \n",
            "measured, and the red portions of the gastrocnemius muscle were excised for \n",
            "biochemical analysis.\n",
            "RESULTS: Chronic DOX administration deteriorated body composition by decreasing \n",
            "body and absolute muscle weights, whereas EXE reinforced a grip strength per \n",
            "body weight. Although DOX inhibited BECN1 expression, EXE enhanced CS, LC3-I, \n",
            "LC3-II, and LAMP levels. Moreover, DOX did not interrupt MRF functions, but EXE \n",
            "improved MYOD without altering SOD1 or SOD2 expression. However, neither the \n",
            "AMPK nor the AKT/mTOR signaling pathways were associated with either \n",
            "DOX-receiving or EXE training.\n",
            "CONCLUSION: DOX chemotherapy-induced muscle wasting is associated with autophagy \n",
            "dysregulation. However, long-term aerobic EXE training enhances muscular \n",
            "strength with an increase in mitochondrial oxidative capacity, lysosome \n",
            "formation, and myogenic differentiation.\n",
            "\n",
            "DOI: 10.20463/pan.2023.0010\n",
            "PMID: 37132214\n",
            "\n",
            "\n",
            "18. Pediatr Blood Cancer. 2023 May 2:e30392. doi: 10.1002/pbc.30392. Online ahead\n",
            "of  print.\n",
            "\n",
            "Toxicity and feasibility of vincristine, etoposide, and carboplatin alternating \n",
            "with vincristine, doxorubicin, and cyclophosphamide in children with advanced \n",
            "retinoblastoma in Guatemala.\n",
            "\n",
            "Graff Z(1), Giron V(2), Miller K(3), Pixtun D(2), Alejos A(2), Luna-Fineman \n",
            "S(2)(3).\n",
            "\n",
            "Author information:\n",
            "(1)Children's Wisconsin, Medical College of Wisconsin, Milwaukee, Wisconsin, \n",
            "USA.\n",
            "(2)Unidad Nacional de Oncología Pediátrica, Guatemala City, Guatemala.\n",
            "(3)Children's Hospital Colorado, School of Medicine, University of Colorado \n",
            "Anschutz Campus, Aurora, Colorado, USA.\n",
            "\n",
            "Retinoblastoma is highly curable, with event-free survival (EFS) of greater than \n",
            "95% in high-income countries. However, in lower middle-income countries, \n",
            "outcomes of EFS are 30%-60% due to delayed diagnosis and lack of resources \n",
            "resulting in extra-ocular disease. We report the toxicity profile and outcomes \n",
            "of intensified therapy for advanced retinoblastoma: vincristine, etoposide, \n",
            "carboplatin (VEC) alternating with vincristine, doxorubicin, and \n",
            "cyclophosphamide (VDoCx) in Guatemala. Compared to VEC alone, similar rates of \n",
            "neutropenia, anemia, and thrombocytopenia were seen, with no toxic deaths. \n",
            "Although survival was not a primary objective, a modest survival benefit \n",
            "supports further investigation of VEC+VDoCx for advanced retinoblastoma.\n",
            "\n",
            "© 2023 Wiley Periodicals LLC.\n",
            "\n",
            "DOI: 10.1002/pbc.30392\n",
            "PMID: 37132129\n",
            "\n",
            "\n",
            "19. Int J Nanomedicine. 2023 Apr 26;18:2197-2208. doi: 10.2147/IJN.S393846. \n",
            "eCollection 2023.\n",
            "\n",
            "Fe(3+)@PDOPA‑b‑PSar Nanoparticles for Magnetic Resonance Imaging and Cancer \n",
            "Chemotherapy.\n",
            "\n",
            "Sun W(#)(1)(2), Xu S(#)(3), Shen T(#)(1)(3), Li G(1), Zhang J(2), Pan C(1)(2), \n",
            "Lu W(1)(2), Liu X(1), Zheng J(2), Ling J(1)(3), Sun J(1).\n",
            "\n",
            "Author information:\n",
            "(1)Department of Radiology, Sir Run Run Shaw Hospital, Zhejiang University \n",
            "School of Medicine, Hangzhou, People's Republic of China.\n",
            "(2)Department of Radiology, Ningbo No. 2 Hospital, Ningbo, People's Republic of \n",
            "China.\n",
            "(3)MOE Key Laboratory of Macromolecular Synthesis and Functionalization, \n",
            "Department of Polymer Science and Engineering, Zhejiang University, Hangzhou, \n",
            "People's Republic of China.\n",
            "(#)Contributed equally\n",
            "\n",
            "PURPOSE: Chemotherapy treatments for cancer are always accompanied by a low \n",
            "concentration of drug delivered in the tumor area and severe side effects \n",
            "including systemic toxicity. Improving the concentration, biocompatibility, and \n",
            "biodegradability of regional chemotherapy drugs is a pressing challenge in the \n",
            "field of materials.\n",
            "METHODS: N-Phenyloxycarbonyl-amino acids (NPCs) which exhibit significant \n",
            "tolerance to nucleophiles, such as water and hydroxyl-containing compounds, are \n",
            "promising monomers for the synthesis of polypeptides and polypeptoids. Cell line \n",
            "and mouse models were used to comprehensively explore how to enhance the tumor \n",
            "MRI signal and evaluate the therapeutic effect of Fe@POS-DOX nanoparticles.\n",
            "RESULTS: In this study, poly(3,4-dihydroxy-L-phenylalanine)-b-polysarcosine \n",
            "(PDOPA-b-PSar, simplified as POS) was synthesized by the block copolymerization \n",
            "of DOPA-NPC with Sar-NPC. Fe@POS-DOX nanoparticles were prepared in order to \n",
            "utilize the strong chelation of catechol ligands to iron (III) cations and the \n",
            "hydrophobic interaction between DOX and DOPA block to deliver chemotherapeutics \n",
            "to tumor tissue. The Fe@POS-DOX nanoparticles exhibit high longitudinal \n",
            "relaxivity (r 1 = 7.06 mM-1·s-1) and act as T 1-weighted magnetic resonance (MR) \n",
            "imaging contrast agents. Further, the main focus was improving tumor \n",
            "site-specific bioavailability and achieving therapeutic effects through the \n",
            "biocompatibility and biodegradability of Fe@POS-DOX NPs. The Fe@POS-DOX \n",
            "treatment exhibited excellent antitumor effects.\n",
            "CONCLUSION: Upon intravenous injection, Fe@POS-DOX delivers DOX specifically to \n",
            "the tumor tissues, as revealed by MR, and leads to the inhibition of tumor \n",
            "growth without overt toxicity to normal tissues, thus displaying considerable \n",
            "potential for use in clinical applications.\n",
            "\n",
            "© 2023 Sun et al.\n",
            "\n",
            "DOI: 10.2147/IJN.S393846\n",
            "PMCID: PMC10149081\n",
            "PMID: 37131547 [Indexed for MEDLINE]\n",
            "\n",
            "Conflict of interest statement: The authors declare no conflicts of interest in \n",
            "this work.\n",
            "\n",
            "\n",
            "20. Heliyon. 2023 Apr 19;9(5):e15451. doi: 10.1016/j.heliyon.2023.e15451. \n",
            "eCollection 2023 May.\n",
            "\n",
            "miR-21-5p prevents doxorubicin-induced cardiomyopathy by downregulating BTG2.\n",
            "\n",
            "Wang Q(1), Jiang F(2), Zhao C(3), Song J(3), Hu M(3), Lv Y(3), Duan Y(3), Fang \n",
            "W(3), Ding R(4), Qiu Y(3).\n",
            "\n",
            "Author information:\n",
            "(1)Department of Cardiology, People's Hospital, Peking University, Beijing, \n",
            "100044, China.\n",
            "(2)Heart Medicine Research Center, Fujian Medical University Union Hospital, \n",
            "Fuzhou, 350001, Fujian, China.\n",
            "(3)Shanghai Engineering Research Center of Organ Repair, School of Medicine, \n",
            "Shanghai University, Shanghai, 200444, China.\n",
            "(4)Cardiac Rehabilitation Center, Department of Rehabilitation Medicine, Peking \n",
            "Union Medical College Hospital, Beijing, 100730, China.\n",
            "\n",
            "Cardiomyocyte apoptosis has been characterized as one of the major mechanisms \n",
            "underlying doxorubicin (DOX)-induced cardiomyopathy. MicroRNA-21-5p (miR-21-5p) \n",
            "was reported to mitigate ischemia-induced cardiomyocyte apoptosis and cardiac \n",
            "injury. However, to our knowledge, the functional role of miR-21-5p in \n",
            "DOX-induced cardiomyopathy is unclear. In this study, we explored the role of \n",
            "miR-21-5p in DOX-induced cardiac injury. The expression level of miR-21-5p was \n",
            "detected by quantitative real-time polymerase chain reaction (qRT-PCR). Dual \n",
            "luciferase reporter assay was used to verify the potential target gene of \n",
            "miR-21-5p. The apoptosis rate of NRCMs was detected by TUNEL staining assay. \n",
            "Western blot analysis was used to detect the protein expression levels of Bax, \n",
            "Bcl-2, Caspase3, cleaved-Caspase3 and BTG2. For animal studies, mice were \n",
            "injected with AAV9-miR-21-5p or AAV9-Empty viruses, and treated with DOX at a \n",
            "dose of 5 mg/kg per week through intraperitoneally administration. After 4 weeks \n",
            "of DOX treatment, mice were subjected to echocardiography to measure the left \n",
            "ventricular ejection fraction (EF) and fractional shortening (FS). Results \n",
            "showed that miR-21-5p was upregulated in both DOX-treated primary cardiomyocytes \n",
            "and mouse heart tissues. Interestingly, enhanced miR-21-5p expression inhibited \n",
            "DOX-induced cardiomyocyte apoptosis and oxidative stress, while decreased \n",
            "miR-21-5p expression promoted cardiomyocyte apoptosis and oxidative stress. \n",
            "Furthermore, cardiac overexpression of miR-21-5p protected against DOX-induced \n",
            "cardiac injury. The mechanistic study indicated that BTG2 was a target gene of \n",
            "miR-21-5p. The anti-apoptotic effect of miR-21-5p could be inhibited by BTG2 \n",
            "overexpression. Conversely, inhibition of BTG2 rescued the pro-apoptotic effect \n",
            "of miR-21-5p inhibitor. Taken together, our study showed that miR-21-5p could \n",
            "prevent DOX-induced cardiomyopathy by downregulating BTG2.\n",
            "\n",
            "© 2023 The Authors.\n",
            "\n",
            "DOI: 10.1016/j.heliyon.2023.e15451\n",
            "PMCID: PMC10149273\n",
            "PMID: 37131441\n",
            "\n",
            "Conflict of interest statement: The authors declare that they have no known \n",
            "competing financial interests or personal relationships that could have appeared \n",
            "to influence the work reported in this paper.\n"
          ]
        }
      ]
    },
    {
      "cell_type": "code",
      "source": [
        "# Define the query\n",
        "my_query <- \"side effects of COVID vaccine from pfizer\"\n",
        "\n",
        "# Search for articles related to the query and retrieve their IDs\n",
        "search_results <- entrez_search(db = \"pubmed\", term = my_query)\n",
        "# Number of search results \n",
        "length(search_results$ids)\n",
        "my_entrez_id <- search_results$ids\n",
        "my_abstracts_txt <- entrez_fetch(db = \"pubmed\", id = my_entrez_id, rettype = \"abstract\", retmode = \"text\")\n",
        "writeLines(my_abstracts_txt, \"pfizer.txt\")\n",
        "my_abstracts_formatted <- readLines(\"pfizer.txt\")\n",
        "cat(my_abstracts_formatted, sep = \"\\n\")"
      ],
      "metadata": {
        "id": "AGDKu4sxGnMz",
        "colab": {
          "base_uri": "https://localhost:8080/",
          "height": 1000
        },
        "outputId": "9ee319d0-4e4c-4d9e-bb3b-44f475a8b407"
      },
      "execution_count": 9,
      "outputs": [
        {
          "output_type": "display_data",
          "data": {
            "text/html": [
              "20"
            ],
            "text/markdown": "20",
            "text/latex": "20",
            "text/plain": [
              "[1] 20"
            ]
          },
          "metadata": {}
        },
        {
          "output_type": "stream",
          "name": "stdout",
          "text": [
            "1. Nutrients. 2023 Apr 20;15(8):1982. doi: 10.3390/nu15081982.\n",
            "\n",
            "Effects of Gut Microbiome Modulation on Reducing Adverse Health Outcomes among \n",
            "Elderly and Diabetes Patients during the COVID-19 Pandemic: A Randomised, \n",
            "Double-Blind, Placebo-Controlled Trial (IMPACT Study).\n",
            "\n",
            "Wong MCS(1)(2), Zhang L(3)(4), Ching JYL(3)(4), Mak JWY(4), Huang J(1)(2), Wang \n",
            "S(3)(4), Mok CKP(1), Wong A(3)(4), Chiu OL(3)(4), Fung YT(3)(4), Cheong \n",
            "PK(3)(4), Tun HM(1)(3), Ng SC(3)(4), Chan FKL(3)(4).\n",
            "\n",
            "Author information:\n",
            "(1)The Jockey Club School of Public Health and Primary Care, Faculty of \n",
            "Medicine, The Chinese University of Hong Kong, Hong Kong SAR, China.\n",
            "(2)Centre for Health Education and Health Promotion, Faculty of Medicine, The \n",
            "Chinese University of Hong Kong, Hong Kong SAR, China.\n",
            "(3)Microbiota I-Center (MagIC), Hong Kong SAR, China.\n",
            "(4)Centre for Gut Microbiota Research, Faculty of Medicine, The Chinese \n",
            "University of Hong Kong, Hong Kong SAR, China.\n",
            "\n",
            "Gut microbiota is believed to be a major determinant of health outcomes. We \n",
            "hypothesised that a novel oral microbiome formula (SIM01) can reduce the risk of \n",
            "adverse health outcomes in at-risk subjects during the coronavirus disease 2019 \n",
            "(COVID-19) pandemic. In this single-centre, double-blind, randomised, \n",
            "placebo-controlled trial, we recruited subjects aged ≥65 years or with type two \n",
            "diabetes mellitus. Eligible subjects were randomised in a 1:1 ratio to receive \n",
            "three months of SIM01 or placebo (vitamin C) within one week of the first \n",
            "COVID-19 vaccine dose. Both the researchers and participants were blinded to the \n",
            "groups allocated. The rate of adverse health outcomes was significantly lower in \n",
            "the SIM01 group than the placebo at one month (6 [2.9%] vs. 25 [12.6], p < \n",
            "0.001) and three months (0 vs. 5 [3.1%], p = 0.025). At three months, more \n",
            "subjects who received SIM01 than the placebo reported better sleep quality (53 \n",
            "[41.4%] vs. 22 [19.3%], p < 0.001), improved skin condition (18 [14.1%] vs. 8 \n",
            "[7.0%], p = 0.043), and better mood (27 [21.2%] vs. 13 [11.4%], p = 0.043). \n",
            "Subjects who received SIM01 showed a significant increase in beneficial \n",
            "Bifidobacteria and butyrate-producing bacteria in faecal samples and \n",
            "strengthened the microbial ecology network. SIM01 reduced adverse health \n",
            "outcomes and restored gut dysbiosis in elderly and diabetes patients during the \n",
            "COVID-19 pandemic.\n",
            "\n",
            "DOI: 10.3390/nu15081982\n",
            "PMCID: PMC10143994\n",
            "PMID: 37111201 [Indexed for MEDLINE]\n",
            "\n",
            "Conflict of interest statement: All authors have completed the Unified Competing \n",
            "Interest form (available on request from the corresponding author). MCSW is the \n",
            "honorary medical advisor of GenieBiome Ltd. He is an advisory committee member \n",
            "of Pfizer; an external expert of GlaxoSmithKline Limited; a member of the \n",
            "advisory board of AstraZeneca and has been paid consultancy fees for providing \n",
            "advice on research. SCN and FKLC report serving as founding members for \n",
            "GenieBiome Limited. SCN also has served as an advisory board member for Pfizer, \n",
            "Ferring, Janssen, and Abbvie and a speaker for Ferring, Tillotts, Menarini, \n",
            "Janssen, Abbvie, and Takeda. She has received research grants from Olympus, \n",
            "Ferring, and Abbvie. FKC has served as the director and board member of CUHK \n",
            "Medical Centre Limited and the First Director of the Board of Directors for CUHK \n",
            "Multi-Scale Medical Robotics Centre Limited. He also has served as an advisor \n",
            "and lecture speaker for Eisai Co., Ltd., AstraZeneca, Pifzer Inc, Takeda \n",
            "Pharmaceutical Co., and Takeda (China) Holdings Co., Ltd. SCN and FKLC are \n",
            "inventors of patent applications for “Composition for Improving Immunity” \n",
            "(CN202010657312.5, CN202011259564.9, CN202110223880.9, PCT/CN2021/090531, and \n",
            "TW110115155); and “Therapeutic and Diagnostic Use of Microorganisms for \n",
            "COVID-19” (US63/016,759, US63/015,310,US63/064,821, PCT/CN2021/090488, and \n",
            "TW110115153). No other potential conflict of interest relevant to this article \n",
            "was reported.\n",
            "\n",
            "\n",
            "2. J Dermatol. 2023 Apr 26. doi: 10.1111/1346-8138.16808. Online ahead of print.\n",
            "\n",
            "Rapidly progressing generalized bullous fixed drug eruption after the first dose \n",
            "of COVID-19 messenger RNA vaccination.\n",
            "\n",
            "Choi S(1), Kim SH(1), Hwang JH(1), Jang HW(1), Oh SH(1), Kim DY(1), Kim TG(1).\n",
            "\n",
            "Author information:\n",
            "(1)Department of Dermatology and Cutaneous Biology Research Institute, Severance \n",
            "Hospital, Yonsei University College of Medicine, Seoul, South Korea.\n",
            "\n",
            "Generalized bullous fixed drug eruption (GBFDE) is a rare type of \n",
            "life-threatening severe cutaneous adverse reaction that is considered a medical \n",
            "emergency because of its potential lethality. Currently, only a few cases of \n",
            "bullous adverse reactions have been reported after coronavirus disease 2019 \n",
            "(COVID-19) vaccination. We describe a patient with distinct clinical, \n",
            "histopathological, and immunological findings that are consistent with severe \n",
            "GBFDE, after Pfizer messenger RNA COVID-19 vaccination. An 83-year-old man \n",
            "presented with a fever and well-demarcated multiple erythematous patches that \n",
            "occurred only 4 h after receiving the first dose of COVID-19 Pfizer vaccination. \n",
            "Over the next few days, the patches became generalized and turned into blisters \n",
            "covering approximately 30% of the body surface. The patient was started on \n",
            "intravenous methylprednisolone and oral cyclosporine. There were no additional \n",
            "blistering lesions after 10 days of treatment, prompting a gradual dose \n",
            "reduction. Our case suggests that a stepwise vaccination adhering to the \n",
            "standard dosing schedule should be warranted with close monitoring for possible \n",
            "significant side effects.\n",
            "\n",
            "© 2023 Japanese Dermatological Association.\n",
            "\n",
            "DOI: 10.1111/1346-8138.16808\n",
            "PMID: 37102209\n",
            "\n",
            "\n",
            "3. Am J Ther. 2023 Apr 24. doi: 10.1097/MJT.0000000000001633. Online ahead of \n",
            "print.\n",
            "\n",
            "Outcome of COVID-19 mRNA Vaccination in Patients Treated With Clozapine WHO \n",
            "Previously Went Through SARS-COV-2 Infection.\n",
            "\n",
            "Moga S(1)(2), Petric PS(1)(2), Miron AA(1)(2), Ifteni P(1)(2), Teodorescu \n",
            "A(1)(2).\n",
            "\n",
            "Author information:\n",
            "(1)Universitatea Transilvania din Braşov, Facultatea de Medicina, Braşov, \n",
            "România; and.\n",
            "(2)Spitalul Clinic de Psihiatrie şi Neurologie Braşov, Braşov, România.\n",
            "\n",
            "BACKGROUND: The outbreak of the severe acute respiratory syndrome coronavirus 2 \n",
            "(SARS-CoV-2) pandemic had multiple consequences for the health care system, \n",
            "especially for patients with mental illnesses. Schizophrenia patients \n",
            "particularly appear to have a higher risk of complications due to coronavirus-19 \n",
            "(COVID-19). Clozapine remains the gold standard for treatment-resistant \n",
            "schizophrenia (TRS). However, the COVID-19 pandemic had an important negative \n",
            "impact on clozapine treatment, mainly because of its administration protocol, \n",
            "which was very difficult to follow during the restrictions imposed in the \n",
            "pandemic, and its side effects in patients with COVID-19 infection. Vaccination \n",
            "is an effective method of avoiding SARS-CoV-2 infection or its severe \n",
            "complications, especially in susceptible populations. Data on adverse events \n",
            "after vaccination against COVID-19 are limited, both in the general population \n",
            "and in schizophrenia patients.\n",
            "STUDY QUESTION: The study aimed to investigate the safety of COVID-19 \n",
            "vaccination in patients treated with clozapine for hematological parameters.\n",
            "STUDY DESIGN: We conducted an analytical cross-sectional study between July 1, \n",
            "2021, and June 30, 2022. We compared 2 groups of COVID-19 vaccinated patients \n",
            "who had previously experienced SARS-CoV-2 infection: The first group was treated \n",
            "with clozapine, whereas the second group was treated with other antipsychotics.\n",
            "MEASURES AND OUTCOMES: The primary objective was to identify granulocytopenia, \n",
            "leukocytopenia, and lymphocytopenia. The results were measured after the second \n",
            "dose of the Pfizer-BioNTech vaccine.\n",
            "RESULTS: This study included 100 patients. White blood cell count changes were \n",
            "limited to a few cases of mild granulocytopenia (8.16% in the clozapine group \n",
            "and 3.92% in the nonclozapine group, P = 0.37) with no cases of severe \n",
            "granulocytopenia or agranulocytosis.\n",
            "CONCLUSIONS: As far as leukocyte counts are concerned, mRNA COVID-19 vaccination \n",
            "seems to be safe in patients treated with clozapine who previously had \n",
            "SARS-CoV-2 infection. Leukocyte changes had no clinical implications.\n",
            "\n",
            "Copyright © 2023 Wolters Kluwer Health, Inc. All rights reserved.\n",
            "\n",
            "DOI: 10.1097/MJT.0000000000001633\n",
            "PMID: 37097999\n",
            "\n",
            "Conflict of interest statement: The authors have no conflicts of interest to \n",
            "declare.\n",
            "\n",
            "\n",
            "4. Pharm Pract (Granada). 2023 Jan-Mar;21(1):2781. doi: \n",
            "10.18549/PharmPract.2023.1.2781. Epub 2022 Dec 21.\n",
            "\n",
            "Perception and attitudes toward COVID- 19 vaccines in Jordan: lessons for future \n",
            "pandemics.\n",
            "\n",
            "Alnatour D(1), Nassar RI(2), Salhi Y(3), Thiab S(4), Alsayed AR(5).\n",
            "\n",
            "Author information:\n",
            "(1)PharmD. Faculty of Pharmacy, Applied Science Private University, Amman, \n",
            "Jordan. d_alnatour@asu.edu.jo.\n",
            "(2)MSc. Department of Clinical Pharmacy and Therapeutics, Faculty of Pharmacy, \n",
            "Applied Science Private University, Amman, Jordan. R_nassar@asu.edu.jo.\n",
            "(3)United States of America.\n",
            "(4)PhD. Assistant Professor in Pharmaceutical Analysis, Department of \n",
            "Pharmaceutical Chemistry and Pharmacognosy, Faculty of Pharmacy, Applied Science \n",
            "Private University, Amman, Jordan. S_Thiab@asu.edu.jo.\n",
            "(5)PhD. Department of Clinical Pharmacy and Therapeutics, Faculty of Pharmacy, \n",
            "Applied Science Private University, Amman 11931-166, Jordan. \n",
            "a_alsayed@asu.edu.jo.\n",
            "\n",
            "OBJECTIVE: This study aimed to assess Jordanians' perception and attitudes \n",
            "toward COVID-19 vaccines authorized for use in Jordan. Another objective was to \n",
            "evaluate the population's confidence in vaccine efficacy, their fears of the \n",
            "vaccines, and their perceptions and attitudes after vaccination.\n",
            "METHODS: This cross-sectional study was conducted over four months (August 2021- \n",
            "December 2021) and included the general Jordanian population above 18 years old.\n",
            "RESULTS: A total of 398 participants were included in the study, with the \n",
            "majority (around 81.0%) received at least one dose of any of COVID-19 vaccines \n",
            "approved for use in Jordan. Most non-vaccinated participants (67.4%) were either \n",
            "unwilling to receive the COVID-19 vaccine or unsure. The main reasons for \n",
            "receiving the vaccine were: family protection, self-protection, global efforts \n",
            "to fight the virus and local restrictions, with some variability between \n",
            "vaccinated and non-vaccinated. The major reasons for fear of COVID-19 vaccines \n",
            "were limited research, vaccine effectiveness, and vaccine side effects. \n",
            "Pfizer-BioNTech vaccine was the most trusted vaccine by vaccinated and \n",
            "non-vaccinated participants (47.8% and 57.9%, respectively), and \n",
            "Oxford-AstraZeneca was the most feared by them (42.2% and 57.9%, respectively). \n",
            "Internet websites (>85.0%), social media platforms (>70.0%), relatives and \n",
            "friends (>69.0%), and news applications (>60.0%) were the major sources of \n",
            "information about the COVID-19 vaccines among participants.\n",
            "CONCLUSION: Our results revealed that hesitation in receiving the vaccine \n",
            "remains a challenge in Jordan, as in other countries. The findings also show \n",
            "that participants, regardless of their vaccination status, had many concerns \n",
            "about the four types of vaccines approved for use in Jordan during the study \n",
            "conduction period. Moreover, the participants' perceptions and attitudes towards \n",
            "the vaccines were variable between vaccinated and non-vaccinated participants \n",
            "and were variable for the four types of vaccines.\n",
            "\n",
            "Copyright: © Pharmacy Practice.\n",
            "\n",
            "DOI: 10.18549/PharmPract.2023.1.2781\n",
            "PMCID: PMC10117358\n",
            "PMID: 37090450\n",
            "\n",
            "Conflict of interest statement: All Authors declare no conflicts of interest \n",
            "related to this article.\n",
            "\n",
            "\n",
            "5. Clin Shoulder Elb. 2022 Nov 11. doi: 10.5397/cise.2022.00983. Online ahead of \n",
            "print.\n",
            "\n",
            "Myositis unrelated to the inoculation site after COVID-19 vaccination: a case \n",
            "report.\n",
            "\n",
            "Han JW, Oh JM, Lee DH, Jeon YD.\n",
            "\n",
            "We describe the case of a 49-year-old right-hand-dominant woman with myositis of \n",
            "the biceps brachii muscle unrelated to the inoculation site following \n",
            "Pfizer-BioNTech COVID-19 vaccination (Pfizer) on the deltoid muscle of the left \n",
            "shoulder. The coronavirus disease 2019 (COVID-19) pandemic has involved global \n",
            "spread, and different vaccines including inactivated, protein, vectored, and \n",
            "nucleic acid vaccines have been developed and administered. Common side effects \n",
            "of COVID-19 vaccines include general manifestations such as headache, fever, and \n",
            "fatigue, and various musculoskeletal symptoms. Here, we present a case of \n",
            "myositis occurring in the biceps brachii muscle unrelated to the inoculation \n",
            "site, which has not been reported previously, accompanied by a literature \n",
            "review.\n",
            "\n",
            "DOI: 10.5397/cise.2022.00983\n",
            "PMID: 37088882\n",
            "\n",
            "\n",
            "6. Lancet Infect Dis. 2023 Apr 20:S1473-3099(23)00140-8. doi: \n",
            "10.1016/S1473-3099(23)00140-8. Online ahead of print.\n",
            "\n",
            "Immunogenicity of bivalent omicron (BA.1) booster vaccination after different \n",
            "priming regimens in health-care workers in the Netherlands (SWITCH ON): results \n",
            "from the direct boost group of an open-label, multicentre, randomised controlled \n",
            "trial.\n",
            "\n",
            "Tan NH(1), Geers D(2), Sablerolles RSG(1), Rietdijk WJR(1), Goorhuis A(3), \n",
            "Postma DF(4), Visser LG(5), Bogers S(2), van Dijk LLA(2), Gommers L(2), van \n",
            "Leeuwen LPM(2), Boerma A(6), Nijhof SH(6), van Dort KA(7), Koopmans MPG(2), Dalm \n",
            "VASH(8), Lafeber M(9), Kootstra NA(7), Huckriede ALW(6), van Baarle D(10), Zaeck \n",
            "LM(2), GeurtsvanKessel CH(2), de Vries RD(2), van der Kuy PHM(11); SWITCH ON \n",
            "Research Group.\n",
            "\n",
            "Author information:\n",
            "(1)Department of Hospital Pharmacy, Erasmus Medical Center, Rotterdam, \n",
            "Netherlands.\n",
            "(2)Department of Viroscience, Erasmus Medical Center, Rotterdam, Netherlands.\n",
            "(3)Center of Tropical Medicine and Travel Medicine, Department of Infectious \n",
            "Diseases, Amsterdam University Medical Centers, Amsterdam, Netherlands; \n",
            "Infection and Immunity, Amsterdam Public Health, University of Amsterdam, \n",
            "Amsterdam, Netherlands.\n",
            "(4)Department of Internal Medicine and Infectious Diseases, University Medical \n",
            "Center Groningen, Groningen, Netherlands.\n",
            "(5)Department of Infectious Diseases, Leiden University Medical Center, Leiden, \n",
            "Netherlands.\n",
            "(6)Department of Medical Microbiology and Infection Prevention, University \n",
            "Medical Center Groningen, Groningen, Netherlands.\n",
            "(7)Department of Experimental Immunology, Amsterdam University Medical Centers, \n",
            "Amsterdam, Netherlands.\n",
            "(8)Department of Internal Medicine, Division of Allergy and Clinical Immunology \n",
            "and Department of Immunology, Erasmus Medical Center, Rotterdam, Netherlands.\n",
            "(9)Department of Internal Medicine, Erasmus Medical Center, Rotterdam, \n",
            "Netherlands.\n",
            "(10)Department of Medical Microbiology and Infection Prevention, University \n",
            "Medical Center Groningen, Groningen, Netherlands; Center for Infectious Disease \n",
            "Control, National Institute for Public Health and the Environment, Bilthoven, \n",
            "Netherlands.\n",
            "(11)Department of Hospital Pharmacy, Erasmus Medical Center, Rotterdam, \n",
            "Netherlands. Electronic address: h.vanderkuy@erasmusmc.nl.\n",
            "\n",
            "BACKGROUND: Bivalent mRNA-based COVID-19 vaccines encoding the ancestral and \n",
            "omicron spike (S) protein were developed as a countermeasure against \n",
            "antigenically distinct SARS-CoV-2 variants. We aimed to assess the \n",
            "(variant-specific) immunogenicity and reactogenicity of mRNA-based bivalent \n",
            "omicron (BA.1) vaccines in individuals who were primed with adenovirus-based or \n",
            "mRNA-based vaccines encoding the ancestral spike protein.\n",
            "METHODS: We analysed results of the direct boost group of the SWITCH ON study, \n",
            "an open-label, multicentre, randomised controlled trial. Health-care workers \n",
            "from four academic hospitals in the Netherlands aged 18-65 years who had \n",
            "completed a primary COVID-19 vaccination regimen and received one booster of an \n",
            "mRNA-based vaccine, given no later than 3 months previously, were eligible. \n",
            "Participants were randomly assigned (1:1) using computer software in block sizes \n",
            "of 16 and 24 to receive an omicron BA.1 bivalent booster straight away (direct \n",
            "boost group) or a bivalent omicron BA.5 booster, postponed for 90 days \n",
            "(postponed boost group), stratified by priming regimen. The BNT162b2 OMI BA.1 \n",
            "boost was given to participants younger than 45 years, and the mRNA-1273.214 \n",
            "boost was given to participants 45 years or older, as per Dutch guidelines. The \n",
            "direct boost group, whose results are presented here, were divided into four \n",
            "subgroups for analysis: (1) Ad26.COV2.S (Johnson & Johnson) prime and BNT162b2 \n",
            "OMI BA.1 (BioNTech-Pfizer) boost (Ad/P), (2) mRNA-based prime and BNT162b2 OMI \n",
            "BA.1 boost (mRNA/P), (3) Ad26.COV2.S prime and mRNA-1273.214 (Moderna) boost \n",
            "(Ad/M), and (4) mRNA-based prime and mRNA-1273.214 boost (mRNA/M). The primary \n",
            "outcome was fold change in S protein S1 subunit-specific IgG antibodies before \n",
            "and 28 days after booster vaccination. The primary outcome and safety were \n",
            "assessed in all participants except those who withdrew, had a SARS-CoV-2 \n",
            "breakthrough infection, or had a missing blood sample at day 0 or day 28. This \n",
            "trial is registered with ClinicalTrials.gov, NCT05471440.\n",
            "FINDINGS: Between Sept 2 and Oct 4, 2022, 219 (50%) of 434 eligible participants \n",
            "were randomly assigned to the direct boost group; 187 participants were included \n",
            "in the primary analyses; exclusions were mainly due to SARS-CoV-2 infection \n",
            "between days 0 and 28. From the 187 included participants, 138 (74%) were female \n",
            "and 49 (26%) were male. 42 (22%) of 187 participants received Ad/P and 44 (24%) \n",
            "mRNA/P (those aged <45 years), and 45 (24%) had received Ad/M and 56 (30%) \n",
            "mRNA/M (those aged ≥45 years). S1-specific binding antibody concentrations \n",
            "increased 7 days after bivalent booster vaccination and remained stable over 28 \n",
            "days in all four subgroups (geometric mean ratio [GMR] between day 0 and day 28 \n",
            "was 1·15 [95% CI 1·12-1·19] for the Ad/P group, 1·17 [1·14-1·20] for the mRNA/P \n",
            "group, 1·20 [1·17-1·23] for the Ad/M group, and 1·16 [1·13-1·19] for the mRNA/M \n",
            "group). We observed no significant difference in the GMR between the Ad/P and \n",
            "mRNA/P groups (p=0·51). The GMR appeared to be higher in the Ad/M group than in \n",
            "the mRNA/M group, but was not significant (p=0·073). Most side-effects were mild \n",
            "to moderate in severity and resolved within 48 h in most individuals.\n",
            "INTERPRETATION: Booster vaccination with mRNA-1273.214 or BNT162b2 OMI BA.1 in \n",
            "adult healthcare workers resulted in a rapid recall of humoral and cellular \n",
            "immune responses independent of the priming regimen. Monitoring of SARS-CoV-2 \n",
            "immunity at the population level, and simultaneously antigenic drift at the \n",
            "virus level, remains crucial to assess the necessity and timing of COVID-19 \n",
            "variant-specific booster vaccinations.\n",
            "FUNDING: The Netherlands Organization for Health Research and Development \n",
            "(ZonMw).\n",
            "\n",
            "Copyright © 2023 Elsevier Ltd. All rights reserved.\n",
            "\n",
            "DOI: 10.1016/S1473-3099(23)00140-8\n",
            "PMID: 37088096\n",
            "\n",
            "Conflict of interest statement: Declaration of interests We declare no competing \n",
            "interests.\n",
            "\n",
            "\n",
            "7. Lancet Child Adolesc Health. 2023 Apr 18:S2352-4642(23)00078-0. doi: \n",
            "10.1016/S2352-4642(23)00078-0. Online ahead of print.\n",
            "\n",
            "Safety and effectiveness of vaccines against COVID-19 in children aged 5-11 \n",
            "years: a systematic review and meta-analysis.\n",
            "\n",
            "Piechotta V(1), Siemens W(2), Thielemann I(3), Toews M(4), Koch J(3), \n",
            "Vygen-Bonnet S(3), Kothari K(5), Grummich K(2), Braun C(2), Kapp P(4), Labonté \n",
            "V(2), Wichmann O(3), Meerpohl JJ(2), Harder T(3).\n",
            "\n",
            "Author information:\n",
            "(1)Immunisation Unit, Robert Koch Institute, Berlin, Germany. Electronic \n",
            "address: piechottav@rki.de.\n",
            "(2)Institute for Evidence in Medicine, Medical Center-University of Freiburg, \n",
            "Faculty of Medicine, University of Freiburg, Freiburg, Germany; Cochrane \n",
            "Germany, Cochrane Germany Foundation, Freiburg, Germany.\n",
            "(3)Immunisation Unit, Robert Koch Institute, Berlin, Germany.\n",
            "(4)Institute for Evidence in Medicine, Medical Center-University of Freiburg, \n",
            "Faculty of Medicine, University of Freiburg, Freiburg, Germany.\n",
            "(5)Independent consultant, Kobe, Japan.\n",
            "\n",
            "BACKGROUND: To date, more than 761 million confirmed SARS-CoV-2 infections have \n",
            "been recorded globally, and more than half of all children are estimated to be \n",
            "seropositive. Despite high SARS-CoV-2 infection incidences, the rate of severe \n",
            "COVID-19 in children is low. We aimed to assess the safety and efficacy or \n",
            "effectiveness of COVID-19 vaccines approved in the EU for children aged 5-11 \n",
            "years.\n",
            "METHODS: In this systematic review and meta-analysis, we included studies of any \n",
            "design identified through searching the COVID-19 L·OVE (living overview of \n",
            "evidence) platform up to Jan 23, 2023. We included studies with participants \n",
            "aged 5-11 years, with any COVID-19 vaccine approved by the European Medicines \n",
            "Agency-ie, mRNA vaccines BNT162b2 (Pfizer-BioNTech), BNT162b2 Bivalent (against \n",
            "original strain and omicron [BA.4 or BA.5]), mRNA-1273 (Moderna), or \n",
            "mRNA-1273.214 (against original strain and omicron BA.1). Efficacy and \n",
            "effectiveness outcomes were SARS-CoV-2 infection (PCR-confirmed or antigen-test \n",
            "confirmed), symptomatic COVID-19, hospital admission due to COVID-19, \n",
            "COVID-19-related mortality, multisystem inflammatory syndrome in children \n",
            "(MIS-C), and long-term effects of COVID-19 (long COVID or post-COVID-19 \n",
            "condition as defined by study investigators or per WHO definition). Safety \n",
            "outcomes of interest were serious adverse events, adverse events of special \n",
            "interest (eg, myocarditis), solicited local and systemic events, and unsolicited \n",
            "adverse events. We assessed risk of bias and rated the certainty of evidence \n",
            "(CoE) using the Grading of Recommendations Assessment, Development and \n",
            "Evaluation approach. This study was prospectively registered with PROSPERO, \n",
            "CRD42022306822.\n",
            "FINDINGS: Of 5272 screened records, we included 51 (1·0%) studies (n=17 [33%] in \n",
            "quantitative synthesis). Vaccine effectiveness after two doses against omicron \n",
            "infections was 41·6% (95% CI 28·1-52·6; eight non-randomised studies of \n",
            "interventions [NRSIs]; CoE low), 36·2% (21·5-48·2; six NRSIs; CoE low) against \n",
            "symptomatic COVID-19, 75·3% (68·0-81·0; six NRSIs; CoE moderate) against \n",
            "COVID-19-related hospitalisations, and 78% (48-90, one NRSI; CoE very low) \n",
            "against MIS-C. Vaccine effectiveness against COVID-19-related mortality was not \n",
            "estimable. Crude event rates for deaths in unvaccinated children were less than \n",
            "one case per 100 000 children, and no events were reported for vaccinated \n",
            "children (four NRSIs; CoE low). No study on vaccine effectiveness against \n",
            "long-term effects was identified. Vaccine effectiveness after three doses was \n",
            "55% (50-60; one NRSI; CoE moderate) against omicron infections, and 61% (55-67; \n",
            "one NRSI; CoE moderate) against symptomatic COVID-19. No study reported vaccine \n",
            "efficacy or effectiveness against hospitalisation following a third dose. Safety \n",
            "data suggested no increased risk of serious adverse events (risk ratio [RR] 0·83 \n",
            "[95% CI 0·21-3·33]; two randomised controlled trials; CoE low), with \n",
            "approximately 0·23-1·2 events per 100 000 administered vaccines reported in \n",
            "real-life observations. Evidence on the risk of myocarditis was uncertain (RR \n",
            "4·6 [0·1-156·1]; one NRSI; CoE low), with 0·13-1·04 observed events per 100 000 \n",
            "administered vaccines. The risk of solicited local reactions was 2·07 \n",
            "(1·80-2·39; two RCTs; CoE moderate) after one dose and 2·06 (1·70-2·49; two \n",
            "RCTs; CoE moderate) after two doses. The risk of solicited systemic reactions \n",
            "was 1·09 (1·04-1·16; two RCTs; CoE moderate) after one dose and 1·49 (1·34-1·65; \n",
            "two RCTs; CoE moderate) after two doses. The risk of unsolicited adverse events \n",
            "after two doses (RR 1·21 [1·07-1·38]; CoE moderate) was higher among \n",
            "mRNA-vaccinated compared with unvaccinated children.\n",
            "INTERPRETATION: In children aged 5-11 years, mRNA vaccines are moderately \n",
            "effective against infections with the omicron variant, but probably protect well \n",
            "against COVID-19 hospitalisations. Vaccines were reactogenic but probably safe. \n",
            "Findings of this systematic review can serve as a basis for public health policy \n",
            "and individual decision making on COVID-19 vaccination in children aged 5-11 \n",
            "years.\n",
            "FUNDING: German Federal Joint Committee.\n",
            "\n",
            "Copyright © 2023 Elsevier Ltd. All rights reserved.\n",
            "\n",
            "DOI: 10.1016/S2352-4642(23)00078-0\n",
            "PMCID: PMC10112865\n",
            "PMID: 37084750\n",
            "\n",
            "Conflict of interest statement: Declaration of interests WS was employed at \n",
            "Roche from April, 2020, to June, 2021. Roche are not involved and have no \n",
            "influence on this project. All other authors declare no competing interests.\n",
            "\n",
            "\n",
            "8. Pediatrics. 2023 May 1;151(5):e2022060295. doi: 10.1542/peds.2022-060295.\n",
            "\n",
            "COVID-19 Vaccine Safety First Year Findings in Adolescents.\n",
            "\n",
            "Hesse EM(1), Hause A(1), Myers T(1), Su JR(1), Marquez P(1), Zhang B(1), Cortese \n",
            "MM(1), Thames-Allen A(1), Curtis CR(1), Maloney SA(1), Thompson D(2), Nair N(2), \n",
            "Alimchandani M(2), Niu M(2), Gee J(1), Shay DK(1), Shimabukuro TT(1); MIS-C \n",
            "REVIEW GROUP.\n",
            "\n",
            "Author information:\n",
            "(1)CDC COVID-19 Response, Atlanta, Georgia.\n",
            "(2)Center for Biologics Evaluation and Research, Food and Drug Administration, \n",
            "Silver Spring, Maryland.\n",
            "\n",
            "BACKGROUND AND OBJECTIVES: The Food and Drug Administration expanded Emergency \n",
            "Use Authorization for use of Pfizer-BioNTech (BNT-162b2) coronavirus disease \n",
            "2019 vaccine to include people ages 12 years and older on May 10, 2021. We \n",
            "describe adverse events observed during the first full year of the US \n",
            "coronavirus disease 2019 vaccination program for adolescents ages 12 to 17 \n",
            "years.\n",
            "METHODS: We conducted descriptive analyses using data from 2 complementary US \n",
            "vaccine safety monitoring systems: v-safe, a voluntary smartphone-based system \n",
            "that monitors reactions and health impacts, and the Vaccine Adverse Event \n",
            "Reporting System (VAERS), the national spontaneous reporting system. We reviewed \n",
            "reports and calculated adverse event reporting rates using vaccine \n",
            "administration data.\n",
            "RESULTS: Among 172 032 adolescents ages 12 to 17 years enrolled in v-safe, most \n",
            "reported reactions following BNT-162b2 were mild to moderate, most frequently \n",
            "reported on the day after vaccination, and more common after dose 2. VAERS \n",
            "received 20 240 adverse event reports; 91.5% were nonserious. Among adverse \n",
            "events of interest, we verified 40 cases of multisystem inflammation syndrome in \n",
            "children (1.2 cases per million vaccinations), 34 (85%) of which had evidence of \n",
            "prior severe acute respiratory syndrome coronavirus 2 infection; and 570 cases \n",
            "of myocarditis (17.7 cases per million vaccinations), most of whom (77%) \n",
            "reported symptom resolution at the time of report.\n",
            "CONCLUSIONS: During the first year BNT-162b2 was administered to adolescents \n",
            "ages 12 to 17 years, most reported adverse events were mild and appeared \n",
            "self-limited. Rates of myocarditis were lower than earlier reports. No new \n",
            "serious safety concerns were identified.\n",
            "\n",
            "Copyright © 2023 by the American Academy of Pediatrics.\n",
            "\n",
            "DOI: 10.1542/peds.2022-060295\n",
            "PMID: 37082919 [Indexed for MEDLINE]\n",
            "\n",
            "\n",
            "9. Stem Cell Res Ther. 2023 Apr 18;14(1):95. doi: 10.1186/s13287-023-03326-3.\n",
            "\n",
            "The impact of SARS-CoV2 vaccines on the incidence of graft versus host disease \n",
            "in allogeneic hematopoietic stem cell transplant recipients: a single-center \n",
            "retrospective study.\n",
            "\n",
            "Ngo D(1), Chen J(2), Tinajero J(1), Aribi A(3), Arslan S(3), Marcucci G(3), \n",
            "Nakamura R(3), Al Malki MM(3), Forman SJ(3), Dadwal S(4), Ali H(3).\n",
            "\n",
            "Author information:\n",
            "(1)Department of Pharmacy, City of Hope Medical Center, 1500 E. Duarte Road, \n",
            "Duarte, CA, 91010, USA.\n",
            "(2)Department of Pharmacy, City of Hope Medical Center, 1500 E. Duarte Road, \n",
            "Duarte, CA, 91010, USA. jaschen@coh.org.\n",
            "(3)Department of Hematology and Hematopoietic Cell Transplantation, City of \n",
            "Hope, Duarte, CA, USA.\n",
            "(4)Department of Infectious Diseases, City of Hope, Duarte, CA, USA.\n",
            "\n",
            "This study reports the incidence of chronic graft versus host disease (GvHD) in \n",
            "allogeneic hematopoietic stem cell transplant (alloHCT) recipients who received \n",
            "SARS-CoV2 vaccination. The overall rates of new and worsening chronic GvHD \n",
            "combined were 14%, with median time from vaccination to GVHD being approximately \n",
            "three to four weeks. A majority of the cases were of mild to moderate severity \n",
            "and primarily localized to either the skin, mouth, or joints. Prior chronic GVHD \n",
            "and recent transplant were associated with higher GVHD rates following COVID-19 \n",
            "vaccination. More prospective studies are needed to provide a definitive \n",
            "mechanism for the impact of SARS-CoV2 vaccination on alloHCT patients.\n",
            "\n",
            "© 2023. The Author(s).\n",
            "\n",
            "DOI: 10.1186/s13287-023-03326-3\n",
            "PMCID: PMC10112306\n",
            "PMID: 37072867 [Indexed for MEDLINE]\n",
            "\n",
            "Conflict of interest statement: Dat Ngo has served on an advisory board with \n",
            "Pfizer. There are no other potential conflicts of interest to disclose.\n",
            "\n",
            "\n",
            "10. Arch Prev Riesgos Labor. 2023 Apr 15;26(2):106-126. doi: \n",
            "10.12961/aprl.2022.26.02.02.\n",
            "\n",
            "[Reactogenicity Study of mRNA Vaccines Against COVID-19].\n",
            "\n",
            "[Article in Spanish; Abstract available in Spanish from the publisher]\n",
            "\n",
            "Inglés Torruella J(1), Gil Soto RM(2), Sabaté Aguila E(3), García Grau M(4), \n",
            "Pons Boronat N(5), Rubio Civit A(5), Bandera Baez M(6), Moreno Martin G(6).\n",
            "\n",
            "Author information:\n",
            "(1)Salut Sant Joan Reus - Baix Camp. Hospital Universitari Sant Joan. Reus. \n",
            "Tarragona, Spain. jinglestorruella@gmail.com.\n",
            "(2)Salut Sant Joan Reus - Baix Camp. Hospital Universitari Sant Joan. Reus. \n",
            "Tarragona, Spain. rosamaría.gil@salutsantjoan.cat.\n",
            "(3)Salut Sant Joan Reus - Baix Camp. Hospital Universitari Sant Joan. Reus. \n",
            "Tarragona, Spain. esther.sabate@salutsantjoan.cat.\n",
            "(4)Salut Sant Joan Reus - Baix Camp. Hospital Universitari Sant Joan. Reus. \n",
            "Tarragona, Spain. mmerce.garcia@salutsantjoan.cat.\n",
            "(5)Facultad de Medicina. Universitat Rovira i Virgili. Reus. Tarragona, Spain.\n",
            "(6)Salut Sant Joan Reus - Baix Camp. Hospital Universitari Sant Joan. Reus. \n",
            "Tarragona, Spain.\n",
            "\n",
            "OBJECTIVE: To compare the reactogenicity between the types of mRNA Commirnaty® \n",
            "(Pfizer) and Spikevax® (Moderna) vaccines against COVID-19 in a healthcare \n",
            "population.\n",
            "METHODS: Cross sectional study of short-term adverse effects and their \n",
            "consequences (sick leave, limitations of daily life, etc.) after the \n",
            "administration of the first and second doses of both vaccines in professionals \n",
            "and students of a health institution. A questionnaire on symptoms and their \n",
            "consequences was administered seven days after each vaccination dose. The \n",
            "prevalence and 95% confidence interval (95%CI) were calculated. Differences \n",
            "between vaccines were quantified using the odds ratio (OR) and its 95%CI.\n",
            "RESULTS: The questionnaire was completed by 1924 and 1170 healthcare providers \n",
            "(response rates 62.2% and 39.1%) after the first and second doses, respectively, \n",
            "of the Commirnaty® vaccine, and 410 (56.0%) and 107 (15.0%) of Spikevax®. After \n",
            "the first dose of Comirnaty®, 67.4% presented some adverse effect, and 76.1% for \n",
            "Spikevax® (OR 1.5 95%CI 1.2-1.9). In general, women and young people showed \n",
            "greater reactogenicity and differences between vaccinSpain. Consequences of \n",
            "adverse effects were more frequent for Spikevax®. The reactogenicity was higher \n",
            "after the second than the first dose, for both vaccines (Comirnaty®: 67.4% vs. \n",
            "75.6%; Spikevax®: 76.1% vs. 87.9%.\n",
            "CONCLUSIONS: The greater reactogenicity and its consequences, for the first and \n",
            "second dose of the Spikevax® vaccine compared to Comirnaty®, and of the second \n",
            "dose compared to the first dose of both vaccines, provides useful knowledge for \n",
            "planning vaccination against COVID-19 campaigns in healthcare settings.\n",
            "\n",
            "Publisher: OBJETIVO: Comparar la reactogenicidad entre los tipos de vacuna RNAm \n",
            "Commirnaty® (Pfizer) y Spikevax® (Moderna) frente a la COVID-19 en población \n",
            "sanitaria. Métodos: Estudio de prevalencia de los efectos adversos a corto plazo \n",
            "y sus consecuencias tras la administración de la primera y segunda dosis en \n",
            "profesionales y estudiantes de una institución sanitaria. Se administró un \n",
            "cuestionario de síntomas y sus consecuencias a los 7 días de la vacunación. Se \n",
            "calculó la prevalencia e intervalo de confianza del 95% (IC95%). Las diferencias \n",
            "entre vacunas se cuantificaron mediante las odds ratio (OR) e IC95%.\n",
            "RESULTADOS: Completaron el cuestionario 1924 y 1170 sanitarios (tasas de \n",
            "respuesta 62.2% y 39.1%) tras la primera y la segunda dosis, respectivamente, de \n",
            "la vacuna Commirnaty®, y 410 (56.0%) y 107 (15.0%), de Spikevax®. Después de la \n",
            "primera dosis de Comirnaty® un 67,4% presentó algún efecto adverso, y un 76,1% \n",
            "para Spikevax® (OR 1,5 IC95% 1,2-1,9). En general mujeres y jóvenes mostraron \n",
            "mayor reactogenicidad y diferencias entre vacunas. Las consecuencias de los \n",
            "efectos adversos fueron más frecuentes para Spikevax®. La reactogenicidad fue \n",
            "superior tras la segunda dosis que tras la primera, para las dos vacunas \n",
            "(Comirnaty® 67,4% vs. 75,6%; Spikevax® 76,1% vs. 87,9%).\n",
            "CONCLUSIONES: La mayor reactogenicidad y sus consecuencias, para la primera y \n",
            "segunda dosis de la vacuna Spikevax® respecto a Comirnaty®, y de la segunda \n",
            "dosis respecto a la primera dosis de ambas vacunas, aporta conocimiento útil \n",
            "para la planificación de campañas de vacunación frente a la COVID-19 en el \n",
            "entorno sanitario.\n",
            "\n",
            "DOI: 10.12961/aprl.2022.26.02.02\n",
            "PMID: 37070591 [Indexed for MEDLINE]\n",
            "\n",
            "\n",
            "11. Healthc Anal (N Y). 2023 Nov;3:100172. doi: 10.1016/j.health.2023.100172.\n",
            "Epub  2023 Apr 11.\n",
            "\n",
            "A natural language processing approach for analyzing COVID-19 vaccination \n",
            "response in multi-language and geo-localized tweets.\n",
            "\n",
            "Canaparo M(1), Ronchieri E(1)(2), Scarso L(3).\n",
            "\n",
            "Author information:\n",
            "(1)INFN-CNAF, Viale Berti Pichat 6/2, Bologna, 40126, Italy.\n",
            "(2)Department of Statistical Sciences, University of Bologna, Via Belle Arti 41, \n",
            "Bologna, Italy.\n",
            "(3)Department of Medical and Surgical Sciences, University of Bologna, Via \n",
            "Pelagio Palagi 9, Bologna, Italy.\n",
            "\n",
            "Social media platforms, such as Twitter, have been paramount in the COVID-19 \n",
            "context due to their ability to collect public concerns about the COVID-19 \n",
            "vaccination campaign, which has been underway to end the COVID-19 pandemic. This \n",
            "worldwide campaign has heavily relied on the actual willingness of individuals \n",
            "to get vaccinated independently of the language they speak or the country they \n",
            "reside. This study analyzes Twitter posts about Pfizer/BioNTech, Moderna, \n",
            "AstraZeneca/Vaxzevria, and Johnson & Johnson vaccines by considering the most \n",
            "spoken western languages. Tweets were sampled between April 15 and September 15, \n",
            "2022, after the injections of at least three doses, collecting 9,513,063 posts \n",
            "that contained vaccine-related keywords. To determine the success of \n",
            "vaccination, temporal and sentiment analysis have been conducted, reporting \n",
            "opinion changes over time and their corresponding events whenever possible \n",
            "concerning each vaccine. Furthermore, we have extracted the main topics over \n",
            "languages providing potential bias due to the language-specific dictionary, such \n",
            "as Moderna in Spanish, and grouped them per country. Once performed the \n",
            "pre-processed procedure we worked with 8,343,490 tweets. Our findings show that \n",
            "Pfizer has been the most debated vaccine worldwide, and the main concerns have \n",
            "been the side effects on pregnant women and children and heart diseases.\n",
            "\n",
            "© 2023 The Author(s).\n",
            "\n",
            "DOI: 10.1016/j.health.2023.100172\n",
            "PMCID: PMC10088351\n",
            "PMID: 37064254\n",
            "\n",
            "Conflict of interest statement: The authors declare that they have no known \n",
            "competing financial interests or personal relationships that could have appeared \n",
            "to influence the work reported in this paper.\n",
            "\n",
            "\n",
            "12. Postgrad Med J. 2022 Sep 1;98(1163):658-659. doi: \n",
            "10.1136/postgradmedj-2021-141420.\n",
            "\n",
            "Delayed-type hypersensitivity reactions to Pfizer BioNTech SARS-CoV-2 vaccine.\n",
            "\n",
            "Beyaz Ş(1), Öksüzer Çimşir D(1), Çelebi Sözener Z(1), Soyyiğit Ş(2), Öner \n",
            "Erkekol F(2).\n",
            "\n",
            "Author information:\n",
            "(1)Department of Immunology and Allergic Diseases, Ankara City Hospital, \n",
            "Cankaya, Turkey.\n",
            "(2)Division of Immunology and Allergic Diseases, Department of Chest Diseases, \n",
            "Ankara Yıldırım Beyazıt University, Ankara, Turkey.\n",
            "\n",
            "DOI: 10.1136/postgradmedj-2021-141420\n",
            "PMID: 37062977 [Indexed for MEDLINE]\n",
            "\n",
            "\n",
            "13. Allergol Select. 2023 Mar 31;7:101-112. doi: 10.5414/ALX02373E. eCollection \n",
            "2023.\n",
            "\n",
            "SARS-CoV-2 and allergy - what have we learned after two and a half years?\n",
            "\n",
            "Brockow K, Wang R, Mathes S, Bent R, Faihs V, Eberlein B, Darsow U, Biedermann \n",
            "T.\n",
            "\n",
            "BACKGROUND: Coronavirus disease-2019 (COVID-19) has significantly hampered the \n",
            "regular workflow for allergists and allergy departments.\n",
            "MATERIALS AND METHODS: The purpose of this review is to highlight our own \n",
            "experiences on SARS-CoV-2 and allergy as well as to discuss findings from the \n",
            "literature.\n",
            "RESULTS: Vaccination against SARS-CoV-2 is needed for protection against severe \n",
            "infection. Skin reactions may arise with SARS-CoV-2 infections. Short-term \n",
            "general immune reactions and skin reactions are also possible upon SARS-CoV-2 \n",
            "vaccination; however, they recur in only a proportion of patients during \n",
            "follow-up vaccinations. Initial reports of anaphylaxis after vaccination fueled \n",
            "public fear. On the other hand, more recent epidemiologic data do not show a \n",
            "substantially increased anaphylaxis risk compared with other vaccines. \n",
            "Fear-related reactions may be essential for many \"anaphylaxis\" reports. In \n",
            "Germany, the flow chart developed by Paul-Ehrlich-Institut (PEI) and \n",
            "Robert-Koch-Institut (RKI) together with the allergological societies helps to \n",
            "care for patients with suspected \"allergy history\" safely and effectively. \n",
            "Through this, patients with increased risk of anaphylaxis to SARS-CoV-2 vaccines \n",
            "and their ingredients (e.g., polyethylene glycol (PEG), polysorbate 80) are \n",
            "identified. However, since only small amounts of these excipients are contained \n",
            "in mRNA vaccines, even some PEG-allergic patients can tolerate the vaccination. \n",
            "In Germany, an allergy test-guided procedure is recommended for high-risk \n",
            "patients, including an allergy history, prick tests, intradermal and basophil \n",
            "activation tests, and, if necessary, provocation tests. This also appears \n",
            "effective for anxiety reduction in patients with vaccination skepticism. To \n",
            "date, all of our patients have been able to be vaccinated with SARS-CoV-2 \n",
            "vaccines without the occurrence of significant reactions.\n",
            "CONCLUSION: Many initial concerns about unexpected side effects of SARS-CoV-2 \n",
            "vaccination have not been confirmed. The flowchart and, in the case of suspicion \n",
            "of hypersensitivity, an allergy test-guided risk assessment helps to reduce \n",
            "patients' fear of vaccination and enables safe vaccination.\n",
            "\n",
            "© Dustri-Verlag Dr. K. Feistle.\n",
            "\n",
            "DOI: 10.5414/ALX02373E\n",
            "PMCID: PMC10088874\n",
            "PMID: 37056446\n",
            "\n",
            "Conflict of interest statement: The authors declare no conflict of interest. \n",
            "Table 1.Lessons on SARS-CoV-2 and allergy in recent years. Skin reactions \n",
            "associated with SARS-CoV-2 infectionCommon maculopapular exanthema, \n",
            "papulovesicular exanthema, acute urticaria, and vascular \n",
            "reactionsHypersensitivity reactions to drugs used to control SARS-CoV-2 \n",
            "infectionRare, no typical triggers of hypersensitivity reactionsSide effect rate \n",
            "of SARS-CoV-2 vaccinationLow and overall comparable to other vaccinesCommon \n",
            "general adverse reactions to SARS-CoV-2 vaccination As with other vaccines, \n",
            "predominantly flu-like symptomsSkin reactions after SARS-CoV-2 vaccinationIn \n",
            "particular, local reactions, urticaria and morbilliform exanthema, also \n",
            "worsening of chronic inflammatory skin diseases, pityriasis rosea and zoster. \n",
            "Recurrence with follow-up vaccination < 50%.Severe complications after \n",
            "SARS-CoV-2 vaccination mRNA vaccinesIncreased risk of myocarditis and \n",
            "pericarditis, mostly mild and no contraindication for follow-up vaccination \n",
            "after healing. Vector vaccines: thrombosis at atypical sites especially in \n",
            "younger patients, and questionable Guillain-Barré syndrome, both \n",
            "contraindications for these vaccinesRisk of anaphylaxis to vaccinationInitially \n",
            "many individual cases of anaphylaxis reported, significantly increased risk of \n",
            "anaphylaxis feared, incidence now equal to or not substantially above that of \n",
            "other vaccines. Frequently women, allergies often reported, previous \n",
            "anaphylaxisVaccination in “allergic” patientsProcedure according to flow chart \n",
            "(Figure 2)Vaccination in patients with contact sensitization to PEGNo evidence \n",
            "of PEG immediate type allergy; we have advised patients to vaccinate and have \n",
            "several reports of good tolerabilityAllergy testing prior to vaccinationIn \n",
            "Germany/Europe if there is evidence of vaccine hypersensitivity or PEG allergy. \n",
            "In the U.S., increasingly vaccination without prior allergy testing on an \n",
            "emergency standby basisAllergy testing methodsDepending on availability and \n",
            "experience, skin prick test, intradermal test if necessary, basophil activation \n",
            "test and provocation tests with vaccine residues and adjuvants.Vaccination of \n",
            "PEG-allergic patientsPossible after allergy diagnostics, after appropriate \n",
            "documented information and consent of the patient under appropriate monitoring \n",
            "and emergency preparedness. Figure 1.Adverse reactions frequently reported to \n",
            "the Paul Ehrlich Institute after vaccination with Spikevax (Moderna), Vaxzevria \n",
            "(AstraZeneca), Comirnaty (BioNTech/Pfizer), and the COVID-19 vaccine Janssen. \n",
            "Percent frequencies are given (percentage of the number of adverse reactions \n",
            "reported in each case out of the total number of adverse reactions reported \n",
            "after administration of each COVID-19 vaccine). Source: \n",
            "https://www.pei.de/DE/newsroom/dossier/coronavirus/coronavirus-inhalt.html, \n",
            "Safety-Report-27-12-to-31-07-21.Figure 2.Updated flowchart on the procedure in \n",
            "patients with positive allergy history before COVID-19 vaccination.\n",
            "\n",
            "\n",
            "14. COVID-19 Vaccines.\n",
            "\n",
            "Drugs and Lactation Database (LactMed®) [Internet]. Bethesda (MD): National \n",
            "Institute of Child Health and Human Development; 2006–.\n",
            "2023 Apr 15.\n",
            "\n",
            "Many studies involving hundreds of women and their infants have been reported in \n",
            "the literature. No evidence suggests that women receiving a vaccine against \n",
            "SARS-CoV-2 is harmful to either the nursing mother or the breastfed infant. \n",
            "Antibodies and T-cells that neutralize the SARS-CoV-2 virus appear in the milk \n",
            "after maternal vaccination.[1-4] Neutralizing capacity may increase even while \n",
            "antibody levels drop.[5] Nursing mothers experienced minimal disruption of \n",
            "breastfeeding after vaccination although a few reported to blue or blue-green \n",
            "discoloration of their milk.[6-10] A small percentage of breastfed infants may \n",
            "experience sleepiness, increased fussiness, fever, rash or self-limiting \n",
            "diarrhea, but no serious adverse effects have been reported. Numerous \n",
            "professional organizations and governmental health authorities recommend that \n",
            "COVID-19 vaccines be offered to those who are breastfeeding because the \n",
            "potential benefits of maternal vaccination during lactation outweigh any \n",
            "theoretical risks.[11-18] Several vaccines for COVID-19, have been developed. \n",
            "Vaccines available in the US (by Pfizer-BioNTech [Comirnaty] and Moderna) are \n",
            "messenger RNA (mRNA) vaccines. Another mRNA vaccine is available in Europe \n",
            "(CureVac). Other vaccines (by Janssen-Johnson & Johnson, Astra-Zeneca, \n",
            "Sputnik-V, and CanSino) are made using human and primate adenovirus vectors. A \n",
            "third type of vaccine available outside of the US is an inactivated whole-virus \n",
            "SARS-CoV-2 vaccine (by Bharat Biotech, Sinopharm and Sinovac). A fourth type, by \n",
            "Novavax contains a synthetic version of the S protein plus an adjuvant Only a \n",
            "small percentage of milk samples from women who received an mRNA vaccine \n",
            "contained trace amounts of mRNA. Thirty-six of 40 milk samples in one study and \n",
            "5 of 309 milk samples in another had detectable mRNA levels; the highest \n",
            "concentration found was 2 mcg/L in one study and the median concentration was 70 \n",
            "ng/L in another. mRNA has not been detected in the serum of any breastfed \n",
            "infants.[19-22] mRNA has an estimated serum half-life of 8 to 10 hours and was \n",
            "not detected in milk beyond 48 hours in one group of women.[19,20,22] The tiny \n",
            "amount of polyethylene glycol-2000 in Pfizer-BioNTech vaccine is not found in \n",
            "breastmilk or absorbed orally, so breastmilk PEG exposure from maternal \n",
            "immunization is not a concern.[23] Neither of the mRNA vaccines available in the \n",
            "US contains a preservative or adjuvant. Mothers who receive an mRNA vaccine have \n",
            "marked increases in milk antibodies that are similar to or higher than after a \n",
            "COVID-19 infection. Mothers who had a COVID-19 infection during pregnancy and \n",
            "received a single dose of the Pfizer-BioNTech vaccine postpartum had higher milk \n",
            "antibody levels than those who had either only an infection or two doses of \n",
            "vaccine during pregnancy in one small study.[24] Milk IgA antibodies develop \n",
            "within 1 to 2 weeks after the first dose, with a loss in activity of 25 to 30% \n",
            "against the Alpha, Beta and Delta variants relative to the original strain. Milk \n",
            "IgG antibody levels are slower to develop after the first dose of an mRNA \n",
            "vaccine in lactating women, but increase after the second dose and persist in \n",
            "milk longer than IgA. In one study, mothers who had lactated for 24 months or \n",
            "longer had more than double the concentration of anti-viral IgG in their milk \n",
            "than mothers who had breastfed for less than 24 months.[25] Milk antibody levels \n",
            "persist for at least 6 to 8 months after vaccination. There appear to be no \n",
            "major differences in antibody response from the Pfizer-BioNTech and Moderna \n",
            "vaccines, although one study found a better IgA response to the Moderna vaccine \n",
            "than the Pfizer-BioNTech vaccine.[26] Milk antibody response against SARS CoV-2 \n",
            "following the adenovirus vector and inactivated vaccines appear to be \n",
            "considerably weaker than and delayed compared to the mRNA vaccines.[27-31] One \n",
            "study found the weakest breastmilk antibody response to the CanSino vaccine, \n",
            "compared to the Janssen and Pfizer-BioNTech vaccine.[31] Some infants have \n",
            "anti-SARS-CoV-2 IgG in their saliva and stool samples after breastfeeding, and \n",
            "although some gastric and intestinal digestion occurs, titers appear sufficient \n",
            "to neutralize SARS-CoV-2.[32,33] Saliva antibodies potentially protect breastfed \n",
            "infants from infection by coating respiratory surfaces. No increase in serum \n",
            "anti-SARS-CoV-2 antibodies are found in infant serum after maternal vaccination \n",
            "unless mothers were vaccinated during pregnancy. The IgG in milk may offer \n",
            "protection to infants against coronaviruses that cause the common cold.[34] A \n",
            "booster of the Pfizer-BioNTech or Moderna vaccine markedly increases IgG milk \n",
            "titers, but IgA titers are affected variably.[35-37] Women who had both a \n",
            "SARS-CoV-2 infection and vaccination with an adenovirus vector vaccine (Sputnik \n",
            "V [Gamaleya Institute] or ChAdOx1-S [Astra-Zeneca]) had higher IgA and IgG \n",
            "levels than women who received only a vector vaccine. Women vaccinated with \n",
            "BIBP-CorV (Sinopharm) had similar IgA levels in milk as with the vector vaccine, \n",
            "but lower milk IgG levels.[38] In one on-line survey, some women reported a \n",
            "small increase in mean menstrual cycle length for cycles in which participants \n",
            "received the first dose (0.50 days) and cycles in which participants received \n",
            "the second dose (0.39 days) of mRNA vaccines compared with pre-vaccination \n",
            "cycles. Cycles in which the single dose of Johnson & Johnson was administered \n",
            "were, on average, 1.26 days longer than pre-vaccination cycles.[39] Another \n",
            "on-line survey of comprising 184 women in Columbia some reported changes in \n",
            "frequency, regularity duration and volume of menses.[40] Women using a menstrual \n",
            "cycle tracking app reported a less than one day adjusted increase in the length \n",
            "of their first and second vaccine cycles. The change in menstrual cycle length \n",
            "was temporary and there was no change in menses length. The type of vaccine used \n",
            "did not affect the outcome.[41] In another study, most lactating persons who \n",
            "received an mRNA vaccine booster reported no adverse effects on lactation or \n",
            "other obstetric concerns.[42]\n",
            "\n",
            "PMID: 33355732\n",
            "\n",
            "\n",
            "15. Vaccine X. 2023 Aug;14:100295. doi: 10.1016/j.jvacx.2023.100295. Epub 2023\n",
            "Apr  4.\n",
            "\n",
            "COVID-19 vaccination experience in patients with rheumatoid arthritis treated at \n",
            "a single VA medical center.\n",
            "\n",
            "Abi Doumeth S(1)(2)(3), Gong J(1)(2)(4), Silversteyn L(2), O'Mara M(1)(2), Singh \n",
            "S(2), Anthony DD(1)(2)(4), Mattar M(1)(2).\n",
            "\n",
            "Author information:\n",
            "(1)Case Western Reserve University School of Medicine, Cleveland, OH, United \n",
            "States.\n",
            "(2)Louis Stokes Cleveland VA Medical Center, Cleveland, OH, United States.\n",
            "(3)University Hospitals Cleveland Medical Center, Cleveland, OH, United States.\n",
            "(4)The MetroHealth System, Cleveland, OH, United States.\n",
            "\n",
            "BACKGROUND: Following the introduction of the COVID-19 vaccines, there has been \n",
            "uncertainty as to whether receiving the COVID-19 vaccine will result in \n",
            "overactivation of the immune system and subsequently lead to an autoimmune \n",
            "disease flare.The purpose of this study was to assess whether rheumatoid \n",
            "arthritis (RA) patients who received the mRNA COVID-19 vaccine are at increased \n",
            "risk for disease flare.\n",
            "METHODS: We conducted a single-center retrospective and prospective study at the \n",
            "Louis Stokes Cleveland VA Medical Center between 12/2021 and 2/2022. We included \n",
            "100 patients with rheumatoid arthritis (RA) who were actively on \n",
            "immunosuppressive therapy and received three doses of the Pfizer-BioNTech \n",
            "vaccine. A survey questionnaire was used to collect data about their RA and if \n",
            "they developed symptoms post vaccination. Our primary end point was to determine \n",
            "incidence of flare of RA after COVID-19 vaccine. Secondary end points were to \n",
            "estimate the side effect profile from the vaccine, and to check if patients \n",
            "developed a COVID-19 infection after they received the vaccine.\n",
            "RESULTS: None of the patients reported symptoms of RA flare within two months of \n",
            "receiving the 3 doses of the vaccine. Most common vaccine side effects were \n",
            "soreness over the injection site (n = 14), headache (n = 11), fatigue(n = 7) and \n",
            "myalgias(n = 4). 5 patients developed a COVID-19 infection prior to receiving \n",
            "the vaccine, 8 after being vaccinated, 3 of the 8 within 5 months from the \n",
            "second dose and 5 out of the 8 within 3 months from the third vaccine dose.\n",
            "CONCLUSION: RA patients receiving the COVID-19 Pfizer mRNA vaccine do not appear \n",
            "to commonly develop major symptoms, flares or side effects following the \n",
            "vaccine. Further research with larger numbers of patients with rheumatoid \n",
            "arthritis as well as those with other autoimmune disease is needed to better \n",
            "understand the safety and effectiveness of COVID-19 vaccine.\n",
            "\n",
            "© 2023 The Author(s).\n",
            "\n",
            "DOI: 10.1016/j.jvacx.2023.100295\n",
            "PMCID: PMC10069931\n",
            "PMID: 37051228\n",
            "\n",
            "Conflict of interest statement: The authors declare that they have no known \n",
            "competing financial interests or personal relationships that could have appeared \n",
            "to influence the work reported in this paper.\n",
            "\n",
            "\n",
            "16. Cureus. 2023 Mar 10;15(3):e36005. doi: 10.7759/cureus.36005. eCollection 2023\n",
            " Mar.\n",
            "\n",
            "Side Effects of COVID-19 Vaccines Among Diabetic Subjects and Healthy \n",
            "Individuals.\n",
            "\n",
            "Khan F(1), Khan MT(2), Zaman S(3), Mujtaba S(4), Batool A(5), Ghanghro Z(6), \n",
            "Anwar A(7), Hashmi AA(8).\n",
            "\n",
            "Author information:\n",
            "(1)Anaesthesia, Baqai Medical University, Karachi, PAK.\n",
            "(2)Family Medicine, Standish Medical Practice, Standish, GBR.\n",
            "(3)Family Medicine, Alastair Ross Medical Practice, Bolton, GBR.\n",
            "(4)Pharmacology and Therapeutics, Hamza Medical Center and Pharmacy, Karachi, \n",
            "PAK.\n",
            "(5)Pharmacology, Karachi Medical and Dental College, Karachi, PAK.\n",
            "(6)Paediatrics, South City Hospital, Karachi, PAK.\n",
            "(7)Physiology, Hamdard College of Medicine and Dentistry, Karachi, PAK.\n",
            "(8)Pathology, Liaquat National Hospital and Medical College, Karachi, PAK.\n",
            "\n",
            "Objectives Vaccinations protect against disease through various ways, but the \n",
            "process of developing immunity might result in side effects. This study \n",
            "determined the immediate side effects of coronavirus disease 2019 (COVID-19) \n",
            "vaccination among patients with diabetes and non-diabetic participants. Methods \n",
            "This multi-center, cross-sectional study was conducted in multiple hospitals in \n",
            "Karachi, Pakistan. The duration of the study was six months, from March 1, 2022, \n",
            "to August 31, 2022. A total of 1150 participants who received one of the \n",
            "COVID-19 vaccines, for instance, Sinopharm, AstraZeneca, Sinovac, and Pfizer \n",
            "(double or booster doses) were included in the study and allocated into two \n",
            "groups: diabetics (n=540) and non-diabetics (n=610). The chi-square test was \n",
            "used to compare the frequency of side effects between diabetic and non-diabetic \n",
            "participants. The association between means of demographic variables such as age \n",
            "and weight was compared using an independent t-test. Results The study findings \n",
            "showed that the mean age of the group with diabetes was 46.73±14.98 years and \n",
            "that of the non-diabetic group was 44.01±14.80 years with a significant \n",
            "difference between them (p=0.002). The majority of participants, 187 (34.6%) \n",
            "patients with diabetes received Pfizer, while 234 (38.4%) non-diabetic \n",
            "participants received Sinovac. Following the first dose, side effects were \n",
            "higher in patients with diabetes. Burning at the injection site, fever, and pain \n",
            "were the most commonly reported side effects in patients with diabetes following \n",
            "the first dose. Additionally, following the second dose, burning at the \n",
            "injection site, muscular pain, fever, and pain were the most commonly observed \n",
            "side effects, with a significant association among diabetic and non-diabetic \n",
            "participants (p<0.001). Conclusion Diabetes is a prevalent comorbidity in \n",
            "individuals infected with COVID-19, and patients with diabetes report more side \n",
            "effects from immunization than non-diabetic participants. The most commonly \n",
            "reported side effects of the vaccine in diabetic participants were observed to \n",
            "be burning at the injection site, fever, muscle and joint pain, and swelling at \n",
            "the injection site. Additionally, participants with and without diabetes \n",
            "reported feeling satisfied with their vaccines.\n",
            "\n",
            "Copyright © 2023, Khan et al.\n",
            "\n",
            "DOI: 10.7759/cureus.36005\n",
            "PMCID: PMC10083655\n",
            "PMID: 37041898\n",
            "\n",
            "Conflict of interest statement: The authors have declared that no competing \n",
            "interests exist.\n",
            "\n",
            "\n",
            "17. Drug Saf. 2023 Apr;46(4):327-333. doi: 10.1007/s40264-023-01290-8. Epub 2023\n",
            "Apr  11.\n",
            "\n",
            "Real-World Monitoring of COVID-19 Vaccines: An Industry Expert View on the \n",
            "Successes, Challenges, and Future Opportunities.\n",
            "\n",
            "Bauchau V(1), Davis K(2), Frise S(3), Jouquelet-Royer C(4), Wilkins J(5).\n",
            "\n",
            "Author information:\n",
            "(1)GSK, Vaccine Safety, Wavre, Belgium.\n",
            "(2)Janssen R&D, LLC, Global Epidemiology, Horsham, PA, USA.\n",
            "(3)AstraZeneca, Patient Safety, Chief Medical Office, R&D, Mississauga, ON, M6S \n",
            "3X1, Canada. Sarah.Frise@astrazeneca.com.\n",
            "(4)Sanofi, Global Pharmacovigilance, Lyon, France.\n",
            "(5)Pfizer, Worldwide Medical and Safety, Collegeville, PA, USA.\n",
            "\n",
            "Pharmacovigilance leaders from major vaccine developers describe the learnings \n",
            "from the coronavirus disease 2019 (COVID-19) pandemic in the area of \n",
            "pharmacovigilance and pharmacoepidemiology. The authors aim to raise awareness \n",
            "of the co-operation among vaccine developers, highlight common challenges, \n",
            "advocate for solutions, and propose recommendations for the future in the areas \n",
            "of real-world safety and effectiveness, safety reporting and evaluation, and \n",
            "regulatory submissions. To enable timely evaluation of real-world safety and \n",
            "effectiveness, multi-sponsor study platforms were implemented, resulting in \n",
            "quicker recruitment over wide geographical areas. Future gains could be derived \n",
            "by developing geographically flexible, common protocols and/or joint \n",
            "company-sponsored studies for multiple vaccines and a collective strategy to \n",
            "build low/middle-income country (LMIC) sentinel sites. Safety reporting, signal \n",
            "detection and evaluation was particularly challenging given the unprecedented \n",
            "number of adverse events reported. New methods were required to manage increased \n",
            "report volume while maintaining the ability to quickly identify and respond to \n",
            "new data that could impact the benefit-risk profile of each vaccine. Worldwide \n",
            "health authority submissions, requests for information and differing regulatory \n",
            "requirements imposed significant burden on regulators and industry. Industry \n",
            "consensus on the safety reporting requirements and joint meetings with \n",
            "regulatory authorities markedly reduced this burden for all stakeholders. The \n",
            "most impactful innovations should be undertaken rapidly and expanded to other \n",
            "vaccines and therapeutics, with a multi-stakeholder approach. The authors of \n",
            "this paper make future recommendations and have launched an initiative named \n",
            "BeCOME (Beyond COVID Monitoring Excellence) with a focus on actions in each of \n",
            "the highlighted areas.\n",
            "\n",
            "© 2023. The Author(s).\n",
            "\n",
            "DOI: 10.1007/s40264-023-01290-8\n",
            "PMCID: PMC10088780\n",
            "PMID: 37040044 [Indexed for MEDLINE]\n",
            "\n",
            "Conflict of interest statement: All authors and contributors are employees of \n",
            "the pharmaceutical industry with stocks and/or shares in their respective \n",
            "companies. Vincent Bauchau (GSK), Kourtney Davis (Janssen R&D, LLC), Corinne \n",
            "Jouquelet-Royer (Sanofi) Jamie Wilkins (Pfizer), Sarah frise (AstraZeneca).\n",
            "\n",
            "\n",
            "18. Med Lett Drugs Ther. 2023 Apr 17;65(1674):63-64. doi:\n",
            "10.58347/tml.2023.1674c.\n",
            "\n",
            "COVID-19 update: Pfizer bivalent vaccine booster dose for children 6 months to 4 \n",
            "years old.\n",
            "\n",
            "[No authors listed]\n",
            "\n",
            "DOI: 10.58347/tml.2023.1674c\n",
            "PMID: 37039615 [Indexed for MEDLINE]\n",
            "\n",
            "\n",
            "19. Cardiol Young. 2023 Apr 11:1-7. doi: 10.1017/S1047951123000689. Online ahead\n",
            "of  print.\n",
            "\n",
            "Mid-term follow-up after COVID-19 vaccination in adults with CHD: a prospective \n",
            "study.\n",
            "\n",
            "Fusco F(1), Scognamiglio G(1), Roma AS(1), Abbate M(1), Papaccioli G(1), Merola \n",
            "A(1), Palma M(1), Borrelli N(1), Barracano R(1), Correra A(1), Grimaldi N(1), \n",
            "Ciriello GD(1), D'Abbraccio M(2), Scavone C(3), Capuano A(3), Sarubbi B(1).\n",
            "\n",
            "Author information:\n",
            "(1)Adult Congenital Heart Disease Unit, AO dei Colli - Monaldi Hospital, Naples, \n",
            "Italy.\n",
            "(2)Vaccination Unit for Vulnerable Patients, AO dei Colli - Cotugno Hospital, \n",
            "Naples, Italy.\n",
            "(3)Section of Pharmacology \"L. Donatelli\", Department of Experimental Medicine, \n",
            "University of Campania \"LuigiVanvitelli\", Naples, Italy.\n",
            "\n",
            "BACKGROUND: Long-term data on COVID-19 vaccine safety, immunogenicity, and \n",
            "acceptance in adults with CHD are lacking.\n",
            "METHODS: This is a prospective study including adults with CHD patients \n",
            "undergoing COVID-19 vaccination from January 2021 to June 2022. Data on adverse \n",
            "events, antispike IgG titre, previous or subsequent COVID-19 infection, booster \n",
            "doses, and patients' attitude towards vaccination were collected.\n",
            "RESULTS: Four hundred and ninety CHD patients (36 ± 13 years, 53% male, 94% with \n",
            "moderate/complex defects) were prospectively included: 433 (88%) received a \n",
            "Pfizer-BioNTech mRNA vaccine, 31 (6%) Moderna mRNA vaccine, 23 (5%) \n",
            "AstraZeneca-Oxford ChAdOx1 nCov-19 vaccine, and 3 (0.6%) Janssen Vaccine; 310 \n",
            "(63%) received a booster dose. Median follow-up after vaccination was 1.53 \n",
            "[1.41-1.58] years. No major adverse event was reported. Eighty-two fully \n",
            "vaccinated patients contracted COVID-19 during follow-up after a median of 5.4 \n",
            "[4.3-6.5] months from the last dose. One patient with Ebstein's disease died \n",
            "from severe COVID-19. Symptoms' duration in patients who tested positive after \n",
            "vaccination was significantly shorter than in the group tested positive before \n",
            "vaccination (5.5 [3-8] versus 9 [2.2-15] days, p = 0.04). Median antispike IgG \n",
            "titre measured in 280 individuals (57%) at a median of 1.4 [0.7-3.3] months from \n",
            "the last dose was 2381 [901-8307] BAU/ml. Sixty patients (12%) also showed \n",
            "positive antinucleocapsid antibodies, demonstrating previous SARS-COV2 exposure. \n",
            "Twenty-nine percent appeared to have concerns regarding vaccine safety and 42% \n",
            "reported fearing potential effects of the vaccine on their cardiac disease \n",
            "before discussing with their CHD cardiologist.\n",
            "CONCLUSION: COVID-19 vaccines appear safe in the mid-term follow-up in adults \n",
            "with CHD with satisfactory immunogenicity and reduction of symptoms' duration in \n",
            "case of infection.\n",
            "\n",
            "DOI: 10.1017/S1047951123000689\n",
            "PMID: 37038838\n",
            "\n",
            "\n",
            "20. Cureus. 2023 Mar 6;15(3):e35834. doi: 10.7759/cureus.35834. eCollection 2023 \n",
            "Mar.\n",
            "\n",
            "Bilateral Axillary Lymphadenopathy After COVID-19 Vaccine Presenting for Lymph \n",
            "Node Surgical Biopsy: A Case Report.\n",
            "\n",
            "Taylor A(1), Michael J(2), Sciarra J(1), Kuchciak A(1), Masri MM(3).\n",
            "\n",
            "Author information:\n",
            "(1)Anesthesiology, Larkin Community Hospital, South Miami, USA.\n",
            "(2)School of Medicine, Lake Erie College of Osteopathic Medicine (LECOM), Tampa, \n",
            "USA.\n",
            "(3)General Surgery, Larkin Community Hospital, South Miami, USA.\n",
            "\n",
            "The coronavirus disease 2019 (COVID-19) pandemic ravaged China, made its way to \n",
            "Thailand and Japan, and ultimately spread across the globe. Despite all efforts \n",
            "to contain the virus, hundreds of millions of positive cases and millions of \n",
            "deaths have been reported worldwide. Due to the vastness and severity of this \n",
            "virus, there was a desperate need for a vaccine, quickly. The COVID-19 \n",
            "vaccination was created urgently under emergency use authorization (EUA) by the \n",
            "US Food and Drug Administration (FDA) in less than one year, a process typically \n",
            "taking over 10 years. With this expedited creation time, there is also a \n",
            "shortened time frame for clinical trials, which is commonly used to evaluate for \n",
            "effectiveness and identify any potential side effects or adverse reactions to \n",
            "the created vaccine. We will discuss some potential side effects of receiving \n",
            "the Pfizer-BioNTech COVID-19 mRNA vaccination. In this case report, we discuss \n",
            "one individual who received two doses of the Pfizer-BioNTech COVID-19 mRNA \n",
            "vaccine and experienced a previous unreported adverse side effect of \n",
            "non-self-remitting bilateral axillary lymphadenopathy. This reaction was not \n",
            "originally seen during the clinical trial phase of the vaccine creation, which \n",
            "caused this individual to obtain a full medical workup including ultrasound, \n",
            "computed tomography (CT) scans, and blood work and ultimately needing surgical \n",
            "intervention to have the axillary lymphadenopathy excised. We aim to shed light \n",
            "on a new, undocumented adverse reaction that should be included in physicians' \n",
            "differential diagnoses in individuals after receiving the COVID-19 vaccine, \n",
            "particularly the Pfizer-BioNTech COVID-19 mRNA vaccination. This information \n",
            "could help future patients avoid unnecessary extensive medical workups, surgical \n",
            "procedures, being exposed to anesthesia, or having the burden of additional \n",
            "unwarranted healthcare costs.\n",
            "\n",
            "Copyright © 2023, Taylor et al.\n",
            "\n",
            "DOI: 10.7759/cureus.35834\n",
            "PMCID: PMC10075141\n",
            "PMID: 37033499\n",
            "\n",
            "Conflict of interest statement: The authors have declared that no competing \n",
            "interests exist.\n"
          ]
        }
      ]
    },
    {
      "cell_type": "code",
      "source": [
        "\n"
      ],
      "metadata": {
        "id": "TL8Pi7LGGjl_"
      },
      "execution_count": 10,
      "outputs": []
    },
    {
      "cell_type": "markdown",
      "metadata": {
        "id": "n59I5nW2oTNd"
      },
      "source": [
        "# From *in vivo* , *in vitro* to *in silico*\n",
        "\n",
        "Bioinformatics came into existence as a result of cumulative efforts of many scientists. But if we have to give the credit to two individuals for setting up the basic platform for bioinformatics we may name Margartette Dayhoff (who discovered consensus sequence) G.N.Ramachandran (who introduced the widely used phi-psi plot) .In the next stage of development , we may name Needleman and Wunch (who introduced global alignment, and a little modification of their dynamical programming algorithm leads to  local alignment). We must mention Atschachul who introduced blast search. A phenomenal growth of the subject was seen, once whole data for genome sequencing started pouring in literature and crystal structure data expanded like never before (thanks to the Cambridge crystallographic repository).  \n",
        "\n",
        "\n"
      ]
    },
    {
      "cell_type": "markdown",
      "metadata": {
        "id": "05BuF7VXocqF"
      },
      "source": [
        "# The *seqinr* package"
      ]
    },
    {
      "cell_type": "code",
      "execution_count": 11,
      "metadata": {
        "colab": {
          "base_uri": "https://localhost:8080/"
        },
        "id": "nkSXSFs0opm0",
        "outputId": "f6d3b625-7ba0-4c00-b565-4fbea7e4b88c"
      },
      "outputs": [
        {
          "output_type": "stream",
          "name": "stderr",
          "text": [
            "Installing package into ‘/usr/local/lib/R/site-library’\n",
            "(as ‘lib’ is unspecified)\n",
            "\n",
            "also installing the dependencies ‘pixmap’, ‘sp’, ‘RcppArmadillo’, ‘ade4’, ‘segmented’\n",
            "\n",
            "\n"
          ]
        }
      ],
      "source": [
        "install.packages(\"seqinr\")"
      ]
    },
    {
      "cell_type": "markdown",
      "source": [
        "## The seqinr package \n",
        "is an R package that provides functions for working with biological sequence data. Some of the main things you can do with the seqinr package include:\n",
        "\n",
        "Read and write sequence data: The read.fasta(), read.abif(), and read.binseq() functions can be used to read sequence data in various file formats, while the write.fasta(), write.abif(), and write.binseq() functions can be used to write sequence data to files.\n",
        "\n",
        "Manipulate sequence data: The subseq(), reverse(), complement(), and translate() functions can be used to extract subsequences, reverse or complement sequences, and translate nucleotide sequences to protein sequences.\n",
        "\n",
        "Align sequences: The pairwiseAlignment() function can be used to perform pairwise sequence alignments, while the clustal(), clustalw(), muscle(), and mafft() functions can be used to perform multiple sequence alignments.\n",
        "\n",
        "Calculate sequence statistics: The nucleotideFrequency(), gcContent(), and seqstat(), functions can be used to calculate various statistics of nucleotide or amino acid sequences, such as the frequency of individual nucleotides or amino acids, the GC content, and the length of the sequence.\n",
        "\n",
        "Perform sequence analysis: The blast() function can be used to perform BLAST searches against various databases, while the pepstats() and protparam() functions can be used to calculate various physicochemical properties of protein sequences, such as molecular weight, isoelectric point, and hydrophobicity.##"
      ],
      "metadata": {
        "id": "_RGzfvr9F50o"
      }
    },
    {
      "cell_type": "code",
      "source": [
        "if (!requireNamespace(\"BiocManager\", quietly = TRUE))\n",
        "    install.packages(\"BiocManager\")"
      ],
      "metadata": {
        "id": "z53r3n_l_mub",
        "colab": {
          "base_uri": "https://localhost:8080/"
        },
        "outputId": "d155d5ec-1e41-4ea2-e9f5-a0947d13311e"
      },
      "execution_count": 13,
      "outputs": [
        {
          "output_type": "stream",
          "name": "stderr",
          "text": [
            "Installing package into ‘/usr/local/lib/R/site-library’\n",
            "(as ‘lib’ is unspecified)\n",
            "\n"
          ]
        }
      ]
    },
    {
      "cell_type": "code",
      "source": [
        "BiocManager::install(\"Biostrings\")\n"
      ],
      "metadata": {
        "colab": {
          "base_uri": "https://localhost:8080/"
        },
        "id": "WWEb7QToAiut",
        "outputId": "f69643ee-9329-4b57-8c0a-663d4de1d585"
      },
      "execution_count": 14,
      "outputs": [
        {
          "output_type": "stream",
          "name": "stderr",
          "text": [
            "'getOption(\"repos\")' replaces Bioconductor standard repositories, see\n",
            "'help(\"repositories\", package = \"BiocManager\")' for details.\n",
            "Replacement repositories:\n",
            "    CRAN: https://cran.rstudio.com\n",
            "\n",
            "Bioconductor version 3.17 (BiocManager 1.30.20), R 4.3.0 (2023-04-21)\n",
            "\n",
            "Installing package(s) 'BiocVersion', 'Biostrings'\n",
            "\n",
            "also installing the dependencies ‘bitops’, ‘zlibbioc’, ‘RCurl’, ‘GenomeInfoDbData’, ‘BiocGenerics’, ‘S4Vectors’, ‘IRanges’, ‘XVector’, ‘GenomeInfoDb’\n",
            "\n",
            "\n",
            "Old packages: 'bit', 'bslib', 'cachem', 'devtools', 'digest', 'dplyr',\n",
            "  'fontawesome', 'fs', 'gargle', 'gert', 'highr', 'isoband', 'jsonlite',\n",
            "  'pkgload', 'processx', 'ps', 'rlang', 'roxygen2', 'sass', 'stringr',\n",
            "  'testthat', 'tidyverse', 'tinytex', 'vctrs', 'viridisLite', 'vroom', 'waldo',\n",
            "  'whisker', 'xfun', 'xml2', 'zip', 'boot', 'class', 'foreign', 'KernSmooth',\n",
            "  'MASS', 'nnet'\n",
            "\n"
          ]
        }
      ]
    },
    {
      "cell_type": "markdown",
      "source": [
        "# Biostring package \n",
        "# Sequence Alignment \n",
        "\\small\n",
        "Local and global alignment are two popular methods in bioinformatics used for sequence comparison. Both methods aim to identify regions of similarity between two sequences, but they differ in their approach to aligning the sequences.\n",
        "\n",
        "- Global alignment is used to align two entire sequences from start to end. It attempts to find the best alignment between the entire length of the two sequences, regardless of gaps or mismatches. This type of alignment is useful for comparing two sequences that are expected to be similar across their entire length.\n",
        "\n",
        "- On the other hand, local alignment focuses on finding the best alignment between subsequences within the two sequences. It aligns only a part of the sequences that have the highest degree of similarity, even if the rest of the sequences are not similar. This type of alignment is useful for comparing two sequences that share regions of high similarity, but are otherwise divergent.\n",
        "\n",
        "- Another difference between local and global alignment is the scoring method. In global alignment, the Needleman-Wunsch algorithm and in local alignment, the Smith-Waterman algorithm is used\n",
        "\n",
        "\n",
        "# More about the global and local alignment\n",
        "## Global alignment\n",
        " When comparing two short RNA sequences that are believed to be homologous across their entire length, such as two small RNA molecules that have a conserved function, global alignment would be a suitable method. For example, one could use global alignment to compare the sequences of two microRNAs from different species.\n",
        "\n",
        "## Local alignment:\n",
        " When comparing two short DNA sequences that share a specific sequence motif, but are otherwise variable, local alignment would be a more appropriate method. For example, one could use local alignment to compare the DNA sequences of two different CRISPR spacers to identify conserved regions that might indicate a common target for cleavage by the CRISPR/Cas system.\n",
        "\n",
        "\n",
        "\n",
        "# Quantification of similarity\n",
        "\\small\n",
        " Biostrings package in R that creates a substitution matrix for nucleotide sequences. \n",
        " \n",
        " - A substitution matrix assigns a score to every possible substitution of one nucleotide for another, based on how likely it is for that substitution to occur in an evolutionary context.\n",
        "- The nucleotideSubstitutionMatrix function takes several arguments that allow you to customize the substitution matrix it generates. Here are the arguments you can use:\n",
        "- match: The score assigned to a match between two identical nucleotides. This value is usually positive, since identical nucleotides are more likely to be conserved through evolution.\n",
        "- mismatch: The score assigned to a substitution between two different nucleotides. This value is usually negative, since substitutions between different nucleotides are less likely to be conserved.\n",
        "- baseOnly: A logical value indicating whether to create a 4x4 substitution matrix that only includes the four standard nucleotide bases (A, C, G, T).\n",
        "\n"
      ],
      "metadata": {
        "id": "_JcpxRCMkx4k"
      }
    },
    {
      "cell_type": "code",
      "source": [
        "suppressPackageStartupMessages(library(Biostrings))\n",
        "sigma <- nucleotideSubstitutionMatrix(match = 2, mismatch = -1, baseOnly = TRUE)\n",
        "s1 <- DNAString(\"GAATTC\")\n",
        "s2 <- DNAString(\"GATTA\")\n",
        "align <- pairwiseAlignment(s1, s2, substitutionMatrix = sigma, type = \"global\")\n",
        "align"
      ],
      "metadata": {
        "colab": {
          "base_uri": "https://localhost:8080/",
          "height": 88
        },
        "id": "UdYx9d9Ter2D",
        "outputId": "e64042c4-5da2-47ab-839e-4770451b37f7"
      },
      "execution_count": 27,
      "outputs": [
        {
          "output_type": "display_data",
          "data": {
            "text/plain": [
              "Global PairwiseAlignmentsSingleSubject (1 of 1)\n",
              "pattern: \u001b[47m\u001b[30mG\u001b[39m\u001b[49m\u001b[47m\u001b[30mA\u001b[39m\u001b[49m\u001b[47m\u001b[30mA\u001b[39m\u001b[49m\u001b[47m\u001b[30mT\u001b[39m\u001b[49m\u001b[47m\u001b[30mT\u001b[39m\u001b[49m\u001b[47m\u001b[30mC\u001b[39m\u001b[49m\n",
              "subject: \u001b[47m\u001b[30mG\u001b[39m\u001b[49m\u001b[47m\u001b[30mA\u001b[39m\u001b[49m-\u001b[47m\u001b[30mT\u001b[39m\u001b[49m\u001b[47m\u001b[30mT\u001b[39m\u001b[49m\u001b[47m\u001b[30mA\u001b[39m\u001b[49m\n",
              "score: -7 "
            ]
          },
          "metadata": {}
        }
      ]
    },
    {
      "cell_type": "markdown",
      "source": [
        "# Fetching the globin gene and saving it"
      ],
      "metadata": {
        "id": "lKppz7Ui9YZ5"
      }
    },
    {
      "cell_type": "code",
      "source": [
        "library(Biostrings)"
      ],
      "metadata": {
        "id": "3aqNwEPeCsFN"
      },
      "execution_count": null,
      "outputs": []
    },
    {
      "cell_type": "markdown",
      "source": [
        "## How to get the accession number for the globin gene?"
      ],
      "metadata": {
        "id": "T4UL4lURBaWQ"
      }
    },
    {
      "cell_type": "code",
      "source": [
        "# Load the rentrez package\n",
        "library(rentrez)\n",
        "\n",
        "# Define the search term\n",
        "my_query <- \"human beta-globin gene\"\n",
        "\n",
        "# Search for articles related to the query and retrieve their IDs\n",
        "search_results <- entrez_search(db = \"nucleotide\", term = my_query)\n",
        "\n",
        "# Retrieve the first 10 search results\n",
        "my_entrez_ids <- search_results$ids[1:10]\n",
        "\n",
        "# Fetch the summary information for the search results\n",
        "my_summaries <- entrez_summary(db = \"nucleotide\", id = my_entrez_ids)\n",
        "\n",
        "# Extract the accession numbers from the summaries\n",
        "my_accessions <- sapply(my_summaries, function(x) x$accession)\n",
        "\n",
        "# Print the accession numbers\n",
        "print(my_accessions)\n"
      ],
      "metadata": {
        "colab": {
          "base_uri": "https://localhost:8080/"
        },
        "id": "QSgzDnmcBi6z",
        "outputId": "53db780f-88c9-4f8d-e5ab-27ffa8bb2388"
      },
      "execution_count": 16,
      "outputs": [
        {
          "output_type": "stream",
          "name": "stdout",
          "text": [
            "       170784839       2125203911       2088263913       1531243743 \n",
            "   \"NM_008452.2\" \"NM_001313903.2\" \"NM_001313902.2\"    \"NM_006164.5\" \n",
            "       926657653        926657647        926657645        926657644 \n",
            "\"NM_001313904.1\" \"NM_001313901.1\" \"NM_001313900.1\" \"NM_001145413.3\" \n",
            "       926657643       2086959188 \n",
            "\"NM_001145412.3\"    \"NR_172914.1\" \n"
          ]
        }
      ]
    },
    {
      "cell_type": "markdown",
      "source": [
        "## Use one of these acessions "
      ],
      "metadata": {
        "id": "XPhwvbKNCJOM"
      }
    },
    {
      "cell_type": "code",
      "source": [
        "\n",
        "library(rentrez)\n",
        "\n",
        "# Set the accession number\n",
        "accession <- \"NM_008452.2\"\n",
        "\n",
        "# Use efetch to retrieve the FASTA sequence\n",
        "seq <- entrez_fetch(db = \"nucleotide\", id = accession, rettype = \"fasta\")\n",
        "\n",
        "# Print the sequence\n",
        "cat(seq)\n",
        "\n"
      ],
      "metadata": {
        "colab": {
          "base_uri": "https://localhost:8080/"
        },
        "id": "NicTgAUU-FZE",
        "outputId": "4de49a2f-92ce-440a-a2d6-fe5d14d9dc97"
      },
      "execution_count": 24,
      "outputs": [
        {
          "output_type": "stream",
          "name": "stdout",
          "text": [
            ">NM_008452.2 Mus musculus Kruppel-like transcription factor 2 (lung) (Klf2), mRNA\n",
            "ACACACAGTCCCTGCCATGGCGCTCAGCGAGCCTATCTTGCCGTCCTTTGCCACTTTCGCCAGCCCGTGC\n",
            "GAGCGCGGCCTCCAGGAGCGCTGGCCGCGAAATGAACCCGAGGCGGGCGGCACGGATGAGGACCTAAACA\n",
            "ACGTGTTGGACTTCATCCTCTCCATGGGATTGGACGGTCTGGGCGCCGAAAATCCTCCCGAGCCCCCGCC\n",
            "GCAGCCCCCGCCGCCTGCCTTCTACTACCCGGAGCCGGGTGCTCCGCCGCCCTACAGCATCCCCGCGGCC\n",
            "AGCCTGGGAACAGAGCTGCTGCGCCCCGACCTGGACCCGCCTCAGGGGCCGGCTCTGCACGGCCGCTTCC\n",
            "TCCTCGCGCCTCCCGGGCGGCTAGTGAAGGCCGAGCCCCCCGAGGTGGACGGCGGCGGCTACGGCTGCGC\n",
            "TCCGGGCCTGGCCCACGGACCGCGCGGGCTGAAGCTCGAGGGCGCCCCAGGAGCGACAGGTGCATGCATG\n",
            "CGGGGTCCCGCCGGCCGCCCCCCGCCGCCCCCGGACACGCCGCCGCTCAGCCCCGACGGCCCCCTGCGCA\n",
            "TCCCGGCGTCCGGTCCCCGCAACCCGTTCCCGCCGCCCTTCGGTCCCGGCCCCAGCTTCGGCGGTCCCGG\n",
            "CCCCGCGTTGCACTACGGGCCTCCCGCGCCTGGCGCCTTCGGTCTTTTCGAGGACGCGGCGGCAGCGGCG\n",
            "GCGGCGCTGGGCTTGGCTCCACCTGCCACGCGCGGTCTCCTCACGCCGCCCTCGTCCCCGCTGGAGCTGC\n",
            "TGGAGGCCAAGCCCAAACGCGGCCGCCGCTCCTGGCCCCGCAAGCGCGCCGCCACACATACTTGCAGCTA\n",
            "CACCAACTGCGGCAAGACCTACACCAAGAGCTCGCACCTAAAGGCGCATCTGCGTACACACACAGGTGAG\n",
            "AAGCCTTATCATTGCAACTGGGAAGGATGCGGCTGGAAGTTCGCGCGCTCTGACGAGCTTACCCGCCACT\n",
            "ACCGAAAGCACACAGGTCACAGACCCTTTCAGTGCCACTTGTGCGACCGGGCCTTCTCCAGGTCCGACCA\n",
            "CCTGGCCTTGCACATGAAGCGACACATGTAGCCTGGGTCGACTCGGCTAGCCCATGCGCGACTGTGGCAG\n",
            "GTTCCACGCGCGGGGCACGGTCCCCTTGCAAACAGACTGCTATTTATTGGACCTTAGGACAGAGCCGGAC\n",
            "AAGTGTGGCCACAGGAAAATGACTCTGCCACCAGTTCTGGCCCCCACAGTGACTGAAGGCCCCAGGAAAG\n",
            "AAGACAGGAGTCTGTGAAGAATGTTTTCAAAATGGTGCAATAATTGACTTATTTCCCTCGGGTCCCCACT\n",
            "AGAGGATCGAGGCTAGATGCCTTGTGAGAAATGCCTTTGAGTTTACTGTCCCCAACGTTTTTATAATATT\n",
            "GTATATAAGACTATGACCGATTGTATTTCTATAAGGGAGACGATGGCATCTCTGCCGCCTGCTTCGTTTT\n",
            "TATACGACTTTTTTTTAATTAAAGTTTTGGATCTTTGGAGGAATCACGGTAGTGGTGTGGCTGGGGATAG\n",
            "GGTAGGTCCTGAGGGGACAGGGAGCAGTCAGTGCCTGTGGCCAAGGTCACCAGCTGCAGCCCCCAGCTGC\n",
            "CAAGGCCTGTGGGTTCGCTATAAATGTAAACATGGTGTTTTAGGATTGAGCACAGGTTATTTTTAAGTCT\n",
            "GCTACTTTGAGCCATAATTTGCCCCACCCCCACCCCCTGTATCCCAAGTGGGAAAAGCCTTGGCTCCACT\n",
            "GATGTGGCTGACCATTCCTTTTTTTAGAAAGAAAAATAGAAAAGAAAATTAAAAACCTTTTCCTGG\n",
            "\n"
          ]
        }
      ]
    },
    {
      "cell_type": "markdown",
      "source": [
        "## Dengue\n",
        "\n",
        "- Dengue is a viral disease transmitted by mosquitoes, mainly the Aedes aegypti mosquito.\n",
        "- It is caused by the Dengue virus, which is a single-stranded RNA virus belonging to the Flaviviridae family.\n",
        "- Dengue is prevalent in tropical and subtropical regions of the world, and its symptoms include high fever, severe headache, joint and muscle pain, and a rash. \n",
        "- There is no specific treatment for Dengue, and supportive care is the mainstay of management.\n",
        "\n",
        "## H1N1:\n",
        "- H1N1 is a subtype of the Influenza A virus that causes seasonal flu in humans.\n",
        "- It is a segmented RNA virus belonging to the Orthomyxoviridae family, and it can infect humans, pigs, and birds.\n",
        "- H1N1 caused a pandemic in 2009-2010, also known as the swine flu pandemic.\n",
        "- Symptoms of H1N1 include fever, cough, sore throat, body aches, and fatigue.\n",
        "- Vaccines are available to prevent H1N1, and antiviral drugs can be used to treat severe cases."
      ],
      "metadata": {
        "id": "7FFcmil5I-Kj"
      }
    },
    {
      "cell_type": "markdown",
      "metadata": {
        "id": "thk0ER5DpJqM"
      },
      "source": [
        "A function to access sequence from NCBI"
      ]
    },
    {
      "cell_type": "code",
      "execution_count": 47,
      "metadata": {
        "id": "RvTKcNRBpQye"
      },
      "outputs": [],
      "source": [
        "getncbiseq <- function(accession)\n",
        "{\n",
        "require(\"seqinr\") # this function requires the SeqinR R package\n",
        "# first find which ACNUC database the accession is stored in:\n",
        "dbs <- c(\"genbank\",\"refseq\",\"refseqViruses\",\"bacterial\")\n",
        "numdbs <- length(dbs)\n",
        "for (i in 1:numdbs)\n",
        "      {\n",
        "db <- dbs[i]\n",
        "choosebank(db)\n",
        "# check if the sequence is in ACNUC database 'db':\n",
        "resquery <- try(query(\".tmpquery\", paste(\"AC=\", accession)), silent = TRUE)\n",
        "\n",
        "if (!(inherits(resquery, \"try-error\"))) {\n",
        "  queryname <- \"query2\"\n",
        "  thequery <- paste(\"AC=\", accession, sep=\"\")\n",
        "  query2 <- query(queryname, thequery)\n",
        "  # see if a sequence was retrieved:\n",
        "  seq <- getSequence(query2$req[[1]])\n",
        "  closebank()\n",
        "  return(seq)\n",
        "}\n",
        "closebank()\n",
        "}\n",
        "print(paste(\"ERROR: accession\",accession,\"was not found\"))\n",
        "}"
      ]
    },
    {
      "cell_type": "markdown",
      "metadata": {
        "id": "DM4jcg7CpbNQ"
      },
      "source": [
        "# The Dengue virus sequence \n"
      ]
    },
    {
      "cell_type": "markdown",
      "metadata": {
        "id": "ygEdisoXpjJH"
      },
      "source": [
        "The variable dengueseq is a vector containing the nucleotide sequence. Each element of the vector contains one nucleotide of the sequence. Therefore, to print out a certain subsequence of the sequence, we just need to type the name of the vector dengueseq followed by the square brackets containing the indices for those nucleotides. For example, the following command prints out the first 50 nucleotides of the DEN-1 Dengue virus genome sequence"
      ]
    },
    {
      "cell_type": "code",
      "execution_count": 48,
      "metadata": {
        "id": "Ejc3Ex0Qpn1E",
        "colab": {
          "base_uri": "https://localhost:8080/"
        },
        "outputId": "3bcb60d6-68b3-4ab9-ffdc-083f602917e5"
      },
      "outputs": [
        {
          "output_type": "stream",
          "name": "stderr",
          "text": [
            "Loading required package: seqinr\n",
            "\n",
            "\n",
            "Attaching package: ‘seqinr’\n",
            "\n",
            "\n",
            "The following object is masked from ‘package:Biostrings’:\n",
            "\n",
            "    translate\n",
            "\n",
            "\n"
          ]
        }
      ],
      "source": [
        "dengueseq <- getncbiseq(\"NC_001477\")"
      ]
    },
    {
      "cell_type": "markdown",
      "metadata": {
        "id": "aSPotCYupyur"
      },
      "source": [
        "# First 20 members of the  Dengue virus sequence \n"
      ]
    },
    {
      "cell_type": "code",
      "execution_count": 49,
      "metadata": {
        "colab": {
          "base_uri": "https://localhost:8080/",
          "height": 34
        },
        "id": "4Yc53JY8p0er",
        "outputId": "f4febafb-ca80-41ee-df50-450c4590d812"
      },
      "outputs": [
        {
          "output_type": "display_data",
          "data": {
            "text/html": [
              "<style>\n",
              ".list-inline {list-style: none; margin:0; padding: 0}\n",
              ".list-inline>li {display: inline-block}\n",
              ".list-inline>li:not(:last-child)::after {content: \"\\00b7\"; padding: 0 .5ex}\n",
              "</style>\n",
              "<ol class=list-inline><li>'a'</li><li>'g'</li><li>'t'</li><li>'t'</li><li>'g'</li><li>'t'</li><li>'t'</li><li>'a'</li><li>'g'</li><li>'t'</li><li>'c'</li><li>'t'</li><li>'a'</li><li>'c'</li><li>'g'</li><li>'t'</li><li>'g'</li><li>'g'</li><li>'a'</li><li>'c'</li></ol>\n"
            ],
            "text/markdown": "1. 'a'\n2. 'g'\n3. 't'\n4. 't'\n5. 'g'\n6. 't'\n7. 't'\n8. 'a'\n9. 'g'\n10. 't'\n11. 'c'\n12. 't'\n13. 'a'\n14. 'c'\n15. 'g'\n16. 't'\n17. 'g'\n18. 'g'\n19. 'a'\n20. 'c'\n\n\n",
            "text/latex": "\\begin{enumerate*}\n\\item 'a'\n\\item 'g'\n\\item 't'\n\\item 't'\n\\item 'g'\n\\item 't'\n\\item 't'\n\\item 'a'\n\\item 'g'\n\\item 't'\n\\item 'c'\n\\item 't'\n\\item 'a'\n\\item 'c'\n\\item 'g'\n\\item 't'\n\\item 'g'\n\\item 'g'\n\\item 'a'\n\\item 'c'\n\\end{enumerate*}\n",
            "text/plain": [
              " [1] \"a\" \"g\" \"t\" \"t\" \"g\" \"t\" \"t\" \"a\" \"g\" \"t\" \"c\" \"t\" \"a\" \"c\" \"g\" \"t\" \"g\" \"g\" \"a\"\n",
              "[20] \"c\""
            ]
          },
          "metadata": {}
        }
      ],
      "source": [
        "dengueseq[1:20]\n"
      ]
    },
    {
      "cell_type": "code",
      "execution_count": 51,
      "metadata": {
        "id": "nmazQTBSrla0"
      },
      "outputs": [],
      "source": [
        "write.fasta(names=\"/content/sample_data/DEN-1\", sequences=dengueseq, file.out=\"den1.fasta\")\n"
      ]
    },
    {
      "cell_type": "code",
      "execution_count": 52,
      "metadata": {
        "id": "AuFrNYG8soTe"
      },
      "outputs": [],
      "source": [
        "dengue <- read.fasta(file = \"/content/den1.fasta\")\n"
      ]
    },
    {
      "cell_type": "markdown",
      "metadata": {
        "id": "DDEstdWts_0C"
      },
      "source": [
        "Length of a DNA sequence\n",
        "Once you have retrieved a DNA sequence, we can obtain some simple statistics to describe that sequence, such as the sequence’s total length in nucleotides. In the above example, we retrieved the DEN-1 Dengue virus genome se- quence, and stored it in the vector variable dengueseq. To subsequently obtain the length of the genome sequence, we would use the length() function, typing:\n"
      ]
    },
    {
      "cell_type": "code",
      "execution_count": 53,
      "metadata": {
        "colab": {
          "base_uri": "https://localhost:8080/",
          "height": 34
        },
        "id": "taC5xjP2tDFC",
        "outputId": "de9dd5ed-1bf1-49f0-c0ce-8c56f57d811f"
      },
      "outputs": [
        {
          "output_type": "display_data",
          "data": {
            "text/html": [
              "10735"
            ],
            "text/markdown": "10735",
            "text/latex": "10735",
            "text/plain": [
              "[1] 10735"
            ]
          },
          "metadata": {}
        }
      ],
      "source": [
        "dengueseq <- dengue[[1]]\n",
        "length(dengueseq)"
      ]
    },
    {
      "cell_type": "markdown",
      "metadata": {
        "id": "MPKMngrY4TuW"
      },
      "source": [
        " ## Base composition of a DNA sequence\n"
      ]
    },
    {
      "cell_type": "code",
      "execution_count": 54,
      "metadata": {
        "colab": {
          "base_uri": "https://localhost:8080/",
          "height": 71
        },
        "id": "I-8f0zYi4eKL",
        "outputId": "7ed55562-c992-45b5-ab1b-37842d002407"
      },
      "outputs": [
        {
          "output_type": "display_data",
          "data": {
            "text/plain": [
              "dengueseq\n",
              "   a    c    g    t \n",
              "3426 2240 2770 2299 "
            ]
          },
          "metadata": {}
        }
      ],
      "source": [
        "table(dengueseq)"
      ]
    },
    {
      "cell_type": "markdown",
      "metadata": {
        "id": "BUq7zdOn4oVl"
      },
      "source": [
        "# H1N1 Sequence"
      ]
    },
    {
      "cell_type": "code",
      "execution_count": 55,
      "metadata": {
        "id": "n6q2tCNn52Bo"
      },
      "outputs": [],
      "source": [
        "h1n1seq<-getncbiseq(\"HM624086\")\t\n"
      ]
    },
    {
      "cell_type": "code",
      "execution_count": 57,
      "metadata": {
        "id": "1-UzmAgG6FJT"
      },
      "outputs": [],
      "source": [
        "write.fasta(names=\"/content/sample_data/h1n1\", sequences=h1n1seq, file.out=\"h1n1.fasta\")\n"
      ]
    },
    {
      "cell_type": "code",
      "execution_count": 58,
      "metadata": {
        "id": "KjMHldJ36PkW"
      },
      "outputs": [],
      "source": [
        "h1n1<-read.fasta(file = \"/content/h1n1.fasta\")\n"
      ]
    },
    {
      "cell_type": "code",
      "execution_count": 59,
      "metadata": {
        "colab": {
          "base_uri": "https://localhost:8080/",
          "height": 71
        },
        "id": "ZYbiOsY26Y8T",
        "outputId": "0258493d-1541-40bc-d59c-ad7350d369c4"
      },
      "outputs": [
        {
          "output_type": "display_data",
          "data": {
            "text/plain": [
              "/content/sample_data/h1n1\n",
              "  a   c   g   t \n",
              "603 314 377 407 "
            ]
          },
          "metadata": {}
        }
      ],
      "source": [
        "table(h1n1)"
      ]
    },
    {
      "cell_type": "code",
      "execution_count": 60,
      "metadata": {
        "id": "X9c6Vy3A7q-j"
      },
      "outputs": [],
      "source": [
        "h1n1seq<-h1n1[[1]]"
      ]
    },
    {
      "cell_type": "markdown",
      "metadata": {
        "id": "PobfdlxW6dK_"
      },
      "source": [
        "# GC contents "
      ]
    },
    {
      "cell_type": "code",
      "execution_count": 61,
      "metadata": {
        "colab": {
          "base_uri": "https://localhost:8080/",
          "height": 52
        },
        "id": "RKMItNQR6gcW",
        "outputId": "481cc272-b46c-402f-f650-579833be28b4"
      },
      "outputs": [
        {
          "output_type": "display_data",
          "data": {
            "text/html": [
              "0.466697717745692"
            ],
            "text/markdown": "0.466697717745692",
            "text/latex": "0.466697717745692",
            "text/plain": [
              "[1] 0.4666977"
            ]
          },
          "metadata": {}
        },
        {
          "output_type": "display_data",
          "data": {
            "text/html": [
              "0.406231628453851"
            ],
            "text/markdown": "0.406231628453851",
            "text/latex": "0.406231628453851",
            "text/plain": [
              "[1] 0.4062316"
            ]
          },
          "metadata": {}
        }
      ],
      "source": [
        "GC(dengueseq)\n",
        "GC(h1n1seq)\n"
      ]
    },
    {
      "cell_type": "markdown",
      "metadata": {
        "id": "EYWBQG_58K3a"
      },
      "source": [
        "# Counting (alternative of Table) \n",
        "\n",
        "1.   List item\n",
        "2.   List item\n",
        "\n"
      ]
    },
    {
      "cell_type": "code",
      "execution_count": 62,
      "metadata": {
        "colab": {
          "base_uri": "https://localhost:8080/",
          "height": 124
        },
        "id": "RPOx-45g8hR1",
        "outputId": "4502c5eb-f186-4b2e-dd56-2521bdcb8142"
      },
      "outputs": [
        {
          "output_type": "display_data",
          "data": {
            "text/plain": [
              "\n",
              "   a    c    g    t \n",
              "3426 2240 2770 2299 "
            ]
          },
          "metadata": {}
        },
        {
          "output_type": "display_data",
          "data": {
            "text/plain": [
              "\n",
              "  a   c   g   t \n",
              "603 314 377 407 "
            ]
          },
          "metadata": {}
        }
      ],
      "source": [
        "count(dengueseq,1)\n",
        "count(h1n1seq,1)"
      ]
    },
    {
      "cell_type": "markdown",
      "source": [
        "# Sequence alignment"
      ],
      "metadata": {
        "id": "JF2WtdPFgzX8"
      }
    },
    {
      "cell_type": "code",
      "source": [
        "if (!requireNamespace(\"BiocManager\", quietly = TRUE))\n",
        "    install.packages(\"BiocManager\")\n",
        "    \n",
        "BiocManager::install(\"msa\")\n"
      ],
      "metadata": {
        "colab": {
          "base_uri": "https://localhost:8080/"
        },
        "id": "3R32e-I342Uh",
        "outputId": "cd7c7f39-c502-424d-b283-34e06070d04e"
      },
      "execution_count": 68,
      "outputs": [
        {
          "output_type": "stream",
          "name": "stderr",
          "text": [
            "'getOption(\"repos\")' replaces Bioconductor standard repositories, see\n",
            "'help(\"repositories\", package = \"BiocManager\")' for details.\n",
            "Replacement repositories:\n",
            "    CRAN: https://cran.rstudio.com\n",
            "\n",
            "Bioconductor version 3.17 (BiocManager 1.30.20), R 4.3.0 (2023-04-21)\n",
            "\n",
            "Installing package(s) 'msa'\n",
            "\n",
            "Old packages: 'bit', 'bslib', 'cachem', 'devtools', 'digest', 'dplyr',\n",
            "  'fontawesome', 'fs', 'gargle', 'gert', 'highr', 'isoband', 'jsonlite',\n",
            "  'pkgload', 'processx', 'ps', 'rlang', 'roxygen2', 'sass', 'stringr',\n",
            "  'testthat', 'tidyverse', 'tinytex', 'vctrs', 'viridisLite', 'vroom', 'waldo',\n",
            "  'whisker', 'xfun', 'xml2', 'zip', 'boot', 'class', 'foreign', 'KernSmooth',\n",
            "  'MASS', 'nnet'\n",
            "\n"
          ]
        }
      ]
    },
    {
      "cell_type": "code",
      "source": [
        "library(msa)"
      ],
      "metadata": {
        "id": "MaO8oq2H6Mzf"
      },
      "execution_count": 69,
      "outputs": []
    },
    {
      "cell_type": "code",
      "source": [
        "seq1<- read.fasta(\"den1.fasta\")\n",
        "seq2<- read.fasta(\"h1n1.fasta\")"
      ],
      "metadata": {
        "id": "t3qGegr1p_PJ"
      },
      "execution_count": 70,
      "outputs": []
    },
    {
      "cell_type": "code",
      "source": [
        "# Perform Clustal alignment\n",
        "# Two example DNA sequences\n",
        "\n",
        "sseq1 <- \"ATCGCGATCGCGCGCGCGCGCGCGCGCGCGCGCGCGCGCGCGCGCGCGCGCGCGCGCGCGCGC\"\n",
        "sseq2 <- \"ATCGCGATCGCGCGCGCGCGCGCGCGCGCGCGCGCGCGCGCGCGCGCGCGCGCGCGCGCGCGCAG\"\n",
        "\n",
        "alignment <- msa(c(sseq1, sseq2), method = \"ClustalW\", type = \"dna\")\n",
        "alignment_matrix <- as.matrix(alignment)\n",
        "\n",
        "# Write the matrix to a file\n",
        "write.table(alignment_matrix, file = \"my_alignment.txt\", sep = \"\\t\", quote = FALSE, row.names = FALSE, col.names = FALSE)\n",
        "\n",
        "print(alignment_matrix)\n"
      ],
      "metadata": {
        "id": "E8xaMhjeqRkh",
        "colab": {
          "base_uri": "https://localhost:8080/"
        },
        "outputId": "aed9cc34-a482-49b6-efe8-060d39d658d5"
      },
      "execution_count": 73,
      "outputs": [
        {
          "output_type": "stream",
          "name": "stdout",
          "text": [
            "use default substitution matrix\n",
            "     [,1] [,2] [,3] [,4] [,5] [,6] [,7] [,8] [,9] [,10] [,11] [,12] [,13] [,14]\n",
            "[1,] \"A\"  \"T\"  \"C\"  \"G\"  \"C\"  \"G\"  \"A\"  \"T\"  \"C\"  \"G\"   \"C\"   \"G\"   \"C\"   \"G\"  \n",
            "[2,] \"A\"  \"T\"  \"C\"  \"G\"  \"C\"  \"G\"  \"A\"  \"T\"  \"C\"  \"G\"   \"C\"   \"G\"   \"C\"   \"G\"  \n",
            "     [,15] [,16] [,17] [,18] [,19] [,20] [,21] [,22] [,23] [,24] [,25] [,26]\n",
            "[1,] \"C\"   \"G\"   \"C\"   \"G\"   \"C\"   \"G\"   \"C\"   \"G\"   \"C\"   \"G\"   \"C\"   \"G\"  \n",
            "[2,] \"C\"   \"G\"   \"C\"   \"G\"   \"C\"   \"G\"   \"C\"   \"G\"   \"C\"   \"G\"   \"C\"   \"G\"  \n",
            "     [,27] [,28] [,29] [,30] [,31] [,32] [,33] [,34] [,35] [,36] [,37] [,38]\n",
            "[1,] \"C\"   \"G\"   \"C\"   \"G\"   \"C\"   \"G\"   \"C\"   \"G\"   \"C\"   \"G\"   \"C\"   \"G\"  \n",
            "[2,] \"C\"   \"G\"   \"C\"   \"G\"   \"C\"   \"G\"   \"C\"   \"G\"   \"C\"   \"G\"   \"C\"   \"G\"  \n",
            "     [,39] [,40] [,41] [,42] [,43] [,44] [,45] [,46] [,47] [,48] [,49] [,50]\n",
            "[1,] \"C\"   \"G\"   \"C\"   \"G\"   \"C\"   \"G\"   \"C\"   \"G\"   \"C\"   \"G\"   \"C\"   \"G\"  \n",
            "[2,] \"C\"   \"G\"   \"C\"   \"G\"   \"C\"   \"G\"   \"C\"   \"G\"   \"C\"   \"G\"   \"C\"   \"G\"  \n",
            "     [,51] [,52] [,53] [,54] [,55] [,56] [,57] [,58] [,59] [,60] [,61] [,62]\n",
            "[1,] \"C\"   \"G\"   \"C\"   \"G\"   \"C\"   \"G\"   \"C\"   \"G\"   \"C\"   \"G\"   \"C\"   \"G\"  \n",
            "[2,] \"C\"   \"G\"   \"C\"   \"G\"   \"C\"   \"G\"   \"C\"   \"G\"   \"C\"   \"G\"   \"C\"   \"G\"  \n",
            "     [,63] [,64] [,65]\n",
            "[1,] \"C\"   \"-\"   \"-\"  \n",
            "[2,] \"C\"   \"A\"   \"G\"  \n"
          ]
        }
      ]
    },
    {
      "cell_type": "markdown",
      "metadata": {
        "id": "SlI7O2A5HgcN"
      },
      "source": [
        "## RNA-seq analysis in R\n"
      ]
    },
    {
      "cell_type": "markdown",
      "metadata": {
        "id": "pedaF3VBH3EX"
      },
      "source": [
        "<https://combine-australia.github.io/RNAseq-R/00-r-rstudio-intro.html>"
      ]
    },
    {
      "cell_type": "markdown",
      "metadata": {
        "id": "jrIKctSHH_xq"
      },
      "source": [
        "\n",
        "\n",
        "Mouse mammary data (counts): https://figshare.com/s/1d788fd384d33e913a2a </p>\n",
        "Drosophila data (counts): https://figshare.com/s/e08e71c42f118dbe8be6"
      ]
    },
    {
      "cell_type": "markdown",
      "metadata": {
        "id": "Xs8EtfTUL0BI"
      },
      "source": []
    },
    {
      "cell_type": "code",
      "execution_count": null,
      "metadata": {
        "colab": {
          "base_uri": "https://localhost:8080/",
          "height": 34
        },
        "id": "2a4001SMMLz3",
        "outputId": "d8b4f8d0-9cfb-4691-b2b0-bc44a9b9a0d1"
      },
      "outputs": [
        {
          "data": {
            "text/html": [
              "<style>\n",
              ".list-inline {list-style: none; margin:0; padding: 0}\n",
              ".list-inline>li {display: inline-block}\n",
              ".list-inline>li:not(:last-child)::after {content: \"\\00b7\"; padding: 0 .5ex}\n",
              "</style>\n",
              "<ol class=list-inline><li>'den1.fasta'</li><li>'h1n1.fasta'</li><li>'mouse_c2_v5.rdata'</li><li>'sample_data'</li></ol>\n"
            ],
            "text/latex": "\\begin{enumerate*}\n\\item 'den1.fasta'\n\\item 'h1n1.fasta'\n\\item 'mouse\\_c2\\_v5.rdata'\n\\item 'sample\\_data'\n\\end{enumerate*}\n",
            "text/markdown": "1. 'den1.fasta'\n2. 'h1n1.fasta'\n3. 'mouse_c2_v5.rdata'\n4. 'sample_data'\n\n\n",
            "text/plain": [
              "[1] \"den1.fasta\"        \"h1n1.fasta\"        \"mouse_c2_v5.rdata\"\n",
              "[4] \"sample_data\"      "
            ]
          },
          "metadata": {},
          "output_type": "display_data"
        }
      ],
      "source": [
        "list.files()"
      ]
    },
    {
      "cell_type": "markdown",
      "metadata": {
        "id": "MTQ_IvmC836O"
      },
      "source": [
        "Smarter installationof Bioconductor package \n",
        "<https://bioconductor.org/packages/release/bioc/>\n",
        "\n"
      ]
    },
    {
      "cell_type": "markdown",
      "metadata": {
        "id": "xVF80gDW9Q5f"
      },
      "source": [
        "** Example 1: Biobase installation**"
      ]
    },
    {
      "cell_type": "code",
      "execution_count": null,
      "metadata": {
        "id": "Qes1TYjI9ZOL"
      },
      "outputs": [],
      "source": []
    },
    {
      "cell_type": "code",
      "execution_count": null,
      "metadata": {
        "id": "IO553C8YMVz7"
      },
      "outputs": [],
      "source": [
        "#library(Biobase)"
      ]
    },
    {
      "cell_type": "code",
      "execution_count": null,
      "metadata": {
        "colab": {
          "background_save": true
        },
        "id": "O7lYw3mr6Tby"
      },
      "outputs": [],
      "source": [
        "#BiocManager::install(c(\"GenomicFeatures\", \"AnnotationDbi\"))"
      ]
    },
    {
      "cell_type": "code",
      "execution_count": null,
      "metadata": {
        "id": "HjyzvvRA7RbN"
      },
      "outputs": [],
      "source": [
        "$ library(AnnotationDbi)"
      ]
    },
    {
      "cell_type": "markdown",
      "metadata": {
        "id": "bK7JF37m88XF"
      },
      "source": [
        "# Problem \n",
        "How many of each of the four nucleotides A, C, T and G, and any other symbols, are there in the Mycobacterium leprae Note: other symbols apart from the four nucleotides A/C/T/G may appear in a sequence. They correspond\n",
        "to positions in the sequence that are are not clearly one base or another and they are due, for example,\n",
        "to sequencing uncertainties. or example, the symbol ‘N’ means ‘aNy base’, while ‘R’ means ‘A or G’\n",
        "(puRine). There is a table of symbols at www.bioinformatics.org/sms/iupac.html."
      ]
    },
    {
      "cell_type": "code",
      "source": [
        "acc<- 'NC_002677' \n"
      ],
      "metadata": {
        "id": "RQpcRS4AoqRZ"
      },
      "execution_count": null,
      "outputs": []
    },
    {
      "cell_type": "markdown",
      "metadata": {
        "id": "kf2oIrXH9M_E"
      },
      "source": [
        "https://www.ncbi.nlm.nih.gov/nuccore/NC_000962.2?report=fasta"
      ]
    },
    {
      "cell_type": "markdown",
      "source": [
        "URL=<https://www.ncbi.nlm.nih.gov/nuccore/NC_002677.1/?report=genbank&log$=nuclalign&from=1&to=3414141>"
      ],
      "metadata": {
        "id": "VhbWGcqIo8YE"
      }
    },
    {
      "cell_type": "code",
      "source": [],
      "metadata": {
        "id": "fzdR4xLepaiW"
      },
      "execution_count": null,
      "outputs": []
    },
    {
      "cell_type": "markdown",
      "source": [
        "# Quiz Bioinfo \n",
        " - What information about the rabies virus sequence (NCBI accession NC_001542) can you obtain from its annotations.\n",
        "What does it say in the DEFINITION and ORGANISM fields of its NCBI record? Note: rabies virus is the virus responsible for rabies, which is classified by the WHO as a neglected tropical disease.\n",
        "\n",
        "- How many nucleotide sequences are there from the bacterium Chlamydia trachomatis in the NCBI Sequence Database? Note: the bacterium Chlamydia trachomatis is responsible for causing trachoma, which is classified by the WHO as a neglected tropical disease.\n",
        "- How many nucleotide sequences are there from the bacterium Chlamydia trachomatis in the RefSeq part of the NCBI Sequence Database?\n",
        "- How many nucleotide sequences were submitted to NCBI by Matthew Berriman?\n",
        "- How many nucleotide sequences from nematode worms are there in the RefSeq Database? Note that several parasitic nematode worms cause neglected tropical diseases, including Brugia malayi and Wucheria bancrofti, which cause lymphatic filariasis; Loa loa, which causes subcutaneous filariasis; Onchocerca volvulus, which causes onchocerciasis; and Necator americanus, which causes soil-transmitted helminthiasis.\n",
        "- How many nucleotide sequences for collagen genes from nematode worms are there in the NCBI Database?\n",
        "- How many mRNA sequences for collagen genes from nematode worms are there in the NCBI Database?\n",
        "- How many protein sequences for collagen proteins from nematode worms are there in the NCBI database?\n",
        "- What is the accession number for the Trypanosoma cruzi genome in NCBI? Do you see genome se- quences for more than one strain of Trypanosoma cruzi? Note that the Trypanosoma cruzi causes Chagas disease, which is classified as a neglected tropical disease by the WHO.\n",
        "-How many fully sequenced nematode worm species are represented in the NCBI Genome database?"
      ],
      "metadata": {
        "id": "SjGWvhSaILG6"
      }
    },
    {
      "cell_type": "markdown",
      "source": [
        "# Answers\n",
        "\n",
        "\n",
        "\n",
        "\n",
        "a) What information about the rabies virus sequence (NCBI accession NC_001542) can you obtain from its annotations?\n",
        "\n",
        "From the annotations of the rabies virus sequence (NCBI accession NC_001542), we can obtain various information such as its DEFINITION, which describes the source organism, length, and molecular type of the sequence. We can also find information about the ORGANISM, which is \"Rabies virus\" in this case. Additionally, annotations can provide information about the features of the sequence, such as genes, coding regions, and other relevant information.\n",
        "\n",
        "b) How many nucleotide sequences are there from the bacterium Chlamydia trachomatis in the NCBI Sequence Database?\n",
        "\n",
        "*See code below*.\n",
        "\n",
        "\n",
        "c) How many nucleotide sequences are there from the bacterium Chlamydia trachomatis in the RefSeq part of the NCBI Sequence Database?\n",
        "\n",
        "There are 379 nucleotide sequences from the bacterium Chlamydia trachomatis in the RefSeq part of the NCBI Sequence Database.\n",
        "\n",
        "d) How many nucleotide sequences were submitted to NCBI by Matthew Berriman?\n",
        "\n",
        "*See code below*.\n",
        "\n",
        "e) How many nucleotide sequences from nematode worms are there in the RefSeq Database?\n",
        "\n",
        "*See code below*.\n",
        "\n",
        "\n",
        "f) How many nucleotide sequences for collagen genes from nematode worms are there in the NCBI Database?\n",
        "\n",
        "*See code below*.\n",
        "\n",
        "\n",
        "g) How many mRNA sequences for collagen genes from nematode worms are there in the NCBI Database?\n",
        "\n",
        "*See code below*.\n",
        "\n",
        "\n",
        "h) How many protein sequences for collagen proteins from nematode worms are there in the NCBI database?\n",
        "\n",
        "*See code below*.\n",
        "\n",
        "\n",
        "i) What is the accession number for the Trypanosoma cruzi genome in NCBI? Do you see genome sequences for more than one strain of Trypanosoma cruzi?\n",
        "\n",
        "The accession number for the Trypanosoma cruzi genome in NCBI is GCF_000002325.2. Yes, there are genome sequences available for multiple strains of Trypanosoma cruzi in NCBI.\n",
        "\n",
        "j) How many fully sequenced nematode worm species are represented in the NCBI Genome database?\n",
        "\n",
        "As of my knowledge cutoff date of September 2021, there were 68 fully sequenced nematode worm species represented in the NCBI Genome database."
      ],
      "metadata": {
        "id": "ya457Ke3q5Mq"
      }
    },
    {
      "cell_type": "code",
      "source": [],
      "metadata": {
        "id": "Jhg9ohRjPBvT"
      },
      "execution_count": null,
      "outputs": []
    },
    {
      "cell_type": "code",
      "source": [
        "# a\n",
        "# Load the required packages\n",
        "library(rentrez)\n",
        "library(Biostrings)\n",
        "\n",
        "# Set the NCBI accession number for the Rabies virus genome\n",
        "acc <- \"NC_001542\"\n",
        "rabbies<- getncbiseq(acc)\n",
        "write.fasta(names=\"/content/sample_data/rabbies\", sequences=rabbies, file.out=\"rabbies.fasta\")\n"
      ],
      "metadata": {
        "id": "GTMpe38dhnpi"
      },
      "execution_count": 74,
      "outputs": []
    },
    {
      "cell_type": "markdown",
      "source": [
        "- Visit <https://www.ncbi.nlm.nih.gov/nuccore/NC_001542.1>\n",
        "- It indicates that the gene \"GeneID:1489853\" is assigned the locus tag \"RABVgp1\". \n",
        "-  CDS   5418..11846"
      ],
      "metadata": {
        "id": "wFUlrIdfkzUf"
      }
    },
    {
      "cell_type": "code",
      "source": [
        "#b\n",
        "# Load necessary packages\n",
        "library(rentrez)\n",
        "\n",
        "# Search NCBI Sequence Database for Chlamydia trachomatis nucleotide sequences\n",
        "term <- \"Chlamydia trachomatis\"\n",
        "search <- entrez_search(db=\"nuccore\", term=term, retmax=0)\n",
        "search$count\n",
        "search$QueryTranslation"
      ],
      "metadata": {
        "colab": {
          "base_uri": "https://localhost:8080/",
          "height": 52
        },
        "id": "8AyDhkS0rvFq",
        "outputId": "3f047882-58d2-4a89-f178-9a7721fa991a"
      },
      "execution_count": 75,
      "outputs": [
        {
          "output_type": "display_data",
          "data": {
            "text/html": [
              "106051"
            ],
            "text/markdown": "106051",
            "text/latex": "106051",
            "text/plain": [
              "[1] 106051"
            ]
          },
          "metadata": {}
        },
        {
          "output_type": "display_data",
          "data": {
            "text/html": [
              "'\"Chlamydia trachomatis\"[Organism] OR Chlamydia trachomatis[All Fields]'"
            ],
            "text/markdown": "'\"Chlamydia trachomatis\"[Organism] OR Chlamydia trachomatis[All Fields]'",
            "text/latex": "'\"Chlamydia trachomatis\"{[}Organism{]} OR Chlamydia trachomatis{[}All Fields{]}'",
            "text/plain": [
              "[1] \"\\\"Chlamydia trachomatis\\\"[Organism] OR Chlamydia trachomatis[All Fields]\""
            ]
          },
          "metadata": {}
        }
      ]
    },
    {
      "cell_type": "code",
      "source": [
        "# c\n",
        "library(rentrez)\n",
        "search <- entrez_search(db=\"nucleotide\", term=\"Chlamydia trachomatis[Organism] AND refseq[filter]\", retmax=0)\n",
        "count <- as.integer(search$count)\n",
        "cat(\"Number of nucleotide sequences from Chlamydia trachomatis in the RefSeq database:\", count)\n"
      ],
      "metadata": {
        "colab": {
          "base_uri": "https://localhost:8080/"
        },
        "id": "jqv3K33Rtw_8",
        "outputId": "88498363-6b43-4067-f1b3-30c2988df333"
      },
      "execution_count": 76,
      "outputs": [
        {
          "output_type": "stream",
          "name": "stdout",
          "text": [
            "Number of nucleotide sequences from Chlamydia trachomatis in the RefSeq database: 379"
          ]
        }
      ]
    },
    {
      "cell_type": "code",
      "source": [
        "# d\n",
        "library(rentrez)\n",
        "\n",
        "# Search NCBI Nucleotide Database for sequences submitted by Matthew Berriman\n",
        "term <- \"Berriman M[Author]\"\n",
        "search <- entrez_search(db=\"nuccore\", term=term, retmax=0)\n",
        "count <- search$count\n",
        "\n",
        "# Print the result\n",
        "cat(\"Number of nucleotide sequences submitted by Matthew Berriman:\", count, \"\\n\")\n"
      ],
      "metadata": {
        "colab": {
          "base_uri": "https://localhost:8080/"
        },
        "id": "n0RgJ6L4wh_k",
        "outputId": "76f8c720-7f38-4ec9-a4f7-b34eb5cc896f"
      },
      "execution_count": 77,
      "outputs": [
        {
          "output_type": "stream",
          "name": "stdout",
          "text": [
            "Number of nucleotide sequences submitted by Matthew Berriman: 648267 \n"
          ]
        }
      ]
    },
    {
      "cell_type": "code",
      "source": [
        "#e\n",
        "library(rentrez)\n",
        "\n",
        "# Search for nucleotide sequences from nematode worms in RefSeq Database\n",
        "term <- \"nematoda[Organism] AND refseq[filter]\"\n",
        "search <- entrez_search(db=\"nuccore\", term=term, retmax=0)\n",
        "\n",
        "# Get the count of nucleotide sequences\n",
        "count <- search$count\n",
        "print(paste(\"Number of nucleotide sequences from nematode worms in RefSeq Database:\", count))\n"
      ],
      "metadata": {
        "colab": {
          "base_uri": "https://localhost:8080/"
        },
        "id": "KoktMwIHxTX4",
        "outputId": "e35a2799-f3b5-4f76-fb25-fde357af1f8e"
      },
      "execution_count": 78,
      "outputs": [
        {
          "output_type": "stream",
          "name": "stdout",
          "text": [
            "[1] \"Number of nucleotide sequences from nematode worms in RefSeq Database: 205389\"\n"
          ]
        }
      ]
    },
    {
      "cell_type": "code",
      "source": [
        "#f\n",
        "library(rentrez)\n",
        "\n",
        "# Search NCBI Nucleotide Database for collagen genes from nematode worms\n",
        "term <- \"collagen AND nematode\"\n",
        "search <- entrez_search(db=\"nucleotide\", term=term, retmax=0)\n",
        "cat(\"Number of nucleotide sequences for collagen genes from nematode worms in NCBI Database:\", search$count)\n"
      ],
      "metadata": {
        "colab": {
          "base_uri": "https://localhost:8080/"
        },
        "id": "Fm_ZNr1QfaxO",
        "outputId": "9ecf7fe7-1100-4e9d-fb07-f2225e9e74c7"
      },
      "execution_count": 79,
      "outputs": [
        {
          "output_type": "stream",
          "name": "stdout",
          "text": [
            "Number of nucleotide sequences for collagen genes from nematode worms in NCBI Database: 10735"
          ]
        }
      ]
    },
    {
      "cell_type": "code",
      "source": [
        "#g\n",
        "library(rentrez)\n",
        "\n",
        "# Set search parameters\n",
        "term <- \"nematoda[orgn] AND collagen AND biomol_mrna[prop]\"\n",
        "search <- entrez_search(db=\"nucleotide\", term=term, retmax=0)\n",
        "\n",
        "# Print the count result\n",
        "cat(\"Number of mRNA sequences for collagen genes from nematode worms in NCBI database:\", search$count)\n"
      ],
      "metadata": {
        "colab": {
          "base_uri": "https://localhost:8080/"
        },
        "id": "SwKWDygmgcZG",
        "outputId": "9ebdc41b-7c7d-4340-b89c-7b4aaebaf955"
      },
      "execution_count": 80,
      "outputs": [
        {
          "output_type": "stream",
          "name": "stdout",
          "text": [
            "Number of mRNA sequences for collagen genes from nematode worms in NCBI database: 7606"
          ]
        }
      ]
    },
    {
      "cell_type": "code",
      "source": [
        "#h\n",
        "library(rentrez)\n",
        "\n",
        "# Search NCBI Protein Database for collagen proteins from nematode worms\n",
        "term <- \"nematode collagen protein\"\n",
        "search <- entrez_search(db=\"protein\", term=term, retmax=0)\n",
        "\n",
        "# Print the number of protein sequences\n",
        "cat(\"Number of protein sequences for collagen proteins from nematode worms:\",\n",
        "    format(search$count, big.mark=\",\", scientific=FALSE))\n",
        "\n"
      ],
      "metadata": {
        "colab": {
          "base_uri": "https://localhost:8080/"
        },
        "id": "ABo1KdCZhQhg",
        "outputId": "41a26ff2-98cd-45cf-b10b-0a0d4d8f3350"
      },
      "execution_count": 81,
      "outputs": [
        {
          "output_type": "stream",
          "name": "stdout",
          "text": [
            "Number of protein sequences for collagen proteins from nematode worms: 10,795"
          ]
        }
      ]
    },
    {
      "cell_type": "code",
      "source": [
        "#i \n",
        "library(rentrez)\n",
        "\n",
        "# Search for the Trypanosoma cruzi genome in the nucleotide database\n",
        "term <- \"Trypanosoma cruzi[Organism]\"\n",
        "search <- entrez_search(db = \"nucleotide\", term = term)\n",
        "\n",
        "# Print the accession numbers for the results\n",
        "if (search$count > 0) {\n",
        "  res <- entrez_fetch(db = \"nucleotide\", id = search$ids[1], rettype = \"acc\")\n",
        "  cat(\"Accession number for the T. cruzi genome:\", res, \"\\n\")\n",
        "} else {\n",
        "  cat(\"No results found.\\n\")\n",
        "}\n",
        "# ANSWER IS WRONG"
      ],
      "metadata": {
        "colab": {
          "base_uri": "https://localhost:8080/"
        },
        "id": "-97SSFoKi_1X",
        "outputId": "d267566f-83a5-4587-e91d-8582428ffe37"
      },
      "execution_count": 82,
      "outputs": [
        {
          "output_type": "stream",
          "name": "stdout",
          "text": [
            "Accession number for the T. cruzi genome: OP356744.1\n",
            " \n"
          ]
        }
      ]
    },
    {
      "cell_type": "code",
      "source": [
        "library(rentrez)\n",
        "\n",
        "# Search for all T. cruzi sequences in the nucleotide database\n",
        "term <- \"Trypanosoma\"\n",
        "search <- entrez_search(db = \"nucleotide\", term = term)\n",
        "\n",
        "# Filter the results to include only genome sequences\n",
        "ids <- search$ids[search$ds == \"nuccore\" & grepl(\"genome\", search$description)]\n",
        "if (length(ids) > 0) {\n",
        "  # Print the accession numbers for the genome sequences\n",
        "  res <- entrez_fetch(db = \"nucleotide\", id = ids, rettype = \"acc\")\n",
        "  cat(\"Accession numbers for T. cruzi genome sequences:\\n\", res, \"\\n\")\n",
        "} else {\n",
        "  cat(\"No genome sequences found.\\n\")\n",
        "}\n"
      ],
      "metadata": {
        "colab": {
          "base_uri": "https://localhost:8080/"
        },
        "id": "PwdifyrlrCF2",
        "outputId": "293af658-28d6-4edd-857c-54b6c8e58066"
      },
      "execution_count": 83,
      "outputs": [
        {
          "output_type": "stream",
          "name": "stdout",
          "text": [
            "No genome sequences found.\n"
          ]
        }
      ]
    },
    {
      "cell_type": "markdown",
      "source": [
        "# Added Note \n",
        "RefSeq (Reference Sequence) is a comprehensive, curated, non-redundant, and well-annotated database of reference sequences for a variety of organisms, including bacteria, viruses, fungi, plants, and animals. The RefSeq database provides a stable reference for genome annotation, gene and protein identification, transcriptomic analysis, and other biological investigations. RefSeq entries are derived from multiple sources, including genomic, transcriptomic, and protein sequence data, and are reviewed and annotated by experts to ensure high quality and accuracy. RefSeq records are regularly updated and maintained, and are widely used as a standard reference for a variety of biological research applications. Thus the number of entries (379)<< (106051)"
      ],
      "metadata": {
        "id": "sDczu3NIu-i3"
      }
    }
  ],
  "metadata": {
    "accelerator": "GPU",
    "colab": {
      "provenance": [],
      "authorship_tag": "ABX9TyNIUaMBhT5l6Ha4gA1iM0B1",
      "include_colab_link": true
    },
    "kernelspec": {
      "display_name": "R",
      "name": "ir"
    },
    "language_info": {
      "name": "R"
    }
  },
  "nbformat": 4,
  "nbformat_minor": 0
}