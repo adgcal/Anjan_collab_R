{
  "nbformat": 4,
  "nbformat_minor": 0,
  "metadata": {
    "colab": {
      "provenance": [],
      "authorship_tag": "ABX9TyNAdeT81kzUUZf19Mm5+QFM",
      "include_colab_link": true
    },
    "kernelspec": {
      "name": "ir",
      "display_name": "R"
    },
    "language_info": {
      "name": "R"
    }
  },
  "cells": [
    {
      "cell_type": "markdown",
      "metadata": {
        "id": "view-in-github",
        "colab_type": "text"
      },
      "source": [
        "<a href=\"https://colab.research.google.com/github/adgcal/Anjan_collab_R/blob/main/Intuition1.ipynb\" target=\"_parent\"><img src=\"https://colab.research.google.com/assets/colab-badge.svg\" alt=\"Open In Colab\"/></a>"
      ]
    },
    {
      "cell_type": "markdown",
      "source": [
        "# Intuition driven scientific discoveries"
      ],
      "metadata": {
        "id": "LdbtrGTqIPH2"
      }
    },
    {
      "cell_type": "markdown",
      "source": [
        "## Bhaskaracharyya\n",
        "Some  intuitive notions about gravity was revealed to other cultures even in the pre-Newton period ascertains that intuitions pervade the time dimension.Conclusions on gravity was made by the Indian Mathematician Bhaskaracharyya @chatterjee2008encyclopaedic, @pingree1970history, @joseph2000crest,@sarma1979bhaskaracharya,@raghavan1988bhaskaracharya. Many great scientific discoveries relied heavily on intuitive insights.  The connections between intellect and intuition are one of the great mysteries of our universe anf the connection of intuitive ideas accross the time tunnel is interesting to note."
      ],
      "metadata": {
        "id": "UyDZb3bEI5Zj"
      }
    },
    {
      "cell_type": "markdown",
      "source": [
        "## Newton\n",
        "John Maynard Keynes was a British economist who is considered one of the most influential economists of the 20th century. He was also a close friend of the physicist and mathematician Isaac Newton. In his essay \"Newton the Man,\" Keynes wrote that Newton's \"powers of intuition were the strongest and most enduring with which a man has ever been gifted.\"Newton was able to see patterns in the motion of planets and stars that no one else had seen before. He was also able to see connections between different branches of mathematics and physics.Here are some of the ways in which Newton's intuition helped him to make his discoveries:\n",
        "- His intuition helped him to see patterns in the motion of planets and stars. This led to his development of the laws of motion and gravity.\n",
        "- His intuition helped him to see connections between different branches of mathematics and physics. This led to his development of calculus.\n",
        "- His willingness to take risks and to challenge the status quo. This led to his development of the theory of universal gravitation."
      ],
      "metadata": {
        "id": "aZhEStPwIhKL"
      }
    },
    {
      "cell_type": "markdown",
      "source": [
        "##  Einstein\n",
        "Einstein's theory of relativity was based on his intuition that the laws of physics should be the same for all observers, regardless of their motion. This was a radical idea at the time, and it took many years for Einstein to convince other scientists of its validity.\n",
        "The other intuitive idea he has was the constancy of the velocity of light irresespective of velocity at which the observer is moving(@einstein1905). This intuitive conjecture was latter verified  by Michelson–Morley experiment (@michelson1887).\n"
      ],
      "metadata": {
        "id": "U1r5pKgDJXUI"
      }
    },
    {
      "cell_type": "markdown",
      "source": [
        "## Kekule's (1829 - 1896)\n",
        "\n",
        "A well-documented case of intuition concerns Frederick Kekule's (1829 - 1896) discovery of the structure of benzene. Kekule saw the answer in a dream of a snake coiled and biting its tail.  \n",
        "In an intuitive flash, he realized that the molecular structure was characterized by a ring of carbon atoms.  Benzene is a 6-carbon ringed compound with 6 hydrogen atoms with carbon-carbon bonds arranged alternately single and double.\n"
      ],
      "metadata": {
        "id": "_a2pNcwsJre5"
      }
    },
    {
      "cell_type": "markdown",
      "source": [
        "## Dmitri Mendeleev\n",
        "Dmitri Mendeleev and the Periodic Table: Dmitri Mendeleev's intuition played a crucial role in the development of the periodic table of elements. Based on his observations of the properties of different elements, Mendeleev arranged them in a tabular form, leaving gaps for undiscovered elements. His intuition led him to predict the existence and properties of these missing elements, which were later discovered and confirmed his predictions"
      ],
      "metadata": {
        "id": "7IAjFbHMKAVy"
      }
    },
    {
      "cell_type": "markdown",
      "source": [
        "## Srinivasa Ramanujan\n",
        "The Indian mathematician Srinivasa Ramanujan is renowned for his extraordinary mathematical abilities. He often claimed that many of his mathematical discoveries came to him in dreams or visions. Ramanujan credited the Hindu goddess Namagiri for revealing mathematical formulas and identities to him during his dreams. His intuitive insights led to significant contributions to number theory, infinite series, and mathematical analysis."
      ],
      "metadata": {
        "id": "3CnHdAP5LMdI"
      }
    },
    {
      "cell_type": "markdown",
      "source": [
        "### Niels Bohr and the Structure of the Atom:\n",
        "Niels Bohr, a Danish physicist, made significant contributions to our understanding of atomic structure and quantum theory. He once described how the idea of electrons moving in discrete orbits around the nucleus of an atom came to him in a dream. This dream-inspired insight helped form the foundation of the Bohr model of the atom."
      ],
      "metadata": {
        "id": "p2eGXN52Mf6P"
      }
    }
  ]
}