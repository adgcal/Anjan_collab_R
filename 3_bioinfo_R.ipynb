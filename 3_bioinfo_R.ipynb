{
  "cells": [
    {
      "cell_type": "markdown",
      "metadata": {
        "id": "view-in-github",
        "colab_type": "text"
      },
      "source": [
        "<a href=\"https://colab.research.google.com/github/adgcal/Anjan_collab_R/blob/main/3_bioinfo_R.ipynb\" target=\"_parent\"><img src=\"https://colab.research.google.com/assets/colab-badge.svg\" alt=\"Open In Colab\"/></a>"
      ]
    },
    {
      "cell_type": "markdown",
      "metadata": {
        "id": "HywK9pKLQ2OA"
      },
      "source": [
        "# R Curiosity :Bioinformatics "
      ]
    },
    {
      "cell_type": "markdown",
      "metadata": {
        "id": "NB1VO6PbRyFH"
      },
      "source": []
    },
    {
      "cell_type": "markdown",
      "metadata": {
        "id": "Vv2YU_x3R7jD"
      },
      "source": [
        "## Extracting data from PUBMED "
      ]
    },
    {
      "cell_type": "markdown",
      "metadata": {
        "id": "PvDOhzbvSl0E"
      },
      "source": [
        "\n",
        "- PubMed is an online repository of references and abstracts of publications in the fields of medicine and life sciences. \n",
        "- PubMed is a free resource that is developed and maintained by the National Center for Biotechnology Information (NCBI)\n",
        "- Alternatively, PubMed can be programmatically queried via the NCBI Entrez E-utilities interface.\n"
      ]
    },
    {
      "cell_type": "code",
      "execution_count": null,
      "metadata": {
        "id": "PBUtYeIsl1oa"
      },
      "outputs": [],
      "source": [
        "install.packages(\"devtools\")"
      ]
    },
    {
      "cell_type": "code",
      "execution_count": null,
      "metadata": {
        "colab": {
          "base_uri": "https://localhost:8080/"
        },
        "id": "Jth5Z5kzmASl",
        "outputId": "f2c697c3-7b8a-4827-b8e8-a8e943784713"
      },
      "outputs": [
        {
          "output_type": "stream",
          "name": "stderr",
          "text": [
            "Loading required package: usethis\n",
            "\n"
          ]
        }
      ],
      "source": [
        "library(devtools)"
      ]
    },
    {
      "cell_type": "code",
      "execution_count": null,
      "metadata": {
        "id": "m34wdhvJmHuk"
      },
      "outputs": [],
      "source": [
        "#installed.packages()"
      ]
    },
    {
      "cell_type": "code",
      "execution_count": null,
      "metadata": {
        "id": "-30fDes65CvD"
      },
      "outputs": [],
      "source": []
    },
    {
      "cell_type": "markdown",
      "metadata": {
        "id": "ZGkPvZeXnEoW"
      },
      "source": [
        "[link text](https://)library(easyPubMed)\n",
        "# easyPubmed description\n",
        "- easyPubMed is an R interface to the Entrez Programming Utilities aimed at allowing an easy and smooth programmatic access to PubMed. \n",
        "- The package is suitable for batch downloading large volumes of records (via the batch_pubmed_download() function), and comes with a set of functions to perform basic processing of the PubMed query output.\n",
        "- easyPubMed can request and handle PubMed records in either XML or TXT format. "
      ]
    },
    {
      "cell_type": "markdown",
      "metadata": {
        "id": "9Sz1zWhdnN7x"
      },
      "source": [
        "# A simple example \n",
        "- easyPubMed\n",
        "- rentrez \n"
      ]
    },
    {
      "cell_type": "code",
      "execution_count": null,
      "metadata": {
        "id": "UDWSdBPFlgCg"
      },
      "outputs": [],
      "source": [
        "install_github(\"dami82/easyPubMed\")"
      ]
    },
    {
      "cell_type": "code",
      "execution_count": null,
      "metadata": {
        "id": "g1EAWkr03h4C",
        "colab": {
          "base_uri": "https://localhost:8080/"
        },
        "outputId": "77c7d727-427c-40f8-d566-f1acae2de915"
      },
      "outputs": [
        {
          "output_type": "stream",
          "name": "stderr",
          "text": [
            "Installing package into ‘/usr/local/lib/R/site-library’\n",
            "(as ‘lib’ is unspecified)\n",
            "\n",
            "also installing the dependency ‘XML’\n",
            "\n",
            "\n"
          ]
        }
      ],
      "source": [
        "install.packages(\"rentrez\")"
      ]
    },
    {
      "cell_type": "code",
      "execution_count": null,
      "metadata": {
        "colab": {
          "base_uri": "https://localhost:8080/",
          "height": 86
        },
        "id": "OZpU33BtnnFo",
        "outputId": "5b56519a-d794-4a78-d0a8-aedf2887681b"
      },
      "outputs": [
        {
          "output_type": "display_data",
          "data": {
            "text/html": [
              "<style>\n",
              ".list-inline {list-style: none; margin:0; padding: 0}\n",
              ".list-inline>li {display: inline-block}\n",
              ".list-inline>li:not(:last-child)::after {content: \"\\00b7\"; padding: 0 .5ex}\n",
              "</style>\n",
              "<ol class=list-inline><li>'1. ACS Appl Mater Interfaces. 2021 Mar 3;13(8):9316-9328. doi: '</li><li>'10.1021/acsami.0c14730. Epub 2020 Oct 22.'</li><li>''</li><li>'Aptamer-Functionalized Upconverting Nanoformulations for Light-Switching '</li><li>'Cancer-Specific Recognition and In Situ Photodynamic-Chemo Sequential '</li><li>'Theranostics.'</li></ol>\n"
            ],
            "text/markdown": "1. '1. ACS Appl Mater Interfaces. 2021 Mar 3;13(8):9316-9328. doi: '\n2. '10.1021/acsami.0c14730. Epub 2020 Oct 22.'\n3. ''\n4. 'Aptamer-Functionalized Upconverting Nanoformulations for Light-Switching '\n5. 'Cancer-Specific Recognition and In Situ Photodynamic-Chemo Sequential '\n6. 'Theranostics.'\n\n\n",
            "text/latex": "\\begin{enumerate*}\n\\item '1. ACS Appl Mater Interfaces. 2021 Mar 3;13(8):9316-9328. doi: '\n\\item '10.1021/acsami.0c14730. Epub 2020 Oct 22.'\n\\item ''\n\\item 'Aptamer-Functionalized Upconverting Nanoformulations for Light-Switching '\n\\item 'Cancer-Specific Recognition and In Situ Photodynamic-Chemo Sequential '\n\\item 'Theranostics.'\n\\end{enumerate*}\n",
            "text/plain": [
              "[1] \"1. ACS Appl Mater Interfaces. 2021 Mar 3;13(8):9316-9328. doi: \"          \n",
              "[2] \"10.1021/acsami.0c14730. Epub 2020 Oct 22.\"                                \n",
              "[3] \"\"                                                                         \n",
              "[4] \"Aptamer-Functionalized Upconverting Nanoformulations for Light-Switching \"\n",
              "[5] \"Cancer-Specific Recognition and In Situ Photodynamic-Chemo Sequential \"   \n",
              "[6] \"Theranostics.\"                                                            "
            ]
          },
          "metadata": {}
        }
      ],
      "source": [
        "library(easyPubMed)\n",
        "my_query <- 'doxyrubicin'\n",
        "my_entrez_id <- get_pubmed_ids(my_query)\n",
        "my_abstracts_txt <- fetch_pubmed_data(my_entrez_id, format = \"abstract\")\n",
        "head(my_abstracts_txt)"
      ]
    },
    {
      "cell_type": "code",
      "source": [
        "\n",
        "# Define the query\n",
        "my_query <- \"doxorubicin\"\n",
        "\n",
        "# Search for articles related to the query and retrieve their IDs\n",
        "search_results <- entrez_search(db = \"pubmed\", term = my_query)\n",
        "# Number of search results \n",
        "length(search_results$ids)\n",
        "my_entrez_id <- search_results$ids\n",
        "my_abstracts_txt <- entrez_fetch(db = \"pubmed\", id = my_entrez_id, rettype = \"abstract\", retmode = \"text\")\n",
        "# Read the abstracts file into a character vector\n",
        "writeLines(my_abstracts_txt, \"my_abstracts.txt\")\n"
      ],
      "metadata": {
        "colab": {
          "base_uri": "https://localhost:8080/",
          "height": 34
        },
        "id": "0AtZZ635_PHK",
        "outputId": "d5176c20-a32b-4788-c090-40117aa61187"
      },
      "execution_count": null,
      "outputs": [
        {
          "output_type": "display_data",
          "data": {
            "text/html": [
              "20"
            ],
            "text/markdown": "20",
            "text/latex": "20",
            "text/plain": [
              "[1] 20"
            ]
          },
          "metadata": {}
        }
      ]
    },
    {
      "cell_type": "code",
      "source": [
        "# Define the query\n",
        "my_query <- \"side effects of COVID vaccine from pfizer\"\n",
        "\n",
        "# Search for articles related to the query and retrieve their IDs\n",
        "search_results <- entrez_search(db = \"pubmed\", term = my_query)\n",
        "# Number of search results \n",
        "length(search_results$ids)\n",
        "my_entrez_id <- search_results$ids\n",
        "my_abstracts_txt <- entrez_fetch(db = \"pubmed\", id = my_entrez_id, rettype = \"abstract\", retmode = \"text\")\n",
        "# Read the abstracts file into a character vector\n",
        "writeLines(my_abstracts_txt, \"my_pfizer.txt\")"
      ],
      "metadata": {
        "colab": {
          "base_uri": "https://localhost:8080/",
          "height": 34
        },
        "id": "AGDKu4sxGnMz",
        "outputId": "4d91f75e-13fb-4744-9dee-6450e0a4cb1b"
      },
      "execution_count": null,
      "outputs": [
        {
          "output_type": "display_data",
          "data": {
            "text/html": [
              "20"
            ],
            "text/markdown": "20",
            "text/latex": "20",
            "text/plain": [
              "[1] 20"
            ]
          },
          "metadata": {}
        }
      ]
    },
    {
      "cell_type": "code",
      "source": [
        "writeLines(my_abstracts_txt, \"my_abstracts.txt\")\n"
      ],
      "metadata": {
        "id": "TL8Pi7LGGjl_"
      },
      "execution_count": null,
      "outputs": []
    },
    {
      "cell_type": "markdown",
      "metadata": {
        "id": "n59I5nW2oTNd"
      },
      "source": [
        "# From *in vivo* , *in vitro* to *in silico*\n",
        "\n",
        "Bioinformatics came into existence as a result of cumulative efforts of many scientists. But if we have to give the credit to two individuals for setting up the basic platform for bioinformatics we may name Margartette Dayhoff (who discovered consensus sequence) G.N.Ramachandran (who introduced the widely used phi-psi plot) .In the next stage of development , we may name Needleman and Wunch (who introduced global alignment, and a little modification of their dynamical programming algorithm leads to  local alignment). We must mention Atschachul who introduced blast search. A phenomenal growth of the subject was seen, once whole data for genome sequencing started pouring in literature and crystal structure data expanded like never before (thanks to the Cambridge crystallographic repository).  \n",
        "\n",
        "\n"
      ]
    },
    {
      "cell_type": "markdown",
      "metadata": {
        "id": "05BuF7VXocqF"
      },
      "source": [
        "# The *seqinr* package"
      ]
    },
    {
      "cell_type": "code",
      "execution_count": null,
      "metadata": {
        "colab": {
          "base_uri": "https://localhost:8080/"
        },
        "id": "nkSXSFs0opm0",
        "outputId": "17d5853d-21ea-4fdd-f101-eae9ce12fc30"
      },
      "outputs": [
        {
          "output_type": "stream",
          "name": "stderr",
          "text": [
            "Installing package into ‘/usr/local/lib/R/site-library’\n",
            "(as ‘lib’ is unspecified)\n",
            "\n",
            "also installing the dependencies ‘pixmap’, ‘sp’, ‘Rcpp’, ‘RcppArmadillo’, ‘ade4’, ‘segmented’\n",
            "\n",
            "\n"
          ]
        }
      ],
      "source": [
        "install.packages(\"seqinr\")"
      ]
    },
    {
      "cell_type": "code",
      "execution_count": null,
      "metadata": {
        "id": "IhHJ_Bw-pBIW"
      },
      "outputs": [],
      "source": [
        "library(seqinr)"
      ]
    },
    {
      "cell_type": "markdown",
      "source": [
        "## Dengue\n",
        "\n",
        "- Dengue is a viral disease transmitted by mosquitoes, mainly the Aedes aegypti mosquito.\n",
        "- It is caused by the Dengue virus, which is a single-stranded RNA virus belonging to the Flaviviridae family.\n",
        "- Dengue is prevalent in tropical and subtropical regions of the world, and its symptoms include high fever, severe headache, joint and muscle pain, and a rash. \n",
        "- There is no specific treatment for Dengue, and supportive care is the mainstay of management.\n",
        "\n",
        "## H1N1:\n",
        "- H1N1 is a subtype of the Influenza A virus that causes seasonal flu in humans.\n",
        "- It is a segmented RNA virus belonging to the Orthomyxoviridae family, and it can infect humans, pigs, and birds.\n",
        "- H1N1 caused a pandemic in 2009-2010, also known as the swine flu pandemic.\n",
        "- Symptoms of H1N1 include fever, cough, sore throat, body aches, and fatigue.\n",
        "- Vaccines are available to prevent H1N1, and antiviral drugs can be used to treat severe cases."
      ],
      "metadata": {
        "id": "7FFcmil5I-Kj"
      }
    },
    {
      "cell_type": "markdown",
      "metadata": {
        "id": "thk0ER5DpJqM"
      },
      "source": [
        "A function to access sequence from NCBI"
      ]
    },
    {
      "cell_type": "code",
      "execution_count": null,
      "metadata": {
        "id": "RvTKcNRBpQye"
      },
      "outputs": [],
      "source": [
        "getncbiseq <- function(accession)\n",
        "{\n",
        "require(\"seqinr\") # this function requires the SeqinR R package\n",
        "# first find which ACNUC database the accession is stored in:\n",
        "dbs <- c(\"genbank\",\"refseq\",\"refseqViruses\",\"bacterial\")\n",
        "numdbs <- length(dbs)\n",
        "for (i in 1:numdbs)\n",
        "      {\n",
        "db <- dbs[i]\n",
        "choosebank(db)\n",
        "# check if the sequence is in ACNUC database 'db':\n",
        "resquery <- try(query(\".tmpquery\", paste(\"AC=\", accession)), silent = TRUE)\n",
        "\n",
        "if (!(inherits(resquery, \"try-error\"))) {\n",
        "  queryname <- \"query2\"\n",
        "  thequery <- paste(\"AC=\", accession, sep=\"\")\n",
        "  query2 <- query(queryname, thequery)\n",
        "  # see if a sequence was retrieved:\n",
        "  seq <- getSequence(query2$req[[1]])\n",
        "  closebank()\n",
        "  return(seq)\n",
        "}\n",
        "closebank()\n",
        "}\n",
        "print(paste(\"ERROR: accession\",accession,\"was not found\"))\n",
        "}"
      ]
    },
    {
      "cell_type": "markdown",
      "metadata": {
        "id": "DM4jcg7CpbNQ"
      },
      "source": [
        "# The Dengue virus sequence \n"
      ]
    },
    {
      "cell_type": "markdown",
      "metadata": {
        "id": "ygEdisoXpjJH"
      },
      "source": [
        "The variable dengueseq is a vector containing the nucleotide sequence. Each element of the vector contains one nucleotide of the sequence. Therefore, to print out a certain subsequence of the sequence, we just need to type the name of the vector dengueseq followed by the square brackets containing the indices for those nucleotides. For example, the following command prints out the first 50 nucleotides of the DEN-1 Dengue virus genome sequence"
      ]
    },
    {
      "cell_type": "code",
      "execution_count": null,
      "metadata": {
        "id": "Ejc3Ex0Qpn1E"
      },
      "outputs": [],
      "source": [
        "dengueseq <- getncbiseq(\"NC_001477\")"
      ]
    },
    {
      "cell_type": "markdown",
      "metadata": {
        "id": "aSPotCYupyur"
      },
      "source": [
        "# First 20 members of the  Dengue virus sequence \n"
      ]
    },
    {
      "cell_type": "code",
      "execution_count": null,
      "metadata": {
        "colab": {
          "base_uri": "https://localhost:8080/",
          "height": 34
        },
        "id": "4Yc53JY8p0er",
        "outputId": "84ec498d-df16-4b8d-d434-2211a63b52ac"
      },
      "outputs": [
        {
          "output_type": "display_data",
          "data": {
            "text/html": [
              "<style>\n",
              ".list-inline {list-style: none; margin:0; padding: 0}\n",
              ".list-inline>li {display: inline-block}\n",
              ".list-inline>li:not(:last-child)::after {content: \"\\00b7\"; padding: 0 .5ex}\n",
              "</style>\n",
              "<ol class=list-inline><li>'a'</li><li>'g'</li><li>'t'</li><li>'t'</li><li>'g'</li><li>'t'</li><li>'t'</li><li>'a'</li><li>'g'</li><li>'t'</li><li>'c'</li><li>'t'</li><li>'a'</li><li>'c'</li><li>'g'</li><li>'t'</li><li>'g'</li><li>'g'</li><li>'a'</li><li>'c'</li></ol>\n"
            ],
            "text/markdown": "1. 'a'\n2. 'g'\n3. 't'\n4. 't'\n5. 'g'\n6. 't'\n7. 't'\n8. 'a'\n9. 'g'\n10. 't'\n11. 'c'\n12. 't'\n13. 'a'\n14. 'c'\n15. 'g'\n16. 't'\n17. 'g'\n18. 'g'\n19. 'a'\n20. 'c'\n\n\n",
            "text/latex": "\\begin{enumerate*}\n\\item 'a'\n\\item 'g'\n\\item 't'\n\\item 't'\n\\item 'g'\n\\item 't'\n\\item 't'\n\\item 'a'\n\\item 'g'\n\\item 't'\n\\item 'c'\n\\item 't'\n\\item 'a'\n\\item 'c'\n\\item 'g'\n\\item 't'\n\\item 'g'\n\\item 'g'\n\\item 'a'\n\\item 'c'\n\\end{enumerate*}\n",
            "text/plain": [
              " [1] \"a\" \"g\" \"t\" \"t\" \"g\" \"t\" \"t\" \"a\" \"g\" \"t\" \"c\" \"t\" \"a\" \"c\" \"g\" \"t\" \"g\" \"g\" \"a\"\n",
              "[20] \"c\""
            ]
          },
          "metadata": {}
        }
      ],
      "source": [
        "dengueseq[1:20]\n"
      ]
    },
    {
      "cell_type": "code",
      "execution_count": null,
      "metadata": {
        "id": "nmazQTBSrla0"
      },
      "outputs": [],
      "source": [
        "write.fasta(names=\"/content/sample_data/DEN-1\", sequences=dengueseq, file.out=\"den1.fasta\")\n"
      ]
    },
    {
      "cell_type": "code",
      "execution_count": null,
      "metadata": {
        "id": "AuFrNYG8soTe"
      },
      "outputs": [],
      "source": [
        "dengue <- read.fasta(file = \"/content/den1.fasta\")\n"
      ]
    },
    {
      "cell_type": "markdown",
      "metadata": {
        "id": "DDEstdWts_0C"
      },
      "source": [
        "Length of a DNA sequence\n",
        "Once you have retrieved a DNA sequence, we can obtain some simple statistics to describe that sequence, such as the sequence’s total length in nucleotides. In the above example, we retrieved the DEN-1 Dengue virus genome se- quence, and stored it in the vector variable dengueseq. To subsequently obtain the length of the genome sequence, we would use the length() function, typing:\n"
      ]
    },
    {
      "cell_type": "code",
      "execution_count": null,
      "metadata": {
        "colab": {
          "base_uri": "https://localhost:8080/",
          "height": 34
        },
        "id": "taC5xjP2tDFC",
        "outputId": "7e4b7e29-9b89-4e42-e2f6-3b81134d27cc"
      },
      "outputs": [
        {
          "output_type": "display_data",
          "data": {
            "text/html": [
              "10735"
            ],
            "text/markdown": "10735",
            "text/latex": "10735",
            "text/plain": [
              "[1] 10735"
            ]
          },
          "metadata": {}
        }
      ],
      "source": [
        "dengueseq <- dengue[[1]]\n",
        "length(dengueseq)"
      ]
    },
    {
      "cell_type": "markdown",
      "metadata": {
        "id": "MPKMngrY4TuW"
      },
      "source": [
        " ## Base composition of a DNA sequence\n"
      ]
    },
    {
      "cell_type": "code",
      "execution_count": null,
      "metadata": {
        "colab": {
          "base_uri": "https://localhost:8080/",
          "height": 71
        },
        "id": "I-8f0zYi4eKL",
        "outputId": "fc367acf-3262-4849-f8b9-bea3060aaf76"
      },
      "outputs": [
        {
          "output_type": "display_data",
          "data": {
            "text/plain": [
              "dengueseq\n",
              "   a    c    g    t \n",
              "3426 2240 2770 2299 "
            ]
          },
          "metadata": {}
        }
      ],
      "source": [
        "table(dengueseq)"
      ]
    },
    {
      "cell_type": "markdown",
      "metadata": {
        "id": "BUq7zdOn4oVl"
      },
      "source": [
        "# H1N1 Sequence"
      ]
    },
    {
      "cell_type": "code",
      "execution_count": null,
      "metadata": {
        "id": "n6q2tCNn52Bo"
      },
      "outputs": [],
      "source": [
        "h1n1seq<-getncbiseq(\"HM624086\")\t\n"
      ]
    },
    {
      "cell_type": "code",
      "execution_count": null,
      "metadata": {
        "id": "1-UzmAgG6FJT"
      },
      "outputs": [],
      "source": [
        "write.fasta(names=\"/content/sample_data/h1n1\", sequences=h1n1seq, file.out=\"h1n1.fasta\")\n"
      ]
    },
    {
      "cell_type": "code",
      "execution_count": null,
      "metadata": {
        "id": "KjMHldJ36PkW"
      },
      "outputs": [],
      "source": [
        "h1n1<-read.fasta(file = \"/content/h1n1.fasta\")\n"
      ]
    },
    {
      "cell_type": "code",
      "execution_count": null,
      "metadata": {
        "colab": {
          "base_uri": "https://localhost:8080/",
          "height": 71
        },
        "id": "ZYbiOsY26Y8T",
        "outputId": "d60ca000-ed8a-4422-fcfd-741e85814b65"
      },
      "outputs": [
        {
          "output_type": "display_data",
          "data": {
            "text/plain": [
              "/content/sample_data/h1n1\n",
              "  a   c   g   t \n",
              "603 314 377 407 "
            ]
          },
          "metadata": {}
        }
      ],
      "source": [
        "table(h1n1)"
      ]
    },
    {
      "cell_type": "code",
      "execution_count": null,
      "metadata": {
        "id": "X9c6Vy3A7q-j"
      },
      "outputs": [],
      "source": [
        "h1n1seq<-h1n1[[1]]"
      ]
    },
    {
      "cell_type": "markdown",
      "metadata": {
        "id": "PobfdlxW6dK_"
      },
      "source": [
        "# GC contents "
      ]
    },
    {
      "cell_type": "code",
      "execution_count": null,
      "metadata": {
        "colab": {
          "base_uri": "https://localhost:8080/",
          "height": 52
        },
        "id": "RKMItNQR6gcW",
        "outputId": "cdb31b9e-c236-4794-9913-f02e6e882e34"
      },
      "outputs": [
        {
          "output_type": "display_data",
          "data": {
            "text/html": [
              "0.466697717745692"
            ],
            "text/markdown": "0.466697717745692",
            "text/latex": "0.466697717745692",
            "text/plain": [
              "[1] 0.4666977"
            ]
          },
          "metadata": {}
        },
        {
          "output_type": "display_data",
          "data": {
            "text/html": [
              "0.406231628453851"
            ],
            "text/markdown": "0.406231628453851",
            "text/latex": "0.406231628453851",
            "text/plain": [
              "[1] 0.4062316"
            ]
          },
          "metadata": {}
        }
      ],
      "source": [
        "GC(dengueseq)\n",
        "GC(h1n1seq)\n"
      ]
    },
    {
      "cell_type": "markdown",
      "metadata": {
        "id": "EYWBQG_58K3a"
      },
      "source": [
        "# Counting (alternative of Table) \n",
        "\n",
        "1.   List item\n",
        "2.   List item\n",
        "\n"
      ]
    },
    {
      "cell_type": "code",
      "execution_count": null,
      "metadata": {
        "colab": {
          "base_uri": "https://localhost:8080/",
          "height": 124
        },
        "id": "RPOx-45g8hR1",
        "outputId": "4eb203a8-3997-43dd-9aca-85d74dc970f9"
      },
      "outputs": [
        {
          "output_type": "display_data",
          "data": {
            "text/plain": [
              "\n",
              "   a    c    g    t \n",
              "3426 2240 2770 2299 "
            ]
          },
          "metadata": {}
        },
        {
          "output_type": "display_data",
          "data": {
            "text/plain": [
              "\n",
              "  a   c   g   t \n",
              "603 314 377 407 "
            ]
          },
          "metadata": {}
        }
      ],
      "source": [
        "count(dengueseq,1)\n",
        "count(h1n1seq,1)"
      ]
    },
    {
      "cell_type": "markdown",
      "source": [
        "# Sequence alignment"
      ],
      "metadata": {
        "id": "JF2WtdPFgzX8"
      }
    },
    {
      "cell_type": "code",
      "source": [
        "if (!requireNamespace(\"BiocManager\", quietly = TRUE))\n",
        "    install.packages(\"BiocManager\")\n"
      ],
      "metadata": {
        "colab": {
          "base_uri": "https://localhost:8080/"
        },
        "id": "-ieXR4hegyaQ",
        "outputId": "8009d19b-de71-48e7-99c4-fc5332b0af17"
      },
      "execution_count": null,
      "outputs": [
        {
          "output_type": "stream",
          "name": "stderr",
          "text": [
            "Installing package into ‘/usr/local/lib/R/site-library’\n",
            "(as ‘lib’ is unspecified)\n",
            "\n"
          ]
        }
      ]
    },
    {
      "cell_type": "code",
      "source": [
        "BiocManager::install(\"Biostrings\")\n",
        "\n"
      ],
      "metadata": {
        "id": "8Kn5I-YOhTR7"
      },
      "execution_count": null,
      "outputs": []
    },
    {
      "cell_type": "code",
      "source": [
        "library(BiocManager)\n"
      ],
      "metadata": {
        "id": "vp14uSaJhLd3"
      },
      "execution_count": null,
      "outputs": []
    },
    {
      "cell_type": "code",
      "source": [
        "#BiocManager::install(\"msa\")\n"
      ],
      "metadata": {
        "id": "funrw-cEnqqf"
      },
      "execution_count": null,
      "outputs": []
    },
    {
      "cell_type": "code",
      "source": [
        "library(Biostrings)\n",
        "#library(msa)\n"
      ],
      "metadata": {
        "id": "MTQWTliBgxED"
      },
      "execution_count": null,
      "outputs": []
    },
    {
      "cell_type": "code",
      "source": [
        "help.search(\"clustal\", package = \"msa\")\n"
      ],
      "metadata": {
        "id": "nB49tb_3pRVu"
      },
      "execution_count": null,
      "outputs": []
    },
    {
      "cell_type": "code",
      "source": [
        "seq1<- read.fasta(\"den1.fasta\")\n",
        "seq2<- read.fasta(\"h1n1.fasta\")"
      ],
      "metadata": {
        "id": "t3qGegr1p_PJ"
      },
      "execution_count": null,
      "outputs": []
    },
    {
      "cell_type": "code",
      "source": [
        "# Perform Clustal alignment\n",
        "# Two example DNA sequences\n",
        "\n",
        "sseq1 <- \"ATCGCGATCGCGCGCGCGCGCGCGCGCGCGCGCGCGCGCGCGCGCGCGCGCGCGCGCGCGCGC\"\n",
        "sseq2 <- \"ATCGCGATCGCGCGCGCGCGCGCGCGCGCGCGCGCGCGCGCGCGCGCGCGCGCGCGCGCGCGCAG\"\n",
        "\n",
        "alignment <- msa(c(sseq1, sseq2), method = \"ClustalW\", type = \"dna\")\n",
        "alignment_matrix <- as.matrix(alignment)\n",
        "\n",
        "# Write the matrix to a file\n",
        "write.table(alignment_matrix, file = \"my_alignment.txt\", sep = \"\\t\", quote = FALSE, row.names = FALSE, col.names = FALSE)\n",
        "\n"
      ],
      "metadata": {
        "id": "E8xaMhjeqRkh"
      },
      "execution_count": null,
      "outputs": []
    },
    {
      "cell_type": "markdown",
      "metadata": {
        "id": "SlI7O2A5HgcN"
      },
      "source": [
        "## RNA-seq analysis in R\n"
      ]
    },
    {
      "cell_type": "markdown",
      "metadata": {
        "id": "pedaF3VBH3EX"
      },
      "source": [
        "<https://combine-australia.github.io/RNAseq-R/00-r-rstudio-intro.html>"
      ]
    },
    {
      "cell_type": "markdown",
      "metadata": {
        "id": "jrIKctSHH_xq"
      },
      "source": [
        "\n",
        "\n",
        "Mouse mammary data (counts): https://figshare.com/s/1d788fd384d33e913a2a </p>\n",
        "Drosophila data (counts): https://figshare.com/s/e08e71c42f118dbe8be6"
      ]
    },
    {
      "cell_type": "markdown",
      "metadata": {
        "id": "Xs8EtfTUL0BI"
      },
      "source": []
    },
    {
      "cell_type": "code",
      "execution_count": null,
      "metadata": {
        "colab": {
          "base_uri": "https://localhost:8080/",
          "height": 34
        },
        "id": "2a4001SMMLz3",
        "outputId": "d8b4f8d0-9cfb-4691-b2b0-bc44a9b9a0d1"
      },
      "outputs": [
        {
          "data": {
            "text/html": [
              "<style>\n",
              ".list-inline {list-style: none; margin:0; padding: 0}\n",
              ".list-inline>li {display: inline-block}\n",
              ".list-inline>li:not(:last-child)::after {content: \"\\00b7\"; padding: 0 .5ex}\n",
              "</style>\n",
              "<ol class=list-inline><li>'den1.fasta'</li><li>'h1n1.fasta'</li><li>'mouse_c2_v5.rdata'</li><li>'sample_data'</li></ol>\n"
            ],
            "text/latex": "\\begin{enumerate*}\n\\item 'den1.fasta'\n\\item 'h1n1.fasta'\n\\item 'mouse\\_c2\\_v5.rdata'\n\\item 'sample\\_data'\n\\end{enumerate*}\n",
            "text/markdown": "1. 'den1.fasta'\n2. 'h1n1.fasta'\n3. 'mouse_c2_v5.rdata'\n4. 'sample_data'\n\n\n",
            "text/plain": [
              "[1] \"den1.fasta\"        \"h1n1.fasta\"        \"mouse_c2_v5.rdata\"\n",
              "[4] \"sample_data\"      "
            ]
          },
          "metadata": {},
          "output_type": "display_data"
        }
      ],
      "source": [
        "list.files()"
      ]
    },
    {
      "cell_type": "markdown",
      "metadata": {
        "id": "MTQ_IvmC836O"
      },
      "source": [
        "Smarter installationof Bioconductor package \n",
        "<https://bioconductor.org/packages/release/bioc/>\n",
        "\n"
      ]
    },
    {
      "cell_type": "markdown",
      "metadata": {
        "id": "xVF80gDW9Q5f"
      },
      "source": [
        "** Example 1: Biobase installation**"
      ]
    },
    {
      "cell_type": "code",
      "execution_count": null,
      "metadata": {
        "id": "Qes1TYjI9ZOL"
      },
      "outputs": [],
      "source": []
    },
    {
      "cell_type": "code",
      "execution_count": null,
      "metadata": {
        "id": "e8n8qKjzTLPl"
      },
      "outputs": [],
      "source": [
        "if (!requireNamespace(\"BiocManager\", quietly = TRUE))\n",
        "    install.packages(\"BiocManager\") \n",
        "BiocManager::install(\"Biobase\")"
      ]
    },
    {
      "cell_type": "code",
      "execution_count": null,
      "metadata": {
        "id": "IO553C8YMVz7"
      },
      "outputs": [],
      "source": [
        "library(Biobase)"
      ]
    },
    {
      "cell_type": "code",
      "execution_count": null,
      "metadata": {
        "colab": {
          "background_save": true
        },
        "id": "O7lYw3mr6Tby"
      },
      "outputs": [],
      "source": [
        "BiocManager::install(c(\"GenomicFeatures\", \"AnnotationDbi\"))"
      ]
    },
    {
      "cell_type": "code",
      "execution_count": null,
      "metadata": {
        "id": "HjyzvvRA7RbN"
      },
      "outputs": [],
      "source": [
        "library(AnnotationDbi)"
      ]
    },
    {
      "cell_type": "markdown",
      "metadata": {
        "id": "bK7JF37m88XF"
      },
      "source": [
        "# Problem \n",
        "How many of each of the four nucleotides A, C, T and G, and any other symbols, are there in the Mycobacterium leprae Note: other symbols apart from the four nucleotides A/C/T/G may appear in a sequence. They correspond\n",
        "to positions in the sequence that are are not clearly one base or another and they are due, for example,\n",
        "to sequencing uncertainties. or example, the symbol ‘N’ means ‘aNy base’, while ‘R’ means ‘A or G’\n",
        "(puRine). There is a table of symbols at www.bioinformatics.org/sms/iupac.html."
      ]
    },
    {
      "cell_type": "code",
      "source": [
        "acc<- 'NC_002677' \n"
      ],
      "metadata": {
        "id": "RQpcRS4AoqRZ"
      },
      "execution_count": null,
      "outputs": []
    },
    {
      "cell_type": "markdown",
      "metadata": {
        "id": "kf2oIrXH9M_E"
      },
      "source": [
        "https://www.ncbi.nlm.nih.gov/nuccore/NC_000962.2?report=fasta"
      ]
    },
    {
      "cell_type": "markdown",
      "source": [
        "URL=<https://www.ncbi.nlm.nih.gov/nuccore/NC_002677.1/?report=genbank&log$=nuclalign&from=1&to=3414141>"
      ],
      "metadata": {
        "id": "VhbWGcqIo8YE"
      }
    },
    {
      "cell_type": "code",
      "source": [],
      "metadata": {
        "id": "fzdR4xLepaiW"
      },
      "execution_count": null,
      "outputs": []
    },
    {
      "cell_type": "markdown",
      "source": [
        "# Quiz Bioinfo \n",
        " - What information about the rabies virus sequence (NCBI accession NC_001542) can you obtain from its annotations.\n",
        "What does it say in the DEFINITION and ORGANISM fields of its NCBI record? Note: rabies virus is the virus responsible for rabies, which is classified by the WHO as a neglected tropical disease.\n",
        "\n",
        "- How many nucleotide sequences are there from the bacterium Chlamydia trachomatis in the NCBI Sequence Database? Note: the bacterium Chlamydia trachomatis is responsible for causing trachoma, which is classified by the WHO as a neglected tropical disease.\n",
        "- How many nucleotide sequences are there from the bacterium Chlamydia trachomatis in the RefSeq part of the NCBI Sequence Database?\n",
        "- How many nucleotide sequences were submitted to NCBI by Matthew Berriman?\n",
        "- How many nucleotide sequences from nematode worms are there in the RefSeq Database? Note that several parasitic nematode worms cause neglected tropical diseases, including Brugia malayi and Wucheria bancrofti, which cause lymphatic filariasis; Loa loa, which causes subcutaneous filariasis; Onchocerca volvulus, which causes onchocerciasis; and Necator americanus, which causes soil-transmitted helminthiasis.\n",
        "- How many nucleotide sequences for collagen genes from nematode worms are there in the NCBI Database?\n",
        "- How many mRNA sequences for collagen genes from nematode worms are there in the NCBI Database?\n",
        "- How many protein sequences for collagen proteins from nematode worms are there in the NCBI database?\n",
        "- What is the accession number for the Trypanosoma cruzi genome in NCBI? Do you see genome se- quences for more than one strain of Trypanosoma cruzi? Note that the Trypanosoma cruzi causes Chagas disease, which is classified as a neglected tropical disease by the WHO.\n",
        "-How many fully sequenced nematode worm species are represented in the NCBI Genome database?"
      ],
      "metadata": {
        "id": "SjGWvhSaILG6"
      }
    },
    {
      "cell_type": "markdown",
      "source": [
        "# Answers\n",
        "\n",
        "\n",
        "\n",
        "\n",
        "a) What information about the rabies virus sequence (NCBI accession NC_001542) can you obtain from its annotations?\n",
        "\n",
        "From the annotations of the rabies virus sequence (NCBI accession NC_001542), we can obtain various information such as its DEFINITION, which describes the source organism, length, and molecular type of the sequence. We can also find information about the ORGANISM, which is \"Rabies virus\" in this case. Additionally, annotations can provide information about the features of the sequence, such as genes, coding regions, and other relevant information.\n",
        "\n",
        "b) How many nucleotide sequences are there from the bacterium Chlamydia trachomatis in the NCBI Sequence Database?\n",
        "\n",
        "*See code below*.\n",
        "\n",
        "\n",
        "c) How many nucleotide sequences are there from the bacterium Chlamydia trachomatis in the RefSeq part of the NCBI Sequence Database?\n",
        "\n",
        "There are 379 nucleotide sequences from the bacterium Chlamydia trachomatis in the RefSeq part of the NCBI Sequence Database.\n",
        "\n",
        "d) How many nucleotide sequences were submitted to NCBI by Matthew Berriman?\n",
        "\n",
        "*See code below*.\n",
        "\n",
        "e) How many nucleotide sequences from nematode worms are there in the RefSeq Database?\n",
        "\n",
        "*See code below*.\n",
        "\n",
        "\n",
        "f) How many nucleotide sequences for collagen genes from nematode worms are there in the NCBI Database?\n",
        "\n",
        "*See code below*.\n",
        "\n",
        "\n",
        "g) How many mRNA sequences for collagen genes from nematode worms are there in the NCBI Database?\n",
        "\n",
        "*See code below*.\n",
        "\n",
        "\n",
        "h) How many protein sequences for collagen proteins from nematode worms are there in the NCBI database?\n",
        "\n",
        "*See code below*.\n",
        "\n",
        "\n",
        "i) What is the accession number for the Trypanosoma cruzi genome in NCBI? Do you see genome sequences for more than one strain of Trypanosoma cruzi?\n",
        "\n",
        "The accession number for the Trypanosoma cruzi genome in NCBI is GCF_000002325.2. Yes, there are genome sequences available for multiple strains of Trypanosoma cruzi in NCBI.\n",
        "\n",
        "j) How many fully sequenced nematode worm species are represented in the NCBI Genome database?\n",
        "\n",
        "As of my knowledge cutoff date of September 2021, there were 68 fully sequenced nematode worm species represented in the NCBI Genome database."
      ],
      "metadata": {
        "id": "ya457Ke3q5Mq"
      }
    },
    {
      "cell_type": "code",
      "source": [
        "# a\n",
        "# Load the required packages\n",
        "library(rentrez)\n",
        "library(Biostrings)\n",
        "\n",
        "# Set the NCBI accession number for the Rabies virus genome\n",
        "acc <- \"NC_001542\"\n",
        "rabbies<- getncbiseq(acc)\n",
        "write.fasta(names=\"/content/sample_data/rabbies\", sequences=rabbies, file.out=\"rabbies.fasta\")\n"
      ],
      "metadata": {
        "id": "GTMpe38dhnpi"
      },
      "execution_count": null,
      "outputs": []
    },
    {
      "cell_type": "markdown",
      "source": [
        "- Visit <https://www.ncbi.nlm.nih.gov/nuccore/NC_001542.1>\n",
        "- It indicates that the gene \"GeneID:1489853\" is assigned the locus tag \"RABVgp1\". \n",
        "-  CDS   5418..11846"
      ],
      "metadata": {
        "id": "wFUlrIdfkzUf"
      }
    },
    {
      "cell_type": "code",
      "source": [
        "#b\n",
        "# Load necessary packages\n",
        "library(rentrez)\n",
        "\n",
        "# Search NCBI Sequence Database for Chlamydia trachomatis nucleotide sequences\n",
        "term <- \"Chlamydia trachomatis\"\n",
        "search <- entrez_search(db=\"nuccore\", term=term, retmax=0)\n",
        "search$count\n",
        "search$QueryTranslation"
      ],
      "metadata": {
        "colab": {
          "base_uri": "https://localhost:8080/",
          "height": 52
        },
        "id": "8AyDhkS0rvFq",
        "outputId": "4917d73c-01c2-4072-b344-4e0a2e3245d0"
      },
      "execution_count": null,
      "outputs": [
        {
          "output_type": "display_data",
          "data": {
            "text/html": [
              "106051"
            ],
            "text/markdown": "106051",
            "text/latex": "106051",
            "text/plain": [
              "[1] 106051"
            ]
          },
          "metadata": {}
        },
        {
          "output_type": "display_data",
          "data": {
            "text/html": [
              "'\"Chlamydia trachomatis\"[Organism] OR Chlamydia trachomatis[All Fields]'"
            ],
            "text/markdown": "'\"Chlamydia trachomatis\"[Organism] OR Chlamydia trachomatis[All Fields]'",
            "text/latex": "'\"Chlamydia trachomatis\"{[}Organism{]} OR Chlamydia trachomatis{[}All Fields{]}'",
            "text/plain": [
              "[1] \"\\\"Chlamydia trachomatis\\\"[Organism] OR Chlamydia trachomatis[All Fields]\""
            ]
          },
          "metadata": {}
        }
      ]
    },
    {
      "cell_type": "code",
      "source": [
        "# c\n",
        "library(rentrez)\n",
        "search <- entrez_search(db=\"nucleotide\", term=\"Chlamydia trachomatis[Organism] AND refseq[filter]\", retmax=0)\n",
        "count <- as.integer(search$count)\n",
        "cat(\"Number of nucleotide sequences from Chlamydia trachomatis in the RefSeq database:\", count)\n"
      ],
      "metadata": {
        "colab": {
          "base_uri": "https://localhost:8080/"
        },
        "id": "jqv3K33Rtw_8",
        "outputId": "a5595c6b-64ee-4576-a914-04d963b48820"
      },
      "execution_count": null,
      "outputs": [
        {
          "output_type": "stream",
          "name": "stdout",
          "text": [
            "Number of nucleotide sequences from Chlamydia trachomatis in the RefSeq database: 379"
          ]
        }
      ]
    },
    {
      "cell_type": "code",
      "source": [
        "# d\n",
        "library(rentrez)\n",
        "\n",
        "# Search NCBI Nucleotide Database for sequences submitted by Matthew Berriman\n",
        "term <- \"Berriman M[Author]\"\n",
        "search <- entrez_search(db=\"nuccore\", term=term, retmax=0)\n",
        "count <- search$count\n",
        "\n",
        "# Print the result\n",
        "cat(\"Number of nucleotide sequences submitted by Matthew Berriman:\", count, \"\\n\")\n"
      ],
      "metadata": {
        "colab": {
          "base_uri": "https://localhost:8080/"
        },
        "id": "n0RgJ6L4wh_k",
        "outputId": "35d38a9b-9bbe-454f-fea7-c3c5273e5c76"
      },
      "execution_count": null,
      "outputs": [
        {
          "output_type": "stream",
          "name": "stdout",
          "text": [
            "Number of nucleotide sequences submitted by Matthew Berriman: 648267 \n"
          ]
        }
      ]
    },
    {
      "cell_type": "code",
      "source": [
        "#e\n",
        "library(rentrez)\n",
        "\n",
        "# Search for nucleotide sequences from nematode worms in RefSeq Database\n",
        "term <- \"nematoda[Organism] AND refseq[filter]\"\n",
        "search <- entrez_search(db=\"nuccore\", term=term, retmax=0)\n",
        "\n",
        "# Get the count of nucleotide sequences\n",
        "count <- search$count\n",
        "print(paste(\"Number of nucleotide sequences from nematode worms in RefSeq Database:\", count))\n"
      ],
      "metadata": {
        "colab": {
          "base_uri": "https://localhost:8080/"
        },
        "id": "KoktMwIHxTX4",
        "outputId": "8e35c197-418e-4059-d173-cb55cebe4915"
      },
      "execution_count": null,
      "outputs": [
        {
          "output_type": "stream",
          "name": "stdout",
          "text": [
            "[1] \"Number of nucleotide sequences from nematode worms in RefSeq Database: 205389\"\n"
          ]
        }
      ]
    },
    {
      "cell_type": "code",
      "source": [
        "#f\n",
        "library(rentrez)\n",
        "\n",
        "# Search NCBI Nucleotide Database for collagen genes from nematode worms\n",
        "term <- \"collagen AND nematode\"\n",
        "search <- entrez_search(db=\"nucleotide\", term=term, retmax=0)\n",
        "cat(\"Number of nucleotide sequences for collagen genes from nematode worms in NCBI Database:\", search$count)\n"
      ],
      "metadata": {
        "colab": {
          "base_uri": "https://localhost:8080/"
        },
        "id": "Fm_ZNr1QfaxO",
        "outputId": "37167da6-0ebc-4a11-de94-d3a77b296321"
      },
      "execution_count": null,
      "outputs": [
        {
          "output_type": "stream",
          "name": "stdout",
          "text": [
            "Number of nucleotide sequences for collagen genes from nematode worms in NCBI Database: 10735"
          ]
        }
      ]
    },
    {
      "cell_type": "code",
      "source": [
        "#g\n",
        "library(rentrez)\n",
        "\n",
        "# Set search parameters\n",
        "term <- \"nematoda[orgn] AND collagen AND biomol_mrna[prop]\"\n",
        "search <- entrez_search(db=\"nucleotide\", term=term, retmax=0)\n",
        "\n",
        "# Print the count result\n",
        "cat(\"Number of mRNA sequences for collagen genes from nematode worms in NCBI database:\", search$count)\n"
      ],
      "metadata": {
        "colab": {
          "base_uri": "https://localhost:8080/"
        },
        "id": "SwKWDygmgcZG",
        "outputId": "49972df9-eeb0-4741-d776-12af0f72718d"
      },
      "execution_count": null,
      "outputs": [
        {
          "output_type": "stream",
          "name": "stdout",
          "text": [
            "Number of mRNA sequences for collagen genes from nematode worms in NCBI database: 7606"
          ]
        }
      ]
    },
    {
      "cell_type": "code",
      "source": [
        "#h\n",
        "library(rentrez)\n",
        "\n",
        "# Search NCBI Protein Database for collagen proteins from nematode worms\n",
        "term <- \"nematode collagen protein\"\n",
        "search <- entrez_search(db=\"protein\", term=term, retmax=0)\n",
        "\n",
        "# Print the number of protein sequences\n",
        "cat(\"Number of protein sequences for collagen proteins from nematode worms:\",\n",
        "    format(search$count, big.mark=\",\", scientific=FALSE))\n",
        "\n"
      ],
      "metadata": {
        "colab": {
          "base_uri": "https://localhost:8080/"
        },
        "id": "ABo1KdCZhQhg",
        "outputId": "73ccccf4-0d3e-4ce2-8e97-35266993324d"
      },
      "execution_count": null,
      "outputs": [
        {
          "output_type": "stream",
          "name": "stdout",
          "text": [
            "Number of protein sequences for collagen proteins from nematode worms: 10,791"
          ]
        }
      ]
    },
    {
      "cell_type": "code",
      "source": [
        "#i \n",
        "library(rentrez)\n",
        "\n",
        "# Search for the Trypanosoma cruzi genome in the nucleotide database\n",
        "term <- \"Trypanosoma cruzi[Organism]\"\n",
        "search <- entrez_search(db = \"nucleotide\", term = term)\n",
        "\n",
        "# Print the accession numbers for the results\n",
        "if (search$count > 0) {\n",
        "  res <- entrez_fetch(db = \"nucleotide\", id = search$ids[1], rettype = \"acc\")\n",
        "  cat(\"Accession number for the T. cruzi genome:\", res, \"\\n\")\n",
        "} else {\n",
        "  cat(\"No results found.\\n\")\n",
        "}\n",
        "# ANSWER IS WRONG"
      ],
      "metadata": {
        "colab": {
          "base_uri": "https://localhost:8080/"
        },
        "id": "-97SSFoKi_1X",
        "outputId": "91bdd05d-645c-4380-c525-3e57d26a6121"
      },
      "execution_count": null,
      "outputs": [
        {
          "output_type": "stream",
          "name": "stdout",
          "text": [
            "Accession number for the T. cruzi genome: OP356744.1\n",
            " \n"
          ]
        }
      ]
    },
    {
      "cell_type": "code",
      "source": [
        "library(rentrez)\n",
        "\n",
        "# Search for all T. cruzi sequences in the nucleotide database\n",
        "term <- \"Trypanosoma\"\n",
        "search <- entrez_search(db = \"nucleotide\", term = term)\n",
        "\n",
        "# Filter the results to include only genome sequences\n",
        "ids <- search$ids[search$ds == \"nuccore\" & grepl(\"genome\", search$description)]\n",
        "if (length(ids) > 0) {\n",
        "  # Print the accession numbers for the genome sequences\n",
        "  res <- entrez_fetch(db = \"nucleotide\", id = ids, rettype = \"acc\")\n",
        "  cat(\"Accession numbers for T. cruzi genome sequences:\\n\", res, \"\\n\")\n",
        "} else {\n",
        "  cat(\"No genome sequences found.\\n\")\n",
        "}\n"
      ],
      "metadata": {
        "colab": {
          "base_uri": "https://localhost:8080/"
        },
        "id": "PwdifyrlrCF2",
        "outputId": "bd0e10b0-2587-4acf-abcc-3f7ddedb0216"
      },
      "execution_count": null,
      "outputs": [
        {
          "output_type": "stream",
          "name": "stdout",
          "text": [
            "No genome sequences found.\n"
          ]
        }
      ]
    },
    {
      "cell_type": "markdown",
      "source": [
        "# Added Note \n",
        "RefSeq (Reference Sequence) is a comprehensive, curated, non-redundant, and well-annotated database of reference sequences for a variety of organisms, including bacteria, viruses, fungi, plants, and animals. The RefSeq database provides a stable reference for genome annotation, gene and protein identification, transcriptomic analysis, and other biological investigations. RefSeq entries are derived from multiple sources, including genomic, transcriptomic, and protein sequence data, and are reviewed and annotated by experts to ensure high quality and accuracy. RefSeq records are regularly updated and maintained, and are widely used as a standard reference for a variety of biological research applications. Thus the number of entries (379)<< (106051)"
      ],
      "metadata": {
        "id": "sDczu3NIu-i3"
      }
    }
  ],
  "metadata": {
    "accelerator": "GPU",
    "colab": {
      "provenance": [],
      "authorship_tag": "ABX9TyNJnmbNcbhB9EREG7DUHWLm",
      "include_colab_link": true
    },
    "kernelspec": {
      "display_name": "R",
      "name": "ir"
    },
    "language_info": {
      "name": "R"
    }
  },
  "nbformat": 4,
  "nbformat_minor": 0
}