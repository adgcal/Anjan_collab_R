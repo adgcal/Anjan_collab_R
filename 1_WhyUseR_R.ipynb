{
  "nbformat": 4,
  "nbformat_minor": 0,
  "metadata": {
    "colab": {
      "provenance": [],
      "authorship_tag": "ABX9TyPzeg/vY5Fhboa1OLo6RTCa",
      "include_colab_link": true
    },
    "kernelspec": {
      "name": "ir",
      "display_name": "R"
    },
    "language_info": {
      "name": "R"
    },
    "gpuClass": "standard"
  },
  "cells": [
    {
      "cell_type": "markdown",
      "metadata": {
        "id": "view-in-github",
        "colab_type": "text"
      },
      "source": [
        "<a href=\"https://colab.research.google.com/github/adgcal/Anjan_collab_R/blob/main/1_WhyUseR_R.ipynb\" target=\"_parent\"><img src=\"https://colab.research.google.com/assets/colab-badge.svg\" alt=\"Open In Colab\"/></a>"
      ]
    },
    {
      "cell_type": "markdown",
      "source": [
        "# R curiosity\n",
        "## Bioinformatics Essentials\n",
        "### Anjan Kr Dasgupta (adgcal@gmail.com) "
      ],
      "metadata": {
        "id": "_BDalFzZvcrM"
      }
    },
    {
      "cell_type": "markdown",
      "source": [
        "# Aim \n",
        "- Inspiring users to the domain of problem solving.   \n",
        "- A super-set of \"industry-friendly\" models that uses the domain knowledge of biology chemistry physics and statistics. "
      ],
      "metadata": {
        "id": "Qmmc_PRZppjO"
      }
    },
    {
      "cell_type": "markdown",
      "source": [
        "# BOOKS SUGGESTED \n",
        "1. A Little Book of R For Bioinformatics - Avril Coghlan\n",
        "2. PETER DALGAARD - INTRODUCTORY STATISTICS WITH R\n",
        "\n",
        "# Digital Computers\n",
        "<!-- <https://personal.utdallas.edu/~ivor/cs1315/history.html> -->\n",
        "- Computer, electronic device that can receive a set of instructions, or program, \n",
        "- They carry out this program by performing calculations on numerical data or by compilation"
      ],
      "metadata": {
        "id": "7x4uKBAXq5Qy"
      }
    },
    {
      "cell_type": "markdown",
      "source": [
        "\n",
        "# Scales used in CPU \n",
        "\n",
        "- Clock speed: The clock speed of a CPU is measured in Hertz (Hz), which is the unit of frequency. It is typically measured in gigahertz (GHz) for modern CPUs, with one GHz being equivalent to one billion Hz.\n",
        "- Cache size: The cache size of a CPU is usually measured in bytes (B) or kilobytes (KB), megabytes (MB), or gigabytes (GB) for larger caches. Cache sizes can vary greatly depending on the CPU and its intended use.\n",
        "- CPUs typically supporting 32-bit or 64-bit instructions.\n",
        "- Number of cores: The number of cores in a CPU is usually expressed as an integer, indicating how many separate processing units are available within the CPU.\n",
        "- The ALU operates on binary numbers, which are represented in the form of electrical signals that can either be in the \"on\" state (1) or the \"off\" state (0). The ALU receives input data from the CPU registers, performs the requested operation, and outputs the result to the destination register or memory location.\n",
        "- The ControlUnit is responsible for fetching instructions from memory, decoding them to determine the appropriate operation to perform, and then directing the ALU to execute the operation.\n",
        "- Registers can be used for a variety of purposes, such as storing data that is being processed by the CPU, holding addresses that are used to access memory, or storing the results of calculations performed by the ALU. \n",
        "\n",
        "\n"
      ],
      "metadata": {
        "id": "Qk5wnMuBszOq"
      }
    },
    {
      "cell_type": "markdown",
      "source": [
        "# Operating Systems\n",
        "\\tiny \n",
        "An operating system typically has two main components: the kernel and the user interface. The kernel is the core component of the operating system that manages the hardware and provides low-level services to other software components. The user interface is the part of the operating system that allows users to interact with the system and run applications.\n",
        "\n",
        "Examples of popular operating systems include \n",
        "- Microsoft Windows\n",
        "- Apple macOS\n",
        "- Linux\n",
        "- Android\n",
        "\n",
        "Each of these operating systems has its own unique features, design, and functionality, and is used in a variety of devices, from desktop and laptop computers to smartphones and tablets"
      ],
      "metadata": {
        "id": "L7Bx1h7BtR5_"
      }
    },
    {
      "cell_type": "markdown",
      "source": [
        "# Introduction to R \n",
        "\n",
        "- S was created by John Chambers in 1976 while at Bell Labs.\n",
        "- In 1991 Ross Ihaka and Robert Gentleman at the University of Auckland, New Zealand, began an alternative implementation of the basic S language\n",
        "- First names of the first two R authors and partly responsible for the name R \\pause\n",
        "- As of 2021, the R team  consisted of Gentleman, Ihaka, and Maechler, plus Douglas Bates, John Chambers, Peter Dalgaard, Kurt Hornik, Tomas Kalibera, Michael Lawrence, Friedrich Leisch, Uwe Ligges, Thomas Lumley, Martin Morgan, Paul Murrell, Martyn Plummer, Brian Ripley, **Deepayan Sarkar**, Duncan Temple Lang, Luke Tierney, and Simon Urbanek. Heiner Schwarte, Guido Masarotto, Stefano Iacus, Seth Falcon, and Duncan Murdoch were also formerly members.\n",
        "\n"
      ],
      "metadata": {
        "id": "z8J-LZzlwDDy"
      }
    },
    {
      "cell_type": "markdown",
      "source": [
        "# Using R without instaliing it \n",
        "\n",
        "## How to use R in Colab \n",
        " ### https://colab.research.google.com/#create=true&language=r\n",
        "\n",
        "####NoteBook Settings : Select R as the language \n"
      ],
      "metadata": {
        "id": "Vm8GDuDCwi6Z"
      }
    },
    {
      "cell_type": "code",
      "source": [
        "# How long it takes for  R to loop \n",
        "\n",
        "sum=0\n",
        "start_time <- Sys.time()\n",
        "for (i in 1:100000) {\n",
        "  sum=sum+0.001\n",
        "}\n",
        "end_time <- Sys.time()\n",
        "end_time - start_time\n"
      ],
      "metadata": {
        "colab": {
          "base_uri": "https://localhost:8080/",
          "height": 35
        },
        "id": "NtEldk4edKie",
        "outputId": "00565cbc-d9dd-460b-8671-695d16a5819c"
      },
      "execution_count": null,
      "outputs": [
        {
          "output_type": "display_data",
          "data": {
            "text/plain": [
              "Time difference of 0.01822758 secs"
            ]
          },
          "metadata": {}
        }
      ]
    },
    {
      "cell_type": "markdown",
      "source": [
        "# Speedometer of different platforms\n",
        "\n",
        "### How long it takes to run a loop?\n",
        "\n",
        "| Language | Time (ms) |\n",
        "| --- | ---: |\n",
        "| Python | 9.8 |\n",
        "| R | 9.5 |\n",
        "| Julia | 4.0 |\n",
        "\n",
        "*Time elapsed (ms) for 100000 iterations with floating point variables*\n"
      ],
      "metadata": {
        "id": "L6YWeMdpdqku"
      }
    },
    {
      "cell_type": "markdown",
      "source": [
        "# Basic Arithmatic"
      ],
      "metadata": {
        "id": "jL1VpHpreoIh"
      }
    },
    {
      "cell_type": "code",
      "source": [
        "# Addition\n",
        "2 + 3\n",
        "# Subtraction\n",
        "5 - 2\n",
        "# Multiplication\n",
        "3 * 4\n",
        "# Division\n",
        "10 / 2\n",
        "# Exponentiation\n",
        "2^3\n"
      ],
      "metadata": {
        "colab": {
          "base_uri": "https://localhost:8080/",
          "height": 104
        },
        "id": "4tT9mK3xhVUP",
        "outputId": "4b92f8de-3412-4256-b86d-ca89c51e41d7"
      },
      "execution_count": null,
      "outputs": [
        {
          "output_type": "display_data",
          "data": {
            "text/html": [
              "5"
            ],
            "text/markdown": "5",
            "text/latex": "5",
            "text/plain": [
              "[1] 5"
            ]
          },
          "metadata": {}
        },
        {
          "output_type": "display_data",
          "data": {
            "text/html": [
              "3"
            ],
            "text/markdown": "3",
            "text/latex": "3",
            "text/plain": [
              "[1] 3"
            ]
          },
          "metadata": {}
        },
        {
          "output_type": "display_data",
          "data": {
            "text/html": [
              "12"
            ],
            "text/markdown": "12",
            "text/latex": "12",
            "text/plain": [
              "[1] 12"
            ]
          },
          "metadata": {}
        },
        {
          "output_type": "display_data",
          "data": {
            "text/html": [
              "5"
            ],
            "text/markdown": "5",
            "text/latex": "5",
            "text/plain": [
              "[1] 5"
            ]
          },
          "metadata": {}
        },
        {
          "output_type": "display_data",
          "data": {
            "text/html": [
              "8"
            ],
            "text/markdown": "8",
            "text/latex": "8",
            "text/plain": [
              "[1] 8"
            ]
          },
          "metadata": {}
        }
      ]
    },
    {
      "cell_type": "markdown",
      "source": [
        "# Creating a numeric vector "
      ],
      "metadata": {
        "id": "mOhHu1LAhZyE"
      }
    },
    {
      "cell_type": "code",
      "source": [
        "# Creating a numeric vector\n",
        "x <- c(1, 2, 3, 4, 5)\n",
        "# Accessing elements of a vector\n",
        "x[2]\n",
        "# Updating an element of a vector\n",
        "x[4] <- 10\n",
        "# Vector arithmetic\n",
        "x + 2\n"
      ],
      "metadata": {
        "colab": {
          "base_uri": "https://localhost:8080/",
          "height": 52
        },
        "id": "Tx5A9ZTshfQx",
        "outputId": "0b79cf7c-6139-4b10-ea97-58c1706e1b19"
      },
      "execution_count": null,
      "outputs": [
        {
          "output_type": "display_data",
          "data": {
            "text/html": [
              "2"
            ],
            "text/markdown": "2",
            "text/latex": "2",
            "text/plain": [
              "[1] 2"
            ]
          },
          "metadata": {}
        },
        {
          "output_type": "display_data",
          "data": {
            "text/html": [
              "<style>\n",
              ".list-inline {list-style: none; margin:0; padding: 0}\n",
              ".list-inline>li {display: inline-block}\n",
              ".list-inline>li:not(:last-child)::after {content: \"\\00b7\"; padding: 0 .5ex}\n",
              "</style>\n",
              "<ol class=list-inline><li>3</li><li>4</li><li>5</li><li>12</li><li>7</li></ol>\n"
            ],
            "text/markdown": "1. 3\n2. 4\n3. 5\n4. 12\n5. 7\n\n\n",
            "text/latex": "\\begin{enumerate*}\n\\item 3\n\\item 4\n\\item 5\n\\item 12\n\\item 7\n\\end{enumerate*}\n",
            "text/plain": [
              "[1]  3  4  5 12  7"
            ]
          },
          "metadata": {}
        }
      ]
    },
    {
      "cell_type": "code",
      "source": [
        "# If-else statement\n",
        "x <- 5\n",
        "if (x > 10) {\n",
        "  print(\"x is greater than 10\")\n",
        "} else {\n",
        "  print(\"x is less than or equal to 10\")\n",
        "}\n",
        "\n",
        "# For loop\n",
        "for (i in 1:5) {\n",
        "  print(i)\n",
        "}\n",
        "\n",
        "# While loop\n",
        "i <- 1\n",
        "while (i <= 5) {\n",
        "  print(i)\n",
        "  i <- i + 1\n",
        "}\n"
      ],
      "metadata": {
        "colab": {
          "base_uri": "https://localhost:8080/"
        },
        "id": "FW3S3kHth0G4",
        "outputId": "bdd0ee60-6fee-44c7-f3c8-8a7c20e07f3f"
      },
      "execution_count": null,
      "outputs": [
        {
          "output_type": "stream",
          "name": "stdout",
          "text": [
            "[1] \"x is less than or equal to 10\"\n",
            "[1] 1\n",
            "[1] 2\n",
            "[1] 3\n",
            "[1] 4\n",
            "[1] 5\n",
            "[1] 1\n",
            "[1] 2\n",
            "[1] 3\n",
            "[1] 4\n",
            "[1] 5\n"
          ]
        }
      ]
    }
  ]
}