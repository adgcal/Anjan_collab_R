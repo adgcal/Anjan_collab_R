{
  "nbformat": 4,
  "nbformat_minor": 0,
  "metadata": {
    "colab": {
      "provenance": [],
      "authorship_tag": "ABX9TyPdA/xIrg28y/o+rlhXohC3",
      "include_colab_link": true
    },
    "kernelspec": {
      "name": "ir",
      "display_name": "R"
    },
    "language_info": {
      "name": "R"
    }
  },
  "cells": [
    {
      "cell_type": "markdown",
      "metadata": {
        "id": "view-in-github",
        "colab_type": "text"
      },
      "source": [
        "<a href=\"https://colab.research.google.com/github/adgcal/Anjan_collab_R/blob/main/quiz1_R.ipynb\" target=\"_parent\"><img src=\"https://colab.research.google.com/assets/colab-badge.svg\" alt=\"Open In Colab\"/></a>"
      ]
    },
    {
      "cell_type": "markdown",
      "source": [
        "\n",
        "\n",
        "1. What is the function used to create a new  entity in R?\n",
        "- a) vector()\n",
        "- b) array()\n",
        "- c) list()\n",
        "- d) matrix\n",
        "- e) dataframe \n",
        "- f) factor \n",
        "- g) list of list\n"
      ],
      "metadata": {
        "id": "KoTl7McDnszz"
      }
    },
    {
      "cell_type": "code",
      "source": [],
      "metadata": {
        "id": "FLKcYxnQxLRq"
      },
      "execution_count": null,
      "outputs": []
    },
    {
      "cell_type": "code",
      "source": [
        "# a) Create a new vector\n",
        "my_vector <- c(1, 2, 3, 4, 5)\n",
        "my_vector\n"
      ],
      "metadata": {
        "colab": {
          "base_uri": "https://localhost:8080/",
          "height": 34
        },
        "id": "UJ8nv7CVxlMU",
        "outputId": "0b879b6c-8f4d-4dae-a3f3-97ece52786dd"
      },
      "execution_count": 17,
      "outputs": [
        {
          "output_type": "display_data",
          "data": {
            "text/html": [
              "<style>\n",
              ".list-inline {list-style: none; margin:0; padding: 0}\n",
              ".list-inline>li {display: inline-block}\n",
              ".list-inline>li:not(:last-child)::after {content: \"\\00b7\"; padding: 0 .5ex}\n",
              "</style>\n",
              "<ol class=list-inline><li>1</li><li>2</li><li>3</li><li>4</li><li>5</li></ol>\n"
            ],
            "text/markdown": "1. 1\n2. 2\n3. 3\n4. 4\n5. 5\n\n\n",
            "text/latex": "\\begin{enumerate*}\n\\item 1\n\\item 2\n\\item 3\n\\item 4\n\\item 5\n\\end{enumerate*}\n",
            "text/plain": [
              "[1] 1 2 3 4 5"
            ]
          },
          "metadata": {}
        }
      ]
    },
    {
      "cell_type": "code",
      "source": [
        "# b) Create a new array\n",
        "\n",
        "my_array <- array(1:12, dim=c(6, 2))\n",
        "my_array"
      ],
      "metadata": {
        "colab": {
          "base_uri": "https://localhost:8080/",
          "height": 275
        },
        "id": "Sp0qnY9ByB44",
        "outputId": "723f33ae-77c9-4f7f-c1e9-0e9da5f97013"
      },
      "execution_count": 19,
      "outputs": [
        {
          "output_type": "display_data",
          "data": {
            "text/html": [
              "<table class=\"dataframe\">\n",
              "<caption>A matrix: 6 × 2 of type int</caption>\n",
              "<tbody>\n",
              "\t<tr><td>1</td><td> 7</td></tr>\n",
              "\t<tr><td>2</td><td> 8</td></tr>\n",
              "\t<tr><td>3</td><td> 9</td></tr>\n",
              "\t<tr><td>4</td><td>10</td></tr>\n",
              "\t<tr><td>5</td><td>11</td></tr>\n",
              "\t<tr><td>6</td><td>12</td></tr>\n",
              "</tbody>\n",
              "</table>\n"
            ],
            "text/markdown": "\nA matrix: 6 × 2 of type int\n\n| 1 |  7 |\n| 2 |  8 |\n| 3 |  9 |\n| 4 | 10 |\n| 5 | 11 |\n| 6 | 12 |\n\n",
            "text/latex": "A matrix: 6 × 2 of type int\n\\begin{tabular}{ll}\n\t 1 &  7\\\\\n\t 2 &  8\\\\\n\t 3 &  9\\\\\n\t 4 & 10\\\\\n\t 5 & 11\\\\\n\t 6 & 12\\\\\n\\end{tabular}\n",
            "text/plain": [
              "     [,1] [,2]\n",
              "[1,] 1     7  \n",
              "[2,] 2     8  \n",
              "[3,] 3     9  \n",
              "[4,] 4    10  \n",
              "[5,] 5    11  \n",
              "[6,] 6    12  "
            ]
          },
          "metadata": {}
        }
      ]
    },
    {
      "cell_type": "code",
      "source": [
        "# c) Create a new list\n",
        "\n",
        "my_list=c('cat','dog',1,2,3)\n",
        "my_list"
      ],
      "metadata": {
        "colab": {
          "base_uri": "https://localhost:8080/",
          "height": 34
        },
        "id": "DRTy3gpJygb3",
        "outputId": "e5e7f8e8-95e9-4de3-8d32-1d8bb64dd5e2"
      },
      "execution_count": 21,
      "outputs": [
        {
          "output_type": "display_data",
          "data": {
            "text/html": [
              "<style>\n",
              ".list-inline {list-style: none; margin:0; padding: 0}\n",
              ".list-inline>li {display: inline-block}\n",
              ".list-inline>li:not(:last-child)::after {content: \"\\00b7\"; padding: 0 .5ex}\n",
              "</style>\n",
              "<ol class=list-inline><li>'cat'</li><li>'dog'</li><li>'1'</li><li>'2'</li><li>'3'</li></ol>\n"
            ],
            "text/markdown": "1. 'cat'\n2. 'dog'\n3. '1'\n4. '2'\n5. '3'\n\n\n",
            "text/latex": "\\begin{enumerate*}\n\\item 'cat'\n\\item 'dog'\n\\item '1'\n\\item '2'\n\\item '3'\n\\end{enumerate*}\n",
            "text/plain": [
              "[1] \"cat\" \"dog\" \"1\"   \"2\"   \"3\"  "
            ]
          },
          "metadata": {}
        }
      ]
    },
    {
      "cell_type": "code",
      "source": [
        "# d) Create a new matrix\n",
        "my_matrix=matrix(1:24,nrow=3,ncol=8,byrow=TRUE)\n",
        "my_matrix\n"
      ],
      "metadata": {
        "colab": {
          "base_uri": "https://localhost:8080/",
          "height": 128
        },
        "id": "kxLM3ssnzF9W",
        "outputId": "046d2637-29ca-416b-b289-07478e37d484"
      },
      "execution_count": 27,
      "outputs": [
        {
          "output_type": "display_data",
          "data": {
            "text/html": [
              "<table class=\"dataframe\">\n",
              "<caption>A matrix: 3 × 8 of type int</caption>\n",
              "<tbody>\n",
              "\t<tr><td> 1</td><td> 2</td><td> 3</td><td> 4</td><td> 5</td><td> 6</td><td> 7</td><td> 8</td></tr>\n",
              "\t<tr><td> 9</td><td>10</td><td>11</td><td>12</td><td>13</td><td>14</td><td>15</td><td>16</td></tr>\n",
              "\t<tr><td>17</td><td>18</td><td>19</td><td>20</td><td>21</td><td>22</td><td>23</td><td>24</td></tr>\n",
              "</tbody>\n",
              "</table>\n"
            ],
            "text/markdown": "\nA matrix: 3 × 8 of type int\n\n|  1 |  2 |  3 |  4 |  5 |  6 |  7 |  8 |\n|  9 | 10 | 11 | 12 | 13 | 14 | 15 | 16 |\n| 17 | 18 | 19 | 20 | 21 | 22 | 23 | 24 |\n\n",
            "text/latex": "A matrix: 3 × 8 of type int\n\\begin{tabular}{llllllll}\n\t  1 &  2 &  3 &  4 &  5 &  6 &  7 &  8\\\\\n\t  9 & 10 & 11 & 12 & 13 & 14 & 15 & 16\\\\\n\t 17 & 18 & 19 & 20 & 21 & 22 & 23 & 24\\\\\n\\end{tabular}\n",
            "text/plain": [
              "     [,1] [,2] [,3] [,4] [,5] [,6] [,7] [,8]\n",
              "[1,]  1    2    3    4    5    6    7    8  \n",
              "[2,]  9   10   11   12   13   14   15   16  \n",
              "[3,] 17   18   19   20   21   22   23   24  "
            ]
          },
          "metadata": {}
        }
      ]
    },
    {
      "cell_type": "code",
      "source": [
        "# d) Create a new matrix another way\n",
        "\n",
        "my_matrix=matrix(1:24,nrow=3,ncol=8,byrow=FALSE)\n",
        "my_matrix\n"
      ],
      "metadata": {
        "colab": {
          "base_uri": "https://localhost:8080/",
          "height": 128
        },
        "id": "03lVK5NN0DER",
        "outputId": "34d0f048-ea35-41a8-ab53-74a9d873d6c3"
      },
      "execution_count": 28,
      "outputs": [
        {
          "output_type": "display_data",
          "data": {
            "text/html": [
              "<table class=\"dataframe\">\n",
              "<caption>A matrix: 3 × 8 of type int</caption>\n",
              "<tbody>\n",
              "\t<tr><td>1</td><td>4</td><td>7</td><td>10</td><td>13</td><td>16</td><td>19</td><td>22</td></tr>\n",
              "\t<tr><td>2</td><td>5</td><td>8</td><td>11</td><td>14</td><td>17</td><td>20</td><td>23</td></tr>\n",
              "\t<tr><td>3</td><td>6</td><td>9</td><td>12</td><td>15</td><td>18</td><td>21</td><td>24</td></tr>\n",
              "</tbody>\n",
              "</table>\n"
            ],
            "text/markdown": "\nA matrix: 3 × 8 of type int\n\n| 1 | 4 | 7 | 10 | 13 | 16 | 19 | 22 |\n| 2 | 5 | 8 | 11 | 14 | 17 | 20 | 23 |\n| 3 | 6 | 9 | 12 | 15 | 18 | 21 | 24 |\n\n",
            "text/latex": "A matrix: 3 × 8 of type int\n\\begin{tabular}{llllllll}\n\t 1 & 4 & 7 & 10 & 13 & 16 & 19 & 22\\\\\n\t 2 & 5 & 8 & 11 & 14 & 17 & 20 & 23\\\\\n\t 3 & 6 & 9 & 12 & 15 & 18 & 21 & 24\\\\\n\\end{tabular}\n",
            "text/plain": [
              "     [,1] [,2] [,3] [,4] [,5] [,6] [,7] [,8]\n",
              "[1,] 1    4    7    10   13   16   19   22  \n",
              "[2,] 2    5    8    11   14   17   20   23  \n",
              "[3,] 3    6    9    12   15   18   21   24  "
            ]
          },
          "metadata": {}
        }
      ]
    },
    {
      "cell_type": "code",
      "source": [
        "# e) Create a data frame \n",
        "df=data.frame(x=c(1,2,3),y=c(4,5,6),ncol=3)\n",
        "names(df)<- c('a','b','c')\n",
        "df"
      ],
      "metadata": {
        "colab": {
          "base_uri": "https://localhost:8080/",
          "height": 192
        },
        "id": "J5hR7niZ0VLH",
        "outputId": "3cd5f5e9-7de4-4da4-f9cf-6abc62d34e98"
      },
      "execution_count": 37,
      "outputs": [
        {
          "output_type": "display_data",
          "data": {
            "text/html": [
              "<table class=\"dataframe\">\n",
              "<caption>A data.frame: 3 × 3</caption>\n",
              "<thead>\n",
              "\t<tr><th scope=col>a</th><th scope=col>b</th><th scope=col>c</th></tr>\n",
              "\t<tr><th scope=col>&lt;dbl&gt;</th><th scope=col>&lt;dbl&gt;</th><th scope=col>&lt;dbl&gt;</th></tr>\n",
              "</thead>\n",
              "<tbody>\n",
              "\t<tr><td>1</td><td>4</td><td>3</td></tr>\n",
              "\t<tr><td>2</td><td>5</td><td>3</td></tr>\n",
              "\t<tr><td>3</td><td>6</td><td>3</td></tr>\n",
              "</tbody>\n",
              "</table>\n"
            ],
            "text/markdown": "\nA data.frame: 3 × 3\n\n| a &lt;dbl&gt; | b &lt;dbl&gt; | c &lt;dbl&gt; |\n|---|---|---|\n| 1 | 4 | 3 |\n| 2 | 5 | 3 |\n| 3 | 6 | 3 |\n\n",
            "text/latex": "A data.frame: 3 × 3\n\\begin{tabular}{lll}\n a & b & c\\\\\n <dbl> & <dbl> & <dbl>\\\\\n\\hline\n\t 1 & 4 & 3\\\\\n\t 2 & 5 & 3\\\\\n\t 3 & 6 & 3\\\\\n\\end{tabular}\n",
            "text/plain": [
              "  a b c\n",
              "1 1 4 3\n",
              "2 2 5 3\n",
              "3 3 6 3"
            ]
          },
          "metadata": {}
        }
      ]
    },
    {
      "cell_type": "code",
      "source": [
        "# f) Create a vector of categorical data\n",
        "my_vector <- c(\"red\", \"blue\", \"green\", \"green\", \"red\", \"blue\")\n",
        "\n",
        "# Convert the vector to a factor\n",
        "my_factor <- factor(my_vector)\n",
        "my_factor\n",
        "levels(my_factor)"
      ],
      "metadata": {
        "colab": {
          "base_uri": "https://localhost:8080/",
          "height": 69
        },
        "id": "3fNwu-wU4W5x",
        "outputId": "2b8580e5-0475-4b53-8140-0138c71de5d8"
      },
      "execution_count": 41,
      "outputs": [
        {
          "output_type": "display_data",
          "data": {
            "text/html": [
              "<style>\n",
              ".list-inline {list-style: none; margin:0; padding: 0}\n",
              ".list-inline>li {display: inline-block}\n",
              ".list-inline>li:not(:last-child)::after {content: \"\\00b7\"; padding: 0 .5ex}\n",
              "</style>\n",
              "<ol class=list-inline><li>red</li><li>blue</li><li>green</li><li>green</li><li>red</li><li>blue</li></ol>\n",
              "\n",
              "<details>\n",
              "\t<summary style=display:list-item;cursor:pointer>\n",
              "\t\t<strong>Levels</strong>:\n",
              "\t</summary>\n",
              "\t<style>\n",
              "\t.list-inline {list-style: none; margin:0; padding: 0}\n",
              "\t.list-inline>li {display: inline-block}\n",
              "\t.list-inline>li:not(:last-child)::after {content: \"\\00b7\"; padding: 0 .5ex}\n",
              "\t</style>\n",
              "\t<ol class=list-inline><li>'blue'</li><li>'green'</li><li>'red'</li></ol>\n",
              "</details>"
            ],
            "text/markdown": "1. red\n2. blue\n3. green\n4. green\n5. red\n6. blue\n\n\n\n**Levels**: 1. 'blue'\n2. 'green'\n3. 'red'\n\n\n",
            "text/latex": "\\begin{enumerate*}\n\\item red\n\\item blue\n\\item green\n\\item green\n\\item red\n\\item blue\n\\end{enumerate*}\n\n\\emph{Levels}: \\begin{enumerate*}\n\\item 'blue'\n\\item 'green'\n\\item 'red'\n\\end{enumerate*}\n",
            "text/plain": [
              "[1] red   blue  green green red   blue \n",
              "Levels: blue green red"
            ]
          },
          "metadata": {}
        },
        {
          "output_type": "display_data",
          "data": {
            "text/html": [
              "<style>\n",
              ".list-inline {list-style: none; margin:0; padding: 0}\n",
              ".list-inline>li {display: inline-block}\n",
              ".list-inline>li:not(:last-child)::after {content: \"\\00b7\"; padding: 0 .5ex}\n",
              "</style>\n",
              "<ol class=list-inline><li>'blue'</li><li>'green'</li><li>'red'</li></ol>\n"
            ],
            "text/markdown": "1. 'blue'\n2. 'green'\n3. 'red'\n\n\n",
            "text/latex": "\\begin{enumerate*}\n\\item 'blue'\n\\item 'green'\n\\item 'red'\n\\end{enumerate*}\n",
            "text/plain": [
              "[1] \"blue\"  \"green\" \"red\"  "
            ]
          },
          "metadata": {}
        }
      ]
    },
    {
      "cell_type": "code",
      "source": [
        "# g) list of list \n",
        "# Create a list of lists\n",
        "# Create a list of lists with information about different animal species\n",
        "animal_data <- list(\n",
        "  list(\n",
        "    species = \"Lion\",\n",
        "    habitat = \"Savannah\",\n",
        "    diet = c(\"meat\", \"occasionally plants\"),\n",
        "    conservation_status = \"Vulnerable\"\n",
        "  ),\n",
        "  list(\n",
        "    species = \"Panda\",\n",
        "    habitat = \"Bamboo forest\",\n",
        "    diet = \"bamboo\",\n",
        "    conservation_status = \"Endangered\"\n",
        "  ),\n",
        "  list(\n",
        "    species = \"Kangaroo\",\n",
        "    habitat = \"Grasslands\",\n",
        "    diet = \"plants\",\n",
        "    conservation_status = \"Least concern\"\n",
        "  )\n",
        ")\n",
        "\n",
        "\n",
        "for (i in 1:length(animal_data)) {\n",
        "  cat(\"Species: \", animal_data[[i]]$species, \"\\n\")\n",
        "  cat(\"Habitat: \", animal_data[[i]]$habitat, \"\\n\")\n",
        "  cat(\"Diet: \", paste(animal_data[[i]]$diet, collapse = \", \"), \"\\n\")\n",
        "  cat(\"Conservation status: \", animal_data[[i]]$conservation_status, \"\\n\\n\")\n",
        "}"
      ],
      "metadata": {
        "colab": {
          "base_uri": "https://localhost:8080/"
        },
        "id": "3cSsusaf4sRU",
        "outputId": "844ad0da-496b-4229-f031-94b8e588ce57"
      },
      "execution_count": 55,
      "outputs": [
        {
          "output_type": "stream",
          "name": "stdout",
          "text": [
            "Species:  Lion \n",
            "Habitat:  Savannah \n",
            "Diet:  meat, occasionally plants \n",
            "Conservation status:  Vulnerable \n",
            "\n",
            "Species:  Panda \n",
            "Habitat:  Bamboo forest \n",
            "Diet:  bamboo \n",
            "Conservation status:  Endangered \n",
            "\n",
            "Species:  Kangaroo \n",
            "Habitat:  Grasslands \n",
            "Diet:  plants \n",
            "Conservation status:  Least concern \n",
            "\n"
          ]
        }
      ]
    },
    {
      "cell_type": "markdown",
      "source": [
        "# Write an add on to the list of list to get  the following output\n",
        "Species:  Lion \n",
        "Habitat:  Savannah \n",
        "Diet:  meat, occasionally plants \n",
        "Conservation status:  Vulnerable \n",
        "\n",
        "Species:  Panda \n",
        "Habitat:  Bamboo forest \n",
        "Diet:  bamboo \n",
        "Conservation status:  Endangered \n",
        "\n",
        "Species:  Kangaroo \n",
        "Habitat:  Grasslands \n",
        "Diet:  plants \n",
        "Conservation status:  Least concern \n"
      ],
      "metadata": {
        "id": "EcuWliCQ8FNU"
      }
    }
  ]
}