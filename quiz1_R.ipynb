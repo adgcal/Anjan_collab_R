{
  "nbformat": 4,
  "nbformat_minor": 0,
  "metadata": {
    "colab": {
      "provenance": [],
      "authorship_tag": "ABX9TyMzQ3wQ1ZeFeR4mFAZDKiZQ",
      "include_colab_link": true
    },
    "kernelspec": {
      "name": "ir",
      "display_name": "R"
    },
    "language_info": {
      "name": "R"
    }
  },
  "cells": [
    {
      "cell_type": "markdown",
      "metadata": {
        "id": "view-in-github",
        "colab_type": "text"
      },
      "source": [
        "<a href=\"https://colab.research.google.com/github/adgcal/Anjan_collab_R/blob/main/quiz1_R.ipynb\" target=\"_parent\"><img src=\"https://colab.research.google.com/assets/colab-badge.svg\" alt=\"Open In Colab\"/></a>"
      ]
    },
    {
      "cell_type": "markdown",
      "source": [
        "Q1. How to  eliminate 4-th element of my_vector given by:\n"
      ],
      "metadata": {
        "id": "FLKcYxnQxLRq"
      }
    },
    {
      "cell_type": "code",
      "source": [
        "# a) Create a new vector\n",
        "my_vector <- c(1, 2, 3, 4, 5)\n",
        "\n"
      ],
      "metadata": {
        "id": "UJ8nv7CVxlMU"
      },
      "execution_count": null,
      "outputs": []
    },
    {
      "cell_type": "markdown",
      "source": [
        "Q2. my_array is a 6X2 matrix . Delete the 3 bottom rows of the matrix and then convert it to a  2 X 3 matrix "
      ],
      "metadata": {
        "id": "WYJIuH-LnTtV"
      }
    },
    {
      "cell_type": "code",
      "source": [
        "my_array <- array(1:12, dim=c(6, 2))\n",
        "# my_array  "
      ],
      "metadata": {
        "id": "Sp0qnY9ByB44"
      },
      "execution_count": null,
      "outputs": []
    },
    {
      "cell_type": "markdown",
      "source": [
        "Q3. How do I delete (a) the second row of (b) third column of my_matrix:"
      ],
      "metadata": {
        "id": "XWR9mggEn-cX"
      }
    },
    {
      "cell_type": "code",
      "source": [
        "\n",
        "my_matrix=matrix(1:24,nrow=3,ncol=8,byrow=TRUE)\n"
      ],
      "metadata": {
        "id": "kxLM3ssnzF9W"
      },
      "execution_count": null,
      "outputs": []
    },
    {
      "cell_type": "markdown",
      "source": [
        "Q4. Take the Rabbit data from the MASS package. \n",
        "Determine from the data (a) How many distinct animals have been used ? (b) How many distinct Treatments have been use?"
      ],
      "metadata": {
        "id": "VZO7Om8uohao"
      }
    },
    {
      "cell_type": "code",
      "source": [
        "#install.packages(\"MASS\")\n",
        "library(MASS)\n",
        "ls('package:MASS')\n",
        "data(Rabbit)\n"
      ],
      "metadata": {
        "id": "03lVK5NN0DER"
      },
      "execution_count": null,
      "outputs": []
    },
    {
      "cell_type": "markdown",
      "source": [
        "Q5.  Write a code spline fitting of brain-body using the data Aniamals from the MASS package "
      ],
      "metadata": {
        "id": "J5hR7niZ0VLH"
      }
    },
    {
      "cell_type": "markdown",
      "source": [
        "Q6. Show a demonstration of kmeans-clustering using the IRIS data. "
      ],
      "metadata": {
        "id": "kTusbbk9sbJR"
      }
    },
    {
      "cell_type": "code",
      "source": [
        "# Please run \n",
        "install.packages(\"datasets\")\n",
        "library(datasets)\n",
        "data(iris)"
      ],
      "metadata": {
        "id": "rXjcN7nfs5Tz"
      },
      "execution_count": null,
      "outputs": []
    },
    {
      "cell_type": "markdown",
      "source": [
        "Q7. Use library(rentrez) to make a query 'clopidogrel' and save it as <your_name_clopi.txt>.  Indicate wheteher it is an anti-cancer drug or a an antiplatelet drug or a pain killer based on the abstract, highlighting the section of the abastract that supports your judgement. "
      ],
      "metadata": {
        "id": "E1tsO0agtPwa"
      }
    },
    {
      "cell_type": "markdown",
      "source": [
        "Q8. Explain whether you can talk about torsion angle for a molecule A-B-C , and another A-B-C-D? \n"
      ],
      "metadata": {
        "id": "DCA1xT-m8UQq"
      }
    },
    {
      "cell_type": "markdown",
      "source": [
        "Q9. Draw Ramachandran plot for 1HEL: Lysozyme from chicken egg white\n",
        "- 1LZ1: Lysozyme from human milk\n",
        "- 1DPX: Lysozyme from bacteriophage T4\n",
        "- 1AKI: Lysozyme from hen of the wood mushroom (Tricholoma giganteum)\n",
        "- 1E8L: Lysozyme from tears of Asian elephant (Elephas maximus)"
      ],
      "metadata": {
        "id": "IovCIqRS9G0W"
      }
    },
    {
      "cell_type": "markdown",
      "source": [
        "Q.10.  Using the following growth curve data infer upon the lag period and OD at the  stationary phase? "
      ],
      "metadata": {
        "id": "U8WBVGit9ixI"
      }
    },
    {
      "cell_type": "code",
      "source": [
        "install.packages(\"growthcurver\")\n",
        "library(growthcurver)\n",
        "d <- growthdata\n",
        "plot(d[,1],d[,2])"
      ],
      "metadata": {
        "colab": {
          "base_uri": "https://localhost:8080/"
        },
        "id": "54gXePEJ9WgN",
        "outputId": "189e97a7-fe04-4cd6-d4ae-8b868ebe6328"
      },
      "execution_count": 18,
      "outputs": [
        {
          "output_type": "stream",
          "name": "stderr",
          "text": [
            "Installing package into ‘/usr/local/lib/R/site-library’\n",
            "(as ‘lib’ is unspecified)\n",
            "\n"
          ]
        }
      ]
    },
    {
      "cell_type": "code",
      "source": [
        "d <- growthdata\n",
        "plot(d[,1],d[,2])"
      ],
      "metadata": {
        "colab": {
          "base_uri": "https://localhost:8080/",
          "height": 437
        },
        "id": "LzrP6BiA-1n1",
        "outputId": "0eb8ffae-a24e-4e83-de92-9395c8200bf7"
      },
      "execution_count": 22,
      "outputs": [
        {
          "output_type": "display_data",
          "data": {
            "text/plain": [
              "plot without title"
            ],
            "image/png": "[encoded data removed]"
          },
          "metadata": {
            "image/png": {
              "width": 420,
              "height": 420
            }
          }
        }
      ]
    }
  ]
}