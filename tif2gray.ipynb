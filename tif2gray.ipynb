{
  "nbformat": 4,
  "nbformat_minor": 0,
  "metadata": {
    "colab": {
      "provenance": [],
      "authorship_tag": "ABX9TyOJzVypO574E8Rm3oeyF9ca",
      "include_colab_link": true
    },
    "kernelspec": {
      "name": "python3",
      "display_name": "Python 3"
    },
    "language_info": {
      "name": "python"
    }
  },
  "cells": [
    {
      "cell_type": "markdown",
      "metadata": {
        "id": "view-in-github",
        "colab_type": "text"
      },
      "source": [
        "<a href=\"https://colab.research.google.com/github/adgcal/Anjan_collab_R/blob/main/tif2gray.ipynb\" target=\"_parent\"><img src=\"https://colab.research.google.com/assets/colab-badge.svg\" alt=\"Open In Colab\"/></a>"
      ]
    },
    {
      "cell_type": "code",
      "source": [
        "import os"
      ],
      "metadata": {
        "id": "vlTaNg3N2SQ4"
      },
      "execution_count": 1,
      "outputs": []
    },
    {
      "cell_type": "code",
      "source": [
        "from google.colab import drive\n",
        "drive.mount('/content/drive')\n"
      ],
      "metadata": {
        "colab": {
          "base_uri": "https://localhost:8080/"
        },
        "id": "dPy1AL8E2rW0",
        "outputId": "d9558528-a9f8-40cc-e2d1-bae3f6b0f957"
      },
      "execution_count": 2,
      "outputs": [
        {
          "output_type": "stream",
          "name": "stdout",
          "text": [
            "Mounted at /content/drive\n"
          ]
        }
      ]
    },
    {
      "cell_type": "code",
      "source": [
        "os.chdir(\"/content/drive/My Drive/concentration/1\")\n"
      ],
      "metadata": {
        "id": "mBrL29aa2Wcu"
      },
      "execution_count": 5,
      "outputs": []
    },
    {
      "cell_type": "code",
      "source": [
        "!ls"
      ],
      "metadata": {
        "colab": {
          "base_uri": "https://localhost:8080/"
        },
        "id": "97KDBm-DYd5o",
        "outputId": "917a2122-e86e-4c4f-80ba-bb7de4afe2f0"
      },
      "execution_count": 6,
      "outputs": [
        {
          "output_type": "stream",
          "name": "stdout",
          "text": [
            "000.tif  010_1.tif  020_1.tif  040_1.tif  080_1.tif  160_1.tif\ttif2gray.ipynb\n"
          ]
        }
      ]
    },
    {
      "cell_type": "code",
      "execution_count": 7,
      "metadata": {
        "id": "CVXTHfqc0AOG"
      },
      "outputs": [],
      "source": [
        "import cv2"
      ]
    },
    {
      "cell_type": "code",
      "source": [
        "img= cv2.imread('000.tif')"
      ],
      "metadata": {
        "id": "h1jj0XNR0PMD"
      },
      "execution_count": 8,
      "outputs": []
    },
    {
      "cell_type": "code",
      "source": [
        "from google.colab.patches import cv2_imshow\n",
        "\n",
        "if img is None:\n",
        "    print(\"Error reading image! Please check the file path.\")\n",
        "else:\n",
        "    # Process and display the image (assuming img is valid now)\n",
        "    cv2_imshow(img)\n"
      ],
      "metadata": {
        "id": "XgM8y01A1OIE"
      },
      "execution_count": null,
      "outputs": []
    },
    {
      "cell_type": "code",
      "source": [
        "gray_img = cv2.cvtColor(img, cv2.COLOR_BGR2GRAY)\n",
        "cv2_imshow(gray_img)\n"
      ],
      "metadata": {
        "id": "p_rJ5_UUZQMO"
      },
      "execution_count": null,
      "outputs": []
    },
    {
      "cell_type": "code",
      "source": [
        "ret, thresh_img = cv2.threshold(gray_img, 0, 255, cv2.THRESH_BINARY + cv2.THRESH_OTSU)\n",
        "cv2_imshow(thresh_img)\n"
      ],
      "metadata": {
        "id": "lTh6lK0gZhXL"
      },
      "execution_count": null,
      "outputs": []
    },
    {
      "cell_type": "code",
      "source": [
        "import numpy as np\n",
        "\n",
        "\n",
        "def box_counting(image, epsilon):\n",
        "  \"\"\"\n",
        "  Calculates the box dimension of a binary image using box counting.\n",
        "\n",
        "  Args:\n",
        "      image: A 2D NumPy array representing the binary image.\n",
        "      epsilon: Minimum box size to consider (to avoid division by zero).\n",
        "\n",
        "  Returns:\n",
        "      A tuple containing:\n",
        "          box_sizes: A list of box sizes used in the calculation.\n",
        "          box_counts: A list of corresponding box counts for each size.\n",
        "  \"\"\"\n",
        "  box_sizes = []\n",
        "  box_counts = []\n",
        "  height, width = image.shape\n",
        "\n",
        "  # Iterate through potential box sizes\n",
        "  for box_size in range(epsilon, min(height, width) // 2 + 1):\n",
        "    # Count the number of boxes needed to cover the image\n",
        "    box_count = 0\n",
        "    for y in range(0, height, box_size):\n",
        "      for x in range(0, width, box_size):\n",
        "        # Check if the box overlaps a foreground pixel\n",
        "        box = image[y:y+box_size, x:x+box_size]\n",
        "        if np.any(box):\n",
        "          box_count += 1\n",
        "\n",
        "    box_sizes.append(box_size)\n",
        "    box_counts.append(box_count)\n",
        "\n",
        "  return box_sizes, box_counts\n",
        "\n",
        "\n",
        "\n"
      ],
      "metadata": {
        "id": "HT5DUaaaa36X"
      },
      "execution_count": 16,
      "outputs": []
    },
    {
      "cell_type": "code",
      "source": [
        "\n",
        "def calculate_fractal_dimension(box_sizes, box_counts):\n",
        "  \"\"\"\n",
        "  Calculates the fractal dimension from the box sizes and counts.\n",
        "\n",
        "  Args:\n",
        "      box_sizes: A list of box sizes used in the calculation.\n",
        "      box_counts: A list of corresponding box counts for each size.\n",
        "\n",
        "  Returns:\n",
        "      The estimated fractal dimension of the image.\n",
        "  \"\"\"\n",
        "  # Convert box sizes and counts to log scale\n",
        "  log_box_sizes = np.log(box_sizes)\n",
        "  log_box_counts = np.log(box_counts)\n",
        "\n",
        "  # Perform linear regression to find the slope\n",
        "  slope, _ = np.polyfit(log_box_sizes, log_box_counts, 1)\n",
        "\n",
        "  # Fractal dimension is negative of the slope\n",
        "  fractal_dimension = -slope\n",
        "\n",
        "  return fractal_dimension\n"
      ],
      "metadata": {
        "id": "tLq2_vsgbvX1"
      },
      "execution_count": 17,
      "outputs": []
    },
    {
      "cell_type": "code",
      "source": [
        "def main():\n",
        "  # Load the image (replace with your image path)\n",
        "  # image_path = \"path/to/your/binary_image.jpg\"\n",
        "  # image = cv2.imread(image_path, 0)  # Read as grayscale\n",
        "\n",
        "  # Convert to binary (if needed)\n",
        "  # _, binary_image = cv2.threshold(image, 127, 255, cv2.THRESH_BINARY)\n",
        "\n",
        "  # Minimum box size to avoid division by zero\n",
        "  epsilon = 1\n",
        "\n",
        "  # Calculate box sizes and counts\n",
        "  box_sizes, box_counts = box_counting(thresh_img, epsilon)\n",
        "\n",
        "  # Calculate the fractal dimension\n",
        "  fractal_dimension = calculate_fractal_dimension(box_sizes, box_counts)\n",
        "\n",
        "  print(\"Estimated fractal dimension:\", fractal_dimension)\n",
        "\n",
        "if __name__ == \"__main__\":\n",
        "  main()\n"
      ],
      "metadata": {
        "colab": {
          "base_uri": "https://localhost:8080/"
        },
        "id": "b6zteqP5b05t",
        "outputId": "d2a8ed3c-7f72-474b-a797-a979bf572e9d"
      },
      "execution_count": 18,
      "outputs": [
        {
          "output_type": "stream",
          "name": "stdout",
          "text": [
            "Estimated fractal dimension: 1.8584424742265373\n"
          ]
        }
      ]
    },
    {
      "cell_type": "code",
      "source": [
        "# prompt: The fractal domension is evaluated for one image 000.tif in the directory \"/content/drive/My Drive/concentration/1\". Want to make a table for all fractal dimension in the directories \"/content/drive/My Drive/concentration/1\" and \"/content/drive/My Drive/concentration/12'  with tif extension. Code suggestion?\n",
        "\n",
        "import os\n",
        "import cv2\n",
        "import numpy as np\n",
        "\n",
        "def box_counting(image, epsilon):\n",
        "    \"\"\"\n",
        "    Calculates the box dimension of a binary image using box counting.\n",
        "\n",
        "    Args:\n",
        "        image: A 2D NumPy array representing the binary image.\n",
        "        epsilon: Minimum box size to consider (to avoid division by zero).\n",
        "\n",
        "    Returns:\n",
        "        A tuple containing:\n",
        "            box_sizes: A list of box sizes used in the calculation.\n",
        "            box_counts: A list of corresponding box counts for each size.\n",
        "    \"\"\"\n",
        "    box_sizes = []\n",
        "    box_counts = []\n",
        "    height, width = image.shape\n",
        "\n",
        "    # Iterate through potential box sizes\n",
        "    for box_size in range(epsilon, min(height, width) // 2 + 1):\n",
        "        # Count the number of boxes needed to cover the image\n",
        "        box_count = 0\n",
        "        for y in range(0, height, box_size):\n",
        "            for x in range(0, width, box_size):\n",
        "                # Check if the box overlaps a foreground pixel\n",
        "                box = image[y:y+box_size, x:x+box_size]\n",
        "                if np.any(box):\n",
        "                    box_count += 1\n",
        "\n",
        "        box_sizes.append(box_size)\n",
        "        box_counts.append(box_count)\n",
        "\n",
        "    return box_sizes, box_counts\n",
        "\n",
        "\n",
        "def calculate_fractal_dimension(box_sizes, box_counts):\n",
        "    \"\"\"\n",
        "    Calculates the fractal dimension from the box sizes and counts.\n",
        "\n",
        "    Args:\n",
        "        box_sizes: A list of box sizes used in the calculation.\n",
        "        box_counts: A list of corresponding box counts for each size.\n",
        "\n",
        "    Returns:\n",
        "        The estimated fractal dimension of the image.\n",
        "    \"\"\"\n",
        "    # Convert box sizes and counts to log scale\n",
        "    log_box_sizes = np.log(box_sizes)\n",
        "    log_box_counts = np.log(box_counts)\n",
        "\n",
        "    # Perform linear regression to find the slope\n",
        "    slope, _ = np.polyfit(log_box_sizes, log_box_counts, 1)\n",
        "\n",
        "    # Fractal dimension is negative of the slope\n",
        "    fractal_dimension = -slope\n",
        "\n",
        "    return fractal_dimension\n",
        "\n",
        "\n",
        "def main():\n",
        "    # Define the directories\n",
        "    directories = [\"/content/drive/My Drive/concentration/1\", \"/content/drive/My Drive/concentration/2\"]\n",
        "\n",
        "    # Create a table to store the results\n",
        "    table = {\"File Name\": [], \"Fractal Dimension\": []}\n",
        "\n",
        "    # Iterate through the directories and process each image\n",
        "    for directory in directories:\n",
        "        for filename in os.listdir(directory):\n",
        "            if filename.endswith(\".tif\"):\n",
        "                # Load the image\n",
        "                image_path = os.path.join(directory, filename)\n",
        "                image = cv2.imread(image_path, 0)\n",
        "\n",
        "                # Convert to binary (if needed)\n",
        "                _, binary_image = cv2.threshold(image, 127, 255, cv2.THRESH_BINARY)\n",
        "\n",
        "                # Calculate the fractal dimension\n",
        "                fractal_dimension = calculate_fractal_dimension(*box_counting(binary_image, 1))\n",
        "\n",
        "                # Add the results to the table\n",
        "                table[\"File Name\"].append(filename)\n",
        "                table[\"Fractal Dimension\"].append(fractal_dimension)\n",
        "\n",
        "    # Print the table\n",
        "    import pandas as pd\n",
        "    df = pd.DataFrame(table)\n",
        "    print(df.to_string())\n",
        "\n",
        "\n",
        "if __name__ == \"__main__\":\n",
        "    main()\n"
      ],
      "metadata": {
        "colab": {
          "base_uri": "https://localhost:8080/"
        },
        "id": "UoV9mETMl0J6",
        "outputId": "d0b8e990-45af-4614-bd45-52d22148c46c"
      },
      "execution_count": 20,
      "outputs": [
        {
          "output_type": "stream",
          "name": "stdout",
          "text": [
            "    File Name  Fractal Dimension\n",
            "0     000.tif           1.848868\n",
            "1   010_1.tif           1.847018\n",
            "2   020_1.tif           1.855085\n",
            "3   040_1.tif           1.813554\n",
            "4   080_1.tif           1.858179\n",
            "5   160_1.tif           1.883609\n",
            "6   010_2.tif           1.622210\n",
            "7     002.tif           1.861459\n",
            "8   020_2.tif           1.875062\n",
            "9   160_2.tif           1.881718\n",
            "10  080_2.tif           1.875980\n",
            "11  040_2.tif           1.876844\n"
          ]
        }
      ]
    },
    {
      "cell_type": "code",
      "source": [
        "# prompt:  want to plot the fractal dimesion for files with extesions _1 and _2 against the concentration values [0,10,20,40,80,160] - the two plot sets with 0     000.tif           1.848868\n",
        "\n",
        "\n",
        "import matplotlib.pyplot as plt\n",
        "\n",
        "# Define the concentration values\n",
        "concentrations = [0, 10, 20, 40, 80, 160]\n",
        "\n",
        "# Define the fractal dimensions for files with extensions _1 and _2\n",
        "fractal_dimensions_1 = [1.848868, 1.847018, 1.855085, 1.813554, 1.858179, 1.883609]\n",
        "fractal_dimensions_2 = [1.861459,1.622210,1.875062,1.876844,1.875980,1.881718]\n",
        "\n",
        "# Create the plot\n",
        "plt.plot(concentrations, fractal_dimensions_1, label=\"Extension _1\")\n",
        "plt.plot(concentrations, fractal_dimensions_2, label=\"Extension _2\")\n",
        "\n",
        "# Add labels and title\n",
        "plt.xlabel(\"Concentration\")\n",
        "plt.ylabel(\"Fractal Dimension\")\n",
        "plt.title(\"Fractal Dimension vs. Concentration\")\n",
        "\n",
        "# Add legend and show the plot\n",
        "plt.legend()\n",
        "plt.show()\n"
      ],
      "metadata": {
        "colab": {
          "base_uri": "https://localhost:8080/",
          "height": 472
        },
        "id": "bvZgcHY_qO7g",
        "outputId": "396c5827-2cc1-4261-c218-7bdaca941763"
      },
      "execution_count": 31,
      "outputs": [
        {
          "output_type": "display_data",
          "data": {
            "text/plain": [
              "<Figure size 640x480 with 1 Axes>"
            ],
            "image/png": "[encoded data removed]"
          },
          "metadata": {}
        }
      ]
    }
  ]
}