{
  "cells": [
    {
      "cell_type": "markdown",
      "metadata": {
        "id": "view-in-github",
        "colab_type": "text"
      },
      "source": [
        "<a href=\"https://colab.research.google.com/github/adgcal/Anjan_collab_R/blob/main/5_peptides.ipynb\" target=\"_parent\"><img src=\"https://colab.research.google.com/assets/colab-badge.svg\" alt=\"Open In Colab\"/></a>"
      ]
    },
    {
      "cell_type": "code",
      "source": [
        "install.packages(\"devtools\")\n",
        "library(devtools)\n",
        "if (!requireNamespace(\"BiocManager\", quietly = TRUE))\n",
        "    install.packages(\"BiocManager\")\n",
        "BiocManager::install(\"graph\")\n"
      ],
      "metadata": {
        "colab": {
          "base_uri": "https://localhost:8080/"
        },
        "id": "LELogj8cKQSb",
        "outputId": "0c24bb1b-f899-4846-9e49-025bd1d003c6"
      },
      "execution_count": 78,
      "outputs": [
        {
          "output_type": "stream",
          "name": "stderr",
          "text": [
            "Installing package into ‘/usr/local/lib/R/site-library’\n",
            "(as ‘lib’ is unspecified)\n",
            "\n",
            "also installing the dependencies ‘textshaping’, ‘ragg’, ‘pkgdown’\n",
            "\n",
            "\n",
            "Warning message in install.packages(\"devtools\"):\n",
            "“installation of package ‘textshaping’ had non-zero exit status”\n",
            "Warning message in install.packages(\"devtools\"):\n",
            "“installation of package ‘ragg’ had non-zero exit status”\n",
            "Warning message in install.packages(\"devtools\"):\n",
            "“installation of package ‘pkgdown’ had non-zero exit status”\n",
            "Warning message in install.packages(\"devtools\"):\n",
            "“installation of package ‘devtools’ had non-zero exit status”\n",
            "'getOption(\"repos\")' replaces Bioconductor standard repositories, see\n",
            "'help(\"repositories\", package = \"BiocManager\")' for details.\n",
            "Replacement repositories:\n",
            "    CRAN: https://cran.rstudio.com\n",
            "\n",
            "Bioconductor version 3.17 (BiocManager 1.30.20), R 4.3.0 (2023-04-21)\n",
            "\n",
            "Warning message:\n",
            "“package(s) not installed when version(s) same as or greater than current; use\n",
            "  `force = TRUE` to re-install: 'graph'”\n",
            "Old packages: 'bit', 'bslib', 'cachem', 'devtools', 'digest', 'dplyr',\n",
            "  'evaluate', 'fontawesome', 'fs', 'gargle', 'gert', 'highr', 'isoband',\n",
            "  'jsonlite', 'pkgload', 'processx', 'ps', 'rlang', 'roxygen2', 'sass',\n",
            "  'stringr', 'testthat', 'tidyverse', 'tinytex', 'vctrs', 'viridisLite',\n",
            "  'vroom', 'waldo', 'whisker', 'xfun', 'xml2', 'zip', 'boot', 'class',\n",
            "  'foreign', 'KernSmooth', 'MASS', 'nnet'\n",
            "\n"
          ]
        }
      ]
    },
    {
      "cell_type": "code",
      "source": [
        "BiocManager::install(\"shipunov\")\n"
      ],
      "metadata": {
        "colab": {
          "base_uri": "https://localhost:8080/"
        },
        "id": "_StK8d9tNoqg",
        "outputId": "35fb57f4-8923-438a-c10f-f9febdc4cdef"
      },
      "execution_count": 79,
      "outputs": [
        {
          "output_type": "stream",
          "name": "stderr",
          "text": [
            "'getOption(\"repos\")' replaces Bioconductor standard repositories, see\n",
            "'help(\"repositories\", package = \"BiocManager\")' for details.\n",
            "Replacement repositories:\n",
            "    CRAN: https://cran.rstudio.com\n",
            "\n",
            "Bioconductor version 3.17 (BiocManager 1.30.20), R 4.3.0 (2023-04-21)\n",
            "\n",
            "Warning message:\n",
            "“package(s) not installed when version(s) same as or greater than current; use\n",
            "  `force = TRUE` to re-install: 'shipunov'”\n",
            "Old packages: 'bit', 'bslib', 'cachem', 'devtools', 'digest', 'dplyr',\n",
            "  'evaluate', 'fontawesome', 'fs', 'gargle', 'gert', 'highr', 'isoband',\n",
            "  'jsonlite', 'pkgload', 'processx', 'ps', 'rlang', 'roxygen2', 'sass',\n",
            "  'stringr', 'testthat', 'tidyverse', 'tinytex', 'vctrs', 'viridisLite',\n",
            "  'vroom', 'waldo', 'whisker', 'xfun', 'xml2', 'zip', 'boot', 'class',\n",
            "  'foreign', 'KernSmooth', 'MASS', 'nnet'\n",
            "\n"
          ]
        }
      ]
    },
    {
      "cell_type": "code",
      "source": [
        "BiocManager::install(\"limma\")\n"
      ],
      "metadata": {
        "colab": {
          "base_uri": "https://localhost:8080/"
        },
        "id": "UB6gODfBN3cY",
        "outputId": "a6185447-7f10-4645-b357-3ef8145a5560"
      },
      "execution_count": 80,
      "outputs": [
        {
          "output_type": "stream",
          "name": "stderr",
          "text": [
            "'getOption(\"repos\")' replaces Bioconductor standard repositories, see\n",
            "'help(\"repositories\", package = \"BiocManager\")' for details.\n",
            "Replacement repositories:\n",
            "    CRAN: https://cran.rstudio.com\n",
            "\n",
            "Bioconductor version 3.17 (BiocManager 1.30.20), R 4.3.0 (2023-04-21)\n",
            "\n",
            "Warning message:\n",
            "“package(s) not installed when version(s) same as or greater than current; use\n",
            "  `force = TRUE` to re-install: 'limma'”\n",
            "Old packages: 'bit', 'bslib', 'cachem', 'devtools', 'digest', 'dplyr',\n",
            "  'evaluate', 'fontawesome', 'fs', 'gargle', 'gert', 'highr', 'isoband',\n",
            "  'jsonlite', 'pkgload', 'processx', 'ps', 'rlang', 'roxygen2', 'sass',\n",
            "  'stringr', 'testthat', 'tidyverse', 'tinytex', 'vctrs', 'viridisLite',\n",
            "  'vroom', 'waldo', 'whisker', 'xfun', 'xml2', 'zip', 'boot', 'class',\n",
            "  'foreign', 'KernSmooth', 'MASS', 'nnet'\n",
            "\n"
          ]
        }
      ]
    },
    {
      "cell_type": "code",
      "source": [
        "BiocManager::install(\"BiocGenerics\")"
      ],
      "metadata": {
        "colab": {
          "base_uri": "https://localhost:8080/"
        },
        "id": "sGeTy3t2OFjl",
        "outputId": "2d94dbeb-0be1-4dfc-e3a0-5dc41b070cd0"
      },
      "execution_count": 81,
      "outputs": [
        {
          "output_type": "stream",
          "name": "stderr",
          "text": [
            "'getOption(\"repos\")' replaces Bioconductor standard repositories, see\n",
            "'help(\"repositories\", package = \"BiocManager\")' for details.\n",
            "Replacement repositories:\n",
            "    CRAN: https://cran.rstudio.com\n",
            "\n",
            "Bioconductor version 3.17 (BiocManager 1.30.20), R 4.3.0 (2023-04-21)\n",
            "\n",
            "Warning message:\n",
            "“package(s) not installed when version(s) same as or greater than current; use\n",
            "  `force = TRUE` to re-install: 'BiocGenerics'”\n",
            "Old packages: 'bit', 'bslib', 'cachem', 'devtools', 'digest', 'dplyr',\n",
            "  'evaluate', 'fontawesome', 'fs', 'gargle', 'gert', 'highr', 'isoband',\n",
            "  'jsonlite', 'pkgload', 'processx', 'ps', 'rlang', 'roxygen2', 'sass',\n",
            "  'stringr', 'testthat', 'tidyverse', 'tinytex', 'vctrs', 'viridisLite',\n",
            "  'vroom', 'waldo', 'whisker', 'xfun', 'xml2', 'zip', 'boot', 'class',\n",
            "  'foreign', 'KernSmooth', 'MASS', 'nnet'\n",
            "\n"
          ]
        }
      ]
    },
    {
      "cell_type": "code",
      "source": [
        "BiocManager::install(\"bio3d\")"
      ],
      "metadata": {
        "colab": {
          "base_uri": "https://localhost:8080/"
        },
        "id": "_buE4w6PNmpS",
        "outputId": "ebb987d3-ca17-46f9-9fe1-f65f28429cc2"
      },
      "execution_count": 82,
      "outputs": [
        {
          "output_type": "stream",
          "name": "stderr",
          "text": [
            "'getOption(\"repos\")' replaces Bioconductor standard repositories, see\n",
            "'help(\"repositories\", package = \"BiocManager\")' for details.\n",
            "Replacement repositories:\n",
            "    CRAN: https://cran.rstudio.com\n",
            "\n",
            "Bioconductor version 3.17 (BiocManager 1.30.20), R 4.3.0 (2023-04-21)\n",
            "\n",
            "Warning message:\n",
            "“package(s) not installed when version(s) same as or greater than current; use\n",
            "  `force = TRUE` to re-install: 'bio3d'”\n",
            "Old packages: 'bit', 'bslib', 'cachem', 'devtools', 'digest', 'dplyr',\n",
            "  'evaluate', 'fontawesome', 'fs', 'gargle', 'gert', 'highr', 'isoband',\n",
            "  'jsonlite', 'pkgload', 'processx', 'ps', 'rlang', 'roxygen2', 'sass',\n",
            "  'stringr', 'testthat', 'tidyverse', 'tinytex', 'vctrs', 'viridisLite',\n",
            "  'vroom', 'waldo', 'whisker', 'xfun', 'xml2', 'zip', 'boot', 'class',\n",
            "  'foreign', 'KernSmooth', 'MASS', 'nnet'\n",
            "\n"
          ]
        }
      ]
    },
    {
      "cell_type": "code",
      "source": [
        "BiocManager::install(\"FactoMineR\")"
      ],
      "metadata": {
        "colab": {
          "base_uri": "https://localhost:8080/"
        },
        "id": "Nw_6bmJiWjMm",
        "outputId": "3b4ed5d2-5d2e-4acd-fc94-fc32c5fa008a"
      },
      "execution_count": 83,
      "outputs": [
        {
          "output_type": "stream",
          "name": "stderr",
          "text": [
            "'getOption(\"repos\")' replaces Bioconductor standard repositories, see\n",
            "'help(\"repositories\", package = \"BiocManager\")' for details.\n",
            "Replacement repositories:\n",
            "    CRAN: https://cran.rstudio.com\n",
            "\n",
            "Bioconductor version 3.17 (BiocManager 1.30.20), R 4.3.0 (2023-04-21)\n",
            "\n",
            "Warning message:\n",
            "“package(s) not installed when version(s) same as or greater than current; use\n",
            "  `force = TRUE` to re-install: 'FactoMineR'”\n",
            "Old packages: 'bit', 'bslib', 'cachem', 'devtools', 'digest', 'dplyr',\n",
            "  'evaluate', 'fontawesome', 'fs', 'gargle', 'gert', 'highr', 'isoband',\n",
            "  'jsonlite', 'pkgload', 'processx', 'ps', 'rlang', 'roxygen2', 'sass',\n",
            "  'stringr', 'testthat', 'tidyverse', 'tinytex', 'vctrs', 'viridisLite',\n",
            "  'vroom', 'waldo', 'whisker', 'xfun', 'xml2', 'zip', 'boot', 'class',\n",
            "  'foreign', 'KernSmooth', 'MASS', 'nnet'\n",
            "\n"
          ]
        }
      ]
    },
    {
      "cell_type": "code",
      "source": [
        "library(FactoMineR)"
      ],
      "metadata": {
        "id": "9p4NfTCzWs3H"
      },
      "execution_count": 84,
      "outputs": []
    },
    {
      "cell_type": "code",
      "source": [
        "install_github(\"dosorio/Peptides\")"
      ],
      "metadata": {
        "colab": {
          "base_uri": "https://localhost:8080/"
        },
        "id": "Eeefx2BuOsOd",
        "outputId": "5658e514-1dc2-411d-91ba-c0b806632067"
      },
      "execution_count": 85,
      "outputs": [
        {
          "output_type": "stream",
          "name": "stderr",
          "text": [
            "Skipping install of 'Peptides' from a github remote, the SHA1 (f36996a4) has not changed since last install.\n",
            "  Use `force = TRUE` to force installation\n",
            "\n"
          ]
        }
      ]
    },
    {
      "cell_type": "code",
      "execution_count": 86,
      "metadata": {
        "id": "R1G5u2rPIdvF"
      },
      "outputs": [],
      "source": [
        "library(graph)\n",
        "library(shipunov)\n",
        "library(limma)\n",
        "library(ggplot2)\n",
        "library(bio3d)\n",
        "library(Peptides)\n"
      ]
    },
    {
      "cell_type": "markdown",
      "source": [
        "# Reading a PDB file using read.pdb "
      ],
      "metadata": {
        "id": "SjdBMFhfPB27"
      }
    },
    {
      "cell_type": "code",
      "source": [
        "library(bio3d)\n"
      ],
      "metadata": {
        "id": "iAXID8K4O4R8"
      },
      "execution_count": 87,
      "outputs": []
    },
    {
      "cell_type": "code",
      "source": [
        "heme.pro<- read.pdb('1HHO')\n"
      ],
      "metadata": {
        "colab": {
          "base_uri": "https://localhost:8080/"
        },
        "id": "uyl9uxi5QRm1",
        "outputId": "b9edabf3-5520-47cb-c559-4114308bab89"
      },
      "execution_count": 94,
      "outputs": [
        {
          "output_type": "stream",
          "name": "stdout",
          "text": [
            "  Note: Accessing on-line PDB file\n"
          ]
        },
        {
          "output_type": "stream",
          "name": "stderr",
          "text": [
            "Warning message in get.pdb(file, path = tempdir(), verbose = FALSE):\n",
            "“/tmp/Rtmp8SAkbC/1HHO.pdb  exists. Skipping download”\n"
          ]
        }
      ]
    },
    {
      "cell_type": "code",
      "source": [
        "heme.pro"
      ],
      "metadata": {
        "colab": {
          "base_uri": "https://localhost:8080/",
          "height": 374
        },
        "id": "yT6Smu5xQeq7",
        "outputId": "c1c9daec-79f8-4044-83e2-dd58426afea0"
      },
      "execution_count": 89,
      "outputs": [
        {
          "output_type": "display_data",
          "data": {
            "text/plain": [
              "\n",
              " Call:  read.pdb(file = \"1HHO\")\n",
              "\n",
              "   Total Models#: 1\n",
              "     Total Atoms#: 2396,  XYZs#: 7188  Chains#: 2  (values: A B)\n",
              "\n",
              "     Protein Atoms#: 2192  (residues/Calpha atoms#: 287)\n",
              "     Nucleic acid Atoms#: 0  (residues/phosphate atoms#: 0)\n",
              "\n",
              "     Non-protein/nucleic Atoms#: 204  (residues: 114)\n",
              "     Non-protein/nucleic resid values: [ HEM (2), HOH (109), OXY (2), PO4 (1) ]\n",
              "\n",
              "   Protein sequence:\n",
              "      VLSPADKTNVKAAWGKVGAHAGEYGAEALERMFLSFPTTKTYFPHFDLSHGSAQVKGHGK\n",
              "      KVADALTNAVAHVDDMPNALSALSDLHAHKLRVDPVNFKLLSHCLLVTLAAHLPAEFTPA\n",
              "      VHASLDKFLASVSTVLTSKYRVHLTPEEKSAVTALWGKVNVDEVGGEALGRLLVVYPWTQ\n",
              "      RFFESFGDLSTPDAVMGNPKVKAHGKKVLGAFSDGLAHLDNLKGT...<cut>...HKYH\n",
              "\n",
              "+ attr: atom, xyz, seqres, helix, calpha,\n",
              "        remark, call"
            ]
          },
          "metadata": {}
        }
      ]
    },
    {
      "cell_type": "code",
      "source": [
        "seq.pro1<-pdbseq(heme.pro)\n",
        "seq.pro1"
      ],
      "metadata": {
        "colab": {
          "base_uri": "https://localhost:8080/",
          "height": 486
        },
        "id": "y-gqRUgsUNLO",
        "outputId": "07d43ee2-e1f0-421b-a70b-e7f8afbbbe02"
      },
      "execution_count": 90,
      "outputs": [
        {
          "output_type": "display_data",
          "data": {
            "text/html": [
              "<style>\n",
              ".dl-inline {width: auto; margin:0; padding: 0}\n",
              ".dl-inline>dt, .dl-inline>dd {float: none; width: auto; display: inline-block}\n",
              ".dl-inline>dt::after {content: \":\\0020\"; padding-right: .5ex}\n",
              ".dl-inline>dt:not(:first-of-type) {padding-left: .5ex}\n",
              "</style><dl class=dl-inline><dt>1</dt><dd>'V'</dd><dt>2</dt><dd>'L'</dd><dt>3</dt><dd>'S'</dd><dt>4</dt><dd>'P'</dd><dt>5</dt><dd>'A'</dd><dt>6</dt><dd>'D'</dd><dt>7</dt><dd>'K'</dd><dt>8</dt><dd>'T'</dd><dt>9</dt><dd>'N'</dd><dt>10</dt><dd>'V'</dd><dt>11</dt><dd>'K'</dd><dt>12</dt><dd>'A'</dd><dt>13</dt><dd>'A'</dd><dt>14</dt><dd>'W'</dd><dt>15</dt><dd>'G'</dd><dt>16</dt><dd>'K'</dd><dt>17</dt><dd>'V'</dd><dt>18</dt><dd>'G'</dd><dt>19</dt><dd>'A'</dd><dt>20</dt><dd>'H'</dd><dt>21</dt><dd>'A'</dd><dt>22</dt><dd>'G'</dd><dt>23</dt><dd>'E'</dd><dt>24</dt><dd>'Y'</dd><dt>25</dt><dd>'G'</dd><dt>26</dt><dd>'A'</dd><dt>27</dt><dd>'E'</dd><dt>28</dt><dd>'A'</dd><dt>29</dt><dd>'L'</dd><dt>30</dt><dd>'E'</dd><dt>31</dt><dd>'R'</dd><dt>32</dt><dd>'M'</dd><dt>33</dt><dd>'F'</dd><dt>34</dt><dd>'L'</dd><dt>35</dt><dd>'S'</dd><dt>36</dt><dd>'F'</dd><dt>37</dt><dd>'P'</dd><dt>38</dt><dd>'T'</dd><dt>39</dt><dd>'T'</dd><dt>40</dt><dd>'K'</dd><dt>41</dt><dd>'T'</dd><dt>42</dt><dd>'Y'</dd><dt>43</dt><dd>'F'</dd><dt>44</dt><dd>'P'</dd><dt>45</dt><dd>'H'</dd><dt>46</dt><dd>'F'</dd><dt>47</dt><dd>'D'</dd><dt>48</dt><dd>'L'</dd><dt>49</dt><dd>'S'</dd><dt>50</dt><dd>'H'</dd><dt>51</dt><dd>'G'</dd><dt>52</dt><dd>'S'</dd><dt>53</dt><dd>'A'</dd><dt>54</dt><dd>'Q'</dd><dt>55</dt><dd>'V'</dd><dt>56</dt><dd>'K'</dd><dt>57</dt><dd>'G'</dd><dt>58</dt><dd>'H'</dd><dt>59</dt><dd>'G'</dd><dt>60</dt><dd>'K'</dd><dt>61</dt><dd>'K'</dd><dt>62</dt><dd>'V'</dd><dt>63</dt><dd>'A'</dd><dt>64</dt><dd>'D'</dd><dt>65</dt><dd>'A'</dd><dt>66</dt><dd>'L'</dd><dt>67</dt><dd>'T'</dd><dt>68</dt><dd>'N'</dd><dt>69</dt><dd>'A'</dd><dt>70</dt><dd>'V'</dd><dt>71</dt><dd>'A'</dd><dt>72</dt><dd>'H'</dd><dt>73</dt><dd>'V'</dd><dt>74</dt><dd>'D'</dd><dt>75</dt><dd>'D'</dd><dt>76</dt><dd>'M'</dd><dt>77</dt><dd>'P'</dd><dt>78</dt><dd>'N'</dd><dt>79</dt><dd>'A'</dd><dt>80</dt><dd>'L'</dd><dt>81</dt><dd>'S'</dd><dt>82</dt><dd>'A'</dd><dt>83</dt><dd>'L'</dd><dt>84</dt><dd>'S'</dd><dt>85</dt><dd>'D'</dd><dt>86</dt><dd>'L'</dd><dt>87</dt><dd>'H'</dd><dt>88</dt><dd>'A'</dd><dt>89</dt><dd>'H'</dd><dt>90</dt><dd>'K'</dd><dt>91</dt><dd>'L'</dd><dt>92</dt><dd>'R'</dd><dt>93</dt><dd>'V'</dd><dt>94</dt><dd>'D'</dd><dt>95</dt><dd>'P'</dd><dt>96</dt><dd>'V'</dd><dt>97</dt><dd>'N'</dd><dt>98</dt><dd>'F'</dd><dt>99</dt><dd>'K'</dd><dt>100</dt><dd>'L'</dd><dt>101</dt><dd>'L'</dd><dt>102</dt><dd>'S'</dd><dt>103</dt><dd>'H'</dd><dt>104</dt><dd>'C'</dd><dt>105</dt><dd>'L'</dd><dt>106</dt><dd>'L'</dd><dt>107</dt><dd>'V'</dd><dt>108</dt><dd>'T'</dd><dt>109</dt><dd>'L'</dd><dt>110</dt><dd>'A'</dd><dt>111</dt><dd>'A'</dd><dt>112</dt><dd>'H'</dd><dt>113</dt><dd>'L'</dd><dt>114</dt><dd>'P'</dd><dt>115</dt><dd>'A'</dd><dt>116</dt><dd>'E'</dd><dt>117</dt><dd>'F'</dd><dt>118</dt><dd>'T'</dd><dt>119</dt><dd>'P'</dd><dt>120</dt><dd>'A'</dd><dt>121</dt><dd>'V'</dd><dt>122</dt><dd>'H'</dd><dt>123</dt><dd>'A'</dd><dt>124</dt><dd>'S'</dd><dt>125</dt><dd>'L'</dd><dt>126</dt><dd>'D'</dd><dt>127</dt><dd>'K'</dd><dt>128</dt><dd>'F'</dd><dt>129</dt><dd>'L'</dd><dt>130</dt><dd>'A'</dd><dt>131</dt><dd>'S'</dd><dt>132</dt><dd>'V'</dd><dt>133</dt><dd>'S'</dd><dt>134</dt><dd>'T'</dd><dt>135</dt><dd>'V'</dd><dt>136</dt><dd>'L'</dd><dt>137</dt><dd>'T'</dd><dt>138</dt><dd>'S'</dd><dt>139</dt><dd>'K'</dd><dt>140</dt><dd>'Y'</dd><dt>141</dt><dd>'R'</dd><dt>1</dt><dd>'V'</dd><dt>2</dt><dd>'H'</dd><dt>3</dt><dd>'L'</dd><dt>4</dt><dd>'T'</dd><dt>5</dt><dd>'P'</dd><dt>6</dt><dd>'E'</dd><dt>7</dt><dd>'E'</dd><dt>8</dt><dd>'K'</dd><dt>9</dt><dd>'S'</dd><dt>10</dt><dd>'A'</dd><dt>11</dt><dd>'V'</dd><dt>12</dt><dd>'T'</dd><dt>13</dt><dd>'A'</dd><dt>14</dt><dd>'L'</dd><dt>15</dt><dd>'W'</dd><dt>16</dt><dd>'G'</dd><dt>17</dt><dd>'K'</dd><dt>18</dt><dd>'V'</dd><dt>19</dt><dd>'N'</dd><dt>20</dt><dd>'V'</dd><dt>21</dt><dd>'D'</dd><dt>22</dt><dd>'E'</dd><dt>23</dt><dd>'V'</dd><dt>24</dt><dd>'G'</dd><dt>25</dt><dd>'G'</dd><dt>26</dt><dd>'E'</dd><dt>27</dt><dd>'A'</dd><dt>28</dt><dd>'L'</dd><dt>29</dt><dd>'G'</dd><dt>30</dt><dd>'R'</dd><dt>31</dt><dd>'L'</dd><dt>32</dt><dd>'L'</dd><dt>33</dt><dd>'V'</dd><dt>34</dt><dd>'V'</dd><dt>35</dt><dd>'Y'</dd><dt>36</dt><dd>'P'</dd><dt>37</dt><dd>'W'</dd><dt>38</dt><dd>'T'</dd><dt>39</dt><dd>'Q'</dd><dt>40</dt><dd>'R'</dd><dt>41</dt><dd>'F'</dd><dt>42</dt><dd>'F'</dd><dt>43</dt><dd>'E'</dd><dt>44</dt><dd>'S'</dd><dt>45</dt><dd>'F'</dd><dt>46</dt><dd>'G'</dd><dt>47</dt><dd>'D'</dd><dt>48</dt><dd>'L'</dd><dt>49</dt><dd>'S'</dd><dt>50</dt><dd>'T'</dd><dt>51</dt><dd>'P'</dd><dt>52</dt><dd>'D'</dd><dt>53</dt><dd>'A'</dd><dt>54</dt><dd>'V'</dd><dt>55</dt><dd>'M'</dd><dt>56</dt><dd>'G'</dd><dt>57</dt><dd>'N'</dd><dt>58</dt><dd>'P'</dd><dt>59</dt><dd>'K'</dd><dt>60</dt><dd>'V'</dd><dt>61</dt><dd>'K'</dd><dt>62</dt><dd>'A'</dd><dt>63</dt><dd>'H'</dd><dt>64</dt><dd>'G'</dd><dt>65</dt><dd>'K'</dd><dt>66</dt><dd>'K'</dd><dt>67</dt><dd>'V'</dd><dt>68</dt><dd>'L'</dd><dt>69</dt><dd>'G'</dd><dt>70</dt><dd>'A'</dd><dt>71</dt><dd>'F'</dd><dt>72</dt><dd>'S'</dd><dt>73</dt><dd>'D'</dd><dt>74</dt><dd>'G'</dd><dt>75</dt><dd>'L'</dd><dt>76</dt><dd>'A'</dd><dt>77</dt><dd>'H'</dd><dt>78</dt><dd>'L'</dd><dt>79</dt><dd>'D'</dd><dt>80</dt><dd>'N'</dd><dt>81</dt><dd>'L'</dd><dt>82</dt><dd>'K'</dd><dt>83</dt><dd>'G'</dd><dt>84</dt><dd>'T'</dd><dt>85</dt><dd>'F'</dd><dt>86</dt><dd>'A'</dd><dt>87</dt><dd>'T'</dd><dt>88</dt><dd>'L'</dd><dt>89</dt><dd>'S'</dd><dt>90</dt><dd>'E'</dd><dt>91</dt><dd>'L'</dd><dt>92</dt><dd>'H'</dd><dt>93</dt><dd>'C'</dd><dt>94</dt><dd>'D'</dd><dt>95</dt><dd>'K'</dd><dt>96</dt><dd>'L'</dd><dt>97</dt><dd>'H'</dd><dt>98</dt><dd>'V'</dd><dt>99</dt><dd>'D'</dd><dt>100</dt><dd>'P'</dd><dt>101</dt><dd>'E'</dd><dt>102</dt><dd>'N'</dd><dt>103</dt><dd>'F'</dd><dt>104</dt><dd>'R'</dd><dt>105</dt><dd>'L'</dd><dt>106</dt><dd>'L'</dd><dt>107</dt><dd>'G'</dd><dt>108</dt><dd>'N'</dd><dt>109</dt><dd>'V'</dd><dt>110</dt><dd>'L'</dd><dt>111</dt><dd>'V'</dd><dt>112</dt><dd>'C'</dd><dt>113</dt><dd>'V'</dd><dt>114</dt><dd>'L'</dd><dt>115</dt><dd>'A'</dd><dt>116</dt><dd>'H'</dd><dt>117</dt><dd>'H'</dd><dt>118</dt><dd>'F'</dd><dt>119</dt><dd>'G'</dd><dt>120</dt><dd>'K'</dd><dt>121</dt><dd>'E'</dd><dt>122</dt><dd>'F'</dd><dt>123</dt><dd>'T'</dd><dt>124</dt><dd>'P'</dd><dt>125</dt><dd>'P'</dd><dt>126</dt><dd>'V'</dd><dt>127</dt><dd>'Q'</dd><dt>128</dt><dd>'A'</dd><dt>129</dt><dd>'A'</dd><dt>130</dt><dd>'Y'</dd><dt>131</dt><dd>'Q'</dd><dt>132</dt><dd>'K'</dd><dt>133</dt><dd>'V'</dd><dt>134</dt><dd>'V'</dd><dt>135</dt><dd>'A'</dd><dt>136</dt><dd>'G'</dd><dt>137</dt><dd>'V'</dd><dt>138</dt><dd>'A'</dd><dt>139</dt><dd>'N'</dd><dt>140</dt><dd>'A'</dd><dt>141</dt><dd>'L'</dd><dt>142</dt><dd>'A'</dd><dt>143</dt><dd>'H'</dd><dt>144</dt><dd>'K'</dd><dt>145</dt><dd>'Y'</dd><dt>146</dt><dd>'H'</dd></dl>\n"
            ],
            "text/markdown": "1\n:   'V'2\n:   'L'3\n:   'S'4\n:   'P'5\n:   'A'6\n:   'D'7\n:   'K'8\n:   'T'9\n:   'N'10\n:   'V'11\n:   'K'12\n:   'A'13\n:   'A'14\n:   'W'15\n:   'G'16\n:   'K'17\n:   'V'18\n:   'G'19\n:   'A'20\n:   'H'21\n:   'A'22\n:   'G'23\n:   'E'24\n:   'Y'25\n:   'G'26\n:   'A'27\n:   'E'28\n:   'A'29\n:   'L'30\n:   'E'31\n:   'R'32\n:   'M'33\n:   'F'34\n:   'L'35\n:   'S'36\n:   'F'37\n:   'P'38\n:   'T'39\n:   'T'40\n:   'K'41\n:   'T'42\n:   'Y'43\n:   'F'44\n:   'P'45\n:   'H'46\n:   'F'47\n:   'D'48\n:   'L'49\n:   'S'50\n:   'H'51\n:   'G'52\n:   'S'53\n:   'A'54\n:   'Q'55\n:   'V'56\n:   'K'57\n:   'G'58\n:   'H'59\n:   'G'60\n:   'K'61\n:   'K'62\n:   'V'63\n:   'A'64\n:   'D'65\n:   'A'66\n:   'L'67\n:   'T'68\n:   'N'69\n:   'A'70\n:   'V'71\n:   'A'72\n:   'H'73\n:   'V'74\n:   'D'75\n:   'D'76\n:   'M'77\n:   'P'78\n:   'N'79\n:   'A'80\n:   'L'81\n:   'S'82\n:   'A'83\n:   'L'84\n:   'S'85\n:   'D'86\n:   'L'87\n:   'H'88\n:   'A'89\n:   'H'90\n:   'K'91\n:   'L'92\n:   'R'93\n:   'V'94\n:   'D'95\n:   'P'96\n:   'V'97\n:   'N'98\n:   'F'99\n:   'K'100\n:   'L'101\n:   'L'102\n:   'S'103\n:   'H'104\n:   'C'105\n:   'L'106\n:   'L'107\n:   'V'108\n:   'T'109\n:   'L'110\n:   'A'111\n:   'A'112\n:   'H'113\n:   'L'114\n:   'P'115\n:   'A'116\n:   'E'117\n:   'F'118\n:   'T'119\n:   'P'120\n:   'A'121\n:   'V'122\n:   'H'123\n:   'A'124\n:   'S'125\n:   'L'126\n:   'D'127\n:   'K'128\n:   'F'129\n:   'L'130\n:   'A'131\n:   'S'132\n:   'V'133\n:   'S'134\n:   'T'135\n:   'V'136\n:   'L'137\n:   'T'138\n:   'S'139\n:   'K'140\n:   'Y'141\n:   'R'1\n:   'V'2\n:   'H'3\n:   'L'4\n:   'T'5\n:   'P'6\n:   'E'7\n:   'E'8\n:   'K'9\n:   'S'10\n:   'A'11\n:   'V'12\n:   'T'13\n:   'A'14\n:   'L'15\n:   'W'16\n:   'G'17\n:   'K'18\n:   'V'19\n:   'N'20\n:   'V'21\n:   'D'22\n:   'E'23\n:   'V'24\n:   'G'25\n:   'G'26\n:   'E'27\n:   'A'28\n:   'L'29\n:   'G'30\n:   'R'31\n:   'L'32\n:   'L'33\n:   'V'34\n:   'V'35\n:   'Y'36\n:   'P'37\n:   'W'38\n:   'T'39\n:   'Q'40\n:   'R'41\n:   'F'42\n:   'F'43\n:   'E'44\n:   'S'45\n:   'F'46\n:   'G'47\n:   'D'48\n:   'L'49\n:   'S'50\n:   'T'51\n:   'P'52\n:   'D'53\n:   'A'54\n:   'V'55\n:   'M'56\n:   'G'57\n:   'N'58\n:   'P'59\n:   'K'60\n:   'V'61\n:   'K'62\n:   'A'63\n:   'H'64\n:   'G'65\n:   'K'66\n:   'K'67\n:   'V'68\n:   'L'69\n:   'G'70\n:   'A'71\n:   'F'72\n:   'S'73\n:   'D'74\n:   'G'75\n:   'L'76\n:   'A'77\n:   'H'78\n:   'L'79\n:   'D'80\n:   'N'81\n:   'L'82\n:   'K'83\n:   'G'84\n:   'T'85\n:   'F'86\n:   'A'87\n:   'T'88\n:   'L'89\n:   'S'90\n:   'E'91\n:   'L'92\n:   'H'93\n:   'C'94\n:   'D'95\n:   'K'96\n:   'L'97\n:   'H'98\n:   'V'99\n:   'D'100\n:   'P'101\n:   'E'102\n:   'N'103\n:   'F'104\n:   'R'105\n:   'L'106\n:   'L'107\n:   'G'108\n:   'N'109\n:   'V'110\n:   'L'111\n:   'V'112\n:   'C'113\n:   'V'114\n:   'L'115\n:   'A'116\n:   'H'117\n:   'H'118\n:   'F'119\n:   'G'120\n:   'K'121\n:   'E'122\n:   'F'123\n:   'T'124\n:   'P'125\n:   'P'126\n:   'V'127\n:   'Q'128\n:   'A'129\n:   'A'130\n:   'Y'131\n:   'Q'132\n:   'K'133\n:   'V'134\n:   'V'135\n:   'A'136\n:   'G'137\n:   'V'138\n:   'A'139\n:   'N'140\n:   'A'141\n:   'L'142\n:   'A'143\n:   'H'144\n:   'K'145\n:   'Y'146\n:   'H'\n\n",
            "text/latex": "\\begin{description*}\n\\item[1] 'V'\n\\item[2] 'L'\n\\item[3] 'S'\n\\item[4] 'P'\n\\item[5] 'A'\n\\item[6] 'D'\n\\item[7] 'K'\n\\item[8] 'T'\n\\item[9] 'N'\n\\item[10] 'V'\n\\item[11] 'K'\n\\item[12] 'A'\n\\item[13] 'A'\n\\item[14] 'W'\n\\item[15] 'G'\n\\item[16] 'K'\n\\item[17] 'V'\n\\item[18] 'G'\n\\item[19] 'A'\n\\item[20] 'H'\n\\item[21] 'A'\n\\item[22] 'G'\n\\item[23] 'E'\n\\item[24] 'Y'\n\\item[25] 'G'\n\\item[26] 'A'\n\\item[27] 'E'\n\\item[28] 'A'\n\\item[29] 'L'\n\\item[30] 'E'\n\\item[31] 'R'\n\\item[32] 'M'\n\\item[33] 'F'\n\\item[34] 'L'\n\\item[35] 'S'\n\\item[36] 'F'\n\\item[37] 'P'\n\\item[38] 'T'\n\\item[39] 'T'\n\\item[40] 'K'\n\\item[41] 'T'\n\\item[42] 'Y'\n\\item[43] 'F'\n\\item[44] 'P'\n\\item[45] 'H'\n\\item[46] 'F'\n\\item[47] 'D'\n\\item[48] 'L'\n\\item[49] 'S'\n\\item[50] 'H'\n\\item[51] 'G'\n\\item[52] 'S'\n\\item[53] 'A'\n\\item[54] 'Q'\n\\item[55] 'V'\n\\item[56] 'K'\n\\item[57] 'G'\n\\item[58] 'H'\n\\item[59] 'G'\n\\item[60] 'K'\n\\item[61] 'K'\n\\item[62] 'V'\n\\item[63] 'A'\n\\item[64] 'D'\n\\item[65] 'A'\n\\item[66] 'L'\n\\item[67] 'T'\n\\item[68] 'N'\n\\item[69] 'A'\n\\item[70] 'V'\n\\item[71] 'A'\n\\item[72] 'H'\n\\item[73] 'V'\n\\item[74] 'D'\n\\item[75] 'D'\n\\item[76] 'M'\n\\item[77] 'P'\n\\item[78] 'N'\n\\item[79] 'A'\n\\item[80] 'L'\n\\item[81] 'S'\n\\item[82] 'A'\n\\item[83] 'L'\n\\item[84] 'S'\n\\item[85] 'D'\n\\item[86] 'L'\n\\item[87] 'H'\n\\item[88] 'A'\n\\item[89] 'H'\n\\item[90] 'K'\n\\item[91] 'L'\n\\item[92] 'R'\n\\item[93] 'V'\n\\item[94] 'D'\n\\item[95] 'P'\n\\item[96] 'V'\n\\item[97] 'N'\n\\item[98] 'F'\n\\item[99] 'K'\n\\item[100] 'L'\n\\item[101] 'L'\n\\item[102] 'S'\n\\item[103] 'H'\n\\item[104] 'C'\n\\item[105] 'L'\n\\item[106] 'L'\n\\item[107] 'V'\n\\item[108] 'T'\n\\item[109] 'L'\n\\item[110] 'A'\n\\item[111] 'A'\n\\item[112] 'H'\n\\item[113] 'L'\n\\item[114] 'P'\n\\item[115] 'A'\n\\item[116] 'E'\n\\item[117] 'F'\n\\item[118] 'T'\n\\item[119] 'P'\n\\item[120] 'A'\n\\item[121] 'V'\n\\item[122] 'H'\n\\item[123] 'A'\n\\item[124] 'S'\n\\item[125] 'L'\n\\item[126] 'D'\n\\item[127] 'K'\n\\item[128] 'F'\n\\item[129] 'L'\n\\item[130] 'A'\n\\item[131] 'S'\n\\item[132] 'V'\n\\item[133] 'S'\n\\item[134] 'T'\n\\item[135] 'V'\n\\item[136] 'L'\n\\item[137] 'T'\n\\item[138] 'S'\n\\item[139] 'K'\n\\item[140] 'Y'\n\\item[141] 'R'\n\\item[1] 'V'\n\\item[2] 'H'\n\\item[3] 'L'\n\\item[4] 'T'\n\\item[5] 'P'\n\\item[6] 'E'\n\\item[7] 'E'\n\\item[8] 'K'\n\\item[9] 'S'\n\\item[10] 'A'\n\\item[11] 'V'\n\\item[12] 'T'\n\\item[13] 'A'\n\\item[14] 'L'\n\\item[15] 'W'\n\\item[16] 'G'\n\\item[17] 'K'\n\\item[18] 'V'\n\\item[19] 'N'\n\\item[20] 'V'\n\\item[21] 'D'\n\\item[22] 'E'\n\\item[23] 'V'\n\\item[24] 'G'\n\\item[25] 'G'\n\\item[26] 'E'\n\\item[27] 'A'\n\\item[28] 'L'\n\\item[29] 'G'\n\\item[30] 'R'\n\\item[31] 'L'\n\\item[32] 'L'\n\\item[33] 'V'\n\\item[34] 'V'\n\\item[35] 'Y'\n\\item[36] 'P'\n\\item[37] 'W'\n\\item[38] 'T'\n\\item[39] 'Q'\n\\item[40] 'R'\n\\item[41] 'F'\n\\item[42] 'F'\n\\item[43] 'E'\n\\item[44] 'S'\n\\item[45] 'F'\n\\item[46] 'G'\n\\item[47] 'D'\n\\item[48] 'L'\n\\item[49] 'S'\n\\item[50] 'T'\n\\item[51] 'P'\n\\item[52] 'D'\n\\item[53] 'A'\n\\item[54] 'V'\n\\item[55] 'M'\n\\item[56] 'G'\n\\item[57] 'N'\n\\item[58] 'P'\n\\item[59] 'K'\n\\item[60] 'V'\n\\item[61] 'K'\n\\item[62] 'A'\n\\item[63] 'H'\n\\item[64] 'G'\n\\item[65] 'K'\n\\item[66] 'K'\n\\item[67] 'V'\n\\item[68] 'L'\n\\item[69] 'G'\n\\item[70] 'A'\n\\item[71] 'F'\n\\item[72] 'S'\n\\item[73] 'D'\n\\item[74] 'G'\n\\item[75] 'L'\n\\item[76] 'A'\n\\item[77] 'H'\n\\item[78] 'L'\n\\item[79] 'D'\n\\item[80] 'N'\n\\item[81] 'L'\n\\item[82] 'K'\n\\item[83] 'G'\n\\item[84] 'T'\n\\item[85] 'F'\n\\item[86] 'A'\n\\item[87] 'T'\n\\item[88] 'L'\n\\item[89] 'S'\n\\item[90] 'E'\n\\item[91] 'L'\n\\item[92] 'H'\n\\item[93] 'C'\n\\item[94] 'D'\n\\item[95] 'K'\n\\item[96] 'L'\n\\item[97] 'H'\n\\item[98] 'V'\n\\item[99] 'D'\n\\item[100] 'P'\n\\item[101] 'E'\n\\item[102] 'N'\n\\item[103] 'F'\n\\item[104] 'R'\n\\item[105] 'L'\n\\item[106] 'L'\n\\item[107] 'G'\n\\item[108] 'N'\n\\item[109] 'V'\n\\item[110] 'L'\n\\item[111] 'V'\n\\item[112] 'C'\n\\item[113] 'V'\n\\item[114] 'L'\n\\item[115] 'A'\n\\item[116] 'H'\n\\item[117] 'H'\n\\item[118] 'F'\n\\item[119] 'G'\n\\item[120] 'K'\n\\item[121] 'E'\n\\item[122] 'F'\n\\item[123] 'T'\n\\item[124] 'P'\n\\item[125] 'P'\n\\item[126] 'V'\n\\item[127] 'Q'\n\\item[128] 'A'\n\\item[129] 'A'\n\\item[130] 'Y'\n\\item[131] 'Q'\n\\item[132] 'K'\n\\item[133] 'V'\n\\item[134] 'V'\n\\item[135] 'A'\n\\item[136] 'G'\n\\item[137] 'V'\n\\item[138] 'A'\n\\item[139] 'N'\n\\item[140] 'A'\n\\item[141] 'L'\n\\item[142] 'A'\n\\item[143] 'H'\n\\item[144] 'K'\n\\item[145] 'Y'\n\\item[146] 'H'\n\\end{description*}\n",
            "text/plain": [
              "  1   2   3   4   5   6   7   8   9  10  11  12  13  14  15  16  17  18  19  20 \n",
              "\"V\" \"L\" \"S\" \"P\" \"A\" \"D\" \"K\" \"T\" \"N\" \"V\" \"K\" \"A\" \"A\" \"W\" \"G\" \"K\" \"V\" \"G\" \"A\" \"H\" \n",
              " 21  22  23  24  25  26  27  28  29  30  31  32  33  34  35  36  37  38  39  40 \n",
              "\"A\" \"G\" \"E\" \"Y\" \"G\" \"A\" \"E\" \"A\" \"L\" \"E\" \"R\" \"M\" \"F\" \"L\" \"S\" \"F\" \"P\" \"T\" \"T\" \"K\" \n",
              " 41  42  43  44  45  46  47  48  49  50  51  52  53  54  55  56  57  58  59  60 \n",
              "\"T\" \"Y\" \"F\" \"P\" \"H\" \"F\" \"D\" \"L\" \"S\" \"H\" \"G\" \"S\" \"A\" \"Q\" \"V\" \"K\" \"G\" \"H\" \"G\" \"K\" \n",
              " 61  62  63  64  65  66  67  68  69  70  71  72  73  74  75  76  77  78  79  80 \n",
              "\"K\" \"V\" \"A\" \"D\" \"A\" \"L\" \"T\" \"N\" \"A\" \"V\" \"A\" \"H\" \"V\" \"D\" \"D\" \"M\" \"P\" \"N\" \"A\" \"L\" \n",
              " 81  82  83  84  85  86  87  88  89  90  91  92  93  94  95  96  97  98  99 100 \n",
              "\"S\" \"A\" \"L\" \"S\" \"D\" \"L\" \"H\" \"A\" \"H\" \"K\" \"L\" \"R\" \"V\" \"D\" \"P\" \"V\" \"N\" \"F\" \"K\" \"L\" \n",
              "101 102 103 104 105 106 107 108 109 110 111 112 113 114 115 116 117 118 119 120 \n",
              "\"L\" \"S\" \"H\" \"C\" \"L\" \"L\" \"V\" \"T\" \"L\" \"A\" \"A\" \"H\" \"L\" \"P\" \"A\" \"E\" \"F\" \"T\" \"P\" \"A\" \n",
              "121 122 123 124 125 126 127 128 129 130 131 132 133 134 135 136 137 138 139 140 \n",
              "\"V\" \"H\" \"A\" \"S\" \"L\" \"D\" \"K\" \"F\" \"L\" \"A\" \"S\" \"V\" \"S\" \"T\" \"V\" \"L\" \"T\" \"S\" \"K\" \"Y\" \n",
              "141   1   2   3   4   5   6   7   8   9  10  11  12  13  14  15  16  17  18  19 \n",
              "\"R\" \"V\" \"H\" \"L\" \"T\" \"P\" \"E\" \"E\" \"K\" \"S\" \"A\" \"V\" \"T\" \"A\" \"L\" \"W\" \"G\" \"K\" \"V\" \"N\" \n",
              " 20  21  22  23  24  25  26  27  28  29  30  31  32  33  34  35  36  37  38  39 \n",
              "\"V\" \"D\" \"E\" \"V\" \"G\" \"G\" \"E\" \"A\" \"L\" \"G\" \"R\" \"L\" \"L\" \"V\" \"V\" \"Y\" \"P\" \"W\" \"T\" \"Q\" \n",
              " 40  41  42  43  44  45  46  47  48  49  50  51  52  53  54  55  56  57  58  59 \n",
              "\"R\" \"F\" \"F\" \"E\" \"S\" \"F\" \"G\" \"D\" \"L\" \"S\" \"T\" \"P\" \"D\" \"A\" \"V\" \"M\" \"G\" \"N\" \"P\" \"K\" \n",
              " 60  61  62  63  64  65  66  67  68  69  70  71  72  73  74  75  76  77  78  79 \n",
              "\"V\" \"K\" \"A\" \"H\" \"G\" \"K\" \"K\" \"V\" \"L\" \"G\" \"A\" \"F\" \"S\" \"D\" \"G\" \"L\" \"A\" \"H\" \"L\" \"D\" \n",
              " 80  81  82  83  84  85  86  87  88  89  90  91  92  93  94  95  96  97  98  99 \n",
              "\"N\" \"L\" \"K\" \"G\" \"T\" \"F\" \"A\" \"T\" \"L\" \"S\" \"E\" \"L\" \"H\" \"C\" \"D\" \"K\" \"L\" \"H\" \"V\" \"D\" \n",
              "100 101 102 103 104 105 106 107 108 109 110 111 112 113 114 115 116 117 118 119 \n",
              "\"P\" \"E\" \"N\" \"F\" \"R\" \"L\" \"L\" \"G\" \"N\" \"V\" \"L\" \"V\" \"C\" \"V\" \"L\" \"A\" \"H\" \"H\" \"F\" \"G\" \n",
              "120 121 122 123 124 125 126 127 128 129 130 131 132 133 134 135 136 137 138 139 \n",
              "\"K\" \"E\" \"F\" \"T\" \"P\" \"P\" \"V\" \"Q\" \"A\" \"A\" \"Y\" \"Q\" \"K\" \"V\" \"V\" \"A\" \"G\" \"V\" \"A\" \"N\" \n",
              "140 141 142 143 144 145 146 \n",
              "\"A\" \"L\" \"A\" \"H\" \"K\" \"Y\" \"H\" "
            ]
          },
          "metadata": {}
        }
      ]
    },
    {
      "cell_type": "code",
      "source": [],
      "metadata": {
        "id": "43f8E-4CVJTx"
      },
      "execution_count": 91,
      "outputs": []
    },
    {
      "cell_type": "markdown",
      "source": [
        "# A function that determines various protein properties "
      ],
      "metadata": {
        "id": "9EUVjeCOVMHM"
      }
    },
    {
      "cell_type": "code",
      "source": [
        "pro<-function(seq){\n",
        "\n",
        "  c<-charge(seq, pH = 7, pKscale = \"EMBOSS\")\n",
        "  p<-boman(seq)\n",
        "  a<-hmoment(seq, angle = 100, window = 11)\n",
        "  h<-hydrophobicity(seq, scale = \"KyteDoolittle\")\n",
        "  p<-pI(seq,pKscale = \"EMBOSS\")\n",
        "  mw<-mw(seq, monoisotopic = FALSE)\n",
        "  pro<-cbind(c,p,a,h,p,mw)\n",
        "  colnames(pro)<-c(\"Chrg\",\"P-P\",\"Ampi\",\"Hydro\",\"Isoelec\",\"Mwt\")\n",
        "  return(pro)}\n",
        "\n"
      ],
      "metadata": {
        "id": "l106eW1cUlhf"
      },
      "execution_count": 92,
      "outputs": []
    },
    {
      "cell_type": "markdown",
      "source": [
        "# A sequence based PCA \n"
      ],
      "metadata": {
        "id": "BU-WQ1WBVb50"
      }
    },
    {
      "cell_type": "code",
      "source": [
        "pdb <- read.pdb(\"3TCJ\")\n",
        "atoms <- atom.select(pdb, elety = c(\"N\", \"CA\", \"C\", \"O\"))\n",
        "atoms$CA"
      ],
      "metadata": {
        "colab": {
          "base_uri": "https://localhost:8080/",
          "height": 71
        },
        "id": "W2K_27RdfoIq",
        "outputId": "b9f9aea7-7fae-49b5-aa90-39505c04a3a0"
      },
      "execution_count": 101,
      "outputs": [
        {
          "output_type": "stream",
          "name": "stdout",
          "text": [
            "  Note: Accessing on-line PDB file\n",
            "   PDB has ALT records, taking A only, rm.alt=TRUE\n"
          ]
        },
        {
          "output_type": "display_data",
          "data": {
            "text/plain": [
              "NULL"
            ]
          },
          "metadata": {}
        }
      ]
    },
    {
      "cell_type": "code",
      "source": [
        "library(bio3d)\n",
        "tor<-torsion.pdb(pdb)\n",
        "\n",
        "# Plot the Ramachandran plot\n",
        "plot(tor$phi, tor$psi, pch = 20,\n",
        "     xlab = expression(psi), ylab = expression(phi),\n",
        "     main = \"Ramachandran Plot\")\n",
        "\n",
        "# Add grid lines\n",
        "abline(h = c(-135, -90, -45, 0, 45, 90, 135), col = \"gray\", lty = 2)\n",
        "abline(v = c(-180, -135, -90, -45, 0, 45, 90), col = \"gray\", lty = 2)\n",
        "\n",
        "# Add labels for each quadrant\n",
        "text(-75, 50, \"Allowed\", col = \"green\", font = 2)\n",
        "text(75, 50, \"Allowed\", col = \"green\", font = 2)\n",
        "text(-75, -50, \"Allowed\", col = \"green\", font = 2)\n",
        "text(75, -50, \"Allowed\", col = \"green\", font = 2)\n",
        "text(-180, -175, \"Beta\\nSheet\", col = \"blue\", font = 2)\n",
        "text(180, -175, \"Beta\\nSheet\", col = \"blue\", font = 2)\n",
        "text(-180, 175, \"Alpha\\nHelix\", col = \"red\", font = 2)\n",
        "text(180, 175, \"Alpha\\nHelix\", col = \"red\", font = 2)\n"
      ],
      "metadata": {
        "colab": {
          "base_uri": "https://localhost:8080/",
          "height": 437
        },
        "id": "7RyqyXnaee63",
        "outputId": "251fbe7f-934f-4c7b-d468-9fe87a88f5dd"
      },
      "execution_count": 102,
      "outputs": [
        {
          "output_type": "display_data",
          "data": {
            "text/plain": [
              "Plot with title “Ramachandran Plot”"
            ],
            "image/png": "[encoded data removed]"
          },
          "metadata": {
            "image/png": {
              "width": 420,
              "height": 420
            }
          }
        }
      ]
    },
    {
      "cell_type": "code",
      "source": [
        "npro.pca<-function(seq){\n",
        "library()\n",
        "  c<-charge(seq, pH = 7, pKscale = \"EMBOSS\")\n",
        "  p<-boman(seq)\n",
        "  a<-hmoment(seq, angle = 100, window = 11)\n",
        "  h<-hydrophobicity(seq, scale = \"KyteDoolittle\")\n",
        "  p<-pI(seq,pKscale = \"EMBOSS\")\n",
        "  mw<-mw(seq, monoisotopic = FALSE)\n",
        "  pro<-cbind(c,p,a,h,p,mw)\n",
        "  colnames(pro)<-c(\"Chrg\",\"P-P\",\"Ampi\",\"Hydro\",\"Isoelec\",\"Mwt\")\n",
        "  prc.pro<-PCA(pro,graph=FALSE)\n",
        "  return(prc.pro)}"
      ],
      "metadata": {
        "id": "us8ZNogqVYea"
      },
      "execution_count": 67,
      "outputs": []
    },
    {
      "cell_type": "code",
      "source": [
        "pro1.a<-pro(seq.pro1)\n",
        "pca.hemepro<-npro.pca(seq.pro1)"
      ],
      "metadata": {
        "id": "k5U5i5U1Vowu"
      },
      "execution_count": 68,
      "outputs": []
    },
    {
      "cell_type": "markdown",
      "source": [
        "# Create a grouping variable using kmeans\n",
        "# 3 groups of variables (centers = 3)"
      ],
      "metadata": {
        "id": "Od6o3bSsbPv-"
      }
    },
    {
      "cell_type": "code",
      "source": [
        "library(FactoMineR)\n",
        "set.seed(123)\n",
        "var <- get_pca_var(pca.hemepro)\n",
        "res.km <- kmeans(var$coord, centers = 3, nstart = 25)\n",
        "grp <- as.factor(res.km$cluster)\n"
      ],
      "metadata": {
        "colab": {
          "base_uri": "https://localhost:8080/",
          "height": 97
        },
        "id": "HCeYwWZubBOe",
        "outputId": "6265b841-cb28-4702-b3f4-dbc5c5014d8a"
      },
      "execution_count": 51,
      "outputs": [
        {
          "output_type": "error",
          "ename": "ERROR",
          "evalue": "ignored",
          "traceback": [
            "Error in get_pca_var(pca.hemepro): could not find function \"get_pca_var\"\nTraceback:\n"
          ]
        }
      ]
    }
  ],
  "metadata": {
    "colab": {
      "provenance": [],
      "authorship_tag": "ABX9TyMbj0M6EeHl4RhmaHqLoT12",
      "include_colab_link": true
    },
    "kernelspec": {
      "display_name": "R",
      "name": "ir"
    },
    "language_info": {
      "name": "R"
    }
  },
  "nbformat": 4,
  "nbformat_minor": 0
}