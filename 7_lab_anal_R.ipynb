{
  "cells": [
    {
      "cell_type": "markdown",
      "metadata": {
        "id": "view-in-github",
        "colab_type": "text"
      },
      "source": [
        "<a href=\"https://colab.research.google.com/github/adgcal/Anjan_collab_R/blob/main/7_lab_anal_R.ipynb\" target=\"_parent\"><img src=\"https://colab.research.google.com/assets/colab-badge.svg\" alt=\"Open In Colab\"/></a>"
      ]
    },
    {
      "cell_type": "code",
      "execution_count": null,
      "metadata": {
        "id": "LELogj8cKQSb"
      },
      "outputs": [],
      "source": [
        "install.packages(\"devtools\")\n",
        "library(devtools)\n",
        "if (!requireNamespace(\"BiocManager\", quietly = TRUE))\n",
        "    install.packages(\"BiocManager\")\n",
        "BiocManager::install(\"graph\")\n"
      ]
    },
    {
      "cell_type": "code",
      "source": [
        "BiocManager::install(\"bio3d\")\n"
      ],
      "metadata": {
        "colab": {
          "base_uri": "https://localhost:8080/"
        },
        "id": "r2YG1DwfN9di",
        "outputId": "5113dac6-a094-4729-f5b2-30020abc6b80"
      },
      "execution_count": 16,
      "outputs": [
        {
          "output_type": "stream",
          "name": "stderr",
          "text": [
            "'getOption(\"repos\")' replaces Bioconductor standard repositories, see\n",
            "'help(\"repositories\", package = \"BiocManager\")' for details.\n",
            "Replacement repositories:\n",
            "    CRAN: https://cran.rstudio.com\n",
            "\n",
            "Bioconductor version 3.17 (BiocManager 1.30.20), R 4.3.0 (2023-04-21)\n",
            "\n",
            "Installing package(s) 'bio3d'\n",
            "\n",
            "Old packages: 'bit', 'bslib', 'cachem', 'devtools', 'digest', 'dplyr',\n",
            "  'evaluate', 'fontawesome', 'fs', 'gargle', 'gert', 'highr', 'isoband',\n",
            "  'jsonlite', 'pkgload', 'processx', 'ps', 'rlang', 'roxygen2', 'sass',\n",
            "  'stringr', 'testthat', 'tidyverse', 'tinytex', 'vctrs', 'viridisLite',\n",
            "  'vroom', 'waldo', 'whisker', 'xfun', 'xml2', 'zip', 'boot', 'class',\n",
            "  'foreign', 'KernSmooth', 'MASS', 'nnet'\n",
            "\n"
          ]
        }
      ]
    },
    {
      "cell_type": "code",
      "source": [
        "library(\"bio3d\")"
      ],
      "metadata": {
        "id": "TmOnQhbkOej8"
      },
      "execution_count": 18,
      "outputs": []
    },
    {
      "cell_type": "markdown",
      "source": [
        "# Biological Lab Data Analayis  with R\n",
        "\n",
        "\n",
        "## BEER'S law"
      ],
      "metadata": {
        "id": "K4As_WLQL9HJ"
      }
    },
    {
      "cell_type": "markdown",
      "source": [
        "\n",
        "In a typical undergraduate biochemistry laboratory the experiment one performs is Beer's law. The Beer's law is expressible by a simple equation:\n",
        "\\begin{equation}\n",
        "A=\\epsilon\\cdot c\\cdot l\n",
        "\\label{eq:beer}\n",
        "\\end{equation}\n",
        "where, A is molar absorbance, c is is the concentration of the chromophore in (M) and l is the path length in cm.As absorbance A is dimensionless the unit of $\\epsilon$ is $M^{-1}cm^{-1}$.\n",
        "\n",
        "# The molar extinction coefficient of malachite green \n",
        "Reported molar extinction coefficient match the value of 148,900cm-1/M at 616.5nm $\\pm 4nm$ (Green, 1990). Now let us see what happens in a typical lab experiment. \n",
        "\n",
        "#  Reading of a spectrophotometer"
      ],
      "metadata": {
        "id": "pSmjlxA7LwPZ"
      }
    },
    {
      "cell_type": "code",
      "source": [
        "dspec<-read.csv(\"https://raw.githubusercontent.com/adgcal/wetlabdata/main/mal.csv\")\n",
        "\n",
        "colnames(dspec)<-c('Molar.Concentration','Absorbance')\n",
        "# lambda max =619nm"
      ],
      "metadata": {
        "id": "Sm9K4V5ELvba"
      },
      "execution_count": 2,
      "outputs": []
    },
    {
      "cell_type": "markdown",
      "source": [
        "# Fitting the data using lm package \n"
      ],
      "metadata": {
        "id": "SPQad8FcMeNk"
      }
    },
    {
      "cell_type": "code",
      "execution_count": 3,
      "metadata": {
        "id": "og5mTycTWLCF"
      },
      "outputs": [],
      "source": [
        "fit<-lm(Absorbance~Molar.Concentration,data=dspec)\n",
        "coeff=coefficients(fit)\n",
        "names(coeff)<-NULL\n",
        "eq = paste0(\"MolarExt.Coeff= \", signif(coeff[2],6))"
      ]
    },
    {
      "cell_type": "code",
      "execution_count": 4,
      "metadata": {
        "colab": {
          "base_uri": "https://localhost:8080/",
          "height": 437
        },
        "id": "A4aGqh6ppH58",
        "outputId": "59a186ae-3051-4055-e7fa-80f9bc718fa8"
      },
      "outputs": [
        {
          "output_type": "display_data",
          "data": {
            "text/plain": [
              "Plot with title “MolarExt.Coeff= 22177.8”"
            ],
            "image/png": "[encoded data removed]"
          },
          "metadata": {
            "image/png": {
              "width": 420,
              "height": 420
            }
          }
        }
      ],
      "source": [
        "plot(dspec,main=eq,pch=22)\n",
        "abline(fit,col=\"red\")"
      ]
    },
    {
      "cell_type": "markdown",
      "source": [
        "# Find the concentration of the chromophore from its absorbance \n"
      ],
      "metadata": {
        "id": "_StK8d9tNoqg"
      }
    },
    {
      "cell_type": "code",
      "execution_count": 5,
      "metadata": {
        "id": "UB6gODfBN3cY"
      },
      "outputs": [],
      "source": [
        "findconc<-function(absorb,fit){\n",
        "  slope<-fit$coefficients[2]\n",
        "  intercept<-fit$coefficients[1]\n",
        "  conc<-(absorb-intercept)/slope \n",
        "  return(conc)}"
      ]
    },
    {
      "cell_type": "markdown",
      "source": [
        "# Finding Concentration \n"
      ],
      "metadata": {
        "id": "sGeTy3t2OFjl"
      }
    },
    {
      "cell_type": "markdown",
      "source": [
        "## Case 1"
      ],
      "metadata": {
        "id": "_buE4w6PNmpS"
      }
    },
    {
      "cell_type": "code",
      "source": [
        "findconc(0.2,fit)\n"
      ],
      "metadata": {
        "colab": {
          "base_uri": "https://localhost:8080/",
          "height": 34
        },
        "id": "ZDtPfZcrND3G",
        "outputId": "d49da03e-261b-415e-f29d-9c8b4765dfbf"
      },
      "execution_count": 6,
      "outputs": [
        {
          "output_type": "display_data",
          "data": {
            "text/html": [
              "<strong>(Intercept):</strong> 9.03285932797158e-06"
            ],
            "text/markdown": "**(Intercept):** 9.03285932797158e-06",
            "text/latex": "\\textbf{(Intercept):} 9.03285932797158e-06",
            "text/plain": [
              " (Intercept) \n",
              "9.032859e-06 "
            ]
          },
          "metadata": {}
        }
      ]
    },
    {
      "cell_type": "markdown",
      "source": [
        "## Case 2\n"
      ],
      "metadata": {
        "id": "H41wen1xNPjc"
      }
    },
    {
      "cell_type": "code",
      "execution_count": 7,
      "metadata": {
        "colab": {
          "base_uri": "https://localhost:8080/",
          "height": 34
        },
        "id": "Nw_6bmJiWjMm",
        "outputId": "23f99e36-013e-4c2e-80d2-100fa5750746"
      },
      "outputs": [
        {
          "output_type": "display_data",
          "data": {
            "text/html": [
              "<strong>(Intercept):</strong> 1.35418641140771e-05"
            ],
            "text/markdown": "**(Intercept):** 1.35418641140771e-05",
            "text/latex": "\\textbf{(Intercept):} 1.35418641140771e-05",
            "text/plain": [
              " (Intercept) \n",
              "1.354186e-05 "
            ]
          },
          "metadata": {}
        }
      ],
      "source": [
        "findconc(0.3,fit)\n",
        "\n"
      ]
    },
    {
      "cell_type": "markdown",
      "source": [
        "# Theoretical prediction of the extinction coefficient of a protein (@pace1995measure)\n",
        "\n",
        "## Get the sequence using bio3d\n",
        "- Count the number of tryptophans, tyrosines and cystines (cysteine residues in disulfide bonds - not reduced residues)\n",
        "- For 6 M Guanidine Hydrochloride, use the formula E280 = (No. of tryptophan residues)*(5,685) + (No. of tyrosine residues)*(1,285) + (No. of cystines)*(125)\n",
        "- For water, use the formula E280 = (No. of tryptophan residues)*(5,500) + (No. of tyrosine residues)*(1,490) + (No. of cystines)*(125)\n",
        "- For 8 M Urea, use the formula E280 = (No. of tryptophan residues)*(5,630) + (No. of tyrosine residues)*(1,300) + (No. of cystines)*(115)"
      ],
      "metadata": {
        "id": "aU-kpQVFTnEj"
      }
    },
    {
      "cell_type": "markdown",
      "source": [
        "# How to browse for a protein structure \n",
        "\\small \n",
        "- Step 1 go to <https://www.rcsb.org/>\n",
        "- In the key word serach name a protein \n",
        "- Suppose we supply the key 'human ferritin'\n",
        "- We obtain a PDB ID 1RO3\n",
        "- 3D structure can be visualized (<https://www.rcsb.org/3d-view/1R03>)"
      ],
      "metadata": {
        "id": "87YDlsLkVjOA"
      }
    },
    {
      "cell_type": "markdown",
      "source": [],
      "metadata": {
        "id": "BZM4S1g4TFLu"
      }
    },
    {
      "cell_type": "code",
      "execution_count": 19,
      "metadata": {
        "id": "R1G5u2rPIdvF"
      },
      "outputs": [],
      "source": [
        "extin.coeff<-function(pdbid){\n",
        "  x<-read.pdb(pdbid)\n",
        "  y<-pdbseq(x)\n",
        "  n.trp<-length(which(y=='W'))\n",
        "  if(is.na(n.trp)) n.trp=0\n",
        "  n.tyr<-length(which(y=='Y'))\n",
        "    if(is.na(n.tyr)) n.tyr=0\n",
        "  n.cys<-length(which(y=='C'))\n",
        "    if(is.na(n.cys)) n.cys=0\n",
        "  return(n.trp*5500+n.tyr*1490+n.cys*125)\n",
        "}"
      ]
    },
    {
      "cell_type": "markdown",
      "source": [
        "# The prediction of extinction coefficient of lysozyme from its PDB ID\n",
        "\n",
        "## Compare with sigma data \n",
        "<https://www.sigmaaldrich.com/content/dam/sigma-aldrich/docs/Sigma/Datasheet/7/l6876dat.pdf>"
      ],
      "metadata": {
        "id": "WjYAnjPwPQHH"
      }
    },
    {
      "cell_type": "code",
      "source": [
        "eps.lys<-extin.coeff('6LYZ')# hen egg lysozyme\n",
        "sigma.lys=26.4*14307/10\n",
        "cat(\"From Sigma Catalogue\",sigma.lys,\"Evaluated\",eps.lys)"
      ],
      "metadata": {
        "colab": {
          "base_uri": "https://localhost:8080/"
        },
        "id": "4gPv0ZT2PVfJ",
        "outputId": "87ad75f1-a953-4d0a-d1fe-86fee588c0f0"
      },
      "execution_count": 20,
      "outputs": [
        {
          "output_type": "stream",
          "name": "stdout",
          "text": [
            "  Note: Accessing on-line PDB file\n",
            "From Sigma Catalogue 37770.48 Evaluated 38470"
          ]
        }
      ]
    },
    {
      "cell_type": "markdown",
      "source": [
        "# The prediction of extinction coefficient of ferritin from its PDB ID\n"
      ],
      "metadata": {
        "id": "5FSZifCgAoO1"
      }
    },
    {
      "cell_type": "code",
      "source": [
        "eps.ferritin<-extin.coeff('1RO3')\n",
        "cat('Predicted Ferritin Extinction Coefficient',eps.ferritin)"
      ],
      "metadata": {
        "colab": {
          "base_uri": "https://localhost:8080/"
        },
        "id": "KqbAbhoSQIAE",
        "outputId": "3dc133f7-a7d7-4f76-aeab-cf1369a6f89a"
      },
      "execution_count": 21,
      "outputs": [
        {
          "output_type": "stream",
          "name": "stdout",
          "text": [
            "  Note: Accessing on-line PDB file\n",
            "Predicted Ferritin Extinction Coefficient 2490"
          ]
        }
      ]
    },
    {
      "cell_type": "markdown",
      "source": [
        "# Comparison of extinction coefficients of Ferritin and Lysozyme \n"
      ],
      "metadata": {
        "id": "FBhcMOE9QOoO"
      }
    },
    {
      "cell_type": "code",
      "source": [
        "df<-c(eps.ferritin,eps.lys)\n",
        "df<-matrix(df,ncol=2)\n",
        "df<-data.frame(df)\n",
        "colnames(df)<-c('Ferritin','Lysozyme')\n",
        "row.names(df)<-'Molar extinction Coefficient'\n",
        "knitr::kable(df)"
      ],
      "metadata": {
        "colab": {
          "base_uri": "https://localhost:8080/",
          "height": 106
        },
        "id": "k-JUR4RdQRzt",
        "outputId": "307a60e4-bbd7-4dfa-9690-632cabedd7c9"
      },
      "execution_count": 22,
      "outputs": [
        {
          "output_type": "display_data",
          "data": {
            "text/plain": [
              "\n",
              "\n",
              "|                             | Ferritin| Lysozyme|\n",
              "|:----------------------------|--------:|--------:|\n",
              "|Molar extinction Coefficient |     2490|    38470|"
            ]
          },
          "metadata": {}
        }
      ]
    },
    {
      "cell_type": "markdown",
      "source": [
        "# Question\n",
        "Explain why Molar extinction Coefficient of ferritin << Molar extinction Coefficient of lysozyme "
      ],
      "metadata": {
        "id": "1j9ik2VYQYeJ"
      }
    },
    {
      "cell_type": "markdown",
      "source": [
        "# A Microproject \n",
        "\n",
        "- Write a code to determine the number of disulphide bonds in a protein\n",
        "- Make a database with molar extinction coefficients and number of disulphide bonds  of 25 proteins of your choice taken from <https://www.rcsb.org/>"
      ],
      "metadata": {
        "id": "qtS0D4WoQdTD"
      }
    },
    {
      "cell_type": "markdown",
      "source": [
        "# DNA purity fromspectrum\n",
        "\n"
      ],
      "metadata": {
        "id": "jDpnbSTSQpjM"
      }
    },
    {
      "cell_type": "markdown",
      "source": [
        "- A stock solution of DNA (0.4mg/ml) prepared \n",
        "- 10 $\\mu$l of the stock DNA solution was added to 3 ml of distilled water and its absorbance was measured."
      ],
      "metadata": {
        "id": "po_Th0IZQupD"
      }
    },
    {
      "cell_type": "code",
      "source": [
        "dna<-read.csv('dna.csv')\n",
        "\n",
        "lam=dna$Wavelength..nm.\n",
        "ik<-c(which((lam-260)^2<=0.01),which((lam-280)^2<=0.01))\n",
        "OD260=dna$Abs[ik[1]]\n",
        "OD280=dna$Abs[ik[2]]\n",
        "r260by280<-OD260/OD280"
      ],
      "metadata": {
        "id": "RAyjSDmKRIiN"
      },
      "execution_count": 24,
      "outputs": []
    },
    {
      "cell_type": "markdown",
      "source": [
        "# DNA purity fromspectrum\n"
      ],
      "metadata": {
        "id": "d82UhTGNRava"
      }
    },
    {
      "cell_type": "code",
      "source": [
        "plot(lam,dna$Abs,type='l',xlab='nm',ylab='Abs',main=c('260/280=',signif(r260by280,4)))\n",
        "abline(v=lam[ik],col=c('red','blue'))"
      ],
      "metadata": {
        "colab": {
          "base_uri": "https://localhost:8080/",
          "height": 437
        },
        "id": "BxMJPdCaRdin",
        "outputId": "e5ba3664-b3fd-4396-8731-7e04ea936900"
      },
      "execution_count": 25,
      "outputs": [
        {
          "output_type": "display_data",
          "data": {
            "text/plain": [
              "Plot with title “260/280=”Plot with title “1.563”"
            ],
            "image/png": "[encoded data removed]"
          },
          "metadata": {
            "image/png": {
              "width": 420,
              "height": 420
            }
          }
        }
      ]
    },
    {
      "cell_type": "markdown",
      "source": [
        "# Inference \n"
      ],
      "metadata": {
        "id": "u4pdxTijRq3Z"
      }
    },
    {
      "cell_type": "code",
      "source": [
        "cat(' OD260 =',signif(OD260,3),'\\n','OD280 =',signif(OD280,3) ,'\\n','OD260/280 ratio =',signif(r260by280,3))\n",
        "cat('the 260/280 ratio <1.8  and thus DNA stock is pure')"
      ],
      "metadata": {
        "colab": {
          "base_uri": "https://localhost:8080/"
        },
        "id": "AtAG5RU-RkgN",
        "outputId": "c9c6c97e-c090-467b-b3ae-826a0577c4e5"
      },
      "execution_count": 26,
      "outputs": [
        {
          "output_type": "stream",
          "name": "stdout",
          "text": [
            " OD260 = 0.0926 \n",
            " OD280 = 0.0592 \n",
            " OD260/280 ratio = 1.56the 260/280 ratio <1.8  and thus DNA stock is pure"
          ]
        }
      ]
    },
    {
      "cell_type": "markdown",
      "source": [
        "## QUIZ: \n",
        "Explain the term signif(OD260,3)\n"
      ],
      "metadata": {
        "id": "8aQyiam8Rz40"
      }
    }
  ],
  "metadata": {
    "colab": {
      "provenance": [],
      "authorship_tag": "ABX9TyMhSl6fKuTSMY6GnSv06ZUr",
      "include_colab_link": true
    },
    "kernelspec": {
      "display_name": "R",
      "name": "ir"
    },
    "language_info": {
      "name": "R"
    }
  },
  "nbformat": 4,
  "nbformat_minor": 0
}