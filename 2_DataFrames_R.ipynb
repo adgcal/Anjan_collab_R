{
  "nbformat": 4,
  "nbformat_minor": 0,
  "metadata": {
    "colab": {
      "provenance": [],
      "authorship_tag": "ABX9TyMWrP7dOSvU0x1wLbWjdY37",
      "include_colab_link": true
    },
    "kernelspec": {
      "name": "ir",
      "display_name": "R"
    },
    "language_info": {
      "name": "R"
    },
    "gpuClass": "standard"
  },
  "cells": [
    {
      "cell_type": "markdown",
      "metadata": {
        "id": "view-in-github",
        "colab_type": "text"
      },
      "source": [
        "<a href=\"https://colab.research.google.com/github/adgcal/Anjan_collab_R/blob/main/2_DataFrames_R.ipynb\" target=\"_parent\"><img src=\"https://colab.research.google.com/assets/colab-badge.svg\" alt=\"Open In Colab\"/></a>"
      ]
    },
    {
      "cell_type": "markdown",
      "source": [
        "# R curiosity (Variables and Data Frames) \n",
        "## Bioinformatics Essentials\n",
        "### Anjan Kr Dasgupta (adgcal@gmail.com) "
      ],
      "metadata": {
        "id": "_BDalFzZvcrM"
      }
    },
    {
      "cell_type": "code",
      "source": [
        "x<-pi \n",
        "cat(\"pi=\",x,\"\\n\")\n",
        "y <- 10L# L means integer\n",
        "cat(\"y=\",y,\"\\n\")\n",
        "z=TRUE \n",
        "cat(\"z=\",z,\"\\n\")\n",
        "name = \"Krishna\"\n",
        "cat(\"name=\",name)"
      ],
      "metadata": {
        "colab": {
          "base_uri": "https://localhost:8080/"
        },
        "id": "LAbef5GLj4rG",
        "outputId": "bcea2da9-9107-4a99-eb4d-5beec25c8b15"
      },
      "execution_count": null,
      "outputs": [
        {
          "output_type": "stream",
          "name": "stdout",
          "text": [
            "pi= 3.141593 \n",
            "y= 10 \n",
            "z= TRUE \n",
            "name= Krishna"
          ]
        }
      ]
    },
    {
      "cell_type": "markdown",
      "source": [
        "# Variable  Class"
      ],
      "metadata": {
        "id": "FgP66ZI8lIyr"
      }
    },
    {
      "cell_type": "code",
      "source": [
        "class(x)\n",
        "class(y)\n",
        "class(z)\n",
        "class(name)"
      ],
      "metadata": {
        "colab": {
          "base_uri": "https://localhost:8080/",
          "height": 86
        },
        "id": "xzdaGFVZk-0U",
        "outputId": "10494568-f86a-470d-c443-fa9f6b3bac94"
      },
      "execution_count": null,
      "outputs": [
        {
          "output_type": "display_data",
          "data": {
            "text/html": [
              "'numeric'"
            ],
            "text/markdown": "'numeric'",
            "text/latex": "'numeric'",
            "text/plain": [
              "[1] \"numeric\""
            ]
          },
          "metadata": {}
        },
        {
          "output_type": "display_data",
          "data": {
            "text/html": [
              "'integer'"
            ],
            "text/markdown": "'integer'",
            "text/latex": "'integer'",
            "text/plain": [
              "[1] \"integer\""
            ]
          },
          "metadata": {}
        },
        {
          "output_type": "display_data",
          "data": {
            "text/html": [
              "'logical'"
            ],
            "text/markdown": "'logical'",
            "text/latex": "'logical'",
            "text/plain": [
              "[1] \"logical\""
            ]
          },
          "metadata": {}
        },
        {
          "output_type": "display_data",
          "data": {
            "text/html": [
              "'character'"
            ],
            "text/markdown": "'character'",
            "text/latex": "'character'",
            "text/plain": [
              "[1] \"character\""
            ]
          },
          "metadata": {}
        }
      ]
    },
    {
      "cell_type": "markdown",
      "source": [
        "# Factors \n",
        "## Plant growth is tested in three soil types "
      ],
      "metadata": {
        "id": "qAwbgzZ0lVuu"
      }
    },
    {
      "cell_type": "code",
      "source": [
        "soil_type <- factor(c(\"Loam\", \"Sand\", \"Clay\", \"Loam\", \"Clay\", \"Sand\", \"Sand\"))\n",
        "plant_growth <- c(20, 15, 10, 18, 12, 14, 16)\n",
        "model <- lm(plant_growth ~ soil_type)\n",
        "summary(model)"
      ],
      "metadata": {
        "id": "0w0_uifFlb8R"
      },
      "execution_count": null,
      "outputs": []
    },
    {
      "cell_type": "markdown",
      "source": [
        "### Levels of soil type"
      ],
      "metadata": {
        "id": "7ak6Y17tluuT"
      }
    },
    {
      "cell_type": "code",
      "source": [
        "levels(soil_type) "
      ],
      "metadata": {
        "colab": {
          "base_uri": "https://localhost:8080/",
          "height": 34
        },
        "id": "QrphlEhtlx7I",
        "outputId": "b546111a-0e4f-4638-a871-e6e55f5a2478"
      },
      "execution_count": null,
      "outputs": [
        {
          "output_type": "display_data",
          "data": {
            "text/html": [
              "<style>\n",
              ".list-inline {list-style: none; margin:0; padding: 0}\n",
              ".list-inline>li {display: inline-block}\n",
              ".list-inline>li:not(:last-child)::after {content: \"\\00b7\"; padding: 0 .5ex}\n",
              "</style>\n",
              "<ol class=list-inline><li>'Clay'</li><li>'Loam'</li><li>'Sand'</li></ol>\n"
            ],
            "text/markdown": "1. 'Clay'\n2. 'Loam'\n3. 'Sand'\n\n\n",
            "text/latex": "\\begin{enumerate*}\n\\item 'Clay'\n\\item 'Loam'\n\\item 'Sand'\n\\end{enumerate*}\n",
            "text/plain": [
              "[1] \"Clay\" \"Loam\" \"Sand\""
            ]
          },
          "metadata": {}
        }
      ]
    },
    {
      "cell_type": "markdown",
      "source": [
        "# The Same problem tackled by not invoking factor "
      ],
      "metadata": {
        "id": "d5rAGO73mdgL"
      }
    },
    {
      "cell_type": "code",
      "source": [
        "soil_loam <- c(1, 0, 0, 1, 0, 0, 0)\n",
        "soil_sand <- c(0, 1, 0, 0, 0, 1, 1)\n",
        "soil_clay<- c(0,0,1,0,1,0,0)\n",
        "model <- lm(plant_growth ~ soil_loam + soil_sand+soil_clay)\n",
        "summary(model)"
      ],
      "metadata": {
        "colab": {
          "base_uri": "https://localhost:8080/",
          "height": 374
        },
        "id": "4vz1yqLgmo4v",
        "outputId": "04a7705e-2ccf-4149-e073-f7a67cca2aed"
      },
      "execution_count": null,
      "outputs": [
        {
          "output_type": "display_data",
          "data": {
            "text/plain": [
              "\n",
              "Call:\n",
              "lm(formula = plant_growth ~ soil_loam + soil_sand + soil_clay)\n",
              "\n",
              "Residuals:\n",
              "         1          2          3          4          5          6          7 \n",
              " 1.000e+00  1.443e-15 -1.000e+00 -1.000e+00  1.000e+00 -1.000e+00  1.000e+00 \n",
              "\n",
              "Coefficients: (1 not defined because of singularities)\n",
              "            Estimate Std. Error t value Pr(>|t|)    \n",
              "(Intercept)   11.000      0.866  12.702 0.000221 ***\n",
              "soil_loam      8.000      1.225   6.532 0.002838 ** \n",
              "soil_sand      4.000      1.118   3.578 0.023215 *  \n",
              "soil_clay         NA         NA      NA       NA    \n",
              "---\n",
              "Signif. codes:  0 ‘***’ 0.001 ‘**’ 0.01 ‘*’ 0.05 ‘.’ 0.1 ‘ ’ 1\n",
              "\n",
              "Residual standard error: 1.225 on 4 degrees of freedom\n",
              "Multiple R-squared:  0.9143,\tAdjusted R-squared:  0.8714 \n",
              "F-statistic: 21.33 on 2 and 4 DF,  p-value: 0.007347\n"
            ]
          },
          "metadata": {}
        }
      ]
    },
    {
      "cell_type": "markdown",
      "source": [
        "# A simple dataframe "
      ],
      "metadata": {
        "id": "iK1rYYBunYeS"
      }
    },
    {
      "cell_type": "code",
      "source": [
        "df <- data.frame(\n",
        "  name = c(\"Amal\", \"Bimal\", \"Kamal\",\"Indrajit\"),\n",
        "  age = c(25, 30, 35,20),\n",
        "  is_optimistic = c(TRUE, FALSE, FALSE,TRUE)\n",
        ")\n",
        "# How to tabulate a dataframe\n",
        "knitr::kable(df)"
      ],
      "metadata": {
        "colab": {
          "base_uri": "https://localhost:8080/",
          "height": 160
        },
        "id": "FIymz7SsncqX",
        "outputId": "27963fe0-de01-4c87-a9df-e1623ead6087"
      },
      "execution_count": null,
      "outputs": [
        {
          "output_type": "display_data",
          "data": {
            "text/plain": [
              "\n",
              "\n",
              "|name     | age|is_optimistic |\n",
              "|:--------|---:|:-------------|\n",
              "|Amal     |  25|TRUE          |\n",
              "|Bimal    |  30|FALSE         |\n",
              "|Kamal    |  35|FALSE         |\n",
              "|Indrajit |  20|TRUE          |"
            ]
          },
          "metadata": {}
        }
      ]
    },
    {
      "cell_type": "markdown",
      "source": [
        "\n",
        "|name     | age|is_optimistic |\n",
        "|:--------|---:|:-------------|\n",
        "|Amal     |  25|TRUE          |\n",
        "|Bimal    |  30|FALSE         |\n",
        "|Kamal    |  35|FALSE         |\n",
        "|Indrajit |  20|TRUE          |"
      ],
      "metadata": {
        "id": "7I_DRVSwnjvh"
      }
    },
    {
      "cell_type": "code",
      "source": [],
      "metadata": {
        "id": "q2qfJmhznp2W"
      },
      "execution_count": null,
      "outputs": []
    }
  ]
}