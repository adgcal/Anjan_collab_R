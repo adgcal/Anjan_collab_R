{
  "nbformat": 4,
  "nbformat_minor": 0,
  "metadata": {
    "colab": {
      "provenance": [],
      "authorship_tag": "ABX9TyNfXRZtlsCNKQ1hmai1Z2G4",
      "include_colab_link": true
    },
    "kernelspec": {
      "name": "ir",
      "display_name": "R"
    },
    "language_info": {
      "name": "R"
    },
    "gpuClass": "standard"
  },
  "cells": [
    {
      "cell_type": "markdown",
      "metadata": {
        "id": "view-in-github",
        "colab_type": "text"
      },
      "source": [
        "<a href=\"https://colab.research.google.com/github/adgcal/Anjan_collab_R/blob/main/2_DataFrames_R.ipynb\" target=\"_parent\"><img src=\"https://colab.research.google.com/assets/colab-badge.svg\" alt=\"Open In Colab\"/></a>"
      ]
    },
    {
      "cell_type": "markdown",
      "source": [
        "# R curiosity (Variables and Data Frames)\n",
        "## Bioinformatics Essentials\n",
        "### Anjan Kr Dasgupta (adgcal@gmail.com)"
      ],
      "metadata": {
        "id": "_BDalFzZvcrM"
      }
    },
    {
      "cell_type": "code",
      "source": [
        "x<-pi\n",
        "cat(\"pi=\",x,\"\\n\")\n",
        "y <- 10L# L means integer\n",
        "cat(\"y=\",y,\"\\n\")\n",
        "z=TRUE\n",
        "cat(\"z=\",z,\"\\n\")\n",
        "name = \"Krishna\"\n",
        "cat(\"name=\",name)"
      ],
      "metadata": {
        "colab": {
          "base_uri": "https://localhost:8080/"
        },
        "id": "LAbef5GLj4rG",
        "outputId": "bcea2da9-9107-4a99-eb4d-5beec25c8b15"
      },
      "execution_count": null,
      "outputs": [
        {
          "output_type": "stream",
          "name": "stdout",
          "text": [
            "pi= 3.141593 \n",
            "y= 10 \n",
            "z= TRUE \n",
            "name= Krishna"
          ]
        }
      ]
    },
    {
      "cell_type": "markdown",
      "source": [
        "# Variable  Class"
      ],
      "metadata": {
        "id": "FgP66ZI8lIyr"
      }
    },
    {
      "cell_type": "code",
      "source": [
        "class(x)\n",
        "class(y)\n",
        "class(z)\n",
        "class(name)"
      ],
      "metadata": {
        "colab": {
          "base_uri": "https://localhost:8080/",
          "height": 86
        },
        "id": "xzdaGFVZk-0U",
        "outputId": "10494568-f86a-470d-c443-fa9f6b3bac94"
      },
      "execution_count": null,
      "outputs": [
        {
          "output_type": "display_data",
          "data": {
            "text/html": [
              "'numeric'"
            ],
            "text/markdown": "'numeric'",
            "text/latex": "'numeric'",
            "text/plain": [
              "[1] \"numeric\""
            ]
          },
          "metadata": {}
        },
        {
          "output_type": "display_data",
          "data": {
            "text/html": [
              "'integer'"
            ],
            "text/markdown": "'integer'",
            "text/latex": "'integer'",
            "text/plain": [
              "[1] \"integer\""
            ]
          },
          "metadata": {}
        },
        {
          "output_type": "display_data",
          "data": {
            "text/html": [
              "'logical'"
            ],
            "text/markdown": "'logical'",
            "text/latex": "'logical'",
            "text/plain": [
              "[1] \"logical\""
            ]
          },
          "metadata": {}
        },
        {
          "output_type": "display_data",
          "data": {
            "text/html": [
              "'character'"
            ],
            "text/markdown": "'character'",
            "text/latex": "'character'",
            "text/plain": [
              "[1] \"character\""
            ]
          },
          "metadata": {}
        }
      ]
    },
    {
      "cell_type": "markdown",
      "source": [
        "# Factors\n",
        "## Plant growth is tested in three soil types"
      ],
      "metadata": {
        "id": "qAwbgzZ0lVuu"
      }
    },
    {
      "cell_type": "code",
      "source": [
        "soil_type <- factor(c(\"Loam\", \"Sand\", \"Clay\", \"Loam\", \"Clay\", \"Sand\", \"Sand\"))\n",
        "plant_growth <- c(20, 15, 10, 18, 12, 14, 16)\n",
        "model <- lm(plant_growth ~ soil_type)\n",
        "summary(model)"
      ],
      "metadata": {
        "id": "0w0_uifFlb8R"
      },
      "execution_count": null,
      "outputs": []
    },
    {
      "cell_type": "markdown",
      "source": [
        "### Levels of soil type"
      ],
      "metadata": {
        "id": "7ak6Y17tluuT"
      }
    },
    {
      "cell_type": "code",
      "source": [
        "levels(soil_type)"
      ],
      "metadata": {
        "colab": {
          "base_uri": "https://localhost:8080/",
          "height": 34
        },
        "id": "QrphlEhtlx7I",
        "outputId": "b546111a-0e4f-4638-a871-e6e55f5a2478"
      },
      "execution_count": null,
      "outputs": [
        {
          "output_type": "display_data",
          "data": {
            "text/html": [
              "<style>\n",
              ".list-inline {list-style: none; margin:0; padding: 0}\n",
              ".list-inline>li {display: inline-block}\n",
              ".list-inline>li:not(:last-child)::after {content: \"\\00b7\"; padding: 0 .5ex}\n",
              "</style>\n",
              "<ol class=list-inline><li>'Clay'</li><li>'Loam'</li><li>'Sand'</li></ol>\n"
            ],
            "text/markdown": "1. 'Clay'\n2. 'Loam'\n3. 'Sand'\n\n\n",
            "text/latex": "\\begin{enumerate*}\n\\item 'Clay'\n\\item 'Loam'\n\\item 'Sand'\n\\end{enumerate*}\n",
            "text/plain": [
              "[1] \"Clay\" \"Loam\" \"Sand\""
            ]
          },
          "metadata": {}
        }
      ]
    },
    {
      "cell_type": "markdown",
      "source": [
        "# Plotting the Soil-Plant Growth Correlation"
      ],
      "metadata": {
        "id": "P9UHUHhgNrGo"
      }
    },
    {
      "cell_type": "code",
      "source": [
        "library(ggplot2)\n",
        "# Create the data\n",
        "soil_type <- factor(c(\"Loam\", \"Sand\", \"Clay\", \"Loam\", \"Clay\", \"Sand\", \"Sand\"))\n",
        "plant_growth <- c(20, 15, 10, 18, 12, 14, 16)\n",
        "data <- data.frame(soil_type, plant_growth)\n",
        "\n",
        "# Fit the linear regression model\n",
        "model <- lm(plant_growth ~ soil_type, data = data)\n",
        "# Create the ggplot with regression line\n",
        "ggplot(data, aes(x = soil_type, y = plant_growth)) +\n",
        "  geom_point() +\n",
        "  geom_smooth(method = \"lm\", se = FALSE, color = \"red\") +\n",
        "  labs(x = \"Soil Type\", y = \"Plant Growth\") +\n",
        "  ggtitle(\"Linear Regression Model\") +\n",
        "  theme_minimal()+\n",
        "  geom_text(x = 1, y = 18, label = paste(\"R-squared:\", round(summary(model)$r.squared, 2)))\n"
      ],
      "metadata": {
        "colab": {
          "base_uri": "https://localhost:8080/",
          "height": 455
        },
        "id": "pDkuqcPfNWf0",
        "outputId": "b5909e37-6a85-4ff0-d34a-013462abcf3a"
      },
      "execution_count": 2,
      "outputs": [
        {
          "output_type": "stream",
          "name": "stderr",
          "text": [
            "\u001b[1m\u001b[22m`geom_smooth()` using formula = 'y ~ x'\n"
          ]
        },
        {
          "output_type": "display_data",
          "data": {
            "text/plain": [
              "plot without title"
            ],
            "image/png": "[encoded data removed]"
          },
          "metadata": {
            "image/png": {
              "width": 420,
              "height": 420
            }
          }
        }
      ]
    },
    {
      "cell_type": "markdown",
      "source": [
        "# Staistical INTERPRETATION of the plot\n",
        "R-squared ($R^2$) is a statistical measure that represents the proportion of the variance in the dependent variable (outcome) that is predictable from the independent variable(s) (predictor(s)) in a regression model. It is a value between **0 and 1**.\n",
        "\n",
        "An R-squared value of 0.92 means that approximately 92% of the variance in the dependent variable can be explained by the independent variable(s) in the regression model. In other words, the predictor(s) included in the model can account for 92% of the variability observed in the outcome variable.\n",
        "\n",
        "A high R-squared value indicates a good fit of the regression model to the data, suggesting that the independent variable(s) are strongly related to the dependent variable. However, it is important to interpret the R-squared value in the context of the specific data and research question at hand, as there may be other factors influencing the outcome variable that are not included in the model.\n",
        "\n"
      ],
      "metadata": {
        "id": "cg6452kGOIXk"
      }
    },
    {
      "cell_type": "markdown",
      "source": [
        "# The Same problem tackled by not invoking factor"
      ],
      "metadata": {
        "id": "d5rAGO73mdgL"
      }
    },
    {
      "cell_type": "code",
      "source": [
        "soil_loam <- c(1, 0, 0, 1, 0, 0, 0)\n",
        "soil_sand <- c(0, 1, 0, 0, 0, 1, 1)\n",
        "soil_clay<- c(0,0,1,0,1,0,0)\n",
        "model <- lm(plant_growth ~ soil_loam + soil_sand+soil_clay)\n",
        "summary(model)"
      ],
      "metadata": {
        "colab": {
          "base_uri": "https://localhost:8080/",
          "height": 374
        },
        "id": "4vz1yqLgmo4v",
        "outputId": "04a7705e-2ccf-4149-e073-f7a67cca2aed"
      },
      "execution_count": null,
      "outputs": [
        {
          "output_type": "display_data",
          "data": {
            "text/plain": [
              "\n",
              "Call:\n",
              "lm(formula = plant_growth ~ soil_loam + soil_sand + soil_clay)\n",
              "\n",
              "Residuals:\n",
              "         1          2          3          4          5          6          7 \n",
              " 1.000e+00  1.443e-15 -1.000e+00 -1.000e+00  1.000e+00 -1.000e+00  1.000e+00 \n",
              "\n",
              "Coefficients: (1 not defined because of singularities)\n",
              "            Estimate Std. Error t value Pr(>|t|)    \n",
              "(Intercept)   11.000      0.866  12.702 0.000221 ***\n",
              "soil_loam      8.000      1.225   6.532 0.002838 ** \n",
              "soil_sand      4.000      1.118   3.578 0.023215 *  \n",
              "soil_clay         NA         NA      NA       NA    \n",
              "---\n",
              "Signif. codes:  0 ‘***’ 0.001 ‘**’ 0.01 ‘*’ 0.05 ‘.’ 0.1 ‘ ’ 1\n",
              "\n",
              "Residual standard error: 1.225 on 4 degrees of freedom\n",
              "Multiple R-squared:  0.9143,\tAdjusted R-squared:  0.8714 \n",
              "F-statistic: 21.33 on 2 and 4 DF,  p-value: 0.007347\n"
            ]
          },
          "metadata": {}
        }
      ]
    },
    {
      "cell_type": "markdown",
      "source": [
        "# A simple dataframe"
      ],
      "metadata": {
        "id": "iK1rYYBunYeS"
      }
    },
    {
      "cell_type": "code",
      "source": [
        "df <- data.frame(\n",
        "  name = c(\"Amal\", \"Bimal\", \"Kamal\",\"Indrajit\"),\n",
        "  age = c(25, 30, 35,20),\n",
        "  is_optimistic = c(TRUE, FALSE, FALSE,TRUE)\n",
        ")\n",
        "# How to tabulate a dataframe\n",
        "knitr::kable(df)"
      ],
      "metadata": {
        "colab": {
          "base_uri": "https://localhost:8080/",
          "height": 160
        },
        "id": "FIymz7SsncqX",
        "outputId": "27963fe0-de01-4c87-a9df-e1623ead6087"
      },
      "execution_count": null,
      "outputs": [
        {
          "output_type": "display_data",
          "data": {
            "text/plain": [
              "\n",
              "\n",
              "|name     | age|is_optimistic |\n",
              "|:--------|---:|:-------------|\n",
              "|Amal     |  25|TRUE          |\n",
              "|Bimal    |  30|FALSE         |\n",
              "|Kamal    |  35|FALSE         |\n",
              "|Indrajit |  20|TRUE          |"
            ]
          },
          "metadata": {}
        }
      ]
    },
    {
      "cell_type": "markdown",
      "source": [
        "\n",
        "|name     | age|is_optimistic |\n",
        "|:--------|---:|:-------------|\n",
        "|Amal     |  25|TRUE          |\n",
        "|Bimal    |  30|FALSE         |\n",
        "|Kamal    |  35|FALSE         |\n",
        "|Indrajit |  20|TRUE          |"
      ],
      "metadata": {
        "id": "7I_DRVSwnjvh"
      }
    },
    {
      "cell_type": "markdown",
      "source": [
        "# Data Frame Example II\n",
        "## Insects"
      ],
      "metadata": {
        "id": "q2qfJmhznp2W"
      }
    },
    {
      "cell_type": "code",
      "source": [
        "insects_df <- data.frame(\n",
        "  species = c(\"Monarch butterfly\", \"Honey bee\", \"Ladybug\", \"Grasshopper\"),\n",
        "  family = c(\"Nymphalidae\", \"Apidae\", \"Coccinellidae\", \"Acrididae\"),\n",
        "  wingspan_cm = c(9, 2.5, 0.8, 6),\n",
        "  lifespan_days = c(30, 60, 90, 365)\n",
        ")\n",
        "knitr::kable(insects_df)"
      ],
      "metadata": {
        "id": "D4_8Qdf9WLyA",
        "colab": {
          "base_uri": "https://localhost:8080/",
          "height": 160
        },
        "outputId": "e85c3bed-d848-4cca-fae3-bc1fc1a80cf4"
      },
      "execution_count": 4,
      "outputs": [
        {
          "output_type": "display_data",
          "data": {
            "text/plain": [
              "\n",
              "\n",
              "|species           |family        | wingspan_cm| lifespan_days|\n",
              "|:-----------------|:-------------|-----------:|-------------:|\n",
              "|Monarch butterfly |Nymphalidae   |         9.0|            30|\n",
              "|Honey bee         |Apidae        |         2.5|            60|\n",
              "|Ladybug           |Coccinellidae |         0.8|            90|\n",
              "|Grasshopper       |Acrididae     |         6.0|           365|"
            ]
          },
          "metadata": {}
        }
      ]
    },
    {
      "cell_type": "code",
      "source": [],
      "metadata": {
        "id": "W5Kc9YRBNHCW"
      },
      "execution_count": null,
      "outputs": []
    },
    {
      "cell_type": "markdown",
      "source": [
        "\n",
        "|species           |family        | wingspan_cm| lifespan_days|\n",
        "|:-----------------|:-------------|-----------:|-------------:|\n",
        "|Monarch butterfly |Nymphalidae   |         9.0|            30|\n",
        "|Honey bee         |Apidae        |         2.5|            60|\n",
        "|Ladybug           |Coccinellidae |         0.8|            90|\n",
        "|Grasshopper       |Acrididae     |         6.0|           365|"
      ],
      "metadata": {
        "id": "V-fymfdgWhM-"
      }
    },
    {
      "cell_type": "markdown",
      "source": [
        "## Extracting data from the Insects data frame"
      ],
      "metadata": {
        "id": "uNVo3zJIWmQJ"
      }
    },
    {
      "cell_type": "code",
      "source": [
        "knitr::kable(colnames(insects_df), col.names = c(\"Insect species and family\"))"
      ],
      "metadata": {
        "id": "_tyawm9eWuG9",
        "colab": {
          "base_uri": "https://localhost:8080/",
          "height": 160
        },
        "outputId": "1d72aa5f-d8b9-40d6-bfd2-75ce5e648b8d"
      },
      "execution_count": 6,
      "outputs": [
        {
          "output_type": "display_data",
          "data": {
            "text/plain": [
              "\n",
              "\n",
              "|Insect species and family |\n",
              "|:-------------------------|\n",
              "|species                   |\n",
              "|family                    |\n",
              "|wingspan_cm               |\n",
              "|lifespan_days             |"
            ]
          },
          "metadata": {}
        }
      ]
    },
    {
      "cell_type": "markdown",
      "source": [
        "\n",
        "|Insect species and family |\n",
        "|:-------------------------|\n",
        "|species                   |\n",
        "|family                    |\n",
        "|wingspan_cm               |\n",
        "|lifespan_days             |"
      ],
      "metadata": {
        "id": "b7-vYYJJW4Dx"
      }
    },
    {
      "cell_type": "markdown",
      "source": [
        "## Plot of lifespan against wingspan\n"
      ],
      "metadata": {
        "id": "nRpIdN-7W-lp"
      }
    },
    {
      "cell_type": "code",
      "source": [
        "library(ggplot2)\n",
        "ggplot(insects_df, aes(x = wingspan_cm, y = lifespan_days)) +\n",
        "  geom_point() +\n",
        "  labs(x = \"Wingspan (cm)\", y = \"Lifespan (days)\") +\n",
        "  ggtitle(\"Wingspan vs. Lifespan of Insects\")\n",
        "\n"
      ],
      "metadata": {
        "colab": {
          "base_uri": "https://localhost:8080/",
          "height": 437
        },
        "id": "RLybO8fTXFCi",
        "outputId": "cc102f98-b4f8-441b-b3aa-e7c389b6b475"
      },
      "execution_count": 5,
      "outputs": [
        {
          "output_type": "display_data",
          "data": {
            "text/plain": [
              "plot without title"
            ],
            "image/png": "[encoded data removed]"
          },
          "metadata": {
            "image/png": {
              "width": 420,
              "height": 420
            }
          }
        }
      ]
    },
    {
      "cell_type": "markdown",
      "source": [
        "### A simple data driven discovery\n",
        "There seems to be an optimal wingspan at which the life span has the maximal value"
      ],
      "metadata": {
        "id": "7tqHkuhXaCCg"
      }
    },
    {
      "cell_type": "markdown",
      "source": [
        "# BMI\n",
        "## The standard units of weight and height used in BMI calculations are kilograms (kg) and meters (m), respectively.\n",
        "### BMI formulea\n",
        "$ BMI= \\frac{weight}{height^2}$\n",
        "\n",
        "#### What is our question?\n",
        "If we take weight and height of different individuals will BMI depend on weight?"
      ],
      "metadata": {
        "id": "oGBnbhRmak9k"
      }
    },
    {
      "cell_type": "code",
      "source": [
        "library(dplyr)\n",
        "# Create a simple data frame\n",
        "df_bmi=data.frame(weight = c(60, 72, 57, 90, 95, 72),\n",
        " height =c(1.75, 1.80, 1.65, 1.90, 1.74, 1.91) )\n",
        " names(df_bmi) # Provides column names for this data frame\n",
        "# Create a modified data frame\n",
        "df_bmi <- df_bmi %>% mutate(BMI = weight/height^2)\n",
        " names(df_bmi) # Provides column names for this modified data frame\n",
        "\n"
      ],
      "metadata": {
        "colab": {
          "base_uri": "https://localhost:8080/",
          "height": 302
        },
        "id": "QXU8exqNbI6t",
        "outputId": "be7e4a29-0e05-4f9a-b153-46fb584a2c41"
      },
      "execution_count": 7,
      "outputs": [
        {
          "output_type": "stream",
          "name": "stderr",
          "text": [
            "\n",
            "Attaching package: ‘dplyr’\n",
            "\n",
            "\n",
            "The following objects are masked from ‘package:stats’:\n",
            "\n",
            "    filter, lag\n",
            "\n",
            "\n",
            "The following objects are masked from ‘package:base’:\n",
            "\n",
            "    intersect, setdiff, setequal, union\n",
            "\n",
            "\n"
          ]
        },
        {
          "output_type": "display_data",
          "data": {
            "text/html": [
              "<style>\n",
              ".list-inline {list-style: none; margin:0; padding: 0}\n",
              ".list-inline>li {display: inline-block}\n",
              ".list-inline>li:not(:last-child)::after {content: \"\\00b7\"; padding: 0 .5ex}\n",
              "</style>\n",
              "<ol class=list-inline><li>'weight'</li><li>'height'</li></ol>\n"
            ],
            "text/markdown": "1. 'weight'\n2. 'height'\n\n\n",
            "text/latex": "\\begin{enumerate*}\n\\item 'weight'\n\\item 'height'\n\\end{enumerate*}\n",
            "text/plain": [
              "[1] \"weight\" \"height\""
            ]
          },
          "metadata": {}
        },
        {
          "output_type": "display_data",
          "data": {
            "text/html": [
              "<style>\n",
              ".list-inline {list-style: none; margin:0; padding: 0}\n",
              ".list-inline>li {display: inline-block}\n",
              ".list-inline>li:not(:last-child)::after {content: \"\\00b7\"; padding: 0 .5ex}\n",
              "</style>\n",
              "<ol class=list-inline><li>'weight'</li><li>'height'</li><li>'BMI'</li></ol>\n"
            ],
            "text/markdown": "1. 'weight'\n2. 'height'\n3. 'BMI'\n\n\n",
            "text/latex": "\\begin{enumerate*}\n\\item 'weight'\n\\item 'height'\n\\item 'BMI'\n\\end{enumerate*}\n",
            "text/plain": [
              "[1] \"weight\" \"height\" \"BMI\"   "
            ]
          },
          "metadata": {}
        }
      ]
    },
    {
      "cell_type": "markdown",
      "source": [
        "### Now let us explore whether BMI depends on weight or not"
      ],
      "metadata": {
        "id": "hpNz9moGcHoY"
      }
    },
    {
      "cell_type": "code",
      "source": [
        "model <- lm(BMI~weight, data = df_bmi)\n",
        "# lm is a Universal fitting package\n",
        "# lm fits in the form y~x\n",
        "# BMI  ~ weight means it fits BMI with weight\n"
      ],
      "metadata": {
        "id": "05I8fUU9cOvy"
      },
      "execution_count": 9,
      "outputs": []
    },
    {
      "cell_type": "markdown",
      "source": [
        "### Summary of the model\n",
        "**\"Multiple R-squared** value provides a measure of how well the model fits the data. This value is 0.7 in this case, which means that the model explains 70% of the variation in the data.\n",
        " Slope= signif(coef(model)[2],3),\n",
        "Intercept = signif(coef(model)[1],3),\n",
        "R-squared\" = signif(summary(model)$r.squared,3)\n",
        "signif(x,n) provides value of x for 3 significant digits"
      ],
      "metadata": {
        "id": "IJU7RQFmcsnG"
      }
    },
    {
      "cell_type": "code",
      "source": [
        "summary(model)\n"
      ],
      "metadata": {
        "id": "TVrhB4sCctdw",
        "colab": {
          "base_uri": "https://localhost:8080/",
          "height": 338
        },
        "outputId": "bcc8085e-e8b9-4503-b80b-342437cf114c"
      },
      "execution_count": 10,
      "outputs": [
        {
          "output_type": "display_data",
          "data": {
            "text/plain": [
              "\n",
              "Call:\n",
              "lm(formula = BMI ~ weight, data = df_bmi)\n",
              "\n",
              "Residuals:\n",
              "       1        2        3        4        5        6 \n",
              " 0.04382 -0.32686  2.13889 -2.11993  3.07687 -2.81278 \n",
              "\n",
              "Coefficients:\n",
              "            Estimate Std. Error t value Pr(>|t|)  \n",
              "(Intercept)  4.54269    5.65251   0.804   0.4666  \n",
              "weight       0.25009    0.07471   3.347   0.0286 *\n",
              "---\n",
              "Signif. codes:  0 ‘***’ 0.001 ‘**’ 0.01 ‘*’ 0.05 ‘.’ 0.1 ‘ ’ 1\n",
              "\n",
              "Residual standard error: 2.577 on 4 degrees of freedom\n",
              "Multiple R-squared:  0.7369,\tAdjusted R-squared:  0.6711 \n",
              "F-statistic:  11.2 on 1 and 4 DF,  p-value: 0.02864\n"
            ]
          },
          "metadata": {}
        }
      ]
    },
    {
      "cell_type": "code",
      "source": [
        "result <- data.frame(\n",
        "  \"Slope\" = signif(coef(model)[2],3),\n",
        "  \"Intercept\" = signif(coef(model)[1],3),\n",
        "  \"R-squared\" = signif(summary(model)$r.squared,3)\n",
        ")\n",
        "knitr::kable(result,caption='Summary of the BMI weight correlation')"
      ],
      "metadata": {
        "id": "ojTejHwcc2fE",
        "colab": {
          "base_uri": "https://localhost:8080/",
          "height": 142
        },
        "outputId": "b4f04c22-cfd7-427a-f4c6-7229d31f3d18"
      },
      "execution_count": 11,
      "outputs": [
        {
          "output_type": "display_data",
          "data": {
            "text/plain": [
              "\n",
              "\n",
              "Table: Summary of the BMI weight correlation\n",
              "\n",
              "|       | Slope| Intercept| R.squared|\n",
              "|:------|-----:|---------:|---------:|\n",
              "|weight |  0.25|      4.54|     0.737|"
            ]
          },
          "metadata": {}
        }
      ]
    },
    {
      "cell_type": "markdown",
      "source": [
        "\n",
        "Table: Summary of the BMI weight correlation\n",
        "\n",
        "|       | Slope| Intercept| R.squared|\n",
        "|:------|-----:|---------:|---------:|\n",
        "|weight |  0.25|      4.54|     0.737|"
      ],
      "metadata": {
        "id": "yGNqbJPCdXQ-"
      }
    },
    {
      "cell_type": "markdown",
      "source": [
        "# Finding out undesirable BMI\n",
        "The desired value of BMI (Body Mass Index) varies depending on factors such as age, gender, and ethnicity. In general, a BMI in the range of *18.5 to 24.9* is considered healthy for most adults. However, this range is not applicable to children, adolescents, pregnant or breastfeeding women, and athletes or individuals with a high muscle mass, as different criteria apply to these groups."
      ],
      "metadata": {
        "id": "ppm4buXRdjA9"
      }
    },
    {
      "cell_type": "code",
      "source": [
        "BMI=df_bmi$BMI\n",
        "x=(BMI-18.5)*(BMI-24.9)\n",
        "ik<- which(x>0)\n",
        "df_bmi[ik,]\n",
        "#Abnormal<- which(abs(x)<0) # Outside 18.5 to 24.9 BMI\n",
        "#cat(\"BMI's are \",signif(BMI,3),\"\\n\",\"ABNORMAL BMI=\",signif(BMI[Abnormal],3))"
      ],
      "metadata": {
        "colab": {
          "base_uri": "https://localhost:8080/",
          "height": 161
        },
        "id": "KVWeBPzLdsrN",
        "outputId": "9349b79e-efaf-4fc1-f8c1-5aa2136a4525"
      },
      "execution_count": 12,
      "outputs": [
        {
          "output_type": "display_data",
          "data": {
            "text/html": [
              "<table class=\"dataframe\">\n",
              "<caption>A data.frame: 2 × 3</caption>\n",
              "<thead>\n",
              "\t<tr><th></th><th scope=col>weight</th><th scope=col>height</th><th scope=col>BMI</th></tr>\n",
              "\t<tr><th></th><th scope=col>&lt;dbl&gt;</th><th scope=col>&lt;dbl&gt;</th><th scope=col>&lt;dbl&gt;</th></tr>\n",
              "</thead>\n",
              "<tbody>\n",
              "\t<tr><th scope=row>4</th><td>90</td><td>1.90</td><td>24.93075</td></tr>\n",
              "\t<tr><th scope=row>5</th><td>95</td><td>1.74</td><td>31.37799</td></tr>\n",
              "</tbody>\n",
              "</table>\n"
            ],
            "text/markdown": "\nA data.frame: 2 × 3\n\n| <!--/--> | weight &lt;dbl&gt; | height &lt;dbl&gt; | BMI &lt;dbl&gt; |\n|---|---|---|---|\n| 4 | 90 | 1.90 | 24.93075 |\n| 5 | 95 | 1.74 | 31.37799 |\n\n",
            "text/latex": "A data.frame: 2 × 3\n\\begin{tabular}{r|lll}\n  & weight & height & BMI\\\\\n  & <dbl> & <dbl> & <dbl>\\\\\n\\hline\n\t4 & 90 & 1.90 & 24.93075\\\\\n\t5 & 95 & 1.74 & 31.37799\\\\\n\\end{tabular}\n",
            "text/plain": [
              "  weight height BMI     \n",
              "4 90     1.90   24.93075\n",
              "5 95     1.74   31.37799"
            ]
          },
          "metadata": {}
        }
      ]
    },
    {
      "cell_type": "markdown",
      "source": [
        "# Chemistry exercise\n",
        "##  Determine molecular weight from molecular formula"
      ],
      "metadata": {
        "id": "eANRMNJGI3vx"
      }
    },
    {
      "cell_type": "code",
      "source": [
        "install.packages(\"PeriodicTable\")"
      ],
      "metadata": {
        "colab": {
          "base_uri": "https://localhost:8080/"
        },
        "id": "Wf3RUVXZfSBS",
        "outputId": "9e041e19-7c68-4d9d-c7a5-754bdc42b86d"
      },
      "execution_count": 22,
      "outputs": [
        {
          "output_type": "stream",
          "name": "stderr",
          "text": [
            "Installing package into ‘/usr/local/lib/R/site-library’\n",
            "(as ‘lib’ is unspecified)\n",
            "\n"
          ]
        }
      ]
    },
    {
      "cell_type": "markdown",
      "source": [
        "## Mass and vander waal radii of elements"
      ],
      "metadata": {
        "id": "M3u_XHu6JdCa"
      }
    },
    {
      "cell_type": "code",
      "source": [
        "data(periodicTable)\n",
        "mass(c(\"C\",\"O\",\"H\")) # Atomic Masses\n",
        "rcov(c(\"C\",\"O\",\"H\")) # Covalent radii\n",
        "rvdw(c(\"C\",\"O\",\"H\")) # van der Waals radii\n",
        "atomColor(c(\"C\",\"O\",\"H\"))\n"
      ],
      "metadata": {
        "colab": {
          "base_uri": "https://localhost:8080/",
          "height": 133
        },
        "id": "S0yRjQU3fZ-5",
        "outputId": "e0fa1b6a-7d55-47ed-897f-19bfb5615ec0"
      },
      "execution_count": 23,
      "outputs": [
        {
          "output_type": "stream",
          "name": "stderr",
          "text": [
            "Warning message in data(periodicTable):\n",
            "“data set ‘periodicTable’ not found”\n"
          ]
        },
        {
          "output_type": "error",
          "ename": "ERROR",
          "evalue": "ignored",
          "traceback": [
            "Error in mass(c(\"C\", \"O\", \"H\")): could not find function \"mass\"\nTraceback:\n"
          ]
        }
      ]
    },
    {
      "cell_type": "markdown",
      "source": [
        "## Mwt of glucose"
      ],
      "metadata": {
        "id": "fRgzO1TDJpTk"
      }
    },
    {
      "cell_type": "code",
      "source": [
        "#install.packages(\"stringr\")\n",
        "library(dplyr)\n",
        "data(periodicTable)\n",
        "library(stringr)\n",
        "\n",
        "formula <- \"C6H12O6\"\n",
        "s <- str_match_all(formula, \"([A-Z][a-z]?)([0-9]*)\")\n",
        "#str_match_all(string, pattern)\n",
        "print(s)\n",
        "s <- as.data.frame(s)\n",
        "s <- s[, -1]\n",
        "elements <- s[, 1]\n",
        "stoichiometry <- as.numeric(s[, 2])\n",
        "w <- mass(elements)\n",
        "mwt<- stoichiometry %*% w\n",
        "mwt<- signif(mwt[1],4)\n",
        "cat('Molecular Weight of', formula,'=',mwt)\n",
        "?str_match_all"
      ],
      "metadata": {
        "colab": {
          "base_uri": "https://localhost:8080/",
          "height": 240
        },
        "id": "9EgVF9RGhsml",
        "outputId": "d994f27e-03cb-4e11-adfe-fcb3ac6d8523"
      },
      "execution_count": 20,
      "outputs": [
        {
          "output_type": "stream",
          "name": "stderr",
          "text": [
            "Warning message in data(periodicTable):\n",
            "“data set ‘periodicTable’ not found”\n"
          ]
        },
        {
          "output_type": "stream",
          "name": "stdout",
          "text": [
            "[[1]]\n",
            "     [,1]  [,2] [,3]\n",
            "[1,] \"C6\"  \"C\"  \"6\" \n",
            "[2,] \"H12\" \"H\"  \"12\"\n",
            "[3,] \"O6\"  \"O\"  \"6\" \n",
            "\n"
          ]
        },
        {
          "output_type": "error",
          "ename": "ERROR",
          "evalue": "ignored",
          "traceback": [
            "Error in mass(elements): could not find function \"mass\"\nTraceback:\n"
          ]
        }
      ]
    },
    {
      "cell_type": "markdown",
      "source": [
        "## Mwt of CaCl2"
      ],
      "metadata": {
        "id": "BmMq-jbwJuFR"
      }
    },
    {
      "cell_type": "code",
      "source": [
        "library(dplyr)\n",
        "data(periodicTable)\n",
        "library(stringr)\n",
        "\n",
        "formula <- \"CaCl2\"\n",
        "s <- str_match_all(formula, \"([A-Z][a-z]?)([0-9]*)\")\n",
        "s <- as.data.frame(s)\n",
        "s <- s[, -1]\n",
        "elements <- s[, 1]\n",
        "stoichiometry <- as.numeric(s[, 2])\n",
        "stoichiometry[is.na(stoichiometry)] <- 1\n",
        "w <- mass(elements)\n",
        "mwt<- stoichiometry %*% w\n",
        "mwt<- signif(mwt[1],4)\n",
        "cat('Molecular Weight of', formula,'=',mwt)"
      ],
      "metadata": {
        "colab": {
          "base_uri": "https://localhost:8080/",
          "height": 133
        },
        "id": "5UBCdccUFsDR",
        "outputId": "0b791061-95e7-4cca-89cd-345b8e283253"
      },
      "execution_count": 21,
      "outputs": [
        {
          "output_type": "stream",
          "name": "stderr",
          "text": [
            "Warning message in data(periodicTable):\n",
            "“data set ‘periodicTable’ not found”\n"
          ]
        },
        {
          "output_type": "error",
          "ename": "ERROR",
          "evalue": "ignored",
          "traceback": [
            "Error in mass(elements): could not find function \"mass\"\nTraceback:\n"
          ]
        }
      ]
    },
    {
      "cell_type": "markdown",
      "source": [
        "## Mwt of Lysine"
      ],
      "metadata": {
        "id": "2fKJ5eQrJ3wQ"
      }
    },
    {
      "cell_type": "code",
      "source": [
        "formula='C6H14N2O2' # Lysine\n",
        "s <- str_match_all(formula, \"([A-Z][a-z]?)([0-9]*)\")\n",
        "s <- as.data.frame(s)\n",
        "s <- s[, -1]\n",
        "elements <- s[, 1]\n",
        "stoichiometry <- as.numeric(s[, 2])\n",
        "stoichiometry[is.na(stoichiometry)] <- 1\n",
        "w <- mass(elements)\n",
        "mwt<- stoichiometry %*% w\n",
        "mwt<- signif(mwt[1],4)\n",
        "cat('Molecular Weight of', formula,'=',mwt)"
      ],
      "metadata": {
        "colab": {
          "base_uri": "https://localhost:8080/"
        },
        "id": "6K6-DHnEIbnJ",
        "outputId": "2d15e2c1-d695-4186-f8e1-652a4b4f57de"
      },
      "execution_count": null,
      "outputs": [
        {
          "output_type": "stream",
          "name": "stdout",
          "text": [
            "Molecular Weight of C6H14N2O2 = 146.2"
          ]
        }
      ]
    },
    {
      "cell_type": "markdown",
      "source": [
        "# Determine hydrated radii of KCl"
      ],
      "metadata": {
        "id": "uR24tfXnMs0D"
      }
    },
    {
      "cell_type": "code",
      "source": [
        "# Define known parameters\n",
        "D <- 2.03e-9   # Diffusion coefficient of K+ and Cl- in water at 25°C (m^2/s)\n",
        "T <- 298       # Temperature in Kelvin\n",
        "kB <- 1.38e-23 # Boltzmann constant (J/K)\n",
        "eta <- 8.9e-4  # Viscosity of water at 25°C (Pa*s)\n",
        "\n",
        "# Calculate hydrated radii of K+ and Cl- ions in solution\n",
        "r_K <- (kB * T)/(6 * pi * eta * D * 1e-10) # Convert D from m^2/s to Å^2/s\n",
        "r_Cl <- (kB * T)/(6 * pi * eta * D * 1e-10)\n",
        "r_hydrated<- r_K+r_Cl\n",
        "# Print results\n",
        "cat(\"Hydrated radius of K+ ion in water:\", round(r_K, 2), \"Å\\n\")\n",
        "cat(\"Hydrated radius of Cl- ion in water:\", round(r_Cl, 2), \"Å\\n\")\n",
        "cat(\"hydrated radius of KCl\",r_hydrated)\n"
      ],
      "metadata": {
        "colab": {
          "base_uri": "https://localhost:8080/"
        },
        "id": "YlMemmHGLdqu",
        "outputId": "467fe8fa-937c-40d6-92d5-680754cb2860"
      },
      "execution_count": null,
      "outputs": [
        {
          "output_type": "stream",
          "name": "stdout",
          "text": [
            "Hydrated radius of K+ ion in water: 1.21 Å\n",
            "Hydrated radius of Cl- ion in water: 1.21 Å\n",
            "hydrated radius of KCl 2.415117"
          ]
        }
      ]
    },
    {
      "cell_type": "markdown",
      "source": [
        "# Determine hydrated radii of NaCl"
      ],
      "metadata": {
        "id": "sIb4N_nnNKNP"
      }
    },
    {
      "cell_type": "code",
      "source": [
        "# Define known parameters\n",
        "D <- 1.33e-9   # Diffusion coefficient of NaCl in water at 25°C (m^2/s)\n",
        "T <- 298       # Temperature in Kelvin\n",
        "kB <- 1.38e-23 # Boltzmann constant (J/K)\n",
        "eta <- 8.9e-4  # Viscosity of water at 25°C (Pa*s)\n",
        "\n",
        "# Calculate hydrated radii of Na+ and Cl- ions in solution\n",
        "r_Na <- (kB * T)/(6 * pi * eta * D * 1e-10) # Convert D from m^2/s to Å^2/s\n",
        "r_Cl <- (kB * T)/(6 * pi * eta * D * 1e-10)\n",
        "\n",
        "# Calculate the sum of the hydrated radii\n",
        "r_hydrated <- r_Na + r_Cl\n",
        "\n",
        "# Print results\n",
        "cat(\"Hydrated radius of Na+ ion in water:\", round(r_Na, 2), \"Å\\n\")\n",
        "cat(\"Hydrated radius of Cl- ion in water:\", round(r_Cl, 2), \"Å\\n\")\n",
        "cat(\"hydrated radius of NaCl\",r_hydrated)\n"
      ],
      "metadata": {
        "colab": {
          "base_uri": "https://localhost:8080/"
        },
        "id": "0S0B6H4INITr",
        "outputId": "687ebb3d-0f16-4b4a-ad03-ca4546e63e58"
      },
      "execution_count": null,
      "outputs": [
        {
          "output_type": "stream",
          "name": "stdout",
          "text": [
            "Hydrated radius of Na+ ion in water: 1.84 Å\n",
            "Hydrated radius of Cl- ion in water: 1.84 Å\n",
            "hydrated radius of NaCl 3.686231"
          ]
        }
      ]
    },
    {
      "cell_type": "markdown",
      "source": [
        "# Hydrated radius\n",
        "- K+ ion in water: ~3.3 Å\n",
        "- Hydrated radius of Na+ ion in water: ~3.5 Å"
      ],
      "metadata": {
        "id": "19BEtcZKN36l"
      }
    }
  ]
}